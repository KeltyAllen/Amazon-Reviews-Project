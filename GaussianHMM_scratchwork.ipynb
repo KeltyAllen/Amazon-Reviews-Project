{
 "metadata": {
  "name": "",
  "signature": "sha256:ef4be3472945daaf2006e0434a620a10329224fac98b81223c06ecea001943b4"
 },
 "nbformat": 3,
 "nbformat_minor": 0,
 "worksheets": [
  {
   "cells": [
    {
     "cell_type": "code",
     "collapsed": false,
     "input": [
      "#omg I can fit more than one data set, do that!"
     ],
     "language": "python",
     "metadata": {},
     "outputs": [],
     "prompt_number": 350
    },
    {
     "cell_type": "code",
     "collapsed": false,
     "input": [
      "import numpy as np\n",
      "from sklearn.hmm import GaussianHMM\n",
      "from scipy import stats\n"
     ],
     "language": "python",
     "metadata": {},
     "outputs": [],
     "prompt_number": 3
    },
    {
     "cell_type": "code",
     "collapsed": false,
     "input": [
      "f = open('temp', 'w')"
     ],
     "language": "python",
     "metadata": {},
     "outputs": [],
     "prompt_number": 4
    },
    {
     "cell_type": "code",
     "collapsed": false,
     "input": [
      "import datetime as dt"
     ],
     "language": "python",
     "metadata": {},
     "outputs": [],
     "prompt_number": 5
    },
    {
     "cell_type": "code",
     "collapsed": false,
     "input": [
      "import matplotlib.pyplot as plt"
     ],
     "language": "python",
     "metadata": {},
     "outputs": [],
     "prompt_number": 6
    },
    {
     "cell_type": "code",
     "collapsed": false,
     "input": [
      "import MySQLdb"
     ],
     "language": "python",
     "metadata": {},
     "outputs": [],
     "prompt_number": 7
    },
    {
     "cell_type": "code",
     "collapsed": false,
     "input": [
      "%matplotlib inline"
     ],
     "language": "python",
     "metadata": {},
     "outputs": [],
     "prompt_number": 8
    },
    {
     "cell_type": "code",
     "collapsed": false,
     "input": [
      "def time_data_clean(time_data):\n",
      "    rating = [0.0]*len(time_data)\n",
      "    time = [0]*len(time_data)\n",
      "    rating = [x[0] for x in time_data]\n",
      "    time = [x[1] for x in time_data]\n",
      "    return rating, time\n",
      "        "
     ],
     "language": "python",
     "metadata": {},
     "outputs": [],
     "prompt_number": 9
    },
    {
     "cell_type": "code",
     "collapsed": false,
     "input": [
      "def time_since_last(time):\n",
      "    time_since_last = np.zeros(len(time))\n",
      "    for i in range(1, len(time)):\n",
      "        time_since_last[i] = time[i] - time[i-1]\n",
      "        if time_since_last[i] == 0: \n",
      "            time_since_last[i] = 1\n",
      "    time_since_last[0] = time_since_last[1]\n",
      "    return time_since_last"
     ],
     "language": "python",
     "metadata": {},
     "outputs": [],
     "prompt_number": 10
    },
    {
     "cell_type": "code",
     "collapsed": false,
     "input": [
      "def get_data(PID, cursor, tablename):\n",
      "    sql = \"Select RTime, RScore From \" +tablename + \" Where PID = \" + '\"' + PID +'\";'\n",
      "    cursor.execute(sql)\n",
      "    data = cursor.fetchall()\n",
      "    data = sorted(data)\n",
      "    rating = np.array(zip(*data)[1], dtype = int)\n",
      "    time = np.array(zip(*data)[0], dtype = float)\n",
      "    dates=[dt.datetime.fromtimestamp(ts) for ts in time]\n",
      "    return rating, time, dates"
     ],
     "language": "python",
     "metadata": {},
     "outputs": [],
     "prompt_number": 11
    },
    {
     "cell_type": "code",
     "collapsed": false,
     "input": [
      "def avg_rating(rating):\n",
      "    avg = [0]*len(rating)\n",
      "    avg[0] = float(rating[0])\n",
      "    for k in range(1, len(rating)):\n",
      "        avg[k]= float(np.mean(rating[:k]))\n",
      "    return avg"
     ],
     "language": "python",
     "metadata": {},
     "outputs": [],
     "prompt_number": 12
    },
    {
     "cell_type": "code",
     "collapsed": false,
     "input": [
      "def rolling_avg_rating(rating):\n",
      "    limited_avg = [0]*len(rating)\n",
      "    limited_avg[0] = float(rating[0])\n",
      "    for k in range(1, len(rating)):\n",
      "        if k<40:\n",
      "            limited_avg[k]= float(np.mean(rating[:k]))\n",
      "        else:\n",
      "            limited_avg[k]=float(np.mean(rating[k-40:k]))\n",
      "    return limited_avg"
     ],
     "language": "python",
     "metadata": {},
     "outputs": [],
     "prompt_number": 34
    },
    {
     "cell_type": "code",
     "collapsed": false,
     "input": [
      "db = MySQLdb.connect(host=\"localhost\", user=\"root\", db = \"home_kitchen\")"
     ],
     "language": "python",
     "metadata": {},
     "outputs": [],
     "prompt_number": 14
    },
    {
     "cell_type": "code",
     "collapsed": false,
     "input": [
      "cursor = db.cursor()"
     ],
     "language": "python",
     "metadata": {},
     "outputs": [],
     "prompt_number": 15
    },
    {
     "cell_type": "code",
     "collapsed": false,
     "input": [
      "tablename = 'all_hk'"
     ],
     "language": "python",
     "metadata": {},
     "outputs": [],
     "prompt_number": 16
    },
    {
     "cell_type": "code",
     "collapsed": false,
     "input": [
      "PIDlist = [' B0000X7CMQ', ' B00005AQ9Q', ' B000GTR2F6', ' B000AQSMPO', ' B00005MF9C', ' B0000E2PEI', ' B0006SFFAQ', ' B00005AQ9Q', ' B00005R19P', ' B000FFQ554', ' B0006ZUHR0']"
     ],
     "language": "python",
     "metadata": {},
     "outputs": [],
     "prompt_number": 17
    },
    {
     "cell_type": "code",
     "collapsed": false,
     "input": [
      "pid1 = ' B0000E2PEI' #PIDlist[0]\n",
      "pid2 = PIDlist[1]\n",
      "pid3 = PIDlist[3]\n"
     ],
     "language": "python",
     "metadata": {},
     "outputs": [],
     "prompt_number": 52
    },
    {
     "cell_type": "code",
     "collapsed": false,
     "input": [
      "r1, t1, d1 = get_data(pid1, cursor, tablename)\n",
      "#r2, t2, d2 = get_data(pid2, cursor, tablename)\n",
      "#r3, t3, d3 = get_data(pid3, cursor, tablename)\n"
     ],
     "language": "python",
     "metadata": {},
     "outputs": [],
     "prompt_number": 53
    },
    {
     "cell_type": "code",
     "collapsed": false,
     "input": [
      "#ratings = [r1, r2, r3]"
     ],
     "language": "python",
     "metadata": {},
     "outputs": [],
     "prompt_number": 54
    },
    {
     "cell_type": "code",
     "collapsed": false,
     "input": [
      "#avgs = map(avg_rating, ratings)\n",
      "#limavs = map(rolling_avg_rating, ratings)\n",
      "avg = avg_rating(r1)\n",
      "limav = rolling_avg_rating(r1)"
     ],
     "language": "python",
     "metadata": {},
     "outputs": [],
     "prompt_number": 55
    },
    {
     "cell_type": "code",
     "collapsed": false,
     "input": [
      "for k in range(len(t1)):\n",
      "    f.write(str(t1[k])+',') \n",
      "    \n",
      "f.write('\\n\\n\\n\\n')\n",
      "\n",
      "for k in range(len(r1)):\n",
      "    f.write(str(r1[k])+',') \n",
      "    "
     ],
     "language": "python",
     "metadata": {},
     "outputs": [
      {
       "ename": "ValueError",
       "evalue": "I/O operation on closed file",
       "output_type": "pyerr",
       "traceback": [
        "\u001b[0;31m---------------------------------------------------------------------------\u001b[0m\n\u001b[0;31mValueError\u001b[0m                                Traceback (most recent call last)",
        "\u001b[0;32m<ipython-input-56-09088a6c5ae8>\u001b[0m in \u001b[0;36m<module>\u001b[0;34m()\u001b[0m\n\u001b[1;32m      1\u001b[0m \u001b[0;32mfor\u001b[0m \u001b[0mk\u001b[0m \u001b[0;32min\u001b[0m \u001b[0mrange\u001b[0m\u001b[0;34m(\u001b[0m\u001b[0mlen\u001b[0m\u001b[0;34m(\u001b[0m\u001b[0mt1\u001b[0m\u001b[0;34m)\u001b[0m\u001b[0;34m)\u001b[0m\u001b[0;34m:\u001b[0m\u001b[0;34m\u001b[0m\u001b[0m\n\u001b[0;32m----> 2\u001b[0;31m     \u001b[0mf\u001b[0m\u001b[0;34m.\u001b[0m\u001b[0mwrite\u001b[0m\u001b[0;34m(\u001b[0m\u001b[0mstr\u001b[0m\u001b[0;34m(\u001b[0m\u001b[0mt1\u001b[0m\u001b[0;34m[\u001b[0m\u001b[0mk\u001b[0m\u001b[0;34m]\u001b[0m\u001b[0;34m)\u001b[0m\u001b[0;34m+\u001b[0m\u001b[0;34m','\u001b[0m\u001b[0;34m)\u001b[0m\u001b[0;34m\u001b[0m\u001b[0m\n\u001b[0m\u001b[1;32m      3\u001b[0m \u001b[0;34m\u001b[0m\u001b[0m\n\u001b[1;32m      4\u001b[0m \u001b[0mf\u001b[0m\u001b[0;34m.\u001b[0m\u001b[0mwrite\u001b[0m\u001b[0;34m(\u001b[0m\u001b[0;34m'\\n\\n\\n\\n'\u001b[0m\u001b[0;34m)\u001b[0m\u001b[0;34m\u001b[0m\u001b[0m\n\u001b[1;32m      5\u001b[0m \u001b[0;34m\u001b[0m\u001b[0m\n",
        "\u001b[0;31mValueError\u001b[0m: I/O operation on closed file"
       ]
      }
     ],
     "prompt_number": 56
    },
    {
     "cell_type": "code",
     "collapsed": false,
     "input": [
      "f.close()"
     ],
     "language": "python",
     "metadata": {},
     "outputs": [],
     "prompt_number": 57
    },
    {
     "cell_type": "code",
     "collapsed": false,
     "input": [
      "plt.scatter(d1, r1)"
     ],
     "language": "python",
     "metadata": {},
     "outputs": [
      {
       "metadata": {},
       "output_type": "pyout",
       "prompt_number": 58,
       "text": [
        "<matplotlib.collections.PathCollection at 0x1066fb290>"
       ]
      },
      {
       "metadata": {},
       "output_type": "display_data",
       "png": "[encoded data removed]",
       "text": [
        "<matplotlib.figure.Figure at 0x102320950>"
       ]
      }
     ],
     "prompt_number": 58
    },
    {
     "cell_type": "code",
     "collapsed": false,
     "input": [
      "plt.scatter(d1, avg)"
     ],
     "language": "python",
     "metadata": {},
     "outputs": [
      {
       "metadata": {},
       "output_type": "pyout",
       "prompt_number": 59,
       "text": [
        "<matplotlib.collections.PathCollection at 0x106750a90>"
       ]
      },
      {
       "metadata": {},
       "output_type": "display_data",
       "png": "[encoded data removed]",
       "text": [
        "<matplotlib.figure.Figure at 0x1067376d0>"
       ]
      }
     ],
     "prompt_number": 59
    },
    {
     "cell_type": "code",
     "collapsed": false,
     "input": [
      "plt.scatter(d1, limav)"
     ],
     "language": "python",
     "metadata": {},
     "outputs": [
      {
       "metadata": {},
       "output_type": "pyout",
       "prompt_number": 60,
       "text": [
        "<matplotlib.collections.PathCollection at 0x106e5b450>"
       ]
      },
      {
       "metadata": {},
       "output_type": "display_data",
       "png": "[encoded data removed]",
       "text": [
        "<matplotlib.figure.Figure at 0x106e37b10>"
       ]
      }
     ],
     "prompt_number": 60
    },
    {
     "cell_type": "code",
     "collapsed": false,
     "input": [
      "#Y1 = np.array(limavs[0]).reshape(len(limavs[0]), 1)\n",
      "#Y2 = np.array(limavs[1]).reshape(len(limavs[1]), 1)\n",
      "#Y3 = np.array(limavs[2]).reshape(len(limavs[2]), 1)\n",
      "Y1 = np.array(limav).reshape(len(limav), 1)"
     ],
     "language": "python",
     "metadata": {},
     "outputs": [],
     "prompt_number": 61
    },
    {
     "cell_type": "code",
     "collapsed": false,
     "input": [
      "n_components = 3"
     ],
     "language": "python",
     "metadata": {},
     "outputs": [],
     "prompt_number": 62
    },
    {
     "cell_type": "code",
     "collapsed": false,
     "input": [
      "# make an HMM instance and execute fit\n",
      "model = GaussianHMM(n_components, \"full\")\n",
      "#model.fit([X])\n",
      "\n",
      "# predict the optimal sequence of internal hidden state\n",
      "#hidden_states = model.predict(X)"
     ],
     "language": "python",
     "metadata": {},
     "outputs": [],
     "prompt_number": 63
    },
    {
     "cell_type": "code",
     "collapsed": false,
     "input": [
      "model.fit([Y1])"
     ],
     "language": "python",
     "metadata": {},
     "outputs": [
      {
       "metadata": {},
       "output_type": "pyout",
       "prompt_number": 64,
       "text": [
        "GaussianHMM(algorithm='viterbi', covariance_type='full', covars_prior=0.01,\n",
        "      covars_weight=1,\n",
        "      init_params='abcdefghijklmnopqrstuvwxyzABCDEFGHIJKLMNOPQRSTUVWXYZ',\n",
        "      means_prior=None, means_weight=0, n_components=3, n_iter=10,\n",
        "      params='abcdefghijklmnopqrstuvwxyzABCDEFGHIJKLMNOPQRSTUVWXYZ',\n",
        "      random_state=None, startprob=None, startprob_prior=1.0, thresh=0.01,\n",
        "      transmat=None, transmat_prior=1.0)"
       ]
      }
     ],
     "prompt_number": 64
    },
    {
     "cell_type": "code",
     "collapsed": false,
     "input": [
      "hidden_states = model.predict(Y1)"
     ],
     "language": "python",
     "metadata": {},
     "outputs": [],
     "prompt_number": 65
    },
    {
     "cell_type": "code",
     "collapsed": false,
     "input": [
      "print model.score(Y1)"
     ],
     "language": "python",
     "metadata": {},
     "outputs": [
      {
       "output_type": "stream",
       "stream": "stdout",
       "text": [
        "263.867023326\n"
       ]
      }
     ],
     "prompt_number": 66
    },
    {
     "cell_type": "code",
     "collapsed": false,
     "input": [
      "#colors = np.concatenate([np.array([6 for i in range(10)]), hidden_states])\n"
     ],
     "language": "python",
     "metadata": {},
     "outputs": [],
     "prompt_number": 67
    },
    {
     "cell_type": "code",
     "collapsed": false,
     "input": [
      "#print colors"
     ],
     "language": "python",
     "metadata": {},
     "outputs": [],
     "prompt_number": 68
    },
    {
     "cell_type": "code",
     "collapsed": false,
     "input": [],
     "language": "python",
     "metadata": {},
     "outputs": [],
     "prompt_number": 68
    },
    {
     "cell_type": "code",
     "collapsed": false,
     "input": [
      "plt.scatter(d1, avg, c = hidden_states) #used to say avgs[0]=0?"
     ],
     "language": "python",
     "metadata": {},
     "outputs": [
      {
       "metadata": {},
       "output_type": "pyout",
       "prompt_number": 69,
       "text": [
        "<matplotlib.collections.PathCollection at 0x106d510d0>"
       ]
      },
      {
       "metadata": {},
       "output_type": "display_data",
       "png": "[encoded data removed]",
       "text": [
        "<matplotlib.figure.Figure at 0x106a09210>"
       ]
      }
     ],
     "prompt_number": 69
    },
    {
     "cell_type": "code",
     "collapsed": false,
     "input": [
      "plt.show()"
     ],
     "language": "python",
     "metadata": {},
     "outputs": [],
     "prompt_number": 541
    },
    {
     "cell_type": "code",
     "collapsed": false,
     "input": [
      "data = zip(hidden_states, avgs[0])"
     ],
     "language": "python",
     "metadata": {},
     "outputs": [],
     "prompt_number": 666
    },
    {
     "cell_type": "code",
     "collapsed": false,
     "input": [
      "print data"
     ],
     "language": "python",
     "metadata": {},
     "outputs": [
      {
       "output_type": "stream",
       "stream": "stdout",
       "text": [
        "[(2, 4.0), (2, 4.0), (2, 2.5), (2, 2.3333333333333335), (2, 2.25), (2, 2.8), (2, 3.1666666666666665), (2, 2.857142857142857), (2, 2.75), (2, 2.5555555555555554), (2, 2.6), (2, 2.5454545454545454), (2, 2.4166666666666665), (2, 2.3076923076923075), (2, 2.2142857142857144), (2, 2.3333333333333335), (2, 2.4375), (2, 2.3529411764705883), (2, 2.2777777777777777), (2, 2.210526315789474), (2, 2.15), (2, 2.0952380952380953), (2, 2.227272727272727), (2, 2.1739130434782608), (2, 2.125), (2, 2.12), (2, 2.230769230769231), (2, 2.185185185185185), (2, 2.2142857142857144), (2, 2.206896551724138), (2, 2.1666666666666665), (2, 2.129032258064516), (2, 2.09375), (2, 2.0606060606060606), (2, 2.0294117647058822), (2, 2.0), (2, 1.9722222222222223), (2, 1.945945945945946), (2, 2.0), (2, 2.076923076923077), (2, 2.05), (2, 2.024390243902439), (2, 2.0), (2, 1.9767441860465116), (2, 1.9545454545454546), (2, 1.9333333333333333), (2, 1.9130434782608696), (2, 1.8936170212765957), (2, 1.875), (2, 1.9387755102040816), (2, 1.92), (2, 1.9803921568627452), (2, 1.9807692307692308), (2, 1.9622641509433962), (2, 1.962962962962963), (2, 1.9454545454545455), (2, 1.9285714285714286), (2, 1.9298245614035088), (2, 1.9137931034482758), (2, 1.9661016949152543), (2, 1.9833333333333334), (2, 2.0), (2, 1.9838709677419355), (2, 1.9682539682539681), (2, 1.953125), (2, 1.9384615384615385), (2, 1.9242424242424243), (2, 1.9253731343283582), (2, 1.9411764705882353), (2, 1.9275362318840579), (2, 1.9142857142857144), (2, 1.9577464788732395), (2, 2.0), (2, 2.0), (2, 2.0), (2, 1.9866666666666666), (2, 1.9736842105263157), (2, 1.9610389610389611), (2, 1.9871794871794872), (2, 1.9746835443037976), (2, 2.0), (2, 1.9876543209876543), (2, 1.975609756097561), (2, 1.963855421686747), (2, 1.9880952380952381), (2, 1.988235294117647), (2, 1.9883720930232558), (2, 1.9770114942528736), (2, 1.9659090909090908), (2, 1.9775280898876404), (2, 1.9666666666666666), (2, 1.956043956043956), (2, 1.9456521739130435), (2, 1.935483870967742), (2, 1.925531914893617), (2, 1.9157894736842105), (2, 1.90625), (2, 1.8969072164948453), (2, 1.8877551020408163)]\n"
       ]
      }
     ],
     "prompt_number": 667
    },
    {
     "cell_type": "code",
     "collapsed": false,
     "input": [],
     "language": "python",
     "metadata": {},
     "outputs": []
    }
   ],
   "metadata": {}
  }
 ]
}