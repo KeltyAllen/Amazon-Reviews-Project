{
 "metadata": {
  "name": "",
  "signature": "sha256:dcbc6118d55fda4f25180f7cb721478fb14ddf4bb61ce766aaf71dff67308799"
 },
 "nbformat": 3,
 "nbformat_minor": 0,
 "worksheets": [
  {
   "cells": [
    {
     "cell_type": "code",
     "collapsed": false,
     "input": [
      "import MySQLdb\n",
      "import matplotlib.pyplot as plt\n",
      "import numpy as np\n",
      "import pandas as pd\n",
      "import datetime as dt\n",
      "from sklearn.cluster import KMeans, DBSCAN\n",
      "%matplotlib inline"
     ],
     "language": "python",
     "metadata": {},
     "outputs": [],
     "prompt_number": 267
    },
    {
     "cell_type": "code",
     "collapsed": false,
     "input": [
      "#returns ratings and time for a given pid in tablename with cursor pointing toward the database\n",
      "def get_data(PID, cursor, tablename):\n",
      "    sql = \"Select RTime, RScore From \" +tablename + \" Where PID = \" + '\"' + PID +'\";'\n",
      "    cursor.execute(sql)\n",
      "    data = cursor.fetchall()\n",
      "    data = sorted(data)\n",
      "    rating = np.array(zip(*data)[1], dtype = int)\n",
      "    time = np.array(zip(*data)[0], dtype = float)\n",
      "    #dates=[dt.datetime.fromtimestamp(ts) for ts in time]\n",
      "    return rating, time#, dates"
     ],
     "language": "python",
     "metadata": {},
     "outputs": [],
     "prompt_number": 169
    },
    {
     "cell_type": "code",
     "collapsed": false,
     "input": [
      "def avg_rating(rating):\n",
      "    avg = [0]*len(rating)\n",
      "    avg[0] = float(rating[0])\n",
      "    for k in range(1, len(rating)):\n",
      "        avg[k]= float(np.mean(rating[:k]))\n",
      "    return avg"
     ],
     "language": "python",
     "metadata": {},
     "outputs": [],
     "prompt_number": 170
    },
    {
     "cell_type": "code",
     "collapsed": false,
     "input": [
      "# This returns the longest time span covering 1/4 of reviews and the shortest time span covering 1/4 of reviews\n",
      "def pop_time(time): \n",
      "    unpopmin = time[0]\n",
      "    unpopmax = time[0]\n",
      "    popmin = time[0]\n",
      "    popmax = time[len(time)-1]\n",
      "    slidermin = 0\n",
      "    slidersize = int(len(time)/4)\n",
      "    for i in range(slidersize, len(time)): #i marks the end of the slider\n",
      "        windowsize = time[i] - time[i - slidersize]\n",
      "        if windowsize > unpopmax - unpopmin:\n",
      "            unpopmax = time[i]\n",
      "            unpopmin = time[i - slidersize]\n",
      "        if windowsize < popmax - popmin:\n",
      "            popmax = time[i]\n",
      "            popmin = time[i - slidersize]\n",
      "            \n",
      "            \n",
      "    return unpopmin, unpopmax, popmin, popmax\n",
      "        "
     ],
     "language": "python",
     "metadata": {},
     "outputs": [],
     "prompt_number": 171
    },
    {
     "cell_type": "code",
     "collapsed": false,
     "input": [
      "#this gives the average slope of the cumulative avg rating (or whatever you pass it) in the 2nd, 3rd, and 4th quarter of reviews\n",
      "#on account of sparseness effects I divided by num of reviews rather than time, not clear if that's the best choice\n",
      "\n",
      "#need a reasonable number of reviews (>40) for this to work \n",
      "\n",
      "#note: input must be unix timestamp (seconds)\n",
      "def quarterly_slopes(ratings, timestamp):\n",
      "    time = map(lambda foo: float(foo/(60*60*24*365)), timestamp)\n",
      "    q = (len(ratings)/4)-1\n",
      "    q1 = 0\n",
      "    if len(ratings)>45:\n",
      "        q1 = float((ratings[q]-ratings[10])/(time[q] - time[10]))\n",
      "    return q1, float((ratings[2*q] - ratings[q])/(time[2*q]-time[q])), float((ratings[3*q]-ratings[2*q])/(time[3*q]-time[2*q])), float((ratings[4*q]-ratings[3*q])/(time[4*q]-time[3*q]))"
     ],
     "language": "python",
     "metadata": {},
     "outputs": [],
     "prompt_number": 172
    },
    {
     "cell_type": "code",
     "collapsed": false,
     "input": [
      "#This should check if the reviews at the start are \"significantly\" higher than average; by more than .5 stars\n",
      "def starts_high(ratings, time):\n",
      "    startavg = sum(ratings[:10])/10\n",
      "    avg = sum(ratings)/len(ratings)\n",
      "    if startavg > avg + .5:\n",
      "        return True\n",
      "    else: \n",
      "        return False"
     ],
     "language": "python",
     "metadata": {},
     "outputs": [],
     "prompt_number": 173
    },
    {
     "cell_type": "code",
     "collapsed": false,
     "input": [
      "#features vector, need at least 50? reviews for all these to be meaningful\n",
      "def make_features_vec(ratings, time):\n",
      "    vec = []\n",
      "    n = len(ratings)\n",
      "    unpopmin, unpopmax, popmin, popmax = pop_time(time)\n",
      "    q1, q2, q3, q4 = quarterly_slopes(ratings, time)\n",
      "    #bit 1\n",
      "    if unpopmin <= time[n/10]:\n",
      "        vec.append(1)\n",
      "    else:\n",
      "        vec.append(0)\n",
      "    #bit 2\n",
      "    if unpopmax >= time[9*n/10]:\n",
      "        vec.append(1)\n",
      "    else:\n",
      "        vec.append(0)\n",
      "    #bit 3\n",
      "    if popmin <= time[n/10]:\n",
      "        vec.append(1)\n",
      "    else:\n",
      "        vec.append(0)\n",
      "    #bit 4\n",
      "    if popmax >= time[9*n/10]:\n",
      "        vec.append(1)\n",
      "    else:\n",
      "        vec.append(0)\n",
      "    #bit 5\n",
      "    vec.append(q1*10)\n",
      "    #bit 6\n",
      "    vec.append(q2*10)\n",
      "    #bit 7\n",
      "    vec.append(q3*10)\n",
      "    #bit 8\n",
      "    vec.append(q4*10)\n",
      "#    #bit 5               #this is not pythonic. get better at python. \n",
      "#    if q1 < -1:\n",
      "#        vec.append(-1)\n",
      "#    elif q1 > 1:\n",
      "#        vec.append(1)\n",
      "#    else:\n",
      "#        vec.append(0)\n",
      "    \n",
      "    # bit 6\n",
      "#    if q2 < -.12:\n",
      "#        vec.append(-1)\n",
      "#    elif q2 > .12:\n",
      "#        vec.append(1)\n",
      "#    else:\n",
      "#        vec.append(0)\n",
      "#    #bit 7\n",
      "#    if q3 < -.12:\n",
      "#        vec.append(-1)\n",
      "#    elif q3 > .12:\n",
      "#        vec.append(1)\n",
      "#    else:\n",
      "#        vec.append(0)\n",
      "#    #bit 8\n",
      "#    if q4 < -.12:\n",
      "#        vec.append(-1)\n",
      "#    elif q4 > 1:\n",
      "#        vec.append(1)\n",
      "#    else:\n",
      "#        vec.append(0)\n",
      "    #bit 9\n",
      "    if starts_high(ratings, time) == True:\n",
      "        vec.append(1)\n",
      "    else:\n",
      "        vec.append(0)\n",
      "    #bit 10\n",
      "    vec.append(ratings[len(ratings)-1])\n",
      "    return vec\n",
      "        "
     ],
     "language": "python",
     "metadata": {},
     "outputs": [],
     "prompt_number": 263
    },
    {
     "cell_type": "code",
     "collapsed": false,
     "input": [
      "\n",
      "        \n",
      "        "
     ],
     "language": "python",
     "metadata": {},
     "outputs": []
    },
    {
     "cell_type": "code",
     "collapsed": false,
     "input": [
      "database = \"home_kitchen\"\n",
      "tablename = \"all_hk\"\n",
      "numids = 10"
     ],
     "language": "python",
     "metadata": {},
     "outputs": [],
     "prompt_number": 248
    },
    {
     "cell_type": "code",
     "collapsed": false,
     "input": [
      "db = MySQLdb.connect(host=\"localhost\", user=\"root\", db = database)\n",
      "cursor = db.cursor()"
     ],
     "language": "python",
     "metadata": {},
     "outputs": [],
     "prompt_number": 249
    },
    {
     "cell_type": "code",
     "collapsed": false,
     "input": [
      "sql = \"Select PID from (SELECT distinct PID, count(*) as magnitude from \" + tablename + \" group by pid having magnitude > 100) as x limit \" +str(numids) +\";\"    "
     ],
     "language": "python",
     "metadata": {},
     "outputs": [],
     "prompt_number": 250
    },
    {
     "cell_type": "code",
     "collapsed": false,
     "input": [
      "cursor.execute(sql)"
     ],
     "language": "python",
     "metadata": {},
     "outputs": [
      {
       "metadata": {},
       "output_type": "pyout",
       "prompt_number": 251,
       "text": [
        "100L"
       ]
      }
     ],
     "prompt_number": 251
    },
    {
     "cell_type": "code",
     "collapsed": false,
     "input": [
      "pids = cursor.fetchall()"
     ],
     "language": "python",
     "metadata": {},
     "outputs": [],
     "prompt_number": 252
    },
    {
     "cell_type": "code",
     "collapsed": false,
     "input": [
      "pids = tuple(x[0] for x in pids)"
     ],
     "language": "python",
     "metadata": {},
     "outputs": [],
     "prompt_number": 253
    },
    {
     "cell_type": "code",
     "collapsed": false,
     "input": [
      "pid_test = ' B000GXZ2GS'"
     ],
     "language": "python",
     "metadata": {},
     "outputs": [],
     "prompt_number": 254
    },
    {
     "cell_type": "code",
     "collapsed": false,
     "input": [
      "rating_test, time_test = get_data(pid_test, cursor, tablename)"
     ],
     "language": "python",
     "metadata": {},
     "outputs": [],
     "prompt_number": 255
    },
    {
     "cell_type": "code",
     "collapsed": false,
     "input": [
      "rating_test= avg_rating(rating_test)"
     ],
     "language": "python",
     "metadata": {},
     "outputs": [],
     "prompt_number": 256
    },
    {
     "cell_type": "code",
     "collapsed": false,
     "input": [
      "print pop_time(time_test)"
     ],
     "language": "python",
     "metadata": {},
     "outputs": [
      {
       "output_type": "stream",
       "stream": "stdout",
       "text": [
        "(1153267200.0, 1238803200.0, 1333497600.0, 1360886400.0)\n"
       ]
      }
     ],
     "prompt_number": 257
    },
    {
     "cell_type": "code",
     "collapsed": false,
     "input": [
      "print max(time_test), min(time_test)"
     ],
     "language": "python",
     "metadata": {},
     "outputs": [
      {
       "output_type": "stream",
       "stream": "stdout",
       "text": [
        "1360886400.0 1153267200.0\n"
       ]
      }
     ],
     "prompt_number": 258
    },
    {
     "cell_type": "code",
     "collapsed": false,
     "input": [
      "print starts_high(rating_test, time_test)"
     ],
     "language": "python",
     "metadata": {},
     "outputs": [
      {
       "output_type": "stream",
       "stream": "stdout",
       "text": [
        "False\n"
       ]
      }
     ],
     "prompt_number": 259
    },
    {
     "cell_type": "code",
     "collapsed": false,
     "input": [
      "print quarterly_slopes(rating_test, time_test)"
     ],
     "language": "python",
     "metadata": {},
     "outputs": [
      {
       "output_type": "stream",
       "stream": "stdout",
       "text": [
        "(-0.11295193668731641, -0.03352036792272728, -0.016066588048383186, -0.01803819363162063)\n"
       ]
      }
     ],
     "prompt_number": 260
    },
    {
     "cell_type": "code",
     "collapsed": false,
     "input": [
      "starts_high(rating_test, time_test) == False"
     ],
     "language": "python",
     "metadata": {},
     "outputs": [
      {
       "metadata": {},
       "output_type": "pyout",
       "prompt_number": 261,
       "text": [
        "True"
       ]
      }
     ],
     "prompt_number": 261
    },
    {
     "cell_type": "code",
     "collapsed": false,
     "input": [
      "print make_features_vec(rating_test, time_test)"
     ],
     "language": "python",
     "metadata": {},
     "outputs": [
      {
       "output_type": "stream",
       "stream": "stdout",
       "text": [
        "[1, 0, 0, 1, -1.1295193668731642, -0.3352036792272728, -0.16066588048383185, -0.18038193631620628, 0, 4.63490099009901]\n"
       ]
      }
     ],
     "prompt_number": 264
    },
    {
     "cell_type": "code",
     "collapsed": false,
     "input": [
      "dates=[dt.datetime.fromtimestamp(ts) for ts in time_test]"
     ],
     "language": "python",
     "metadata": {},
     "outputs": [],
     "prompt_number": 265
    },
    {
     "cell_type": "code",
     "collapsed": false,
     "input": [
      "plt.scatter(dates, rating_test)"
     ],
     "language": "python",
     "metadata": {},
     "outputs": [
      {
       "metadata": {},
       "output_type": "pyout",
       "prompt_number": 266,
       "text": [
        "<matplotlib.collections.PathCollection at 0x10f689e50>"
       ]
      },
      {
       "metadata": {},
       "output_type": "display_data",
       "png": "[encoded data removed]",
       "text": [
        "<matplotlib.figure.Figure at 0x10a158490>"
       ]
      }
     ],
     "prompt_number": 266
    },
    {
     "cell_type": "code",
     "collapsed": false,
     "input": [],
     "language": "python",
     "metadata": {},
     "outputs": [],
     "prompt_number": 119
    }
   ],
   "metadata": {}
  }
 ]
}