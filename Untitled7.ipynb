{
 "metadata": {
  "name": "",
  "signature": "sha256:d308792de9a88f976da7292e250940cb094101770f0d2f04ba85064370e6fbff"
 },
 "nbformat": 3,
 "nbformat_minor": 0,
 "worksheets": []
}