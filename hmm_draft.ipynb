{
 "metadata": {
  "name": "",
  "signature": "sha256:4dce9627ed6ef9c5ecac6c4c7426adf71df1de73953b1cf76376c6358df03297"
 },
 "nbformat": 3,
 "nbformat_minor": 0,
 "worksheets": [
  {
   "cells": [
    {
     "cell_type": "code",
     "collapsed": false,
     "input": [
      "import numpy as np\n",
      "from sklearn.hmm import MultinomialHMM\n",
      "import MySQLdb\n",
      "import matplotlib.pyplot as plt\n",
      "import pylab as pl\n"
     ],
     "language": "python",
     "metadata": {},
     "outputs": [],
     "prompt_number": 243
    },
    {
     "cell_type": "code",
     "collapsed": false,
     "input": [
      "# Normalizes the time so that the average wait time for the next review is 1. \n",
      "def normalized(time):\n",
      "    review_rate = len(time)/(time[len(time)-1]-time[0])\n",
      "    normalized_time = np.zeros(len(time))\n",
      "    for k in range(len(time)):\n",
      "        normalized_time[k] = (time[k]-time[0])*review_rate\n",
      "    return normalized_time"
     ],
     "language": "python",
     "metadata": {},
     "outputs": [],
     "prompt_number": 244
    },
    {
     "cell_type": "code",
     "collapsed": false,
     "input": [
      "def GetTrainingSet(PID, tablename, cursor):\n",
      "    sql = \"Select RTime, RScore From \" +tablename + \" Where PID = \" + '\"' + PID +'\";'\n",
      "    cursor.execute(sql)\n",
      "    data = cursor.fetchall()\n",
      "    data = sorted(data)\n",
      "    rating = np.array(zip(*data)[1], dtype = int)\n",
      "    time = np.array(zip(*data)[0], dtype = float)\n",
      "    normalized_time = normalized(time)\n",
      "    discrete_time = np.zeros(len(time)) \n",
      "    for k in range(len(time)):\n",
      "        rating[k] = rating[k]-1\n",
      "        if normalized_time[k]> 1:\n",
      "            discrete_time[k]=2\n",
      "        else:\n",
      "            discrete_time[k]=1\n",
      "    return rating, time #np.column_stack([rating, discrete_time])"
     ],
     "language": "python",
     "metadata": {},
     "outputs": [],
     "prompt_number": 245
    },
    {
     "cell_type": "code",
     "collapsed": false,
     "input": [
      "def running_avg(data):\n",
      "    avg = np.zeros(len(data), dtype = float)\n",
      "    total = 0\n",
      "    for k in range(len(data)):\n",
      "        #avg[k] = np.mean(data[:k])\n",
      "        total += data[k]\n",
      "        avg[k] = float(total)/float((k+1))\n",
      "    return avg"
     ],
     "language": "python",
     "metadata": {},
     "outputs": [],
     "prompt_number": 246
    },
    {
     "cell_type": "code",
     "collapsed": false,
     "input": [
      "db = MySQLdb.connect(host=\"localhost\", user=\"root\", db = \"home_kitchen\")\n",
      "cursor = db.cursor()"
     ],
     "language": "python",
     "metadata": {},
     "outputs": [],
     "prompt_number": 247
    },
    {
     "cell_type": "code",
     "collapsed": false,
     "input": [
      "tablename = 'all_hk'"
     ],
     "language": "python",
     "metadata": {},
     "outputs": [],
     "prompt_number": 248
    },
    {
     "cell_type": "code",
     "collapsed": false,
     "input": [
      "PID1 = 'B000GXZ2GS'  #Later input PIDs from terminal or website or whatever\n",
      "PID1 = ' ' + PID1"
     ],
     "language": "python",
     "metadata": {},
     "outputs": [],
     "prompt_number": 249
    },
    {
     "cell_type": "code",
     "collapsed": false,
     "input": [
      "PID2 = ' B0000X7CMQ'\n",
      "PID3 = ' B000GTR2F6'\n",
      "PID4 = ' B000AQSMPO'\n",
      "PID5 = ' B00005MF9C'\n",
      "PID6 = ' B0000E2PEI'\n",
      "PID7 = ' B0006SFFAQ'\n",
      "PID8 = ' B00005AQ9Q'\n",
      "PID9 = ' B00005R19P'\n",
      "PID10 = ' B000FFQ554'"
     ],
     "language": "python",
     "metadata": {},
     "outputs": [],
     "prompt_number": 250
    },
    {
     "cell_type": "code",
     "collapsed": false,
     "input": [
      "#Getting the Data:"
     ],
     "language": "python",
     "metadata": {},
     "outputs": [],
     "prompt_number": 251
    },
    {
     "cell_type": "code",
     "collapsed": false,
     "input": [
      "X1, T1 = GetTrainingSet(PID1, tablename, cursor)\n",
      "X2, T2 = GetTrainingSet(PID2, tablename, cursor)\n",
      "X3, T3 = GetTrainingSet(PID3, tablename, cursor)\n",
      "X4, T4 = GetTrainingSet(PID4, tablename, cursor)\n",
      "X5, T5 = GetTrainingSet(PID5, tablename, cursor)\n",
      "X6, T6 = GetTrainingSet(PID6, tablename, cursor)\n",
      "X7, T7 = GetTrainingSet(PID7, tablename, cursor)\n",
      "X8, T8 = GetTrainingSet(PID8, tablename, cursor)\n",
      "X9, T9 = GetTrainingSet(PID9, tablename, cursor)\n",
      "X10, T10 = GetTrainingSet(PID10, tablename, cursor)"
     ],
     "language": "python",
     "metadata": {},
     "outputs": [],
     "prompt_number": 252
    },
    {
     "cell_type": "code",
     "collapsed": false,
     "input": [
      "R1 = running_avg(X1)\n",
      "R2 = running_avg(X2)\n",
      "R3 = running_avg(X3)\n",
      "R4 = running_avg(X4)\n",
      "R5 = running_avg(X5)\n",
      "R6 = running_avg(X6)\n",
      "R7 = running_avg(X7)\n",
      "R8 = running_avg(X8)\n",
      "R9 = running_avg(X9)\n",
      "R10 = running_avg(X10)"
     ],
     "language": "python",
     "metadata": {},
     "outputs": [],
     "prompt_number": 253
    },
    {
     "cell_type": "code",
     "collapsed": false,
     "input": [
      "print R2"
     ],
     "language": "python",
     "metadata": {},
     "outputs": [
      {
       "output_type": "stream",
       "stream": "stdout",
       "text": [
        "[ 4.          4.          4.         ...,  2.66234888  2.66091458\n",
        "  2.66206897]\n"
       ]
      }
     ],
     "prompt_number": 254
    },
    {
     "cell_type": "code",
     "collapsed": false,
     "input": [
      "#### HMM Time"
     ],
     "language": "python",
     "metadata": {},
     "outputs": [],
     "prompt_number": 255
    },
    {
     "cell_type": "code",
     "collapsed": false,
     "input": [
      "n_components =6 #? number of states in the model. I'm just guessing here. "
     ],
     "language": "python",
     "metadata": {},
     "outputs": [],
     "prompt_number": 256
    },
    {
     "cell_type": "code",
     "collapsed": false,
     "input": [
      "model = MultinomialHMM(n_components )"
     ],
     "language": "python",
     "metadata": {},
     "outputs": [],
     "prompt_number": 257
    },
    {
     "cell_type": "code",
     "collapsed": false,
     "input": [
      "model.fit([X4])"
     ],
     "language": "python",
     "metadata": {},
     "outputs": [
      {
       "metadata": {},
       "output_type": "pyout",
       "prompt_number": 258,
       "text": [
        "MultinomialHMM(algorithm='viterbi',\n",
        "        init_params='abcdefghijklmnopqrstuvwxyzABCDEFGHIJKLMNOPQRSTUVWXYZ',\n",
        "        n_components=6, n_iter=10,\n",
        "        params='abcdefghijklmnopqrstuvwxyzABCDEFGHIJKLMNOPQRSTUVWXYZ',\n",
        "        random_state=<mtrand.RandomState object at 0x10e140690>,\n",
        "        startprob=None, startprob_prior=1.0, thresh=0.01, transmat=None,\n",
        "        transmat_prior=1.0)"
       ]
      }
     ],
     "prompt_number": 258
    },
    {
     "cell_type": "code",
     "collapsed": false,
     "input": [
      "hidden_states = model.predict(X4)"
     ],
     "language": "python",
     "metadata": {},
     "outputs": [],
     "prompt_number": 259
    },
    {
     "cell_type": "code",
     "collapsed": false,
     "input": [
      "fig = pl.figure()\n",
      "\n",
      "ax = fig.add_subplot(111)\n",
      "for i in range(n_components):\n",
      "    # use fancy indexing to plot data in each state\n",
      "    idx = (hidden_states == i)\n",
      "    ax.plot_date(T4[idx], R4[idx], 'o', label=\"%dth hidden state\" % i)\n",
      "    ax.legend()"
     ],
     "language": "python",
     "metadata": {},
     "outputs": [
      {
       "metadata": {},
       "output_type": "display_data",
       "text": [
        "<matplotlib.figure.Figure at 0x115fda550>"
       ]
      }
     ],
     "prompt_number": 260
    },
    {
     "cell_type": "code",
     "collapsed": false,
     "input": [
      "for i in range(n_components):\n",
      "    # use fancy indexing to plot data in each state\n",
      "    idx = (hidden_states == i)\n",
      "    ax.plot_date(T4[idx], R4[idx], 'o', label=\"%dth hidden state\" % i)\n",
      "    ax.legend()"
     ],
     "language": "python",
     "metadata": {},
     "outputs": [],
     "prompt_number": 261
    },
    {
     "cell_type": "code",
     "collapsed": false,
     "input": [
      "pl.show()"
     ],
     "language": "python",
     "metadata": {},
     "outputs": [],
     "prompt_number": 262
    },
    {
     "cell_type": "code",
     "collapsed": false,
     "input": [],
     "language": "python",
     "metadata": {},
     "outputs": []
    }
   ],
   "metadata": {}
  }
 ]
}