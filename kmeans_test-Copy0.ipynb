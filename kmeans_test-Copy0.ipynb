{
 "metadata": {
  "name": "",
  "signature": "sha256:2872f4cbfa1e309eecef147118494da8ccddac8b332ace9cdb3fdae425b85ef3"
 },
 "nbformat": 3,
 "nbformat_minor": 0,
 "worksheets": [
  {
   "cells": [
    {
     "cell_type": "code",
     "collapsed": false,
     "input": [
      "import MySQLdb\n",
      "import matplotlib.pyplot as plt\n",
      "import numpy as np\n",
      "import pandas as pd\n",
      "import datetime as dt\n",
      "from sklearn.cluster import KMeans, DBSCAN\n",
      "from matplotlib.backends.backend_pdf import PdfPages\n"
     ],
     "language": "python",
     "metadata": {},
     "outputs": [],
     "prompt_number": 2
    },
    {
     "cell_type": "code",
     "collapsed": false,
     "input": [
      "def make_vec_list(pid_list):\n",
      "    vec_list = []\n",
      "    for pid in pid_list:\n",
      "        ratings, time = get_data(pid, cursor, tablename)\n",
      "        vector = make_features_vec(avg_rating(ratings), time)\n",
      "        vec_list.append(vector)\n",
      "    return vec_list"
     ],
     "language": "python",
     "metadata": {},
     "outputs": [],
     "prompt_number": 20
    },
    {
     "cell_type": "code",
     "collapsed": false,
     "input": [
      "#returns ratings and time for a given pid in tablename with cursor pointing toward the database\n",
      "def get_data(PID, cursor, tablename):\n",
      "    sql = \"Select RTime, RScore From \" +tablename + \" Where PID = \" + '\"' + PID +'\";'\n",
      "    cursor.execute(sql)\n",
      "    data = cursor.fetchall()\n",
      "    data = sorted(data)\n",
      "    rating = np.array(zip(*data)[1], dtype = int)\n",
      "    time = np.array(zip(*data)[0], dtype = float)\n",
      "    #dates=[dt.datetime.fromtimestamp(ts) for ts in time]\n",
      "    return rating, time#, dates"
     ],
     "language": "python",
     "metadata": {},
     "outputs": [],
     "prompt_number": 4
    },
    {
     "cell_type": "code",
     "collapsed": false,
     "input": [
      "def avg_rating(rating):\n",
      "    avg = [0]*len(rating)\n",
      "    avg[0] = float(rating[0])\n",
      "    for k in range(1, len(rating)):\n",
      "        avg[k]= float(np.mean(rating[:k]))\n",
      "    return avg"
     ],
     "language": "python",
     "metadata": {},
     "outputs": [],
     "prompt_number": 5
    },
    {
     "cell_type": "code",
     "collapsed": false,
     "input": [
      "# This returns the longest time span covering 1/4 of reviews and the shortest time span covering 1/4 of reviews\n",
      "def pop_time(time): \n",
      "    unpopmin = time[0]\n",
      "    unpopmax = time[0]\n",
      "    popmin = time[0]\n",
      "    popmax = time[len(time)-1]\n",
      "    slidermin = 0\n",
      "    slidersize = int(len(time)/4)\n",
      "    for i in range(slidersize, len(time)): #i marks the end of the slider\n",
      "        windowsize = time[i] - time[i - slidersize]\n",
      "        if windowsize > unpopmax - unpopmin:\n",
      "            unpopmax = time[i]\n",
      "            unpopmin = time[i - slidersize]\n",
      "        if windowsize < popmax - popmin:\n",
      "            popmax = time[i]\n",
      "            popmin = time[i - slidersize]\n",
      "            \n",
      "            \n",
      "    return unpopmin, unpopmax, popmin, popmax\n",
      "        "
     ],
     "language": "python",
     "metadata": {},
     "outputs": [],
     "prompt_number": 6
    },
    {
     "cell_type": "code",
     "collapsed": false,
     "input": [
      "#this gives the average slope of the cumulative avg rating (or whatever you pass it) in the 2nd, 3rd, and 4th quarter of reviews\n",
      "#on account of sparseness effects I divided by num of reviews rather than time, not clear if that's the best choice\n",
      "\n",
      "#need a reasonable number of reviews (>40) for this to work \n",
      "\n",
      "#note: input must be unix timestamp (seconds)\n",
      "def quarterly_slopes(ratings, timestamp):\n",
      "    time = map(lambda foo: float(foo/(60*60*24*365)), timestamp)\n",
      "    q = (len(ratings)/4)-1\n",
      "    q1 = 0\n",
      "    if len(ratings)>45:\n",
      "        q1 = float((ratings[q]-ratings[10])/(time[q] - time[10]))\n",
      "    return q1, float((ratings[2*q] - ratings[q])/(time[2*q]-time[q])), float((ratings[3*q]-ratings[2*q])/(time[3*q]-time[2*q])), float((ratings[4*q]-ratings[3*q])/(time[4*q]-time[3*q]))"
     ],
     "language": "python",
     "metadata": {},
     "outputs": [],
     "prompt_number": 7
    },
    {
     "cell_type": "code",
     "collapsed": false,
     "input": [
      "#This should check if the reviews at the start are \"significantly\" higher than average; by more than .5 stars\n",
      "def starts_high(ratings, time):\n",
      "    startavg = sum(ratings[:10])/10\n",
      "    avg = sum(ratings)/len(ratings)\n",
      "    if startavg > avg + .5:\n",
      "        return True\n",
      "    else: \n",
      "        return False"
     ],
     "language": "python",
     "metadata": {},
     "outputs": [],
     "prompt_number": 8
    },
    {
     "cell_type": "code",
     "collapsed": false,
     "input": [
      "#features vector, need at least 50? reviews for all these to be meaningful\n",
      "def make_features_vec(ratings, time):\n",
      "    vec = []\n",
      "    n = len(ratings)\n",
      "    unpopmin, unpopmax, popmin, popmax = pop_time(time)\n",
      "    q1, q2, q3, q4 = quarterly_slopes(ratings, time)\n",
      "    #bit 1\n",
      "    if unpopmin <= time[n/10]:\n",
      "        vec.append(1)\n",
      "    else:\n",
      "        vec.append(0)\n",
      "    #bit 2\n",
      "    if unpopmax >= time[9*n/10]:\n",
      "        vec.append(1)\n",
      "    else:\n",
      "        vec.append(0)\n",
      "    #bit 3\n",
      "    if popmin <= time[n/10]:\n",
      "        vec.append(1)\n",
      "    else:\n",
      "        vec.append(0)\n",
      "    #bit 4\n",
      "    if popmax >= time[9*n/10]:\n",
      "        vec.append(1)\n",
      "    else:\n",
      "        vec.append(0)\n",
      "    #bit 5\n",
      "    vec.append(q1*10)\n",
      "    #bit 6\n",
      "    vec.append(q2*10)\n",
      "    #bit 7\n",
      "    vec.append(q3*10)\n",
      "    #bit 8\n",
      "    vec.append(q4*10)\n",
      "#    #bit 5               #this is not pythonic. get better at python. \n",
      "#    if q1 < -1:\n",
      "#        vec.append(-1)\n",
      "#    elif q1 > 1:\n",
      "#        vec.append(1)\n",
      "#    else:\n",
      "#        vec.append(0)\n",
      "    \n",
      "    # bit 6\n",
      "#    if q2 < -.12:\n",
      "#        vec.append(-1)\n",
      "#    elif q2 > .12:\n",
      "#        vec.append(1)\n",
      "#    else:\n",
      "#        vec.append(0)\n",
      "#    #bit 7\n",
      "#    if q3 < -.12:\n",
      "#        vec.append(-1)\n",
      "#    elif q3 > .12:\n",
      "#        vec.append(1)\n",
      "#    else:\n",
      "#        vec.append(0)\n",
      "#    #bit 8\n",
      "#    if q4 < -.12:\n",
      "#        vec.append(-1)\n",
      "#    elif q4 > 1:\n",
      "#        vec.append(1)\n",
      "#    else:\n",
      "#        vec.append(0)\n",
      "    #bit 9\n",
      "    if starts_high(ratings, time) == True:\n",
      "        vec.append(1)\n",
      "    else:\n",
      "        vec.append(0)\n",
      "    #bit 10\n",
      "    vec.append(ratings[len(ratings)-1])\n",
      "    return vec\n",
      "        "
     ],
     "language": "python",
     "metadata": {},
     "outputs": [],
     "prompt_number": 9
    },
    {
     "cell_type": "code",
     "collapsed": false,
     "input": [
      "def dist_from_centroid(vec_list, centroid):\n",
      "    centroid = np.array(centroid)\n",
      "    dists = []\n",
      "    for vec in vec_list:\n",
      "        dist = np.linalg.norm(centroid - np.array(vec))\n",
      "        dists.append(dist)\n",
      "    return dists\n",
      "            \n",
      "    \n",
      "    "
     ],
     "language": "python",
     "metadata": {},
     "outputs": [],
     "prompt_number": 11
    },
    {
     "cell_type": "code",
     "collapsed": false,
     "input": [],
     "language": "python",
     "metadata": {},
     "outputs": [],
     "prompt_number": 11
    },
    {
     "cell_type": "code",
     "collapsed": false,
     "input": [
      "database = \"home_kitchen\"\n",
      "tablename = \"all_hk\"\n",
      "numids = 1000"
     ],
     "language": "python",
     "metadata": {},
     "outputs": [],
     "prompt_number": 12
    },
    {
     "cell_type": "code",
     "collapsed": false,
     "input": [
      "db = MySQLdb.connect(host=\"localhost\", user=\"root\", db = database)\n",
      "cursor = db.cursor()"
     ],
     "language": "python",
     "metadata": {},
     "outputs": [],
     "prompt_number": 13
    },
    {
     "cell_type": "code",
     "collapsed": false,
     "input": [
      "sql = \"Select PID from (SELECT distinct PID, count(*) as magnitude from \" + tablename + \" group by pid having magnitude > 100) as x limit \" +str(numids) +\";\"    "
     ],
     "language": "python",
     "metadata": {},
     "outputs": [],
     "prompt_number": 14
    },
    {
     "cell_type": "code",
     "collapsed": false,
     "input": [
      "cursor.execute(sql)"
     ],
     "language": "python",
     "metadata": {},
     "outputs": [
      {
       "metadata": {},
       "output_type": "pyout",
       "prompt_number": 15,
       "text": [
        "1000L"
       ]
      }
     ],
     "prompt_number": 15
    },
    {
     "cell_type": "code",
     "collapsed": false,
     "input": [
      "pids = cursor.fetchall()"
     ],
     "language": "python",
     "metadata": {},
     "outputs": [],
     "prompt_number": 16
    },
    {
     "cell_type": "code",
     "collapsed": false,
     "input": [
      "pids = tuple(x[0] for x in pids)"
     ],
     "language": "python",
     "metadata": {},
     "outputs": [],
     "prompt_number": 17
    },
    {
     "cell_type": "code",
     "collapsed": false,
     "input": [
      "vec_list = make_vec_list(pids)"
     ],
     "language": "python",
     "metadata": {},
     "outputs": [],
     "prompt_number": 21
    },
    {
     "cell_type": "code",
     "collapsed": false,
     "input": [
      "print vec_list"
     ],
     "language": "python",
     "metadata": {},
     "outputs": [
      {
       "ename": "NameError",
       "evalue": "name 'vec_list' is not defined",
       "output_type": "pyerr",
       "traceback": [
        "\u001b[0;31m---------------------------------------------------------------------------\u001b[0m\n\u001b[0;31mNameError\u001b[0m                                 Traceback (most recent call last)",
        "\u001b[0;32m<ipython-input-19-7aea40e40756>\u001b[0m in \u001b[0;36m<module>\u001b[0;34m()\u001b[0m\n\u001b[0;32m----> 1\u001b[0;31m \u001b[0;32mprint\u001b[0m \u001b[0mvec_list\u001b[0m\u001b[0;34m\u001b[0m\u001b[0m\n\u001b[0m",
        "\u001b[0;31mNameError\u001b[0m: name 'vec_list' is not defined"
       ]
      }
     ],
     "prompt_number": 19
    },
    {
     "cell_type": "code",
     "collapsed": false,
     "input": [
      "kmeans = KMeans(n_clusters = 8)\n",
      "kmeans.fit(vec_list)"
     ],
     "language": "python",
     "metadata": {},
     "outputs": [
      {
       "metadata": {},
       "output_type": "pyout",
       "prompt_number": 42,
       "text": [
        "KMeans(copy_x=True, init='k-means++', max_iter=300, n_clusters=8, n_init=10,\n",
        "    n_jobs=1, precompute_distances=True, random_state=None, tol=0.0001,\n",
        "    verbose=0)"
       ]
      }
     ],
     "prompt_number": 42
    },
    {
     "cell_type": "code",
     "collapsed": false,
     "input": [
      "centroids = kmeans.cluster_centers_"
     ],
     "language": "python",
     "metadata": {},
     "outputs": [],
     "prompt_number": 43
    },
    {
     "cell_type": "code",
     "collapsed": false,
     "input": [
      "labels = kmeans.labels_"
     ],
     "language": "python",
     "metadata": {},
     "outputs": [],
     "prompt_number": 68
    },
    {
     "cell_type": "code",
     "collapsed": false,
     "input": [
      "pp = PdfPages('cluster0.pdf')\n",
      "metadata = pp.infodict()\n",
      "metadata['Title'] = 'plots for cluster 0'"
     ],
     "language": "python",
     "metadata": {},
     "outputs": [],
     "prompt_number": 22
    },
    {
     "cell_type": "code",
     "collapsed": false,
     "input": [
      "pp = PdfPages('cluster1.pdf')\n",
      "metadata = pp.infodict()\n",
      "metadata['Title'] = 'plots for cluster 1'\n",
      "\n",
      "pp = PdfPages('cluster2.pdf')\n",
      "metadata = pp.infodict()\n",
      "metadata['Title'] = 'plots for cluster 1'\n",
      "\n",
      "pp = PdfPages('cluster3.pdf')\n",
      "metadata = pp.infodict()\n",
      "metadata['Title'] = 'plots for cluster'\n",
      "\n",
      "pp = PdfPages('cluster4.pdf')\n",
      "metadata = pp.infodict()\n",
      "metadata['Title'] = 'plots for cluster 0'\n",
      "\n",
      "pp = PdfPages('cluster5.pdf')\n",
      "metadata = pp.infodict()\n",
      "metadata['Title'] = 'plots for cluster 0'\n",
      "\n",
      "pp = PdfPages('cluster6.pdf')\n",
      "metadata = pp.infodict()\n",
      "metadata['Title'] = 'plots for cluster 0'\n",
      "\n",
      "pp = PdfPages('cluster7.pdf')\n",
      "metadata = pp.infodict()\n",
      "metadata['Title'] = 'plots for cluster 0'"
     ],
     "language": "python",
     "metadata": {},
     "outputs": [],
     "prompt_number": 23
    },
    {
     "cell_type": "code",
     "collapsed": false,
     "input": [],
     "language": "python",
     "metadata": {},
     "outputs": [],
     "prompt_number": 23
    },
    {
     "cell_type": "code",
     "collapsed": false,
     "input": [
      "for i in range(10):\n",
      "    fig = plt.figure(figsize=(10, 5), dpi=100)\n",
      "    ratings, time = get_data(pids[i], cursor, tablename)\n",
      "    dates = [dt.datetime.fromtimestamp(ts) for ts in time]\n",
      "    ratings = avg_rating(ratings)\n",
      "    filename = 'cluster' + str(labels[i]) + '.pdf'\n",
      "    plt.scatter(ratings, time)\n",
      "    plt.savefig(filename, format = 'pdf')\n"
     ],
     "language": "python",
     "metadata": {},
     "outputs": [
      {
       "ename": "NameError",
       "evalue": "name 'labels' is not defined",
       "output_type": "pyerr",
       "traceback": [
        "\u001b[0;31m---------------------------------------------------------------------------\u001b[0m\n\u001b[0;31mNameError\u001b[0m                                 Traceback (most recent call last)",
        "\u001b[0;32m<ipython-input-24-e08c31184b71>\u001b[0m in \u001b[0;36m<module>\u001b[0;34m()\u001b[0m\n\u001b[1;32m      4\u001b[0m     \u001b[0mdates\u001b[0m \u001b[0;34m=\u001b[0m \u001b[0;34m[\u001b[0m\u001b[0mdt\u001b[0m\u001b[0;34m.\u001b[0m\u001b[0mdatetime\u001b[0m\u001b[0;34m.\u001b[0m\u001b[0mfromtimestamp\u001b[0m\u001b[0;34m(\u001b[0m\u001b[0mts\u001b[0m\u001b[0;34m)\u001b[0m \u001b[0;32mfor\u001b[0m \u001b[0mts\u001b[0m \u001b[0;32min\u001b[0m \u001b[0mtime\u001b[0m\u001b[0;34m]\u001b[0m\u001b[0;34m\u001b[0m\u001b[0m\n\u001b[1;32m      5\u001b[0m     \u001b[0mratings\u001b[0m \u001b[0;34m=\u001b[0m \u001b[0mavg_rating\u001b[0m\u001b[0;34m(\u001b[0m\u001b[0mratings\u001b[0m\u001b[0;34m)\u001b[0m\u001b[0;34m\u001b[0m\u001b[0m\n\u001b[0;32m----> 6\u001b[0;31m     \u001b[0mfilename\u001b[0m \u001b[0;34m=\u001b[0m \u001b[0;34m'cluster'\u001b[0m \u001b[0;34m+\u001b[0m \u001b[0mstr\u001b[0m\u001b[0;34m(\u001b[0m\u001b[0mlabels\u001b[0m\u001b[0;34m[\u001b[0m\u001b[0mi\u001b[0m\u001b[0;34m]\u001b[0m\u001b[0;34m)\u001b[0m \u001b[0;34m+\u001b[0m \u001b[0;34m'.pdf'\u001b[0m\u001b[0;34m\u001b[0m\u001b[0m\n\u001b[0m\u001b[1;32m      7\u001b[0m     \u001b[0mplt\u001b[0m\u001b[0;34m.\u001b[0m\u001b[0mscatter\u001b[0m\u001b[0;34m(\u001b[0m\u001b[0mratings\u001b[0m\u001b[0;34m,\u001b[0m \u001b[0mtime\u001b[0m\u001b[0;34m)\u001b[0m\u001b[0;34m\u001b[0m\u001b[0m\n\u001b[1;32m      8\u001b[0m     \u001b[0mplt\u001b[0m\u001b[0;34m.\u001b[0m\u001b[0msavefig\u001b[0m\u001b[0;34m(\u001b[0m\u001b[0mfilename\u001b[0m\u001b[0;34m,\u001b[0m \u001b[0mformat\u001b[0m \u001b[0;34m=\u001b[0m \u001b[0;34m'pdf'\u001b[0m\u001b[0;34m)\u001b[0m\u001b[0;34m\u001b[0m\u001b[0m\n",
        "\u001b[0;31mNameError\u001b[0m: name 'labels' is not defined"
       ]
      }
     ],
     "prompt_number": 24
    },
    {
     "cell_type": "code",
     "collapsed": false,
     "input": [],
     "language": "python",
     "metadata": {},
     "outputs": []
    },
    {
     "cell_type": "code",
     "collapsed": false,
     "input": [],
     "language": "python",
     "metadata": {},
     "outputs": []
    },
    {
     "cell_type": "code",
     "collapsed": false,
     "input": [],
     "language": "python",
     "metadata": {},
     "outputs": []
    },
    {
     "cell_type": "code",
     "collapsed": false,
     "input": [],
     "language": "python",
     "metadata": {},
     "outputs": []
    },
    {
     "cell_type": "code",
     "collapsed": false,
     "input": [],
     "language": "python",
     "metadata": {},
     "outputs": []
    },
    {
     "cell_type": "code",
     "collapsed": false,
     "input": [],
     "language": "python",
     "metadata": {},
     "outputs": []
    },
    {
     "cell_type": "code",
     "collapsed": false,
     "input": [
      "print vec_list[0]"
     ],
     "language": "python",
     "metadata": {},
     "outputs": [
      {
       "output_type": "stream",
       "stream": "stdout",
       "text": [
        "[1, 0, 0, 0, -2.5726219308804565, 0.16669276338108985, 0.40647172993095526, -0.021361018774286387, 1, 2.4055299539170507]\n"
       ]
      }
     ],
     "prompt_number": 46
    },
    {
     "cell_type": "code",
     "collapsed": false,
     "input": [
      "min_dist = np.linalg.norm(np.array(centroids[0]) - np.array(vec_list[0]))"
     ],
     "language": "python",
     "metadata": {},
     "outputs": [],
     "prompt_number": 48
    },
    {
     "cell_type": "code",
     "collapsed": false,
     "input": [
      "dists0 = dist_from_centroid(vec_list, centroids[0])"
     ],
     "language": "python",
     "metadata": {},
     "outputs": [],
     "prompt_number": 55
    },
    {
     "cell_type": "code",
     "collapsed": false,
     "input": [
      "rep = 0\n",
      "for i in range(len(dists0)):\n",
      "    if dists0[i] == min(dists0):\n",
      "        rep = i\n",
      "        print i"
     ],
     "language": "python",
     "metadata": {},
     "outputs": [
      {
       "output_type": "stream",
       "stream": "stdout",
       "text": [
        "52\n"
       ]
      }
     ],
     "prompt_number": 63
    },
    {
     "cell_type": "code",
     "collapsed": false,
     "input": [
      "ratings, time = get_data(pids[i], cursor, tablename)"
     ],
     "language": "python",
     "metadata": {},
     "outputs": [],
     "prompt_number": 64
    },
    {
     "cell_type": "code",
     "collapsed": false,
     "input": [
      "dates = [dt.datetime.fromtimestamp(ts) for ts in time]"
     ],
     "language": "python",
     "metadata": {},
     "outputs": [],
     "prompt_number": 65
    },
    {
     "cell_type": "code",
     "collapsed": false,
     "input": [
      "ratings = avg_rating(ratings)"
     ],
     "language": "python",
     "metadata": {},
     "outputs": [],
     "prompt_number": 66
    },
    {
     "cell_type": "code",
     "collapsed": false,
     "input": [
      "plt.scatter(dates, ratings)"
     ],
     "language": "python",
     "metadata": {},
     "outputs": [
      {
       "metadata": {},
       "output_type": "pyout",
       "prompt_number": 67,
       "text": [
        "<matplotlib.collections.PathCollection at 0x10aa4d8d0>"
       ]
      },
      {
       "metadata": {},
       "output_type": "display_data",
       "png": "[encoded data removed]",
       "text": [
        "<matplotlib.figure.Figure at 0x10aa04f50>"
       ]
      }
     ],
     "prompt_number": 67
    },
    {
     "cell_type": "code",
     "collapsed": false,
     "input": [
      "################ copied code I want to refer to later ##################"
     ],
     "language": "python",
     "metadata": {},
     "outputs": []
    },
    {
     "cell_type": "code",
     "collapsed": false,
     "input": [
      "dates=[dt.datetime.fromtimestamp(ts) for ts in time_test]"
     ],
     "language": "python",
     "metadata": {},
     "outputs": [],
     "prompt_number": 265
    },
    {
     "cell_type": "code",
     "collapsed": false,
     "input": [
      "plt.scatter(dates, rating_test)"
     ],
     "language": "python",
     "metadata": {},
     "outputs": [
      {
       "metadata": {},
       "output_type": "pyout",
       "prompt_number": 266,
       "text": [
        "<matplotlib.collections.PathCollection at 0x10f689e50>"
       ]
      },
      {
       "metadata": {},
       "output_type": "display_data",
       "png": "[encoded data removed]",
       "text": [
        "<matplotlib.figure.Figure at 0x10a158490>"
       ]
      }
     ],
     "prompt_number": 266
    },
    {
     "cell_type": "code",
     "collapsed": false,
     "input": [],
     "language": "python",
     "metadata": {},
     "outputs": [],
     "prompt_number": 119
    }
   ],
   "metadata": {}
  }
 ]
}