{
 "metadata": {
  "name": "",
  "signature": "sha256:3b47ef8b8f2a67aa9aa04ee5b0704ef9963d69da5f21ced578bc7ff43e699369"
 },
 "nbformat": 3,
 "nbformat_minor": 0,
 "worksheets": [
  {
   "cells": [
    {
     "cell_type": "code",
     "collapsed": false,
     "input": [
      "import MySQLdb"
     ],
     "language": "python",
     "metadata": {},
     "outputs": [],
     "prompt_number": 1
    },
    {
     "cell_type": "code",
     "collapsed": false,
     "input": [
      "f = open('Reviews_Data/are_you_scammers.txt', 'w')"
     ],
     "language": "python",
     "metadata": {},
     "outputs": [],
     "prompt_number": 10
    },
    {
     "cell_type": "code",
     "collapsed": false,
     "input": [
      "def Jaccard (user_one, user_two, tablename, cursor):\n",
      "    intersect = 0\n",
      "    user_one = '\"' + user_one + '\"'\n",
      "    user_two = '\"' + user_two + '\"'\n",
      "    \n",
      "    #get product ids of products a user reviewed\n",
      "    #note when/if i remake data tables, this is how to get rid of duplicates:\n",
      "    cursor.execute(\"SELECT distinct PID FROM \"+tablename+\" WHERE RUserID = \" + user_one  + \" GROUP BY RText;\")\n",
      "    prods_one = cursor.fetchall()\n",
      "    \n",
      "    \n",
      "    cursor.execute(\"SELECT distinct PID FROM \"+ tablename+\" WHERE RUserID = \" + user_two + \" Group BY RText;\")\n",
      "    prods_two = cursor.fetchall()\n",
      "    #print prods_two\n",
      "    \n",
      "    #check all their products reviewed, pairwise, to see if they reviewed the same stuff. \n",
      "    if min(len(prods_one), len(prods_two))>5:  #need to have both reviewed at least 5 distinct things\n",
      "        for i in range(len(prods_one)):\n",
      "            for j in range(len(prods_two)):\n",
      "                if prods_one[i] == prods_two[j]:\n",
      "                    intersect += 1\n",
      "            \n",
      "    #print intersect\n",
      "    #print len(prods_one) + len(prods_two)\n",
      "    return float(intersect)/float((len(prods_one) + len(prods_two)))"
     ],
     "language": "python",
     "metadata": {},
     "outputs": [],
     "prompt_number": 11
    },
    {
     "cell_type": "code",
     "collapsed": false,
     "input": [
      "db = MySQLdb.connect(host=\"localhost\", user=\"root\", db = \"home_kitchen\")"
     ],
     "language": "python",
     "metadata": {},
     "outputs": [],
     "prompt_number": 12
    },
    {
     "cell_type": "code",
     "collapsed": false,
     "input": [
      "tablename = 'all_hk'"
     ],
     "language": "python",
     "metadata": {},
     "outputs": [],
     "prompt_number": 13
    },
    {
     "cell_type": "code",
     "collapsed": false,
     "input": [
      "cursor = db.cursor()"
     ],
     "language": "python",
     "metadata": {},
     "outputs": [],
     "prompt_number": 14
    },
    {
     "cell_type": "code",
     "collapsed": false,
     "input": [
      "cursor.execute(\"SELECT DISTINCT PTitle, PID, COUNT(PTitle) AS CNT FROM \"+tablename+\" GROUP BY PTitle HAVING CNT< 100\")"
     ],
     "language": "python",
     "metadata": {},
     "outputs": [
      {
       "metadata": {},
       "output_type": "pyout",
       "prompt_number": 15,
       "text": [
        "71807L"
       ]
      }
     ],
     "prompt_number": 15
    },
    {
     "cell_type": "code",
     "collapsed": false,
     "input": [
      "prod_list = cursor.fetchall()\n",
      "prod_list = tuple(x[0] for x in prod_list)\n",
      "prod_list = [x.replace('\"', \"'\") for x in prod_list]\n",
      "max_jac = 0"
     ],
     "language": "python",
     "metadata": {},
     "outputs": [],
     "prompt_number": 16
    },
    {
     "cell_type": "code",
     "collapsed": false,
     "input": [
      "for k in range(len(prod_list)):\n",
      "    #if k % 20 == 0:\n",
      "        #print \"I'm doing something! k is \" + str(k)\n",
      "    cursor.execute(\"SELECT RuserID FROM \"+tablename+\" WHERE PTitle = \" +'\"'+ prod_list[k] +'\"'+ \";\")\n",
      "    user_list = cursor.fetchall()\n",
      "    user_list = tuple(x[0] for x in user_list)\n",
      "    #print \"product : \", prod_list[k], \"users: \", user_list, \"\\n\"\n",
      "    if 1<len(user_list)<25: #just to make the computation not super-long. \n",
      "        for i in range(len(user_list)):\n",
      "            for j in range(i+1, len(user_list)):\n",
      "                if(user_list[i]!=user_list[j]):\n",
      "                    jac = Jaccard(user_list[i], user_list[j], tablename, cursor)\n",
      "                    #print \"Jaccard of \", user_list[i], user_list[j], \" is: \", jac, \" and max_jac is currently \", max_jac\n",
      "                    if jac > min(max_jac, .1):\n",
      "                        outputstring = \"Jaccard of \" + str(user_list[i]) +\" \" +  str(user_list[j]) + \" is: \" + str(jac)+ \" and product is \" + str(prod_list[k])+ \"\\n\"    \n",
      "                        f.write(outputstring)\n",
      "                        cursor.execute(\"SELECT distinct PID, Ptitle FROM \"+tablename+\" WHERE RUserID = \" + '\"' + str(user_list[i]) + '\"'  + \" Group BY RText;\")\n",
      "                        prods_one = cursor.fetchall()\n",
      "                        cursor.execute(\"SELECT distinct PID, PTitle FROM \"+tablename+\" WHERE RUserID = \" + '\"' + str(user_list[j]) + '\"'  + \" Group BY RText;\")\n",
      "                        prods_two = cursor.fetchall()\n",
      "                        prodstring =  \"products : \"+ str(prods_one)+ \" \\n \" + str(prods_two)+ \"\\n\"\n",
      "                        if jac > max_jac:\n",
      "                            max_jac = jac\n",
      "                            print \"Biggest jaccard similarity so far is: \", jac, \" on users \", user_list[i], \" \", user_list[j], \"\\n\"\n",
      "                            print prodstring"
     ],
     "language": "python",
     "metadata": {},
     "outputs": [
      {
       "output_type": "stream",
       "stream": "stderr",
       "text": [
        "Exception _mysql_exceptions.ProgrammingError: (2014, \"Commands out of sync; you can't run this command now\") in <bound method Cursor.__del__ of <MySQLdb.cursors.Cursor object at 0x100efe310>> ignored\n"
       ]
      },
      {
       "ename": "KeyboardInterrupt",
       "evalue": "",
       "output_type": "pyerr",
       "traceback": [
        "\u001b[0;31m---------------------------------------------------------------------------\u001b[0m\n\u001b[0;31mKeyboardInterrupt\u001b[0m                         Traceback (most recent call last)",
        "\u001b[0;32m<ipython-input-17-06fa730f6d75>\u001b[0m in \u001b[0;36m<module>\u001b[0;34m()\u001b[0m\n\u001b[1;32m     10\u001b[0m             \u001b[0;32mfor\u001b[0m \u001b[0mj\u001b[0m \u001b[0;32min\u001b[0m \u001b[0mrange\u001b[0m\u001b[0;34m(\u001b[0m\u001b[0mi\u001b[0m\u001b[0;34m+\u001b[0m\u001b[0;36m1\u001b[0m\u001b[0;34m,\u001b[0m \u001b[0mlen\u001b[0m\u001b[0;34m(\u001b[0m\u001b[0muser_list\u001b[0m\u001b[0;34m)\u001b[0m\u001b[0;34m)\u001b[0m\u001b[0;34m:\u001b[0m\u001b[0;34m\u001b[0m\u001b[0m\n\u001b[1;32m     11\u001b[0m                 \u001b[0;32mif\u001b[0m\u001b[0;34m(\u001b[0m\u001b[0muser_list\u001b[0m\u001b[0;34m[\u001b[0m\u001b[0mi\u001b[0m\u001b[0;34m]\u001b[0m\u001b[0;34m!=\u001b[0m\u001b[0muser_list\u001b[0m\u001b[0;34m[\u001b[0m\u001b[0mj\u001b[0m\u001b[0;34m]\u001b[0m\u001b[0;34m)\u001b[0m\u001b[0;34m:\u001b[0m\u001b[0;34m\u001b[0m\u001b[0m\n\u001b[0;32m---> 12\u001b[0;31m                     \u001b[0mjac\u001b[0m \u001b[0;34m=\u001b[0m \u001b[0mJaccard\u001b[0m\u001b[0;34m(\u001b[0m\u001b[0muser_list\u001b[0m\u001b[0;34m[\u001b[0m\u001b[0mi\u001b[0m\u001b[0;34m]\u001b[0m\u001b[0;34m,\u001b[0m \u001b[0muser_list\u001b[0m\u001b[0;34m[\u001b[0m\u001b[0mj\u001b[0m\u001b[0;34m]\u001b[0m\u001b[0;34m,\u001b[0m \u001b[0mtablename\u001b[0m\u001b[0;34m,\u001b[0m \u001b[0mcursor\u001b[0m\u001b[0;34m)\u001b[0m\u001b[0;34m\u001b[0m\u001b[0m\n\u001b[0m\u001b[1;32m     13\u001b[0m                     \u001b[0;31m#print \"Jaccard of \", user_list[i], user_list[j], \" is: \", jac, \" and max_jac is currently \", max_jac\u001b[0m\u001b[0;34m\u001b[0m\u001b[0;34m\u001b[0m\u001b[0m\n\u001b[1;32m     14\u001b[0m                     \u001b[0;32mif\u001b[0m \u001b[0mjac\u001b[0m \u001b[0;34m>\u001b[0m \u001b[0mmin\u001b[0m\u001b[0;34m(\u001b[0m\u001b[0mmax_jac\u001b[0m\u001b[0;34m,\u001b[0m \u001b[0;36m.1\u001b[0m\u001b[0;34m)\u001b[0m\u001b[0;34m:\u001b[0m\u001b[0;34m\u001b[0m\u001b[0m\n",
        "\u001b[0;32m<ipython-input-11-abfea1033b09>\u001b[0m in \u001b[0;36mJaccard\u001b[0;34m(user_one, user_two, tablename, cursor)\u001b[0m\n\u001b[1;32m      6\u001b[0m     \u001b[0;31m#get product ids of products a user reviewed\u001b[0m\u001b[0;34m\u001b[0m\u001b[0;34m\u001b[0m\u001b[0m\n\u001b[1;32m      7\u001b[0m     \u001b[0;31m#note when/if i remake data tables, this is how to get rid of duplicates:\u001b[0m\u001b[0;34m\u001b[0m\u001b[0;34m\u001b[0m\u001b[0m\n\u001b[0;32m----> 8\u001b[0;31m     \u001b[0mcursor\u001b[0m\u001b[0;34m.\u001b[0m\u001b[0mexecute\u001b[0m\u001b[0;34m(\u001b[0m\u001b[0;34m\"SELECT distinct PID FROM \"\u001b[0m\u001b[0;34m+\u001b[0m\u001b[0mtablename\u001b[0m\u001b[0;34m+\u001b[0m\u001b[0;34m\" WHERE RUserID = \"\u001b[0m \u001b[0;34m+\u001b[0m \u001b[0muser_one\u001b[0m  \u001b[0;34m+\u001b[0m \u001b[0;34m\" GROUP BY RText;\"\u001b[0m\u001b[0;34m)\u001b[0m\u001b[0;34m\u001b[0m\u001b[0m\n\u001b[0m\u001b[1;32m      9\u001b[0m     \u001b[0mprods_one\u001b[0m \u001b[0;34m=\u001b[0m \u001b[0mcursor\u001b[0m\u001b[0;34m.\u001b[0m\u001b[0mfetchall\u001b[0m\u001b[0;34m(\u001b[0m\u001b[0;34m)\u001b[0m\u001b[0;34m\u001b[0m\u001b[0m\n\u001b[1;32m     10\u001b[0m \u001b[0;34m\u001b[0m\u001b[0m\n",
        "\u001b[0;32m/Users/kelty/Desktop/Amazon-Review-Project/venv/lib/python2.7/site-packages/MySQLdb/cursors.pyc\u001b[0m in \u001b[0;36mexecute\u001b[0;34m(self, query, args)\u001b[0m\n\u001b[1;32m    188\u001b[0m         \u001b[0;32mtry\u001b[0m\u001b[0;34m:\u001b[0m\u001b[0;34m\u001b[0m\u001b[0m\n\u001b[1;32m    189\u001b[0m             \u001b[0mr\u001b[0m \u001b[0;34m=\u001b[0m \u001b[0mNone\u001b[0m\u001b[0;34m\u001b[0m\u001b[0m\n\u001b[0;32m--> 190\u001b[0;31m             \u001b[0mr\u001b[0m \u001b[0;34m=\u001b[0m \u001b[0mself\u001b[0m\u001b[0;34m.\u001b[0m\u001b[0m_query\u001b[0m\u001b[0;34m(\u001b[0m\u001b[0mquery\u001b[0m\u001b[0;34m)\u001b[0m\u001b[0;34m\u001b[0m\u001b[0m\n\u001b[0m\u001b[1;32m    191\u001b[0m         \u001b[0;32mexcept\u001b[0m \u001b[0mTypeError\u001b[0m\u001b[0;34m,\u001b[0m \u001b[0mm\u001b[0m\u001b[0;34m:\u001b[0m\u001b[0;34m\u001b[0m\u001b[0m\n\u001b[1;32m    192\u001b[0m             if m.args[0] in (\"not enough arguments for format string\",\n",
        "\u001b[0;32m/Users/kelty/Desktop/Amazon-Review-Project/venv/lib/python2.7/site-packages/MySQLdb/cursors.pyc\u001b[0m in \u001b[0;36m_query\u001b[0;34m(self, q)\u001b[0m\n\u001b[1;32m    352\u001b[0m \u001b[0;34m\u001b[0m\u001b[0m\n\u001b[1;32m    353\u001b[0m     \u001b[0;32mdef\u001b[0m \u001b[0m_query\u001b[0m\u001b[0;34m(\u001b[0m\u001b[0mself\u001b[0m\u001b[0;34m,\u001b[0m \u001b[0mq\u001b[0m\u001b[0;34m)\u001b[0m\u001b[0;34m:\u001b[0m\u001b[0;34m\u001b[0m\u001b[0m\n\u001b[0;32m--> 354\u001b[0;31m         \u001b[0mrowcount\u001b[0m \u001b[0;34m=\u001b[0m \u001b[0mself\u001b[0m\u001b[0;34m.\u001b[0m\u001b[0m_do_query\u001b[0m\u001b[0;34m(\u001b[0m\u001b[0mq\u001b[0m\u001b[0;34m)\u001b[0m\u001b[0;34m\u001b[0m\u001b[0m\n\u001b[0m\u001b[1;32m    355\u001b[0m         \u001b[0mself\u001b[0m\u001b[0;34m.\u001b[0m\u001b[0m_post_get_result\u001b[0m\u001b[0;34m(\u001b[0m\u001b[0;34m)\u001b[0m\u001b[0;34m\u001b[0m\u001b[0m\n\u001b[1;32m    356\u001b[0m         \u001b[0;32mreturn\u001b[0m \u001b[0mrowcount\u001b[0m\u001b[0;34m\u001b[0m\u001b[0m\n",
        "\u001b[0;32m/Users/kelty/Desktop/Amazon-Review-Project/venv/lib/python2.7/site-packages/MySQLdb/cursors.pyc\u001b[0m in \u001b[0;36m_do_query\u001b[0;34m(self, q)\u001b[0m\n\u001b[1;32m    316\u001b[0m         \u001b[0mdb\u001b[0m \u001b[0;34m=\u001b[0m \u001b[0mself\u001b[0m\u001b[0;34m.\u001b[0m\u001b[0m_get_db\u001b[0m\u001b[0;34m(\u001b[0m\u001b[0;34m)\u001b[0m\u001b[0;34m\u001b[0m\u001b[0m\n\u001b[1;32m    317\u001b[0m         \u001b[0mself\u001b[0m\u001b[0;34m.\u001b[0m\u001b[0m_last_executed\u001b[0m \u001b[0;34m=\u001b[0m \u001b[0mq\u001b[0m\u001b[0;34m\u001b[0m\u001b[0m\n\u001b[0;32m--> 318\u001b[0;31m         \u001b[0mdb\u001b[0m\u001b[0;34m.\u001b[0m\u001b[0mquery\u001b[0m\u001b[0;34m(\u001b[0m\u001b[0mq\u001b[0m\u001b[0;34m)\u001b[0m\u001b[0;34m\u001b[0m\u001b[0m\n\u001b[0m\u001b[1;32m    319\u001b[0m         \u001b[0mself\u001b[0m\u001b[0;34m.\u001b[0m\u001b[0m_do_get_result\u001b[0m\u001b[0;34m(\u001b[0m\u001b[0;34m)\u001b[0m\u001b[0;34m\u001b[0m\u001b[0m\n\u001b[1;32m    320\u001b[0m         \u001b[0;32mreturn\u001b[0m \u001b[0mself\u001b[0m\u001b[0;34m.\u001b[0m\u001b[0mrowcount\u001b[0m\u001b[0;34m\u001b[0m\u001b[0m\n",
        "\u001b[0;31mKeyboardInterrupt\u001b[0m: "
       ]
      }
     ],
     "prompt_number": 17
    },
    {
     "cell_type": "code",
     "collapsed": false,
     "input": [
      "db.close()"
     ],
     "language": "python",
     "metadata": {},
     "outputs": [],
     "prompt_number": 122
    },
    {
     "cell_type": "code",
     "collapsed": false,
     "input": [],
     "language": "python",
     "metadata": {},
     "outputs": []
    }
   ],
   "metadata": {}
  }
 ]
}