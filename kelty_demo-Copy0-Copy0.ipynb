{
 "metadata": {
  "name": "",
  "signature": "sha256:ad8be7a97b6501994aba6e10d3a3ac63150e3eeb148c01bca1df680034df24e6"
 },
 "nbformat": 3,
 "nbformat_minor": 0,
 "worksheets": [
  {
   "cells": [
    {
     "cell_type": "code",
     "collapsed": false,
     "input": [
      "import argparse\n",
      "import numpy as np\n",
      "import matplotlib as mpl\n",
      "\n",
      "import matplotlib.pyplot as plt\n",
      "from BayesianBlocks import bayesian_blocks\n",
      "import MySQLdb\n",
      "import datetime as dt\n",
      "%matplotlib inline"
     ],
     "language": "python",
     "metadata": {},
     "outputs": [],
     "prompt_number": 1
    },
    {
     "cell_type": "code",
     "collapsed": false,
     "input": [
      "def rolling_avg_rating(rating):\n",
      "    limited_avg = [0]*len(rating)\n",
      "    limited_avg[0] = float(rating[0])\n",
      "    for k in range(1, len(rating)):\n",
      "        if k<20:\n",
      "            limited_avg[k]= float(np.mean(rating[:k]))\n",
      "        else:\n",
      "            limited_avg[k]=float(np.mean(rating[k-20:k]))\n",
      "    return limited_avg"
     ],
     "language": "python",
     "metadata": {},
     "outputs": [],
     "prompt_number": 26
    },
    {
     "cell_type": "code",
     "collapsed": false,
     "input": [
      "def avg_rating(rating):\n",
      "    avg = [0]*len(rating)\n",
      "    avg[0] = float(rating[0])\n",
      "    for k in range(1, len(rating)):\n",
      "        avg[k]= float(np.mean(rating[:k]))\n",
      "    return avg"
     ],
     "language": "python",
     "metadata": {},
     "outputs": [],
     "prompt_number": 2
    },
    {
     "cell_type": "code",
     "collapsed": false,
     "input": [
      "def cuts_out_repeats(x, y):\n",
      "    hold = x[0]\n",
      "    xnew = []\n",
      "    ynew = []\n",
      "    for i in range(1,len(x)):\n",
      "        if x[i] == hold:\n",
      "            pass\n",
      "        else:\n",
      "            xnew.append(x[i]/1000)\n",
      "            ynew.append(y[i])\n",
      "            hold = x[i]\n",
      "    return xnew, ynew\n",
      "            "
     ],
     "language": "python",
     "metadata": {},
     "outputs": [],
     "prompt_number": 3
    },
    {
     "cell_type": "code",
     "collapsed": false,
     "input": [
      "def get_data(PID, cursor, tablename):\n",
      "    sql = \"Select RTime, RScore From \" +tablename + \" Where PID = \" + '\"' + PID +'\";'\n",
      "    cursor.execute(sql)\n",
      "    data = cursor.fetchall()\n",
      "    data = sorted(data)\n",
      "    rating = np.array(zip(*data)[1], dtype = int)\n",
      "    time = np.array(zip(*data)[0], dtype = float)\n",
      "    dates=[dt.datetime.fromtimestamp(ts) for ts in time]\n",
      "    return rating, time, dates"
     ],
     "language": "python",
     "metadata": {},
     "outputs": [],
     "prompt_number": 4
    },
    {
     "cell_type": "code",
     "collapsed": false,
     "input": [
      "PIDlist = [' B0000X7CMQ', ' B0000E2PEI', ' B000GTR2F6', ' B000AQSMPO', ' B00005MF9C', ' B0000E2PEI', ' B0006SFFAQ', ' B00005AQ9Q', ' B00005R19P', ' B000FFQ554', ' B0006ZUHR0']"
     ],
     "language": "python",
     "metadata": {},
     "outputs": [],
     "prompt_number": 14
    },
    {
     "cell_type": "code",
     "collapsed": false,
     "input": [
      "db = MySQLdb.connect(host=\"localhost\", user=\"root\", db = \"home_kitchen\")\n",
      "cursor = db.cursor()"
     ],
     "language": "python",
     "metadata": {},
     "outputs": [],
     "prompt_number": 15
    },
    {
     "cell_type": "code",
     "collapsed": false,
     "input": [
      "tablename = 'all_hk'\n",
      "pid1 = PIDlist[0]\n",
      "pid2 = PIDlist[1]\n",
      "pid3 = PIDlist[2]"
     ],
     "language": "python",
     "metadata": {},
     "outputs": [],
     "prompt_number": 16
    },
    {
     "cell_type": "code",
     "collapsed": false,
     "input": [
      "r1, t1, d1 = get_data(pid1, cursor, tablename)\n",
      "r2, t2, d2 = get_data(pid2, cursor, tablename)\n",
      "r3, t3, d3 = get_data(pid3, cursor, tablename)"
     ],
     "language": "python",
     "metadata": {},
     "outputs": [],
     "prompt_number": 17
    },
    {
     "cell_type": "code",
     "collapsed": false,
     "input": [
      "x = np.array(t2)\n",
      "y = np.array(r2)\n",
      "xnew, ynew = cuts_out_repeats(x, y)\n",
      "x = xnew\n",
      "y = ynew\n",
      "y = \n",
      "modulo = len(x)%10\n",
      "\n",
      "x = x[:len(x)-modulo]\n",
      "y = y[:len(y)-modulo]\n",
      "\n",
      "x = np.array(x)\n",
      "y = np.array(y)\n",
      "\n",
      "print len(x), '   ', x[:10]\n",
      "print len(y), '   ', y[:10]\n",
      "#sampleSize = 100\n",
      "windowSize = len(x)/10\n",
      "\n",
      "\n",
      "#gauss = lambda x,u,s: np.exp(-0.5*((x-u)/s)**2)\n",
      "\n",
      "#np.random.seed(1)\n",
      "#x = np.arange(1, sampleSize+1, dtype=float)\n",
      "#y = np.round(10 + 2*np.sin(x/250) + 8*gauss(x, 700, 15) + \n",
      "             #15*gauss(x, 760, 30) +\n",
      "             #2*np.random.randn(sampleSize))\n",
      "\n",
      "# Sliding-window Bayesian blocks\n",
      "# 1) Given a window size, find edges\n",
      "# 2) Slide window to second edge, which is either a changepoint or the end of\n",
      "#    the first window\n",
      "# 3) End when reaching the end of the data stream\n",
      "n = len(y)\n",
      "xm = []\n",
      "ym = []\n",
      "i = 0\n",
      "while True:\n",
      "    j = min(i + windowSize, n)\n",
      "    e = bayesian_blocks(x[i:j], y[i:j], p0=1e-4)\n",
      "    print(e)\n",
      "\n",
      "    xm += [e[0], e[1]]\n",
      "    select = np.logical_and(x>=e[0], x<=e[1])\n",
      "    #print selct\n",
      "    yavg = np.average(y[select])\n",
      "    ym += [yavg, yavg]\n",
      "    i = np.searchsorted(x, e[1])\n",
      "\n",
      "    if j == n and len(e) == 2:\n",
      "        break"
     ],
     "language": "python",
     "metadata": {},
     "outputs": [
      {
       "output_type": "stream",
       "stream": "stdout",
       "text": [
        "430     [ 1111968.   1113177.6  1119484.8  1136592.   1143763.2  1143936.\n",
        "  1155859.2  1167091.2  1170720.   1175385.6]\n",
        "430     [2 2 5 1 1 5 5 4 4 2]\n",
        "[ 1111968.   1264939.2  1269475.2]\n",
        "[ 1265241.6  1272240. ]\n",
        "[ 1272240.   1285027.2]\n",
        "[ 1285027.2  1296086.4]\n",
        "[ 1296086.4  1310428.8]\n",
        "[ 1310428.8  1319328. ]\n",
        "[ 1319328.   1329436.8]\n",
        "[ 1329436.8  1339545.6]\n",
        "[ 1339545.6  1349654.4]\n",
        "[ 1349654.4  1355961.6]\n",
        "[ 1355961.6  1360108.8]\n"
       ]
      }
     ],
     "prompt_number": 21
    },
    {
     "cell_type": "code",
     "collapsed": false,
     "input": [
      "# Full-sample Bayesian blocks\n",
      "edges = bayesian_blocks(x, y, p0=1e-4)\n",
      "yavg = []\n",
      "for i in range(len(edges)-1):\n",
      "    select = np.logical_and(x >= edges[i], x <= edges[i+1])\n",
      "    if np.any(select):\n",
      "        yavg.append(np.average(y[select]))\n",
      "yavg.append(yavg[-1])"
     ],
     "language": "python",
     "metadata": {},
     "outputs": [],
     "prompt_number": 22
    },
    {
     "cell_type": "code",
     "collapsed": false,
     "input": [
      "mpl.rc(\"font\", family=\"serif\", size=14)\n",
      "\n",
      "fig = plt.figure(1, figsize=(10,5))\n",
      "ax = fig.add_subplot(111)\n",
      "ax.plot(x, y, 'o', alpha=0.5, label=\"data\")\n",
      "ax.plot(edges[:len(yavg)], yavg, lw=2, drawstyle=\"steps-post\", color=\"black\",\n",
      "        alpha=0.7, label=\"Bayesian Blocks (full sample)\")\n",
      "ax.plot(xm, ym, lw=2, drawstyle=\"steps-post\", color=\"red\",\n",
      "        alpha=0.7, label=\"Bayesian Blocks (sliding window: %d)\" % windowSize)\n",
      "ax.set_ylim([0, 1.5*max(y)])\n",
      "ax.set_xlabel(r\"$x$\")\n",
      "ax.set_ylabel(r\"$y$\")\n",
      "\n",
      "h, l = ax.get_legend_handles_labels()\n",
      "leg = ax.legend(h, l, loc=1, prop={\"size\":10})\n",
      "leg.get_frame().set_linewidth(0)\n",
      "\n",
      "#fig.tight_layout()\n",
      "\n",
      "plt.show()"
     ],
     "language": "python",
     "metadata": {},
     "outputs": [
      {
       "metadata": {},
       "output_type": "display_data",
       "png": "[encoded data removed]",
       "text": [
        "<matplotlib.figure.Figure at 0x10c45b510>"
       ]
      }
     ],
     "prompt_number": 23
    },
    {
     "cell_type": "code",
     "collapsed": false,
     "input": [
      "avg = avg_rating(y)"
     ],
     "language": "python",
     "metadata": {},
     "outputs": [],
     "prompt_number": 24
    },
    {
     "cell_type": "code",
     "collapsed": false,
     "input": [
      "plt.scatter(x, avg)"
     ],
     "language": "python",
     "metadata": {},
     "outputs": [
      {
       "metadata": {},
       "output_type": "pyout",
       "prompt_number": 25,
       "text": [
        "<matplotlib.collections.PathCollection at 0x10c449b90>"
       ]
      },
      {
       "metadata": {},
       "output_type": "display_data",
       "png": "[encoded data removed]",
       "text": [
        "<matplotlib.figure.Figure at 0x10c3ac090>"
       ]
      }
     ],
     "prompt_number": 25
    },
    {
     "cell_type": "code",
     "collapsed": false,
     "input": [],
     "language": "python",
     "metadata": {},
     "outputs": []
    }
   ],
   "metadata": {}
  }
 ]
}