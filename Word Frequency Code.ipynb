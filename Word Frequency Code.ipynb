{
 "metadata": {
  "name": "",
  "signature": "sha256:2cb13155c6f324128ebfe5a346c88d65c05d42dae758ab8a0cf288eb0dac7434"
 },
 "nbformat": 3,
 "nbformat_minor": 0,
 "worksheets": [
  {
   "cells": [
    {
     "cell_type": "code",
     "collapsed": false,
     "input": [
      "import nltk\n",
      "from nltk.collocations import *\n",
      "import string\n",
      "import MySQLdb\n",
      "from collections import Counter\n",
      "from nltk.corpus import stopwords\n",
      "import numpy as np\n",
      "from nltk.stem.porter import *\n",
      "from Queue import PriorityQueue\n",
      "import datetime as dt\n",
      "import heapq\n",
      "bigram_measures = nltk.collocations.BigramAssocMeasures()\n",
      "trigram_measures = nltk.collocations.TrigramAssocMeasures()"
     ],
     "language": "python",
     "metadata": {},
     "outputs": [],
     "prompt_number": 84
    },
    {
     "cell_type": "code",
     "collapsed": false,
     "input": [
      "def avg_rating(rating):\n",
      "    avg = [0]*len(rating)\n",
      "    avg[0] = float(rating[0])\n",
      "    for k in range(1, len(rating)):\n",
      "        avg[k]= float(np.mean(rating[:k]))\n",
      "    return avg"
     ],
     "language": "python",
     "metadata": {},
     "outputs": [],
     "prompt_number": 85
    },
    {
     "cell_type": "code",
     "collapsed": false,
     "input": [
      "def first_pop_time(time): \n",
      "    firstpopmin = time[0]\n",
      "    firstpopmax = time[len(time)-1]\n",
      "    slidermin = 0\n",
      "    slidersize = max(int(len(time)/4), 4)\n",
      "    avtime = (time[len(time)-1] - time[0])/len(time)\n",
      "    for i in range(slidersize, len(time)): #i marks the end of the slider\n",
      "        windowsize = time[i] - time[i - slidersize]\n",
      "        if windowsize < ((time[len(time)-1] - time[0])/4) and (time[i-slidersize]-time[i - slidersize - 3]) < 3*avtime:   \n",
      "            firstpopmax = time[i]\n",
      "            firstpopmin = time[i - slidersize]\n",
      "            break;\n",
      "    #dates=[dt.datetime.fromtimestamp(ts) for ts in time]\n",
      "    print dt.datetime.fromtimestamp(firstpopmin), dt.datetime.fromtimestamp(firstpopmax)\n",
      "    return firstpopmin, firstpopmax"
     ],
     "language": "python",
     "metadata": {},
     "outputs": [],
     "prompt_number": 86
    },
    {
     "cell_type": "code",
     "collapsed": false,
     "input": [
      "#returns ratings and time for a given pid in tablename with cursor pointing toward the database\n",
      "def get_data(PID, cursor, tablename):\n",
      "    sql = \"Select RTime, RScore From \" +tablename + \" Where PID = \" + '\"' + PID +'\";'\n",
      "    cursor.execute(sql)\n",
      "    data = cursor.fetchall()\n",
      "    data = sorted(data)\n",
      "    rating = np.array(zip(*data)[1], dtype = int)\n",
      "    time = np.array(zip(*data)[0], dtype = float)\n",
      "    #dates=[dt.datetime.fromtimestamp(ts) for ts in time]\n",
      "    return rating, time#, dates"
     ],
     "language": "python",
     "metadata": {},
     "outputs": [],
     "prompt_number": 87
    },
    {
     "cell_type": "code",
     "collapsed": false,
     "input": [
      "def get_tokens(text):\n",
      "  # with open('/opt/datacourse/data/parts/shakes-1.txt', 'r') as shakes:\n",
      "    #text = shakes.read()\n",
      "    lowers = text.lower()\n",
      "    #remove the punctuation using the character deletion step of translate\n",
      "    no_punctuation = lowers.translate(None, string.punctuation)\n",
      "    tokens = nltk.word_tokenize(no_punctuation)\n",
      "    filtered = [w for w in tokens if not w in stopwords.words('english')]\n",
      "    return filtered"
     ],
     "language": "python",
     "metadata": {},
     "outputs": [],
     "prompt_number": 88
    },
    {
     "cell_type": "code",
     "collapsed": false,
     "input": [
      "def get_tot_review_text(PID, cursor, tablename):\n",
      "    rating, time = get_data(PID, cursor, tablename)\n",
      "    popmin, popmax = first_pop_time(time)\n",
      "    text = ''\n",
      "    sql = \"Select RSummary From \" +tablename + \" Where PID = \" + '\"' + PID +'\"' + \" and rtime < \" + str(popmax) + \";\"\n",
      "    cursor.execute(sql)\n",
      "    rtext = cursor.fetchall()\n",
      "    rtext = tuple(x[0] for x in rtext)\n",
      "    for string in rtext:\n",
      "        text = text + string\n",
      "    sql = \"Select RText From \" +tablename + \" Where PID = \" + '\"' + PID +'\"' + \" and rtime < \" + str(popmax) + \";\"\n",
      "    cursor.execute(sql)\n",
      "    rtext = cursor.fetchall()\n",
      "    rtext = tuple(x[0] for x in rtext)\n",
      "    for string in rtext:\n",
      "        text = text + string\n",
      "    return text"
     ],
     "language": "python",
     "metadata": {},
     "outputs": [],
     "prompt_number": 89
    },
    {
     "cell_type": "code",
     "collapsed": false,
     "input": [
      "def get_pop_review_text(PID, cursor, tablename):\n",
      "    rating, time = get_data(PID, cursor, tablename)\n",
      "    popmin, popmax = first_pop_time(time)\n",
      "    text = ''\n",
      "    sql = \"Select RSummary From \" +tablename + \" Where PID = \" + '\"' + PID +'\"' + ' and rtime > ' + str(popmin)+ \" and rtime < \" + str(popmax) + \";\"\n",
      "    cursor.execute(sql)\n",
      "    rtext = cursor.fetchall()\n",
      "    rtext = tuple(x[0] for x in rtext)\n",
      "    for string in rtext:\n",
      "        text = text + string\n",
      "    sql = \"Select RText From \" +tablename + \" Where PID = \" + '\"' + PID +'\"' + ' and rtime > ' + str(popmin)+ \" and rtime < \" + str(popmax) + \";\"\n",
      "    cursor.execute(sql)\n",
      "    rtext = cursor.fetchall()\n",
      "    rtext = tuple(x[0] for x in rtext)\n",
      "    for string in rtext:\n",
      "        text = text + string\n",
      "    return text, rtext"
     ],
     "language": "python",
     "metadata": {},
     "outputs": [],
     "prompt_number": 90
    },
    {
     "cell_type": "code",
     "collapsed": false,
     "input": [
      "def stem_tokens(tokens, stemmer):\n",
      "    stemmed = []\n",
      "    for item in tokens:\n",
      "        stemmed.append(stemmer.stem(item))\n",
      "    return stemmed"
     ],
     "language": "python",
     "metadata": {},
     "outputs": [],
     "prompt_number": 91
    },
    {
     "cell_type": "code",
     "collapsed": false,
     "input": [
      "def best_bigram_collector(finder, n, Ptitle):\n",
      "    #finder.apply_freq_filter(4)\n",
      "    list = finder.nbest(bigram_measures.jaccard, n*10)\n",
      "    Ptitle = get_tokens(str(Ptitle))\n",
      "    bests = []\n",
      "    count = 0\n",
      "    words = []\n",
      "    for item in list:\n",
      "        if count < n:\n",
      "            if item[0] not in words and item[1] not in words and item[0] not in ptitle and item[1] not in ptitle:\n",
      "                bests.append(item)\n",
      "                words.append(item[0])\n",
      "                words.append(item[1])\n",
      "                #words.append(item[2])\n",
      "                count = count + 1\n",
      "            else:\n",
      "                words.append(item[0])\n",
      "                words.append(item[1])\n",
      "                #words.append(item[2])\n",
      "        else:\n",
      "            break;\n",
      "    return bests"
     ],
     "language": "python",
     "metadata": {},
     "outputs": [],
     "prompt_number": 92
    },
    {
     "cell_type": "code",
     "collapsed": false,
     "input": [
      "def best_trigram_collector(finder, n, Ptitle):\n",
      "    #finder.apply_freq_filter(4)\n",
      "    list = finder.nbest(trigram_measures.raw_freq, n*10)\n",
      "    Ptitle = get_tokens(str(Ptitle))\n",
      "    bests = []\n",
      "    count = 0\n",
      "    words = []\n",
      "    for item in list:\n",
      "        if count < n:\n",
      "            if item[0] not in words and item[1] not in words and item[2] not in words and item[0] not in ptitle and item[1] not in ptitle and item[2] not in ptitle:   \n",
      "                bests.append(item)\n",
      "                words.append(item[0])\n",
      "                words.append(item[1])\n",
      "                words.append(item[2])\n",
      "                count = count + 1\n",
      "            else:\n",
      "                words.append(item[0])\n",
      "                words.append(item[1])\n",
      "                words.append(item[2])\n",
      "        else:\n",
      "            break;\n",
      "    return bests"
     ],
     "language": "python",
     "metadata": {},
     "outputs": [],
     "prompt_number": 93
    },
    {
     "cell_type": "code",
     "collapsed": false,
     "input": [],
     "language": "python",
     "metadata": {},
     "outputs": [],
     "prompt_number": 93
    },
    {
     "cell_type": "code",
     "collapsed": false,
     "input": [
      "database = \"home_kitchen\"\n",
      "tablename = \"all_hk\"\n",
      "db = MySQLdb.connect(host=\"localhost\", user=\"root\", db = database)\n",
      "cursor = db.cursor()"
     ],
     "language": "python",
     "metadata": {},
     "outputs": [],
     "prompt_number": 94
    },
    {
     "cell_type": "code",
     "collapsed": false,
     "input": [
      "#PID = ' B00005AQ9Q' #bad reviews so no one buys it. 99 reviews. \n",
      "#PID = ' B0000E2PEI' #featured in consumer reports example\n",
      "#PID = ' B0000X7CMQ'\n",
      "#PID = ' B000S5XYI2'\n",
      "#PID = ' B00019G8IS'\n",
      "#PID = ' B000GTR2F6'\n",
      "PID = ' B000GXZ2GS'  #really good!"
     ],
     "language": "python",
     "metadata": {},
     "outputs": [],
     "prompt_number": 203
    },
    {
     "cell_type": "code",
     "collapsed": false,
     "input": [
      "tot_text = get_tot_review_text(PID, cursor, tablename)\n",
      "pop_text, pop_revs = get_pop_review_text(PID, cursor, tablename)\n"
     ],
     "language": "python",
     "metadata": {},
     "outputs": [
      {
       "output_type": "stream",
       "stream": "stdout",
       "text": [
        "2009-09-14 17:00:00 2011-03-25 17:00:00\n",
        "2009-09-14 17:00:00"
       ]
      },
      {
       "output_type": "stream",
       "stream": "stdout",
       "text": [
        " 2011-03-25 17:00:00\n"
       ]
      }
     ],
     "prompt_number": 204
    },
    {
     "cell_type": "code",
     "collapsed": false,
     "input": [
      "tot_tokens = get_tokens(tot_text)\n",
      "pop_tokens = get_tokens(pop_text)\n"
     ],
     "language": "python",
     "metadata": {},
     "outputs": [],
     "prompt_number": 205
    },
    {
     "cell_type": "code",
     "collapsed": false,
     "input": [
      "cursor.execute(\"Select distinct PTitle from all_hk where PID = \" + '\"' + PID + '\";')\n",
      "ptitle = cursor.fetchall()\n",
      "ptitle = tuple(x[0] for x in ptitle)\n",
      "ptitle = get_tokens(ptitle[0])\n",
      "print ptitle"
     ],
     "language": "python",
     "metadata": {},
     "outputs": [
      {
       "output_type": "stream",
       "stream": "stdout",
       "text": [
        "['aerobie', '80r08', 'aeropress', 'coffee', 'espresso', 'maker']\n"
       ]
      }
     ],
     "prompt_number": 206
    },
    {
     "cell_type": "code",
     "collapsed": false,
     "input": [
      "finder = BigramCollocationFinder.from_words(tot_tokens)\n",
      "finder.apply_freq_filter(4)\n",
      "finder.nbest(bigram_measures.jaccard, 20) "
     ],
     "language": "python",
     "metadata": {},
     "outputs": [
      {
       "metadata": {},
       "output_type": "pyout",
       "prompt_number": 207,
       "text": [
        "[('trader', 'joes'),\n",
        " ('trial', 'error'),\n",
        " ('french', 'press'),\n",
        " ('learning', 'curve'),\n",
        " ('stainless', 'steel'),\n",
        " ('thousand', 'dollar'),\n",
        " ('deg', 'f'),\n",
        " ('pleasantly', 'surprised'),\n",
        " ('chocolate', 'syrup'),\n",
        " ('hotel', 'rooms'),\n",
        " ('rinsed', 'reused'),\n",
        " ('highly', 'recommend'),\n",
        " ('upset', 'stomach'),\n",
        " ('burr', 'grinder'),\n",
        " ('175', 'degrees'),\n",
        " ('bar', 'none'),\n",
        " ('follow', 'directions'),\n",
        " ('star', 'rating'),\n",
        " ('hot', 'water'),\n",
        " ('10', 'seconds')]"
       ]
      }
     ],
     "prompt_number": 207
    },
    {
     "cell_type": "code",
     "collapsed": false,
     "input": [
      "finder = TrigramCollocationFinder.from_words(tot_tokens)\n",
      "finder.apply_freq_filter(2)\n",
      "finder.nbest(trigram_measures.raw_freq, 20) "
     ],
     "language": "python",
     "metadata": {},
     "outputs": [
      {
       "metadata": {},
       "output_type": "pyout",
       "prompt_number": 208,
       "text": [
        "[('great', 'cup', 'coffee'),\n",
        " ('best', 'cup', 'coffee'),\n",
        " ('best', 'coffee', 'ever'),\n",
        " ('good', 'cup', 'coffee'),\n",
        " ('drip', 'coffee', 'maker'),\n",
        " ('use', 'easy', 'clean'),\n",
        " ('add', 'hot', 'water'),\n",
        " ('easy', 'use', 'easy'),\n",
        " ('makes', 'great', 'coffee'),\n",
        " ('coffee', 'ive', 'ever'),\n",
        " ('cup', 'coffee', 'ever'),\n",
        " ('makes', 'great', 'cup'),\n",
        " ('easy', 'use', 'clean'),\n",
        " ('best', 'coffee', 'maker'),\n",
        " ('makes', 'good', 'coffee'),\n",
        " ('aeropress', 'coffee', 'maker'),\n",
        " ('coffee', 'maker', 'ever'),\n",
        " ('single', 'cup', 'coffee'),\n",
        " ('coffee', 'easy', 'use'),\n",
        " ('coffee', 'espresso', 'maker')]"
       ]
      }
     ],
     "prompt_number": 208
    },
    {
     "cell_type": "code",
     "collapsed": false,
     "input": [
      "finder = BigramCollocationFinder.from_words(pop_tokens)\n",
      "finder.apply_freq_filter(4)\n",
      "if finder:\n",
      "    bestbigrams = best_bigram_collector(finder, 5, ptitle)\n",
      "print bestbigrams\n",
      "\n",
      "#finder.apply_freq_filter(4)\n",
      "#finder.nbest(bigram_measures.jaccard, 20) \n"
     ],
     "language": "python",
     "metadata": {},
     "outputs": [
      {
       "output_type": "stream",
       "stream": "stdout",
       "text": [
        "[('trial', 'error'), ('chocolate', 'syrup'), ('deg', 'f'), ('french', 'press'), ('burr', 'grinder')]\n"
       ]
      }
     ],
     "prompt_number": 209
    },
    {
     "cell_type": "code",
     "collapsed": false,
     "input": [
      "finder = TrigramCollocationFinder.from_words(pop_tokens)\n",
      "finder.apply_freq_filter(2)\n",
      "if finder:\n",
      "    besttrigrams = best_trigram_collector(finder, 5, ptitle)\n",
      "print besttrigrams"
     ],
     "language": "python",
     "metadata": {},
     "outputs": [
      {
       "output_type": "stream",
       "stream": "stdout",
       "text": [
        "[('use', 'easy', 'clean'), ('add', 'hot', 'water'), ('stir', '10', 'seconds'), ('love', 'love', 'love')]\n"
       ]
      }
     ],
     "prompt_number": 210
    },
    {
     "cell_type": "code",
     "collapsed": false,
     "input": [
      "##### now I\"m going to try and snag representative reviews. "
     ],
     "language": "python",
     "metadata": {},
     "outputs": [],
     "prompt_number": 211
    },
    {
     "cell_type": "code",
     "collapsed": false,
     "input": [
      "keywords = [item for sublist in bestbigrams for item in sublist] + [item for sublist in besttrigrams for item in sublist]\n",
      "print keywords"
     ],
     "language": "python",
     "metadata": {},
     "outputs": [
      {
       "output_type": "stream",
       "stream": "stdout",
       "text": [
        "['trial', 'error', 'chocolate', 'syrup', 'deg', 'f', 'french', 'press', 'burr', 'grinder', 'use', 'easy', 'clean', 'add', 'hot', 'water', 'stir', '10', 'seconds', 'love', 'love', 'love']\n"
       ]
      }
     ],
     "prompt_number": 212
    },
    {
     "cell_type": "code",
     "collapsed": false,
     "input": [
      "print len(pop_revs)\n",
      "count = [0]*len(pop_revs)\n",
      "i = 0\n",
      "for rev in pop_revs:\n",
      "    #print rev\n",
      "    if len(rev)>0:\n",
      "        for word in get_tokens(rev):\n",
      "            #print word\n",
      "            if word in keywords:\n",
      "                count[i] += 1\n",
      "        count[i] = float(count[i])/float(len(rev))\n",
      "        i += 1"
     ],
     "language": "python",
     "metadata": {},
     "outputs": [
      {
       "output_type": "stream",
       "stream": "stdout",
       "text": [
        "400\n"
       ]
      }
     ],
     "prompt_number": 213
    },
    {
     "cell_type": "code",
     "collapsed": false,
     "input": [
      "#print count"
     ],
     "language": "python",
     "metadata": {},
     "outputs": [],
     "prompt_number": 214
    },
    {
     "cell_type": "code",
     "collapsed": false,
     "input": [
      "bestrevs = []\n",
      "for x, i in enumerate(count):\n",
      "    if i in heapq.nlargest(4, count):\n",
      "        bestrevs.append(pop_revs[x])\n",
      "        print pop_revs[x], '\\n'\n",
      "#print bestrevs"
     ],
     "language": "python",
     "metadata": {},
     "outputs": [
      {
       "output_type": "stream",
       "stream": "stdout",
       "text": [
        "1. Use a sturdy cup.2. Use a good quality coffee!! \n",
        "\n",
        " Love, love, love this gadget, Have one for work and home. Will be giving as gifts too. Very easy to use. \n",
        "\n",
        " The Aerobie coffee press makes a great cup of coffee. Easy to use and easy to clean. I use it every morning. \n",
        "\n",
        " Love this espresso maker! Makes great coffee, easy to use and easy clean up. My only regret is that I didn't buy it sooner. \n",
        "\n"
       ]
      }
     ],
     "prompt_number": 215
    },
    {
     "cell_type": "code",
     "collapsed": false,
     "input": [
      "cursor.execute(\"Select distinct PTitle from all_hk where PID = \" + '\"' + PID + '\";')\n",
      "Ptitle = cursor.fetchall()\n",
      "print Ptitle"
     ],
     "language": "python",
     "metadata": {},
     "outputs": [
      {
       "output_type": "stream",
       "stream": "stdout",
       "text": [
        "((' Keurig B70 Platinum Brewing System',),)\n"
       ]
      }
     ],
     "prompt_number": 202
    },
    {
     "cell_type": "code",
     "collapsed": false,
     "input": [],
     "language": "python",
     "metadata": {},
     "outputs": []
    }
   ],
   "metadata": {}
  }
 ]
}