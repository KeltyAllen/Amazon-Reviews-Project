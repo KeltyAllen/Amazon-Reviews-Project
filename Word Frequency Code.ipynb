{
 "metadata": {
  "name": "",
  "signature": "sha256:85f92e094f9e98bf6fc9ff9411eb9e76b0beadaa93cab7164dbb7e5ab26547f8"
 },
 "nbformat": 3,
 "nbformat_minor": 0,
 "worksheets": [
  {
   "cells": [
    {
     "cell_type": "code",
     "collapsed": false,
     "input": [
      "from flask import render_template, _app_ctx_stack, jsonify\n",
      "from app import app, host, port, user, passwd, db\n",
      "from app.helpers.database import con_db\n",
      "import sys\n",
      "import simplejson\n",
      "import jinja2\n",
      "import nltk\n",
      "from nltk.collocations import *\n",
      "import string\n",
      "import MySQLdb\n",
      "from collections import Counter\n",
      "from nltk.corpus import stopwords\n",
      "import numpy as np\n",
      "from nltk.stem.porter import *\n",
      "from Queue import PriorityQueue\n",
      "import datetime as dt\n",
      "import heapq\n",
      "bigram_measures = nltk.collocations.BigramAssocMeasures()\n",
      "trigram_measures = nltk.collocations.TrigramAssocMeasures()"
     ],
     "language": "python",
     "metadata": {},
     "outputs": [],
     "prompt_number": 2
    },
    {
     "cell_type": "code",
     "collapsed": false,
     "input": [
      "def get_db():\n",
      "    db = MySQLdb.connect(host=\"localhost\", user=\"root\", db = \"home_kitchen\")\n",
      "    #print \"Getting DB\"\n",
      "    #top = _app_ctx_stack.top\n",
      "    #if not hasattr(top, 'home_kitchen_db'):\n",
      "        #top.home_kitchen_db = MySQLdb.connect(host=\"localhost\", user=\"root\", db = \"home_kitchen\")\n",
      "    return db"
     ],
     "language": "python",
     "metadata": {},
     "outputs": [],
     "prompt_number": 3
    },
    {
     "cell_type": "code",
     "collapsed": false,
     "input": [
      "#def query_db(query):\n",
      "#    #sys.stderr.write(\"Querying Database with: \"  + query)\n",
      "#    cursor = get_db().cursor()\n",
      "#    cursor.execute(query)\n",
      "#    return cursor.fetchall()\n",
      "\n",
      "def query_db(query):\n",
      "#sys.stderr.write(\"Querying Database with: \"  + query)\n",
      "    cursor = get_db().cursor()\n",
      "    cursor.execute(query)\n",
      "    data = cursor.fetchall()\n",
      "    if data:\n",
      "        return data\n",
      "    else:\n",
      "        return \"error\""
     ],
     "language": "python",
     "metadata": {},
     "outputs": [],
     "prompt_number": 4
    },
    {
     "cell_type": "code",
     "collapsed": false,
     "input": [
      "def avg_rating(rating):\n",
      "    avg = [0]*len(rating)\n",
      "    avg[0] = float(rating[0])\n",
      "    for k in range(1, len(rating)):\n",
      "        avg[k]= float(np.mean(rating[:k]))\n",
      "    return avg"
     ],
     "language": "python",
     "metadata": {},
     "outputs": [],
     "prompt_number": 5
    },
    {
     "cell_type": "code",
     "collapsed": false,
     "input": [
      "def first_pop_time(time): \n",
      "    firstpopmin = time[0]\n",
      "    firstpopmax = time[len(time)-1]\n",
      "    slidermin = 0\n",
      "    slidersize = max(int(len(time)/4), 4)\n",
      "    avtime = (time[len(time)-1] - time[0])/len(time)\n",
      "    for i in range(slidersize, len(time)): #i marks the end of the slider\n",
      "        windowsize = time[i] - time[i - slidersize]\n",
      "        if windowsize < ((time[len(time)-1] - time[0])/4) and (time[i-slidersize]-time[i - slidersize - 3]) < 3*avtime:   \n",
      "            firstpopmax = time[i]\n",
      "            firstpopmin = time[i - slidersize]\n",
      "            break;\n",
      "    #dates=[dt.datetime.fromtimestamp(ts) for ts in time]\n",
      "    print dt.datetime.fromtimestamp(firstpopmin), dt.datetime.fromtimestamp(firstpopmax)\n",
      "    return firstpopmin, firstpopmax"
     ],
     "language": "python",
     "metadata": {},
     "outputs": [],
     "prompt_number": 6
    },
    {
     "cell_type": "code",
     "collapsed": false,
     "input": [
      "#returns ratings and time for a given pid in tablename with cursor pointing toward the database\n",
      "def get_data(PID, tablename):\n",
      "    sql = \"Select RTime, RScore From \" +tablename + \" Where PID = \" + '\"' + PID +'\";'    \n",
      "    data = query_db(sql)\n",
      "    data = sorted(data)\n",
      "    rating = np.array(zip(*data)[1], dtype = int)\n",
      "    time = np.array(zip(*data)[0], dtype = float)\n",
      "    #dates=[dt.datetime.fromtimestamp(ts) for ts in time]\n",
      "    return rating, time#, dates"
     ],
     "language": "python",
     "metadata": {},
     "outputs": [],
     "prompt_number": 7
    },
    {
     "cell_type": "code",
     "collapsed": false,
     "input": [
      "def get_tokens(text):\n",
      "  # with open('/opt/datacourse/data/parts/shakes-1.txt', 'r') as shakes:\n",
      "    #text = shakes.read()\n",
      "    lowers = text.lower()\n",
      "    #remove the punctuation using the character deletion step of translate\n",
      "    no_punctuation = lowers.translate(None, string.punctuation)\n",
      "    tokens = nltk.word_tokenize(no_punctuation)\n",
      "    filtered = [w for w in tokens if not w in stopwords.words('english')]\n",
      "    return filtered"
     ],
     "language": "python",
     "metadata": {},
     "outputs": [],
     "prompt_number": 8
    },
    {
     "cell_type": "code",
     "collapsed": false,
     "input": [
      "def get_tot_review_text(PID, tablename):\n",
      "    rating, time = get_data(PID, tablename)\n",
      "    popmin, popmax = first_pop_time(time)\n",
      "    text = ''\n",
      "    sql = \"Select RSummary From \" +tablename + \" Where PID = \" + '\"' + PID +'\"' + \" and rtime < \" + str(popmax) + \";\"\n",
      "    rtext = query_db(sql)\n",
      "    rtext = tuple(x[0] for x in rtext)\n",
      "    for string in rtext:\n",
      "        text = text + string\n",
      "    sql = \"Select RText From \" +tablename + \" Where PID = \" + '\"' + PID +'\"' + \" and rtime < \" + str(popmax) + \";\"\n",
      "    cursor.execute(sql)\n",
      "    rtext = cursor.fetchall()\n",
      "    rtext = tuple(x[0] for x in rtext)\n",
      "    for string in rtext:\n",
      "        text = text + string\n",
      "    return text"
     ],
     "language": "python",
     "metadata": {},
     "outputs": [],
     "prompt_number": 9
    },
    {
     "cell_type": "code",
     "collapsed": false,
     "input": [
      "def get_pop_review_text(PID, tablename):\n",
      "    rating, time = get_data(PID, tablename)\n",
      "    popmin, popmax = first_pop_time(time)\n",
      "    text = ''\n",
      "    sql = \"Select RSummary From \" +tablename + \" Where PID = \" + '\"' + PID +'\"' + ' and rtime > ' + str(popmin)+ \" and rtime < \" + str(popmax) + \";\"\n",
      "    rtext = query_db(sql)\n",
      "    rtext = tuple(x[0] for x in rtext)\n",
      "    for string in rtext:\n",
      "        text = text + string\n",
      "    sql = \"Select RText From \" +tablename + \" Where PID = \" + '\"' + PID +'\"' + ' and rtime > ' + str(popmin)+ \" and rtime < \" + str(popmax) + \";\"\n",
      "    cursor.execute(sql)\n",
      "    rtext = cursor.fetchall()\n",
      "    rtext = tuple(x[0] for x in rtext)\n",
      "    for string in rtext:\n",
      "        text = text + string\n",
      "    return text, rtext, popmin"
     ],
     "language": "python",
     "metadata": {},
     "outputs": [],
     "prompt_number": 10
    },
    {
     "cell_type": "code",
     "collapsed": false,
     "input": [
      "def stem_tokens(tokens, stemmer):\n",
      "    stemmed = []\n",
      "    for item in tokens:\n",
      "        stemmed.append(stemmer.stem(item))\n",
      "    return stemmed"
     ],
     "language": "python",
     "metadata": {},
     "outputs": [],
     "prompt_number": 11
    },
    {
     "cell_type": "code",
     "collapsed": false,
     "input": [
      "def best_bigram_collector(finder, n, Ptitle):\n",
      "    #finder.apply_freq_filter(4)\n",
      "    list = finder.nbest(bigram_measures.jaccard, n*10)\n",
      "    Ptitle = get_tokens(str(Ptitle))\n",
      "    Ptitle.append(\"used\")\n",
      "    bests = []\n",
      "    count = 0\n",
      "    words = []\n",
      "    for item in list:\n",
      "        if count < n:\n",
      "            if item[0] not in words and item[1] not in words and item[0] not in Ptitle and item[1] not in Ptitle:\n",
      "                bests.append(item)\n",
      "                words.append(item[0])\n",
      "                words.append(item[1])\n",
      "                #words.append(item[2])\n",
      "                count = count + 1\n",
      "            else:\n",
      "                words.append(item[0])\n",
      "                words.append(item[1])\n",
      "                #words.append(item[2])\n",
      "        else:\n",
      "            break;\n",
      "    return bests"
     ],
     "language": "python",
     "metadata": {},
     "outputs": [],
     "prompt_number": 12
    },
    {
     "cell_type": "code",
     "collapsed": false,
     "input": [
      "def best_trigram_collector(finder, n, Ptitle):\n",
      "    #finder.apply_freq_filter(4)\n",
      "    list = finder.nbest(trigram_measures.raw_freq, n*10)\n",
      "    Ptitle = get_tokens(str(Ptitle))\n",
      "    #add any other words that come up a lot and want to exclude\n",
      "    Ptitle.append(\"used\")\n",
      "    bests = []\n",
      "    count = 0\n",
      "    words = []\n",
      "    for item in list:\n",
      "        if count < n:\n",
      "            if item[0] not in words and item[1] not in words and item[2] not in words and item[0] not in Ptitle and item[1] not in Ptitle and item[2] not in Ptitle:   \n",
      "                bests.append(item)\n",
      "                words.append(item[0])\n",
      "                words.append(item[1])\n",
      "                words.append(item[2])\n",
      "                count = count + 1\n",
      "            else:\n",
      "                words.append(item[0])\n",
      "                words.append(item[1])\n",
      "                words.append(item[2])\n",
      "        else:\n",
      "            break;\n",
      "    return bests"
     ],
     "language": "python",
     "metadata": {},
     "outputs": [],
     "prompt_number": 13
    },
    {
     "cell_type": "code",
     "collapsed": false,
     "input": [],
     "language": "python",
     "metadata": {},
     "outputs": [],
     "prompt_number": 13
    },
    {
     "cell_type": "code",
     "collapsed": false,
     "input": [
      "database = \"home_kitchen\"\n",
      "tablename = \"all_hk\"\n",
      "db = MySQLdb.connect(host=\"localhost\", user=\"root\", db = database)\n",
      "cursor = db.cursor()"
     ],
     "language": "python",
     "metadata": {},
     "outputs": [],
     "prompt_number": 14
    },
    {
     "cell_type": "code",
     "collapsed": false,
     "input": [
      "#PID = ' B00005AQ9Q' #bad reviews so no one buys it. 99 reviews. \n",
      "#PID = ' B0000E2PEI' #featured in consumer reports example\n",
      "PID = ' B0000X7CMQ'\n",
      "#PID = ' B000S5XYI2'\n",
      "#PID = ' B00019G8IS'\n",
      "#PID = ' B000GTR2F6'\n",
      "#PID = ' B000GXZ2GS'  #really good!\n",
      "#PID = ' B0000DIU49'"
     ],
     "language": "python",
     "metadata": {},
     "outputs": [],
     "prompt_number": 15
    },
    {
     "cell_type": "code",
     "collapsed": false,
     "input": [
      "#tot_text = get_tot_review_text(PID, tablename)\n",
      "pop_text, pop_revs, popmin = get_pop_review_text(PID, tablename)\n"
     ],
     "language": "python",
     "metadata": {},
     "outputs": [
      {
       "output_type": "stream",
       "stream": "stdout",
       "text": [
        "2007-09-28 17:00:00 2009-11-29 16:00:00\n"
       ]
      }
     ],
     "prompt_number": 16
    },
    {
     "cell_type": "code",
     "collapsed": false,
     "input": [
      "#tot_tokens = get_tokens(tot_text)\n",
      "pop_tokens = get_tokens(pop_text)\n"
     ],
     "language": "python",
     "metadata": {},
     "outputs": [],
     "prompt_number": 17
    },
    {
     "cell_type": "code",
     "collapsed": false,
     "input": [
      "cursor.execute(\"Select distinct PTitle from all_hk where PID = \" + '\"' + PID + '\";')\n",
      "ptitle = cursor.fetchall()\n",
      "ptitle = tuple(x[0] for x in ptitle)\n",
      "ptitle = get_tokens(ptitle[0])\n",
      "print ptitle"
     ],
     "language": "python",
     "metadata": {},
     "outputs": [
      {
       "output_type": "stream",
       "stream": "stdout",
       "text": [
        "['zojirushi', 'ecbd15ba', 'fresh', 'brew', 'thermal', 'carafe', 'coffee', 'maker']\n"
       ]
      }
     ],
     "prompt_number": 18
    },
    {
     "cell_type": "code",
     "collapsed": false,
     "input": [
      "finder = BigramCollocationFinder.from_words(pop_tokens)\n",
      "finder.apply_freq_filter(4)\n",
      "finder.nbest(bigram_measures.jaccard, 20) "
     ],
     "language": "python",
     "metadata": {},
     "outputs": [
      {
       "metadata": {},
       "output_type": "pyout",
       "prompt_number": 19,
       "text": [
        "[('consumer', 'reports'),\n",
        " ('black', 'decker'),\n",
        " ('stopped', 'working'),\n",
        " ('stainless', 'steel'),\n",
        " ('customer', 'service'),\n",
        " ('level', 'indicator'),\n",
        " ('opening', 'closing'),\n",
        " ('200', 'degrees'),\n",
        " ('coffee', 'maker'),\n",
        " ('30', 'minutes'),\n",
        " ('thermal', 'carafe'),\n",
        " ('ecbd15', 'fresh'),\n",
        " ('job', 'keeping'),\n",
        " ('warming', 'plate'),\n",
        " ('zojirushi', 'ecbd15'),\n",
        " ('something', 'else'),\n",
        " ('easy', 'clean'),\n",
        " ('room', 'temp'),\n",
        " ('4', 'filters'),\n",
        " ('highly', 'recommend')]"
       ]
      }
     ],
     "prompt_number": 19
    },
    {
     "cell_type": "code",
     "collapsed": false,
     "input": [
      "finder = TrigramCollocationFinder.from_words(pop_tokens)\n",
      "finder.apply_freq_filter(2)\n",
      "finder.nbest(trigram_measures.raw_freq, 20) "
     ],
     "language": "python",
     "metadata": {},
     "outputs": [
      {
       "metadata": {},
       "output_type": "pyout",
       "prompt_number": 20,
       "text": [
        "[('great', 'coffee', 'maker'),\n",
        " ('keeps', 'coffee', 'hot'),\n",
        " ('thermal', 'carafe', 'coffee'),\n",
        " ('good', 'cup', 'coffee'),\n",
        " ('carafe', 'coffee', 'maker'),\n",
        " ('coffee', 'stays', 'hot'),\n",
        " ('makes', 'good', 'coffee'),\n",
        " ('keep', 'coffee', 'hot'),\n",
        " ('brew', 'thermal', 'carafe'),\n",
        " ('fresh', 'brew', 'thermal'),\n",
        " ('carafe', 'keeps', 'coffee'),\n",
        " ('coffee', 'maker', 'makes'),\n",
        " ('ecbd15', 'fresh', 'brew'),\n",
        " ('hot', 'long', 'time'),\n",
        " ('coffee', 'hot', 'hours'),\n",
        " ('keep', 'coffee', 'warm'),\n",
        " ('makes', 'great', 'coffee'),\n",
        " ('best', 'coffee', 'maker'),\n",
        " ('coffee', 'maker', 'good'),\n",
        " ('love', 'coffee', 'maker')]"
       ]
      }
     ],
     "prompt_number": 20
    },
    {
     "cell_type": "code",
     "collapsed": false,
     "input": [
      "finder = BigramCollocationFinder.from_words(pop_tokens)\n",
      "finder.apply_freq_filter(4)\n",
      "if finder:\n",
      "    bestbigrams = best_bigram_collector(finder, 5, ptitle)\n",
      "print bestbigrams\n",
      "\n",
      "#finder.apply_freq_filter(4)\n",
      "#finder.nbest(bigram_measures.jaccard, 20) \n"
     ],
     "language": "python",
     "metadata": {},
     "outputs": [
      {
       "output_type": "stream",
       "stream": "stdout",
       "text": [
        "[('consumer', 'reports'), ('black', 'decker'), ('stopped', 'working'), ('stainless', 'steel'), ('customer', 'service')]\n"
       ]
      }
     ],
     "prompt_number": 21
    },
    {
     "cell_type": "code",
     "collapsed": false,
     "input": [
      "finder = TrigramCollocationFinder.from_words(pop_tokens)\n",
      "#finder.apply_freq_filter(2)\n",
      "if finder:\n",
      "    besttrigrams = best_trigram_collector(finder, 5, ptitle)\n",
      "print besttrigrams"
     ],
     "language": "python",
     "metadata": {},
     "outputs": [
      {
       "output_type": "stream",
       "stream": "stdout",
       "text": [
        "[('4', 'cone', 'filters')]\n"
       ]
      }
     ],
     "prompt_number": 22
    },
    {
     "cell_type": "code",
     "collapsed": false,
     "input": [
      "##### now I\"m going to try and snag representative reviews. "
     ],
     "language": "python",
     "metadata": {},
     "outputs": [],
     "prompt_number": 23
    },
    {
     "cell_type": "code",
     "collapsed": false,
     "input": [
      "keywords = [item for sublist in bestbigrams for item in sublist] + [item for sublist in besttrigrams for item in sublist]\n",
      "print keywords"
     ],
     "language": "python",
     "metadata": {},
     "outputs": [
      {
       "output_type": "stream",
       "stream": "stdout",
       "text": [
        "['consumer', 'reports', 'black', 'decker', 'stopped', 'working', 'stainless', 'steel', 'customer', 'service', '4', 'cone', 'filters']\n"
       ]
      }
     ],
     "prompt_number": 24
    },
    {
     "cell_type": "code",
     "collapsed": false,
     "input": [
      "print len(pop_revs)\n",
      "count = [0]*len(pop_revs)\n",
      "i = 0\n",
      "for rev in pop_revs:\n",
      "    #print rev\n",
      "    if len(rev)>0:\n",
      "        for word in get_tokens(rev):\n",
      "            #print word\n",
      "            if word in keywords:\n",
      "                count[i] += 1\n",
      "        count[i] = float(count[i])/float(len(rev))\n",
      "        i += 1"
     ],
     "language": "python",
     "metadata": {},
     "outputs": [
      {
       "output_type": "stream",
       "stream": "stdout",
       "text": [
        "288\n"
       ]
      }
     ],
     "prompt_number": 25
    },
    {
     "cell_type": "code",
     "collapsed": false,
     "input": [
      "#print count"
     ],
     "language": "python",
     "metadata": {},
     "outputs": [],
     "prompt_number": 26
    },
    {
     "cell_type": "code",
     "collapsed": false,
     "input": [
      "bestrevs = []\n",
      "for x, i in enumerate(count):\n",
      "    if i in heapq.nlargest(4, count):\n",
      "        bestrevs.append(pop_revs[x])\n",
      "        print pop_revs[x], '\\n'\n",
      "#print bestrevs"
     ],
     "language": "python",
     "metadata": {},
     "outputs": [
      {
       "output_type": "stream",
       "stream": "stdout",
       "text": [
        " A well built,good looking coffee maker,and it makes excellent coffee. The #4 filters work ok,so I wouldn't let that deter you. \n",
        "\n",
        " It doesn't pour well. The lid is crazy and hard to line up. The #4 filters the mfg. recommends have to be cut down because they're too tall. The Bunn stainless steel pour-over is a much better coffee maker but it's also twice the money. \n",
        "\n",
        " Quit working entirely within 2 weeks of purchase, probably made 25 pots of coffee before it stopped. \n",
        "\n",
        " This brewer stopped working in early Dec. 2011, total life of just over 5 years. \n",
        "\n"
       ]
      }
     ],
     "prompt_number": 27
    },
    {
     "cell_type": "code",
     "collapsed": false,
     "input": [
      "cursor.execute(\"Select distinct PTitle from all_hk where PID = \" + '\"' + PID + '\";')\n",
      "Ptitle = cursor.fetchall()\n",
      "print Ptitle"
     ],
     "language": "python",
     "metadata": {},
     "outputs": [
      {
       "output_type": "stream",
       "stream": "stdout",
       "text": [
        "((' Zojirushi EC-BD15BA Fresh Brew Thermal Carafe Coffee Maker',),)\n"
       ]
      }
     ],
     "prompt_number": 28
    },
    {
     "cell_type": "code",
     "collapsed": false,
     "input": [
      "sql = \"Select distinct PTitle from all_hk where PID = \" + '\"' + PID + '\";'\n",
      "prodname = str(query_db(sql))\n",
      "prodname = tuple(x[0] for x in prodname)"
     ],
     "language": "python",
     "metadata": {},
     "outputs": [],
     "prompt_number": 29
    },
    {
     "cell_type": "code",
     "collapsed": false,
     "input": [
      "print dt.datetime.fromtimestamp(popmin)"
     ],
     "language": "python",
     "metadata": {},
     "outputs": [
      {
       "output_type": "stream",
       "stream": "stdout",
       "text": [
        "2007-09-28 17:00:00\n"
       ]
      }
     ],
     "prompt_number": 30
    },
    {
     "cell_type": "code",
     "collapsed": false,
     "input": [
      "\n",
      "newrevs = []\n",
      "for rev in bestrevs:\n",
      "    hold = ''\n",
      "    for word in rev.split():\n",
      "        if word in keywords:\n",
      "           hold = hold + \" <b>\"+word + \"</b> \"\n",
      "        else:\n",
      "            hold = hold + ' ' + word + ' '\n",
      "    newrevs.append(hold)"
     ],
     "language": "python",
     "metadata": {},
     "outputs": [],
     "prompt_number": 31
    },
    {
     "cell_type": "code",
     "collapsed": false,
     "input": [
      "print newrevs[0]"
     ],
     "language": "python",
     "metadata": {},
     "outputs": [
      {
       "output_type": "stream",
       "stream": "stdout",
       "text": [
        " A  well  built,good  looking  coffee  maker,and  it  makes  excellent  coffee.  The  #4  <b>filters</b>  work  ok,so  I  wouldn't  let  that  deter  you. \n"
       ]
      }
     ],
     "prompt_number": 32
    },
    {
     "cell_type": "code",
     "collapsed": false,
     "input": [
      "product_id = \"Wall Clock\"\n",
      "PID = ' ' + product_id\n",
      "tablename =  'all_hk'\n",
      "query = \"Select RTime, RScore, RSummary, RText From \" + tablename +\" Where PID = \"  +'\"' + PID +'\" ORDER BY RTime ASC;'\n",
      "\n",
      "\n",
      "#did they input a pid, title, or neither?\n",
      "data = query_db(query)\n",
      "if data == \"error\":\n",
      "\tprint \"not a pid\"\n",
      "\tquery = \"Select PID, PTitle From \" + tablename +\" Where PTitle Like \"  +'\"%' + product_id +'%\" Limit 11'\n",
      "\tprodlist = query_db(query)\n",
      "\tPID = prodlist[0][0]"
     ],
     "language": "python",
     "metadata": {},
     "outputs": [
      {
       "output_type": "stream",
       "stream": "stdout",
       "text": [
        "not a pid\n"
       ]
      }
     ],
     "prompt_number": 33
    },
    {
     "cell_type": "code",
     "collapsed": false,
     "input": [
      "print PID"
     ],
     "language": "python",
     "metadata": {},
     "outputs": [
      {
       "output_type": "stream",
       "stream": "stdout",
       "text": [
        " B000V4XDZE\n"
       ]
      }
     ],
     "prompt_number": 34
    },
    {
     "cell_type": "code",
     "collapsed": false,
     "input": [
      "print prodlist"
     ],
     "language": "python",
     "metadata": {},
     "outputs": [
      {
       "output_type": "stream",
       "stream": "stdout",
       "text": [
        "((' B000V4XDZE', ' Orange and Yellow Butterfly JP - Butterfly Animal Wall Clock by WatchBuddy Timepieces (White Frame)'), (' B00084DP2S', ' Infinity Instruments Red Night-14\" Glass Wall Clock'), (' B00084DP2S', ' Infinity Instruments Red Night-14\" Glass Wall Clock'), (' B000HSM076', ' Beer Wall Clock'), (' B000BKZ28O', ' River City Clocks Chiming Regulator Wall Clock with Swinging Pendulum and Oak Finish - 24 Inches Tall - Model # 6023O'), (' B000BKZ28O', ' River City Clocks Chiming Regulator Wall Clock with Swinging Pendulum and Oak Finish - 24 Inches Tall - Model # 6023O'), (' B000BKZ28O', ' River City Clocks Chiming Regulator Wall Clock with Swinging Pendulum and Oak Finish - 24 Inches Tall - Model # 6023O'), (' B000BKZ28O', ' River City Clocks Chiming Regulator Wall Clock with Swinging Pendulum and Oak Finish - 24 Inches Tall - Model # 6023O'), (' B000BKZ28O', ' River City Clocks Chiming Regulator Wall Clock with Swinging Pendulum and Oak Finish - 24 Inches Tall - Model # 6023O'), (' B000BKZ28O', ' River City Clocks Chiming Regulator Wall Clock with Swinging Pendulum and Oak Finish - 24 Inches Tall - Model # 6023O'), (' B000BKZ28O', ' River City Clocks Chiming Regulator Wall Clock with Swinging Pendulum and Oak Finish - 24 Inches Tall - Model # 6023O'))\n"
       ]
      }
     ],
     "prompt_number": 35
    },
    {
     "cell_type": "code",
     "collapsed": false,
     "input": [
      "print PID[1:]"
     ],
     "language": "python",
     "metadata": {},
     "outputs": [
      {
       "output_type": "stream",
       "stream": "stdout",
       "text": [
        "B000V4XDZE\n"
       ]
      }
     ],
     "prompt_number": 37
    },
    {
     "cell_type": "code",
     "collapsed": false,
     "input": [],
     "language": "python",
     "metadata": {},
     "outputs": []
    }
   ],
   "metadata": {}
  }
 ]
}