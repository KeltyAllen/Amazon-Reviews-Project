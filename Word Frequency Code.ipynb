{
 "metadata": {
  "name": "",
  "signature": "sha256:04b29ef1644d068bb89115cf4660ff83d6fb0fe5d868024beeefb0f8c482cc84"
 },
 "nbformat": 3,
 "nbformat_minor": 0,
 "worksheets": [
  {
   "cells": [
    {
     "cell_type": "code",
     "collapsed": false,
     "input": [
      "import nltk\n",
      "from nltk.collocations import *\n",
      "import string\n",
      "import MySQLdb\n",
      "from collections import Counter\n",
      "from nltk.corpus import stopwords\n",
      "import numpy as np\n",
      "from nltk.stem.porter import *\n",
      "from Queue import PriorityQueue\n",
      "import datetime as dt\n",
      "import heapq\n",
      "bigram_measures = nltk.collocations.BigramAssocMeasures()\n",
      "trigram_measures = nltk.collocations.TrigramAssocMeasures()"
     ],
     "language": "python",
     "metadata": {},
     "outputs": [],
     "prompt_number": 1
    },
    {
     "cell_type": "code",
     "collapsed": false,
     "input": [
      "def avg_rating(rating):\n",
      "    avg = [0]*len(rating)\n",
      "    avg[0] = float(rating[0])\n",
      "    for k in range(1, len(rating)):\n",
      "        avg[k]= float(np.mean(rating[:k]))\n",
      "    return avg"
     ],
     "language": "python",
     "metadata": {},
     "outputs": [],
     "prompt_number": 2
    },
    {
     "cell_type": "code",
     "collapsed": false,
     "input": [
      "def first_pop_time(time): \n",
      "    firstpopmin = time[0]\n",
      "    firstpopmax = time[len(time)-1]\n",
      "    slidermin = 0\n",
      "    slidersize = max(int(len(time)/4), 4)\n",
      "    avtime = (time[len(time)-1] - time[0])/len(time)\n",
      "    for i in range(slidersize, len(time)): #i marks the end of the slider\n",
      "        windowsize = time[i] - time[i - slidersize]\n",
      "        if windowsize < ((time[len(time)-1] - time[0])/4) and (time[i-slidersize]-time[i - slidersize - 3]) < 3*avtime:   \n",
      "            firstpopmax = time[i]\n",
      "            firstpopmin = time[i - slidersize]\n",
      "            break;\n",
      "    #dates=[dt.datetime.fromtimestamp(ts) for ts in time]\n",
      "    print dt.datetime.fromtimestamp(firstpopmin), dt.datetime.fromtimestamp(firstpopmax)\n",
      "    return firstpopmin, firstpopmax"
     ],
     "language": "python",
     "metadata": {},
     "outputs": [],
     "prompt_number": 3
    },
    {
     "cell_type": "code",
     "collapsed": false,
     "input": [
      "#returns ratings and time for a given pid in tablename with cursor pointing toward the database\n",
      "def get_data(PID, cursor, tablename):\n",
      "    sql = \"Select RTime, RScore From \" +tablename + \" Where PID = \" + '\"' + PID +'\";'\n",
      "    cursor.execute(sql)\n",
      "    data = cursor.fetchall()\n",
      "    data = sorted(data)\n",
      "    rating = np.array(zip(*data)[1], dtype = int)\n",
      "    time = np.array(zip(*data)[0], dtype = float)\n",
      "    #dates=[dt.datetime.fromtimestamp(ts) for ts in time]\n",
      "    return rating, time#, dates"
     ],
     "language": "python",
     "metadata": {},
     "outputs": [],
     "prompt_number": 4
    },
    {
     "cell_type": "code",
     "collapsed": false,
     "input": [
      "def get_tokens(text):\n",
      "  # with open('/opt/datacourse/data/parts/shakes-1.txt', 'r') as shakes:\n",
      "    #text = shakes.read()\n",
      "    lowers = text.lower()\n",
      "    #remove the punctuation using the character deletion step of translate\n",
      "    no_punctuation = lowers.translate(None, string.punctuation)\n",
      "    tokens = nltk.word_tokenize(no_punctuation)\n",
      "    filtered = [w for w in tokens if not w in stopwords.words('english')]\n",
      "    return filtered"
     ],
     "language": "python",
     "metadata": {},
     "outputs": [],
     "prompt_number": 5
    },
    {
     "cell_type": "code",
     "collapsed": false,
     "input": [
      "def get_tot_review_text(PID, cursor, tablename):\n",
      "    rating, time = get_data(PID, cursor, tablename)\n",
      "    popmin, popmax = first_pop_time(time)\n",
      "    text = ''\n",
      "    sql = \"Select RSummary From \" +tablename + \" Where PID = \" + '\"' + PID +'\"' + \" and rtime < \" + str(popmax) + \";\"\n",
      "    cursor.execute(sql)\n",
      "    rtext = cursor.fetchall()\n",
      "    rtext = tuple(x[0] for x in rtext)\n",
      "    for string in rtext:\n",
      "        text = text + string\n",
      "    sql = \"Select RText From \" +tablename + \" Where PID = \" + '\"' + PID +'\"' + \" and rtime < \" + str(popmax) + \";\"\n",
      "    cursor.execute(sql)\n",
      "    rtext = cursor.fetchall()\n",
      "    rtext = tuple(x[0] for x in rtext)\n",
      "    for string in rtext:\n",
      "        text = text + string\n",
      "    return text"
     ],
     "language": "python",
     "metadata": {},
     "outputs": [],
     "prompt_number": 6
    },
    {
     "cell_type": "code",
     "collapsed": false,
     "input": [
      "def get_pop_review_text(PID, cursor, tablename):\n",
      "    rating, time = get_data(PID, cursor, tablename)\n",
      "    popmin, popmax = first_pop_time(time)\n",
      "    text = ''\n",
      "    sql = \"Select RSummary From \" +tablename + \" Where PID = \" + '\"' + PID +'\"' + ' and rtime > ' + str(popmin)+ \" and rtime < \" + str(popmax) + \";\"\n",
      "    cursor.execute(sql)\n",
      "    rtext = cursor.fetchall()\n",
      "    rtext = tuple(x[0] for x in rtext)\n",
      "    for string in rtext:\n",
      "        text = text + string\n",
      "    sql = \"Select RText From \" +tablename + \" Where PID = \" + '\"' + PID +'\"' + ' and rtime > ' + str(popmin)+ \" and rtime < \" + str(popmax) + \";\"\n",
      "    cursor.execute(sql)\n",
      "    rtext = cursor.fetchall()\n",
      "    rtext = tuple(x[0] for x in rtext)\n",
      "    for string in rtext:\n",
      "        text = text + string\n",
      "    return text, rtext"
     ],
     "language": "python",
     "metadata": {},
     "outputs": [],
     "prompt_number": 7
    },
    {
     "cell_type": "code",
     "collapsed": false,
     "input": [
      "def stem_tokens(tokens, stemmer):\n",
      "    stemmed = []\n",
      "    for item in tokens:\n",
      "        stemmed.append(stemmer.stem(item))\n",
      "    return stemmed"
     ],
     "language": "python",
     "metadata": {},
     "outputs": [],
     "prompt_number": 8
    },
    {
     "cell_type": "code",
     "collapsed": false,
     "input": [
      "def best_bigram_collector(finder, n, Ptitle):\n",
      "    #finder.apply_freq_filter(4)\n",
      "    list = finder.nbest(bigram_measures.jaccard, n*10)\n",
      "    Ptitle = get_tokens(str(Ptitle))\n",
      "    bests = []\n",
      "    count = 0\n",
      "    words = []\n",
      "    for item in list:\n",
      "        if count < n:\n",
      "            if item[0] not in words and item[1] not in words and item[0] not in ptitle and item[1] not in ptitle:\n",
      "                bests.append(item)\n",
      "                words.append(item[0])\n",
      "                words.append(item[1])\n",
      "                #words.append(item[2])\n",
      "                count = count + 1\n",
      "            else:\n",
      "                words.append(item[0])\n",
      "                words.append(item[1])\n",
      "                #words.append(item[2])\n",
      "        else:\n",
      "            break;\n",
      "    return bests"
     ],
     "language": "python",
     "metadata": {},
     "outputs": [],
     "prompt_number": 9
    },
    {
     "cell_type": "code",
     "collapsed": false,
     "input": [
      "def best_trigram_collector(finder, n, Ptitle):\n",
      "    #finder.apply_freq_filter(4)\n",
      "    list = finder.nbest(trigram_measures.raw_freq, n*10)\n",
      "    Ptitle = get_tokens(str(Ptitle))\n",
      "    bests = []\n",
      "    count = 0\n",
      "    words = []\n",
      "    for item in list:\n",
      "        if count < n:\n",
      "            if item[0] not in words and item[1] not in words and item[2] not in words and item[0] not in ptitle and item[1] not in ptitle and item[2] not in ptitle:   \n",
      "                bests.append(item)\n",
      "                words.append(item[0])\n",
      "                words.append(item[1])\n",
      "                words.append(item[2])\n",
      "                count = count + 1\n",
      "            else:\n",
      "                words.append(item[0])\n",
      "                words.append(item[1])\n",
      "                words.append(item[2])\n",
      "        else:\n",
      "            break;\n",
      "    return bests"
     ],
     "language": "python",
     "metadata": {},
     "outputs": [],
     "prompt_number": 10
    },
    {
     "cell_type": "code",
     "collapsed": false,
     "input": [],
     "language": "python",
     "metadata": {},
     "outputs": [],
     "prompt_number": 10
    },
    {
     "cell_type": "code",
     "collapsed": false,
     "input": [
      "database = \"home_kitchen\"\n",
      "tablename = \"all_hk\"\n",
      "db = MySQLdb.connect(host=\"localhost\", user=\"root\", db = database)\n",
      "cursor = db.cursor()"
     ],
     "language": "python",
     "metadata": {},
     "outputs": [],
     "prompt_number": 11
    },
    {
     "cell_type": "code",
     "collapsed": false,
     "input": [
      "#PID = ' B00005AQ9Q' #bad reviews so no one buys it. 99 reviews. \n",
      "PID = ' B0000E2PEI' #featured in consumer reports example\n",
      "#PID = ' B0000X7CMQ'\n",
      "#PID = ' B000S5XYI2'\n",
      "#PID = ' B00019G8IS'\n",
      "#PID = ' B000GTR2F6'\n",
      "#PID = ' B000GXZ2GS'  #really good!"
     ],
     "language": "python",
     "metadata": {},
     "outputs": [],
     "prompt_number": 12
    },
    {
     "cell_type": "code",
     "collapsed": false,
     "input": [
      "tot_text = get_tot_review_text(PID, cursor, tablename)\n",
      "pop_text, pop_revs = get_pop_review_text(PID, cursor, tablename)\n"
     ],
     "language": "python",
     "metadata": {},
     "outputs": [
      {
       "output_type": "stream",
       "stream": "stdout",
       "text": [
        "2010-02-05 16:00:00 2010-12-31 16:00:00\n",
        "2010-02-05 16:00:00 2010-12-31 16:00:00\n"
       ]
      }
     ],
     "prompt_number": 13
    },
    {
     "cell_type": "code",
     "collapsed": false,
     "input": [
      "tot_tokens = get_tokens(tot_text)\n",
      "pop_tokens = get_tokens(pop_text)\n"
     ],
     "language": "python",
     "metadata": {},
     "outputs": [],
     "prompt_number": 14
    },
    {
     "cell_type": "code",
     "collapsed": false,
     "input": [
      "cursor.execute(\"Select distinct PTitle from all_hk where PID = \" + '\"' + PID + '\";')\n",
      "ptitle = cursor.fetchall()\n",
      "ptitle = tuple(x[0] for x in ptitle)\n",
      "ptitle = get_tokens(ptitle[0])\n",
      "print ptitle"
     ],
     "language": "python",
     "metadata": {},
     "outputs": [
      {
       "output_type": "stream",
       "stream": "stdout",
       "text": [
        "['taylor', '7506', 'glass', 'chrome', 'digital', 'scale']\n"
       ]
      }
     ],
     "prompt_number": 15
    },
    {
     "cell_type": "code",
     "collapsed": false,
     "input": [
      "finder = BigramCollocationFinder.from_words(tot_tokens)\n",
      "finder.apply_freq_filter(4)\n",
      "finder.nbest(bigram_measures.jaccard, 20) "
     ],
     "language": "python",
     "metadata": {},
     "outputs": [
      {
       "metadata": {},
       "output_type": "pyout",
       "prompt_number": 16,
       "text": [
        "[('consumer', 'reports'),\n",
        " ('taylor', '7506'),\n",
        " ('doctors', 'office'),\n",
        " ('quality', 'control'),\n",
        " ('highly', 'recommend'),\n",
        " ('easy', 'read'),\n",
        " ('easy', 'use'),\n",
        " ('looks', 'great'),\n",
        " ('works', 'well'),\n",
        " ('2', 'pounds'),\n",
        " ('looks', 'nice'),\n",
        " ('pounds', 'heavier'),\n",
        " ('7506', 'precision'),\n",
        " ('nice', 'looking'),\n",
        " ('7506', 'bathroom'),\n",
        " ('looks', 'good'),\n",
        " ('3', 'pounds'),\n",
        " ('great', 'price'),\n",
        " ('good', 'looking'),\n",
        " ('low', 'price')]"
       ]
      }
     ],
     "prompt_number": 16
    },
    {
     "cell_type": "code",
     "collapsed": false,
     "input": [
      "finder = TrigramCollocationFinder.from_words(tot_tokens)\n",
      "finder.apply_freq_filter(2)\n",
      "finder.nbest(trigram_measures.raw_freq, 20) "
     ],
     "language": "python",
     "metadata": {},
     "outputs": [
      {
       "metadata": {},
       "output_type": "pyout",
       "prompt_number": 17,
       "text": [
        "[('taylor', '7506', 'scale'),\n",
        " ('7506', 'bathroom', 'scale'),\n",
        " ('taylor', '7506', 'bathroom'),\n",
        " ('scale', 'consumer', 'reports'),\n",
        " ('accurate', 'easy', 'read'),\n",
        " ('scale', 'looks', 'nice'),\n",
        " ('scale', 'taylor', '7506'),\n",
        " ('accurate', 'easy', 'use'),\n",
        " ('consumer', 'reports', 'magazine'),\n",
        " ('consumer', 'reports', 'scale'),\n",
        " ('good', 'looking', 'accurate'),\n",
        " ('great', 'scale', 'great'),\n",
        " ('highly', 'recommend', 'scale'),\n",
        " ('review', 'consumer', 'reports'),\n",
        " ('scale', 'doctors', 'office'),\n",
        " ('scale', 'great', 'price'),\n",
        " ('scale', 'great', 'scale'),\n",
        " ('scale', 'looks', 'great'),\n",
        " ('scale', 'review', 'taylor'),\n",
        " ('scale', 'taylor', 'scale')]"
       ]
      }
     ],
     "prompt_number": 17
    },
    {
     "cell_type": "code",
     "collapsed": false,
     "input": [
      "finder = BigramCollocationFinder.from_words(pop_tokens)\n",
      "finder.apply_freq_filter(4)\n",
      "if finder:\n",
      "    bestbigrams = best_bigram_collector(finder, 5, ptitle)\n",
      "print bestbigrams\n",
      "\n",
      "#finder.apply_freq_filter(4)\n",
      "#finder.nbest(bigram_measures.jaccard, 20) \n"
     ],
     "language": "python",
     "metadata": {},
     "outputs": [
      {
       "output_type": "stream",
       "stream": "stdout",
       "text": [
        "[('consumer', 'reports'), ('doctors', 'office'), ('highly', 'recommend'), ('easy', 'read'), ('works', 'well')]\n"
       ]
      }
     ],
     "prompt_number": 18
    },
    {
     "cell_type": "code",
     "collapsed": false,
     "input": [
      "finder = TrigramCollocationFinder.from_words(pop_tokens)\n",
      "#finder.apply_freq_filter(2)\n",
      "if finder:\n",
      "    besttrigrams = best_trigram_collector(finder, 5, ptitle)\n",
      "print besttrigrams"
     ],
     "language": "python",
     "metadata": {},
     "outputs": [
      {
       "output_type": "stream",
       "stream": "stdout",
       "text": [
        "[('accurate', 'easy', 'read'), ('weight', 'doctors', 'office'), ('lithiumbattery', 'electronic', 'glasschrome'), ('number', 'one', 'choice')]\n"
       ]
      }
     ],
     "prompt_number": 25
    },
    {
     "cell_type": "code",
     "collapsed": false,
     "input": [
      "##### now I\"m going to try and snag representative reviews. "
     ],
     "language": "python",
     "metadata": {},
     "outputs": [],
     "prompt_number": 20
    },
    {
     "cell_type": "code",
     "collapsed": false,
     "input": [
      "keywords = [item for sublist in bestbigrams for item in sublist] + [item for sublist in besttrigrams for item in sublist]\n",
      "print keywords"
     ],
     "language": "python",
     "metadata": {},
     "outputs": [
      {
       "output_type": "stream",
       "stream": "stdout",
       "text": [
        "['consumer', 'reports', 'doctors', 'office', 'highly', 'recommend', 'easy', 'read', 'works', 'well', 'accurate', 'easy', 'read', 'weight', 'doctors', 'office', 'lithiumbattery', 'electronic', 'glasschrome', 'number', 'one', 'choice']\n"
       ]
      }
     ],
     "prompt_number": 21
    },
    {
     "cell_type": "code",
     "collapsed": false,
     "input": [
      "print len(pop_revs)\n",
      "count = [0]*len(pop_revs)\n",
      "i = 0\n",
      "for rev in pop_revs:\n",
      "    #print rev\n",
      "    if len(rev)>0:\n",
      "        for word in get_tokens(rev):\n",
      "            #print word\n",
      "            if word in keywords:\n",
      "                count[i] += 1\n",
      "        count[i] = float(count[i])/float(len(rev))\n",
      "        i += 1"
     ],
     "language": "python",
     "metadata": {},
     "outputs": [
      {
       "output_type": "stream",
       "stream": "stdout",
       "text": [
        "142\n"
       ]
      }
     ],
     "prompt_number": 22
    },
    {
     "cell_type": "code",
     "collapsed": false,
     "input": [
      "#print count"
     ],
     "language": "python",
     "metadata": {},
     "outputs": [],
     "prompt_number": 23
    },
    {
     "cell_type": "code",
     "collapsed": false,
     "input": [
      "bestrevs = []\n",
      "for x, i in enumerate(count):\n",
      "    if i in heapq.nlargest(4, count):\n",
      "        bestrevs.append(pop_revs[x])\n",
      "        print pop_revs[x], '\\n'\n",
      "#print bestrevs"
     ],
     "language": "python",
     "metadata": {},
     "outputs": [
      {
       "output_type": "stream",
       "stream": "stdout",
       "text": [
        " The Taylor 7506 is very easy to read and unfortunately gives a very accurate reading of one's weight. \n",
        "\n",
        " This scale works well. I bought it with the guidence of Consumer Reports. So far so good. \n",
        "\n",
        " The scale registers the weight fine, but one can not read the numbers easily. It's too dark. \n",
        "\n",
        " I think it is accurate, easy to read and easy to move around the floor. \n",
        "\n"
       ]
      }
     ],
     "prompt_number": 24
    },
    {
     "cell_type": "code",
     "collapsed": false,
     "input": [
      "cursor.execute(\"Select distinct PTitle from all_hk where PID = \" + '\"' + PID + '\";')\n",
      "Ptitle = cursor.fetchall()\n",
      "print Ptitle"
     ],
     "language": "python",
     "metadata": {},
     "outputs": [
      {
       "output_type": "stream",
       "stream": "stdout",
       "text": [
        "((' Keurig B70 Platinum Brewing System',),)\n"
       ]
      }
     ],
     "prompt_number": 202
    },
    {
     "cell_type": "code",
     "collapsed": false,
     "input": [],
     "language": "python",
     "metadata": {},
     "outputs": []
    }
   ],
   "metadata": {}
  }
 ]
}