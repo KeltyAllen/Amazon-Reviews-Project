{
 "metadata": {
  "name": "",
  "signature": "sha256:acd7d63b180247d2680ff33a4c82f6c1eaae7fcc60273b29624cbd110025718f"
 },
 "nbformat": 3,
 "nbformat_minor": 0,
 "worksheets": [
  {
   "cells": [
    {
     "cell_type": "code",
     "collapsed": false,
     "input": [
      "import MySQLdb"
     ],
     "language": "python",
     "metadata": {},
     "outputs": [],
     "prompt_number": 1
    },
    {
     "cell_type": "code",
     "collapsed": false,
     "input": [
      "db = MySQLdb.connect(host=\"localhost\", user=\"root\", db = \"amazon_reviews\")"
     ],
     "language": "python",
     "metadata": {},
     "outputs": [],
     "prompt_number": 117
    },
    {
     "cell_type": "code",
     "collapsed": false,
     "input": [
      "cursor = db.cursor()"
     ],
     "language": "python",
     "metadata": {},
     "outputs": [],
     "prompt_number": 118
    },
    {
     "cell_type": "code",
     "collapsed": false,
     "input": [
      "def Jaccard (user_one, user_two, tablename, cursor):\n",
      "    intersect = 0\n",
      "    user_one = '\"' + user_one + '\"'\n",
      "    user_two = '\"' + user_two + '\"'\n",
      "    cursor.execute(\"SELECT DISTINCT PID FROM \"+tablename+\" WHERE RUserID = \" + user_one + \";\")\n",
      "    prods_one = cursor.fetchall()\n",
      "    #print prods_one\n",
      "    cursor.execute(\"SELECT DISTINCT PID FROM \"+ tablename+\" WHERE RUserID = \" + user_two + \";\")\n",
      "    prods_two = cursor.fetchall()\n",
      "    #print prods_two\n",
      "    intersect = 0\n",
      "    for i in range(min(len(prods_one), len(prods_two))):\n",
      "        if prods_one[i] == prods_two[i]:\n",
      "            intersect += 1\n",
      "    #print intersect\n",
      "    #print len(prods_one) + len(prods_two)\n",
      "    return intersect/(len(prods_one) + len(prods_two))"
     ],
     "language": "python",
     "metadata": {},
     "outputs": [],
     "prompt_number": 119
    },
    {
     "cell_type": "code",
     "collapsed": false,
     "input": [
      "Jaccard('A1TB7TA59Q4W5M', 'A2YVA1DQK1PUMK', 'multiple_5_star_reviews', cursor)"
     ],
     "language": "python",
     "metadata": {},
     "outputs": [
      {
       "metadata": {},
       "output_type": "pyout",
       "prompt_number": 120,
       "text": [
        "0"
       ]
      }
     ],
     "prompt_number": 120
    },
    {
     "cell_type": "code",
     "collapsed": false,
     "input": [
      "tablename = 'multiple_5_star_reviews'"
     ],
     "language": "python",
     "metadata": {},
     "outputs": [],
     "prompt_number": 106
    },
    {
     "cell_type": "code",
     "collapsed": false,
     "input": [
      "cursor.execute(\"SELECT DISTINCT PID FROM \"+tablename+\" Limit 500;\")\n",
      "prod_list = cursor.fetchall()\n",
      "prod_list = tuple(x[0] for x in prod_list)"
     ],
     "language": "python",
     "metadata": {},
     "outputs": [],
     "prompt_number": 121
    },
    {
     "cell_type": "code",
     "collapsed": false,
     "input": [
      "max_jac = 0"
     ],
     "language": "python",
     "metadata": {},
     "outputs": [],
     "prompt_number": 113
    },
    {
     "cell_type": "code",
     "collapsed": false,
     "input": [],
     "language": "python",
     "metadata": {},
     "outputs": []
    },
    {
     "cell_type": "code",
     "collapsed": false,
     "input": [
      "for k in range(len(prod_list)):\n",
      "    print \"product : \", prod_list[k], \"\\n\"\n",
      "    cursor.execute(\"SELECT RuserID FROM \"+tablename+\" WHERE PID = \" +'\"'+ prod_list[k] +'\"'+ \";\")\n",
      "    user_list = cursor.fetchall()\n",
      "    user_list = tuple(x[0] for x in user_list)\n",
      "    if len(user_list)>1:\n",
      "        for i in range(len(user_list)):\n",
      "            for j in range(i, len(user_list)):\n",
      "                print \"Jaccard of \", user_list[i], user_list[j], \" is: \", Jaccard(user_list[1], user_list[2], tablename, cursor),\"\\n\""
     ],
     "language": "python",
     "metadata": {},
     "outputs": [
      {
       "output_type": "stream",
       "stream": "stdout",
       "text": [
        " product :   B000XUOLVQ \n",
        "\n",
        "product :   B000K5JBZU \n",
        "\n",
        "product : "
       ]
      },
      {
       "output_type": "stream",
       "stream": "stdout",
       "text": [
        "  B00008FG1T \n",
        "\n",
        "product :   B00064MUJE \n",
        "\n",
        "product : "
       ]
      },
      {
       "output_type": "stream",
       "stream": "stdout",
       "text": [
        "  0671551345 \n",
        "\n",
        "product :   B0000DFZ2U \n",
        "\n",
        "product : "
       ]
      },
      {
       "output_type": "stream",
       "stream": "stdout",
       "text": [
        "  B0000WLLWE \n",
        "\n",
        "product :   B000LMPNO0 \n",
        "\n",
        "product : "
       ]
      },
      {
       "output_type": "stream",
       "stream": "stdout",
       "text": [
        "  050552421X \n",
        "\n",
        "product :   B0038QIYH4 \n",
        "\n",
        "product : "
       ]
      },
      {
       "output_type": "stream",
       "stream": "stdout",
       "text": [
        "  B0007H4QBK \n",
        "\n",
        "Jaccard of  A3QQLPR8R87ONM A3QQLPR8R87ONM  is:  "
       ]
      },
      {
       "output_type": "stream",
       "stream": "stdout",
       "text": [
        "0 \n",
        "\n",
        "Jaccard of  A3QQLPR8R87ONM A321W4SSC0F6AP  is:  "
       ]
      },
      {
       "output_type": "stream",
       "stream": "stdout",
       "text": [
        "0 \n",
        "\n",
        "Jaccard of  A3QQLPR8R87ONM A1OCZTOGV7T9BK  is:  "
       ]
      },
      {
       "output_type": "stream",
       "stream": "stdout",
       "text": [
        "0 \n",
        "\n",
        "Jaccard of  A321W4SSC0F6AP A321W4SSC0F6AP  is:  "
       ]
      },
      {
       "output_type": "stream",
       "stream": "stdout",
       "text": [
        "0 \n",
        "\n",
        "Jaccard of  A321W4SSC0F6AP A1OCZTOGV7T9BK  is:  "
       ]
      },
      {
       "output_type": "stream",
       "stream": "stdout",
       "text": [
        "0 \n",
        "\n",
        "Jaccard of  A1OCZTOGV7T9BK A1OCZTOGV7T9BK  is:  "
       ]
      },
      {
       "output_type": "stream",
       "stream": "stdout",
       "text": [
        "0 \n",
        "\n",
        "product :   B0000WLLWO \n",
        "\n",
        "product :   B000ND13H8 \n",
        "\n",
        "product : "
       ]
      },
      {
       "output_type": "stream",
       "stream": "stdout",
       "text": [
        "  081673447X \n",
        "\n",
        "product :   B000N6DDJQ \n",
        "\n",
        "Jaccard of "
       ]
      },
      {
       "output_type": "stream",
       "stream": "stdout",
       "text": [
        " A1TB7TA59Q4W5M A1TB7TA59Q4W5M  is:  "
       ]
      },
      {
       "output_type": "stream",
       "stream": "stdout",
       "text": [
        "0 \n",
        "\n",
        "Jaccard of  A1TB7TA59Q4W5M A2YVA1DQK1PUMK  is:  "
       ]
      },
      {
       "output_type": "stream",
       "stream": "stdout",
       "text": [
        "0 \n",
        "\n",
        "Jaccard of  A1TB7TA59Q4W5M AAVDCBZAAFZRA  is:  "
       ]
      },
      {
       "output_type": "stream",
       "stream": "stdout",
       "text": [
        "0 \n",
        "\n",
        "Jaccard of  A1TB7TA59Q4W5M A2IIEVX3HR4GH4  is:  "
       ]
      },
      {
       "output_type": "stream",
       "stream": "stdout",
       "text": [
        "0 \n",
        "\n",
        "Jaccard of  A1TB7TA59Q4W5M A1YNOXZA9WV0TX  is:  "
       ]
      },
      {
       "output_type": "stream",
       "stream": "stdout",
       "text": [
        "0 \n",
        "\n",
        "Jaccard of  A1TB7TA59Q4W5M A3AGVQMO48KT4X  is:  "
       ]
      },
      {
       "output_type": "stream",
       "stream": "stdout",
       "text": [
        "0 \n",
        "\n",
        "Jaccard of  A1TB7TA59Q4W5M A3POE7TZ7FFZDT  is:  "
       ]
      },
      {
       "output_type": "stream",
       "stream": "stdout",
       "text": [
        "0 \n",
        "\n",
        "Jaccard of  A1TB7TA59Q4W5M A8SHZDGCPGFQY  is:  "
       ]
      },
      {
       "output_type": "stream",
       "stream": "stdout",
       "text": [
        "0 \n",
        "\n",
        "Jaccard of  A1TB7TA59Q4W5M APGKUH3ECVS61  is:  "
       ]
      },
      {
       "output_type": "stream",
       "stream": "stdout",
       "text": [
        "0 \n",
        "\n",
        "Jaccard of  A1TB7TA59Q4W5M A3RURV3JC6LJU0  is:  "
       ]
      },
      {
       "output_type": "stream",
       "stream": "stdout",
       "text": [
        "0 \n",
        "\n",
        "Jaccard of  A1TB7TA59Q4W5M A2VUDEZFABPHRC  is:  "
       ]
      },
      {
       "output_type": "stream",
       "stream": "stdout",
       "text": [
        "0 \n",
        "\n",
        "Jaccard of  A1TB7TA59Q4W5M A3NI29U4P5NQF1  is:  "
       ]
      },
      {
       "output_type": "stream",
       "stream": "stdout",
       "text": [
        "0 \n",
        "\n",
        "Jaccard of  A1TB7TA59Q4W5M AU6TC44BPNTTH  is:  "
       ]
      },
      {
       "output_type": "stream",
       "stream": "stdout",
       "text": [
        "0 \n",
        "\n",
        "Jaccard of  A1TB7TA59Q4W5M A2RWQE8FNYAH0B  is:  "
       ]
      },
      {
       "output_type": "stream",
       "stream": "stdout",
       "text": [
        "0 \n",
        "\n",
        "Jaccard of  A1TB7TA59Q4W5M A7N5UKGJZB6RQ  is:  "
       ]
      },
      {
       "output_type": "stream",
       "stream": "stdout",
       "text": [
        "0 \n",
        "\n",
        "Jaccard of  A1TB7TA59Q4W5M A3R1D7LZUJ2H6H  is:  "
       ]
      },
      {
       "output_type": "stream",
       "stream": "stdout",
       "text": [
        "0 \n",
        "\n",
        "Jaccard of  A1TB7TA59Q4W5M A3GSUF7VQ92LT8  is:  "
       ]
      },
      {
       "output_type": "stream",
       "stream": "stdout",
       "text": [
        "0 \n",
        "\n",
        "Jaccard of  A1TB7TA59Q4W5M A23KVLM5HC8V13  is:  "
       ]
      },
      {
       "output_type": "stream",
       "stream": "stdout",
       "text": [
        "0 \n",
        "\n",
        "Jaccard of  A1TB7TA59Q4W5M A24WNIJZQTRZS5  is:  "
       ]
      },
      {
       "output_type": "stream",
       "stream": "stdout",
       "text": [
        "0 \n",
        "\n",
        "Jaccard of  A1TB7TA59Q4W5M A2FMN684QJUD2W  is:  "
       ]
      },
      {
       "output_type": "stream",
       "stream": "stdout",
       "text": [
        "0 \n",
        "\n",
        "Jaccard of  A1TB7TA59Q4W5M A25KEEQK88U659  is:  "
       ]
      },
      {
       "output_type": "stream",
       "stream": "stdout",
       "text": [
        "0 \n",
        "\n",
        "Jaccard of  A1TB7TA59Q4W5M A2ET702Y3IC2HF  is:  "
       ]
      },
      {
       "output_type": "stream",
       "stream": "stdout",
       "text": [
        "0 \n",
        "\n",
        "Jaccard of  A1TB7TA59Q4W5M A3LX0RSPLHEE5S  is:  "
       ]
      },
      {
       "output_type": "stream",
       "stream": "stdout",
       "text": [
        "0 \n",
        "\n",
        "Jaccard of  A1TB7TA59Q4W5M A1RCP8K3DTYUT1  is:  "
       ]
      },
      {
       "output_type": "stream",
       "stream": "stdout",
       "text": [
        "0 \n",
        "\n",
        "Jaccard of  A1TB7TA59Q4W5M A2QR0OBX1BB99O  is:  "
       ]
      },
      {
       "output_type": "stream",
       "stream": "stdout",
       "text": [
        "0 \n",
        "\n",
        "Jaccard of  A1TB7TA59Q4W5M APRE05RXN915U  is:  "
       ]
      },
      {
       "output_type": "stream",
       "stream": "stdout",
       "text": [
        "0 \n",
        "\n",
        "Jaccard of  A1TB7TA59Q4W5M A3P0Q1T6FN10QL  is:  "
       ]
      },
      {
       "output_type": "stream",
       "stream": "stdout",
       "text": [
        "0 \n",
        "\n",
        "Jaccard of  A1TB7TA59Q4W5M A1S9FRGMJ8PZSG  is:  "
       ]
      },
      {
       "output_type": "stream",
       "stream": "stdout",
       "text": [
        "0 \n",
        "\n",
        "Jaccard of  A1TB7TA59Q4W5M A1ZF1JV34FASKE  is:  "
       ]
      },
      {
       "output_type": "stream",
       "stream": "stdout",
       "text": [
        "0 \n",
        "\n",
        "Jaccard of  A1TB7TA59Q4W5M A29R36DKPVNVWD  is:  "
       ]
      },
      {
       "output_type": "stream",
       "stream": "stdout",
       "text": [
        "0 \n",
        "\n",
        "Jaccard of  A1TB7TA59Q4W5M A3QJ5EXCPY965H  is:  "
       ]
      },
      {
       "output_type": "stream",
       "stream": "stdout",
       "text": [
        "0 \n",
        "\n",
        "Jaccard of  A1TB7TA59Q4W5M A3LW3EZEYRDF1A  is:  "
       ]
      },
      {
       "output_type": "stream",
       "stream": "stdout",
       "text": [
        "0 \n",
        "\n",
        "Jaccard of  A1TB7TA59Q4W5M A3RAR5ZZGPF3VJ  is:  "
       ]
      },
      {
       "output_type": "stream",
       "stream": "stdout",
       "text": [
        "0 \n",
        "\n",
        "Jaccard of  A1TB7TA59Q4W5M AQFYGWUOGWBXY  is:  "
       ]
      },
      {
       "output_type": "stream",
       "stream": "stdout",
       "text": [
        "0 \n",
        "\n",
        "Jaccard of  A1TB7TA59Q4W5M A3KY8F557TOL1I  is:  "
       ]
      },
      {
       "output_type": "stream",
       "stream": "stdout",
       "text": [
        "0 \n",
        "\n",
        "Jaccard of  A1TB7TA59Q4W5M A3FL2VE5F1XYZZ  is:  "
       ]
      },
      {
       "output_type": "stream",
       "stream": "stdout",
       "text": [
        "0 \n",
        "\n",
        "Jaccard of  A1TB7TA59Q4W5M A2TB97EU2LXBUZ  is:  "
       ]
      },
      {
       "output_type": "stream",
       "stream": "stdout",
       "text": [
        "0 \n",
        "\n",
        "Jaccard of  A1TB7TA59Q4W5M A3PJKZ549TEUB6  is:  "
       ]
      },
      {
       "output_type": "stream",
       "stream": "stdout",
       "text": [
        "0 \n",
        "\n",
        "Jaccard of  A1TB7TA59Q4W5M A3IXV88WO45U4E  is:  "
       ]
      },
      {
       "output_type": "stream",
       "stream": "stdout",
       "text": [
        "0 \n",
        "\n",
        "Jaccard of  A1TB7TA59Q4W5M A2YX5L54JGPJDI  is:  "
       ]
      },
      {
       "output_type": "stream",
       "stream": "stdout",
       "text": [
        "0 \n",
        "\n",
        "Jaccard of  A1TB7TA59Q4W5M A1BAHT46HPEVH1  is:  "
       ]
      },
      {
       "output_type": "stream",
       "stream": "stdout",
       "text": [
        "0 \n",
        "\n",
        "Jaccard of  A1TB7TA59Q4W5M A1NMM0RDRF6R84  is:  "
       ]
      },
      {
       "output_type": "stream",
       "stream": "stdout",
       "text": [
        "0 \n",
        "\n",
        "Jaccard of  A1TB7TA59Q4W5M A14NCQUQ1XG09W  is:  "
       ]
      },
      {
       "output_type": "stream",
       "stream": "stdout",
       "text": [
        "0 \n",
        "\n",
        "Jaccard of  A1TB7TA59Q4W5M A1OXI0N58TMYY9  is:  "
       ]
      },
      {
       "output_type": "stream",
       "stream": "stdout",
       "text": [
        "0 \n",
        "\n",
        "Jaccard of  A1TB7TA59Q4W5M A1OXI0N58TMYY9  is:  "
       ]
      },
      {
       "output_type": "stream",
       "stream": "stdout",
       "text": [
        "0 \n",
        "\n",
        "Jaccard of  A1TB7TA59Q4W5M A374DPLAJ267SJ  is:  "
       ]
      },
      {
       "output_type": "stream",
       "stream": "stdout",
       "text": [
        "0 \n",
        "\n",
        "Jaccard of  A1TB7TA59Q4W5M A32DZR3UG3TNTO  is:  "
       ]
      },
      {
       "output_type": "stream",
       "stream": "stdout",
       "text": [
        "0 \n",
        "\n",
        "Jaccard of  A1TB7TA59Q4W5M A128K8GL4DJYTQ  is:  "
       ]
      },
      {
       "output_type": "stream",
       "stream": "stdout",
       "text": [
        "0 \n",
        "\n",
        "Jaccard of  A1TB7TA59Q4W5M ASWOIZH83RX39  is:  "
       ]
      },
      {
       "output_type": "stream",
       "stream": "stdout",
       "text": [
        "0 \n",
        "\n",
        "Jaccard of  A1TB7TA59Q4W5M A10D243CIM1BYJ  is:  "
       ]
      },
      {
       "output_type": "stream",
       "stream": "stdout",
       "text": [
        "0 \n",
        "\n",
        "Jaccard of  A1TB7TA59Q4W5M ARIPPNN6IHRP7  is:  "
       ]
      },
      {
       "output_type": "stream",
       "stream": "stdout",
       "text": [
        "0 \n",
        "\n",
        "Jaccard of  A1TB7TA59Q4W5M A3MUKHIAJOOLI2  is:  "
       ]
      },
      {
       "output_type": "stream",
       "stream": "stdout",
       "text": [
        "0 \n",
        "\n",
        "Jaccard of  A1TB7TA59Q4W5M A1K98Y2Q4GFDIU  is:  "
       ]
      },
      {
       "output_type": "stream",
       "stream": "stdout",
       "text": [
        "0 \n",
        "\n",
        "Jaccard of  A1TB7TA59Q4W5M A32MIVILCUX18L  is:  "
       ]
      },
      {
       "output_type": "stream",
       "stream": "stdout",
       "text": [
        "0 \n",
        "\n",
        "Jaccard of  A1TB7TA59Q4W5M A13YV794BQSKF9  is:  "
       ]
      },
      {
       "output_type": "stream",
       "stream": "stdout",
       "text": [
        "0 \n",
        "\n",
        "Jaccard of  A1TB7TA59Q4W5M A1HKKRS6JPZ8OC  is:  "
       ]
      },
      {
       "output_type": "stream",
       "stream": "stdout",
       "text": [
        "0 \n",
        "\n",
        "Jaccard of  A1TB7TA59Q4W5M A232HUAELH5J6V  is:  "
       ]
      },
      {
       "output_type": "stream",
       "stream": "stdout",
       "text": [
        "0 \n",
        "\n",
        "Jaccard of  A1TB7TA59Q4W5M A1OXI0N58TMYY9  is:  "
       ]
      },
      {
       "output_type": "stream",
       "stream": "stdout",
       "text": [
        "0 \n",
        "\n",
        "Jaccard of  A1TB7TA59Q4W5M A6TPHIXWU4Y7K  is:  "
       ]
      },
      {
       "output_type": "stream",
       "stream": "stdout",
       "text": [
        "0 \n",
        "\n",
        "Jaccard of  A1TB7TA59Q4W5M AAZXZU9CMWIC1  is:  "
       ]
      },
      {
       "output_type": "stream",
       "stream": "stdout",
       "text": [
        "0 \n",
        "\n",
        "Jaccard of  A1TB7TA59Q4W5M ALZYVC06EZU0H  is:  "
       ]
      },
      {
       "output_type": "stream",
       "stream": "stdout",
       "text": [
        "0 \n",
        "\n",
        "Jaccard of  A1TB7TA59Q4W5M A34989LDU92LBH  is:  "
       ]
      },
      {
       "output_type": "stream",
       "stream": "stdout",
       "text": [
        "0 \n",
        "\n",
        "Jaccard of  A1TB7TA59Q4W5M A15IK0978DBL14  is:  "
       ]
      },
      {
       "output_type": "stream",
       "stream": "stdout",
       "text": [
        "0 \n",
        "\n",
        "Jaccard of  A1TB7TA59Q4W5M AOYTGNBDDE5PE  is:  "
       ]
      },
      {
       "output_type": "stream",
       "stream": "stdout",
       "text": [
        "0 \n",
        "\n",
        "Jaccard of  A1TB7TA59Q4W5M A2DWN2MQYWKGNX  is:  "
       ]
      },
      {
       "output_type": "stream",
       "stream": "stdout",
       "text": [
        "0 \n",
        "\n",
        "Jaccard of  A1TB7TA59Q4W5M AZ31J70BQ9CM2  is:  "
       ]
      },
      {
       "output_type": "stream",
       "stream": "stdout",
       "text": [
        "0 \n",
        "\n",
        "Jaccard of  A1TB7TA59Q4W5M A1NXWJ0UYOMQ8O  is:  "
       ]
      },
      {
       "output_type": "stream",
       "stream": "stdout",
       "text": [
        "0 \n",
        "\n",
        "Jaccard of  A1TB7TA59Q4W5M A3R5RX4IA2Y2FI  is:  "
       ]
      },
      {
       "output_type": "stream",
       "stream": "stdout",
       "text": [
        "0 \n",
        "\n",
        "Jaccard of  A1TB7TA59Q4W5M A1Z4XCX0PC1HSM  is:  "
       ]
      },
      {
       "output_type": "stream",
       "stream": "stdout",
       "text": [
        "0 \n",
        "\n",
        "Jaccard of  A2YVA1DQK1PUMK A2YVA1DQK1PUMK  is:  "
       ]
      },
      {
       "output_type": "stream",
       "stream": "stdout",
       "text": [
        "0 \n",
        "\n",
        "Jaccard of  A2YVA1DQK1PUMK AAVDCBZAAFZRA  is:  "
       ]
      },
      {
       "output_type": "stream",
       "stream": "stdout",
       "text": [
        "0 \n",
        "\n",
        "Jaccard of  A2YVA1DQK1PUMK A2IIEVX3HR4GH4  is:  "
       ]
      },
      {
       "output_type": "stream",
       "stream": "stdout",
       "text": [
        "0 \n",
        "\n",
        "Jaccard of  A2YVA1DQK1PUMK A1YNOXZA9WV0TX  is:  "
       ]
      },
      {
       "output_type": "stream",
       "stream": "stdout",
       "text": [
        "0 \n",
        "\n",
        "Jaccard of  A2YVA1DQK1PUMK A3AGVQMO48KT4X  is:  "
       ]
      },
      {
       "output_type": "stream",
       "stream": "stdout",
       "text": [
        "0 \n",
        "\n",
        "Jaccard of  A2YVA1DQK1PUMK A3POE7TZ7FFZDT  is:  "
       ]
      },
      {
       "output_type": "stream",
       "stream": "stdout",
       "text": [
        "0 \n",
        "\n",
        "Jaccard of  A2YVA1DQK1PUMK A8SHZDGCPGFQY  is:  "
       ]
      },
      {
       "output_type": "stream",
       "stream": "stdout",
       "text": [
        "0 \n",
        "\n",
        "Jaccard of  A2YVA1DQK1PUMK APGKUH3ECVS61  is:  "
       ]
      },
      {
       "output_type": "stream",
       "stream": "stdout",
       "text": [
        "0 \n",
        "\n",
        "Jaccard of  A2YVA1DQK1PUMK A3RURV3JC6LJU0  is:  "
       ]
      },
      {
       "output_type": "stream",
       "stream": "stdout",
       "text": [
        "0 \n",
        "\n",
        "Jaccard of  A2YVA1DQK1PUMK A2VUDEZFABPHRC  is:  "
       ]
      },
      {
       "output_type": "stream",
       "stream": "stdout",
       "text": [
        "0 \n",
        "\n",
        "Jaccard of  A2YVA1DQK1PUMK A3NI29U4P5NQF1  is:  "
       ]
      },
      {
       "output_type": "stream",
       "stream": "stdout",
       "text": [
        "0 \n",
        "\n",
        "Jaccard of  A2YVA1DQK1PUMK AU6TC44BPNTTH  is:  "
       ]
      },
      {
       "output_type": "stream",
       "stream": "stdout",
       "text": [
        "0 \n",
        "\n",
        "Jaccard of  A2YVA1DQK1PUMK A2RWQE8FNYAH0B  is:  "
       ]
      },
      {
       "output_type": "stream",
       "stream": "stdout",
       "text": [
        "0 \n",
        "\n",
        "Jaccard of  A2YVA1DQK1PUMK A7N5UKGJZB6RQ  is:  "
       ]
      },
      {
       "output_type": "stream",
       "stream": "stdout",
       "text": [
        "0 \n",
        "\n",
        "Jaccard of  A2YVA1DQK1PUMK A3R1D7LZUJ2H6H  is:  "
       ]
      },
      {
       "output_type": "stream",
       "stream": "stdout",
       "text": [
        "0 \n",
        "\n",
        "Jaccard of  A2YVA1DQK1PUMK A3GSUF7VQ92LT8  is:  "
       ]
      },
      {
       "output_type": "stream",
       "stream": "stdout",
       "text": [
        "0 \n",
        "\n",
        "Jaccard of  A2YVA1DQK1PUMK A23KVLM5HC8V13  is:  "
       ]
      },
      {
       "output_type": "stream",
       "stream": "stdout",
       "text": [
        "0 \n",
        "\n",
        "Jaccard of  A2YVA1DQK1PUMK A24WNIJZQTRZS5  is:  "
       ]
      },
      {
       "output_type": "stream",
       "stream": "stdout",
       "text": [
        "0 \n",
        "\n",
        "Jaccard of  A2YVA1DQK1PUMK A2FMN684QJUD2W  is:  "
       ]
      },
      {
       "output_type": "stream",
       "stream": "stdout",
       "text": [
        "0 \n",
        "\n",
        "Jaccard of  A2YVA1DQK1PUMK A25KEEQK88U659  is:  "
       ]
      },
      {
       "output_type": "stream",
       "stream": "stdout",
       "text": [
        "0 \n",
        "\n",
        "Jaccard of  A2YVA1DQK1PUMK A2ET702Y3IC2HF  is:  "
       ]
      },
      {
       "output_type": "stream",
       "stream": "stdout",
       "text": [
        "0 \n",
        "\n",
        "Jaccard of  A2YVA1DQK1PUMK A3LX0RSPLHEE5S  is:  "
       ]
      },
      {
       "output_type": "stream",
       "stream": "stdout",
       "text": [
        "0 \n",
        "\n",
        "Jaccard of  A2YVA1DQK1PUMK A1RCP8K3DTYUT1  is:  "
       ]
      },
      {
       "output_type": "stream",
       "stream": "stdout",
       "text": [
        "0 \n",
        "\n",
        "Jaccard of  A2YVA1DQK1PUMK A2QR0OBX1BB99O  is:  "
       ]
      },
      {
       "output_type": "stream",
       "stream": "stdout",
       "text": [
        "0 \n",
        "\n",
        "Jaccard of  A2YVA1DQK1PUMK APRE05RXN915U  is:  "
       ]
      },
      {
       "output_type": "stream",
       "stream": "stdout",
       "text": [
        "0 \n",
        "\n",
        "Jaccard of  A2YVA1DQK1PUMK A3P0Q1T6FN10QL  is:  "
       ]
      },
      {
       "output_type": "stream",
       "stream": "stdout",
       "text": [
        "0 \n",
        "\n",
        "Jaccard of  A2YVA1DQK1PUMK A1S9FRGMJ8PZSG  is:  "
       ]
      },
      {
       "output_type": "stream",
       "stream": "stdout",
       "text": [
        "0 \n",
        "\n",
        "Jaccard of  A2YVA1DQK1PUMK A1ZF1JV34FASKE  is:  "
       ]
      },
      {
       "output_type": "stream",
       "stream": "stdout",
       "text": [
        "0 \n",
        "\n",
        "Jaccard of  A2YVA1DQK1PUMK A29R36DKPVNVWD  is:  "
       ]
      },
      {
       "output_type": "stream",
       "stream": "stdout",
       "text": [
        "0 \n",
        "\n",
        "Jaccard of  A2YVA1DQK1PUMK A3QJ5EXCPY965H  is:  "
       ]
      },
      {
       "output_type": "stream",
       "stream": "stdout",
       "text": [
        "0 \n",
        "\n",
        "Jaccard of  A2YVA1DQK1PUMK A3LW3EZEYRDF1A  is:  "
       ]
      },
      {
       "output_type": "stream",
       "stream": "stdout",
       "text": [
        "0 \n",
        "\n",
        "Jaccard of  A2YVA1DQK1PUMK A3RAR5ZZGPF3VJ  is:  "
       ]
      },
      {
       "output_type": "stream",
       "stream": "stdout",
       "text": [
        "0 \n",
        "\n",
        "Jaccard of  A2YVA1DQK1PUMK AQFYGWUOGWBXY  is:  "
       ]
      },
      {
       "output_type": "stream",
       "stream": "stdout",
       "text": [
        "0 \n",
        "\n",
        "Jaccard of  A2YVA1DQK1PUMK A3KY8F557TOL1I  is:  "
       ]
      },
      {
       "output_type": "stream",
       "stream": "stdout",
       "text": [
        "0 \n",
        "\n",
        "Jaccard of  A2YVA1DQK1PUMK A3FL2VE5F1XYZZ  is:  "
       ]
      },
      {
       "output_type": "stream",
       "stream": "stdout",
       "text": [
        "0 \n",
        "\n",
        "Jaccard of  A2YVA1DQK1PUMK A2TB97EU2LXBUZ  is:  "
       ]
      },
      {
       "output_type": "stream",
       "stream": "stdout",
       "text": [
        "0 \n",
        "\n",
        "Jaccard of  A2YVA1DQK1PUMK A3PJKZ549TEUB6  is:  "
       ]
      },
      {
       "output_type": "stream",
       "stream": "stdout",
       "text": [
        "0 \n",
        "\n",
        "Jaccard of  A2YVA1DQK1PUMK A3IXV88WO45U4E  is:  "
       ]
      },
      {
       "output_type": "stream",
       "stream": "stdout",
       "text": [
        "0 \n",
        "\n",
        "Jaccard of  A2YVA1DQK1PUMK A2YX5L54JGPJDI  is:  "
       ]
      },
      {
       "output_type": "stream",
       "stream": "stdout",
       "text": [
        "0 \n",
        "\n",
        "Jaccard of  A2YVA1DQK1PUMK A1BAHT46HPEVH1  is:  "
       ]
      },
      {
       "output_type": "stream",
       "stream": "stdout",
       "text": [
        "0 \n",
        "\n",
        "Jaccard of  A2YVA1DQK1PUMK A1NMM0RDRF6R84  is:  "
       ]
      },
      {
       "output_type": "stream",
       "stream": "stdout",
       "text": [
        "0 \n",
        "\n",
        "Jaccard of  A2YVA1DQK1PUMK A14NCQUQ1XG09W  is:  "
       ]
      },
      {
       "output_type": "stream",
       "stream": "stdout",
       "text": [
        "0 \n",
        "\n",
        "Jaccard of  A2YVA1DQK1PUMK A1OXI0N58TMYY9  is:  "
       ]
      },
      {
       "output_type": "stream",
       "stream": "stdout",
       "text": [
        "0 \n",
        "\n",
        "Jaccard of  A2YVA1DQK1PUMK A1OXI0N58TMYY9  is:  "
       ]
      },
      {
       "output_type": "stream",
       "stream": "stdout",
       "text": [
        "0 \n",
        "\n",
        "Jaccard of  A2YVA1DQK1PUMK A374DPLAJ267SJ  is:  "
       ]
      },
      {
       "output_type": "stream",
       "stream": "stdout",
       "text": [
        "0 \n",
        "\n",
        "Jaccard of  A2YVA1DQK1PUMK A32DZR3UG3TNTO  is:  "
       ]
      },
      {
       "output_type": "stream",
       "stream": "stdout",
       "text": [
        "0 \n",
        "\n",
        "Jaccard of  A2YVA1DQK1PUMK A128K8GL4DJYTQ  is:  "
       ]
      },
      {
       "output_type": "stream",
       "stream": "stdout",
       "text": [
        "0 \n",
        "\n",
        "Jaccard of  A2YVA1DQK1PUMK ASWOIZH83RX39  is:  "
       ]
      },
      {
       "output_type": "stream",
       "stream": "stdout",
       "text": [
        "0 \n",
        "\n",
        "Jaccard of  A2YVA1DQK1PUMK A10D243CIM1BYJ  is:  "
       ]
      },
      {
       "output_type": "stream",
       "stream": "stdout",
       "text": [
        "0 \n",
        "\n",
        "Jaccard of  A2YVA1DQK1PUMK ARIPPNN6IHRP7  is:  "
       ]
      },
      {
       "output_type": "stream",
       "stream": "stdout",
       "text": [
        "0 \n",
        "\n",
        "Jaccard of  A2YVA1DQK1PUMK A3MUKHIAJOOLI2  is:  "
       ]
      },
      {
       "output_type": "stream",
       "stream": "stdout",
       "text": [
        "0 \n",
        "\n",
        "Jaccard of  A2YVA1DQK1PUMK A1K98Y2Q4GFDIU  is:  "
       ]
      },
      {
       "output_type": "stream",
       "stream": "stdout",
       "text": [
        "0 \n",
        "\n",
        "Jaccard of  A2YVA1DQK1PUMK A32MIVILCUX18L  is:  "
       ]
      },
      {
       "output_type": "stream",
       "stream": "stdout",
       "text": [
        "0 \n",
        "\n",
        "Jaccard of  A2YVA1DQK1PUMK A13YV794BQSKF9  is:  "
       ]
      },
      {
       "output_type": "stream",
       "stream": "stdout",
       "text": [
        "0 \n",
        "\n",
        "Jaccard of  A2YVA1DQK1PUMK A1HKKRS6JPZ8OC  is:  "
       ]
      },
      {
       "output_type": "stream",
       "stream": "stdout",
       "text": [
        "0 \n",
        "\n",
        "Jaccard of  A2YVA1DQK1PUMK A232HUAELH5J6V  is:  "
       ]
      },
      {
       "output_type": "stream",
       "stream": "stdout",
       "text": [
        "0 \n",
        "\n",
        "Jaccard of  A2YVA1DQK1PUMK A1OXI0N58TMYY9  is:  "
       ]
      },
      {
       "output_type": "stream",
       "stream": "stdout",
       "text": [
        "0 \n",
        "\n",
        "Jaccard of  A2YVA1DQK1PUMK A6TPHIXWU4Y7K  is:  "
       ]
      },
      {
       "output_type": "stream",
       "stream": "stdout",
       "text": [
        "0 \n",
        "\n",
        "Jaccard of  A2YVA1DQK1PUMK AAZXZU9CMWIC1  is:  "
       ]
      },
      {
       "output_type": "stream",
       "stream": "stdout",
       "text": [
        "0 \n",
        "\n",
        "Jaccard of  A2YVA1DQK1PUMK ALZYVC06EZU0H  is:  "
       ]
      },
      {
       "output_type": "stream",
       "stream": "stdout",
       "text": [
        "0 \n",
        "\n",
        "Jaccard of  A2YVA1DQK1PUMK A34989LDU92LBH  is:  "
       ]
      },
      {
       "output_type": "stream",
       "stream": "stdout",
       "text": [
        "0 \n",
        "\n",
        "Jaccard of  A2YVA1DQK1PUMK A15IK0978DBL14  is:  "
       ]
      },
      {
       "output_type": "stream",
       "stream": "stdout",
       "text": [
        "0 \n",
        "\n",
        "Jaccard of  A2YVA1DQK1PUMK AOYTGNBDDE5PE  is:  "
       ]
      },
      {
       "output_type": "stream",
       "stream": "stdout",
       "text": [
        "0 \n",
        "\n",
        "Jaccard of  A2YVA1DQK1PUMK A2DWN2MQYWKGNX  is:  "
       ]
      },
      {
       "output_type": "stream",
       "stream": "stdout",
       "text": [
        "0 \n",
        "\n",
        "Jaccard of  A2YVA1DQK1PUMK AZ31J70BQ9CM2  is:  "
       ]
      },
      {
       "output_type": "stream",
       "stream": "stdout",
       "text": [
        "0 \n",
        "\n",
        "Jaccard of  A2YVA1DQK1PUMK A1NXWJ0UYOMQ8O  is:  "
       ]
      },
      {
       "output_type": "stream",
       "stream": "stdout",
       "text": [
        "0 \n",
        "\n",
        "Jaccard of  A2YVA1DQK1PUMK A3R5RX4IA2Y2FI  is:  "
       ]
      },
      {
       "output_type": "stream",
       "stream": "stdout",
       "text": [
        "0 \n",
        "\n",
        "Jaccard of  A2YVA1DQK1PUMK A1Z4XCX0PC1HSM  is:  "
       ]
      },
      {
       "output_type": "stream",
       "stream": "stdout",
       "text": [
        "0 \n",
        "\n",
        "Jaccard of  AAVDCBZAAFZRA AAVDCBZAAFZRA  is:  "
       ]
      },
      {
       "output_type": "stream",
       "stream": "stdout",
       "text": [
        "0 \n",
        "\n",
        "Jaccard of  AAVDCBZAAFZRA A2IIEVX3HR4GH4  is:  "
       ]
      },
      {
       "output_type": "stream",
       "stream": "stdout",
       "text": [
        "0 \n",
        "\n",
        "Jaccard of  AAVDCBZAAFZRA A1YNOXZA9WV0TX  is:  "
       ]
      },
      {
       "output_type": "stream",
       "stream": "stdout",
       "text": [
        "0 \n",
        "\n",
        "Jaccard of  AAVDCBZAAFZRA A3AGVQMO48KT4X  is:  "
       ]
      },
      {
       "output_type": "stream",
       "stream": "stdout",
       "text": [
        "0 \n",
        "\n",
        "Jaccard of  AAVDCBZAAFZRA A3POE7TZ7FFZDT  is:  "
       ]
      },
      {
       "output_type": "stream",
       "stream": "stdout",
       "text": [
        "0 \n",
        "\n",
        "Jaccard of  AAVDCBZAAFZRA A8SHZDGCPGFQY  is:  "
       ]
      },
      {
       "output_type": "stream",
       "stream": "stdout",
       "text": [
        "0 \n",
        "\n",
        "Jaccard of  AAVDCBZAAFZRA APGKUH3ECVS61  is:  "
       ]
      },
      {
       "output_type": "stream",
       "stream": "stdout",
       "text": [
        "0 \n",
        "\n",
        "Jaccard of  AAVDCBZAAFZRA A3RURV3JC6LJU0  is:  "
       ]
      },
      {
       "output_type": "stream",
       "stream": "stdout",
       "text": [
        "0 \n",
        "\n",
        "Jaccard of  AAVDCBZAAFZRA A2VUDEZFABPHRC  is:  "
       ]
      },
      {
       "output_type": "stream",
       "stream": "stdout",
       "text": [
        "0 \n",
        "\n",
        "Jaccard of  AAVDCBZAAFZRA A3NI29U4P5NQF1  is:  "
       ]
      },
      {
       "output_type": "stream",
       "stream": "stdout",
       "text": [
        "0 \n",
        "\n",
        "Jaccard of  AAVDCBZAAFZRA AU6TC44BPNTTH  is:  "
       ]
      },
      {
       "output_type": "stream",
       "stream": "stdout",
       "text": [
        "0 \n",
        "\n",
        "Jaccard of  AAVDCBZAAFZRA A2RWQE8FNYAH0B  is:  "
       ]
      },
      {
       "output_type": "stream",
       "stream": "stdout",
       "text": [
        "0 \n",
        "\n",
        "Jaccard of  AAVDCBZAAFZRA A7N5UKGJZB6RQ  is:  "
       ]
      },
      {
       "output_type": "stream",
       "stream": "stdout",
       "text": [
        "0 \n",
        "\n",
        "Jaccard of  AAVDCBZAAFZRA A3R1D7LZUJ2H6H  is:  "
       ]
      },
      {
       "output_type": "stream",
       "stream": "stdout",
       "text": [
        "0 \n",
        "\n",
        "Jaccard of  AAVDCBZAAFZRA A3GSUF7VQ92LT8  is:  "
       ]
      },
      {
       "output_type": "stream",
       "stream": "stdout",
       "text": [
        "0 \n",
        "\n",
        "Jaccard of  AAVDCBZAAFZRA A23KVLM5HC8V13  is:  "
       ]
      },
      {
       "output_type": "stream",
       "stream": "stdout",
       "text": [
        "0 \n",
        "\n",
        "Jaccard of  AAVDCBZAAFZRA A24WNIJZQTRZS5  is:  "
       ]
      },
      {
       "output_type": "stream",
       "stream": "stdout",
       "text": [
        "0 \n",
        "\n",
        "Jaccard of  AAVDCBZAAFZRA A2FMN684QJUD2W  is:  "
       ]
      },
      {
       "output_type": "stream",
       "stream": "stdout",
       "text": [
        "0 \n",
        "\n",
        "Jaccard of  AAVDCBZAAFZRA A25KEEQK88U659  is:  "
       ]
      },
      {
       "output_type": "stream",
       "stream": "stdout",
       "text": [
        "0 \n",
        "\n",
        "Jaccard of  AAVDCBZAAFZRA A2ET702Y3IC2HF  is:  "
       ]
      },
      {
       "output_type": "stream",
       "stream": "stdout",
       "text": [
        "0 \n",
        "\n",
        "Jaccard of  AAVDCBZAAFZRA A3LX0RSPLHEE5S  is:  "
       ]
      },
      {
       "output_type": "stream",
       "stream": "stdout",
       "text": [
        "0 \n",
        "\n",
        "Jaccard of  AAVDCBZAAFZRA A1RCP8K3DTYUT1  is:  "
       ]
      },
      {
       "output_type": "stream",
       "stream": "stdout",
       "text": [
        "0 \n",
        "\n",
        "Jaccard of  AAVDCBZAAFZRA A2QR0OBX1BB99O  is:  "
       ]
      },
      {
       "output_type": "stream",
       "stream": "stdout",
       "text": [
        "0 \n",
        "\n",
        "Jaccard of  AAVDCBZAAFZRA APRE05RXN915U  is:  "
       ]
      },
      {
       "output_type": "stream",
       "stream": "stdout",
       "text": [
        "0 \n",
        "\n",
        "Jaccard of  AAVDCBZAAFZRA A3P0Q1T6FN10QL  is:  "
       ]
      },
      {
       "output_type": "stream",
       "stream": "stdout",
       "text": [
        "0 \n",
        "\n",
        "Jaccard of  AAVDCBZAAFZRA A1S9FRGMJ8PZSG  is:  "
       ]
      },
      {
       "output_type": "stream",
       "stream": "stdout",
       "text": [
        "0 \n",
        "\n",
        "Jaccard of  AAVDCBZAAFZRA A1ZF1JV34FASKE  is:  "
       ]
      },
      {
       "output_type": "stream",
       "stream": "stdout",
       "text": [
        "0 \n",
        "\n",
        "Jaccard of  AAVDCBZAAFZRA A29R36DKPVNVWD  is:  "
       ]
      },
      {
       "output_type": "stream",
       "stream": "stdout",
       "text": [
        "0 \n",
        "\n",
        "Jaccard of  AAVDCBZAAFZRA A3QJ5EXCPY965H  is:  "
       ]
      },
      {
       "output_type": "stream",
       "stream": "stdout",
       "text": [
        "0 \n",
        "\n",
        "Jaccard of  AAVDCBZAAFZRA A3LW3EZEYRDF1A  is:  "
       ]
      },
      {
       "output_type": "stream",
       "stream": "stdout",
       "text": [
        "0 \n",
        "\n",
        "Jaccard of  AAVDCBZAAFZRA A3RAR5ZZGPF3VJ  is:  "
       ]
      },
      {
       "output_type": "stream",
       "stream": "stdout",
       "text": [
        "0 \n",
        "\n",
        "Jaccard of  AAVDCBZAAFZRA AQFYGWUOGWBXY  is:  "
       ]
      },
      {
       "output_type": "stream",
       "stream": "stdout",
       "text": [
        "0 \n",
        "\n",
        "Jaccard of  AAVDCBZAAFZRA A3KY8F557TOL1I  is:  "
       ]
      },
      {
       "output_type": "stream",
       "stream": "stdout",
       "text": [
        "0 \n",
        "\n",
        "Jaccard of  AAVDCBZAAFZRA A3FL2VE5F1XYZZ  is:  "
       ]
      },
      {
       "output_type": "stream",
       "stream": "stdout",
       "text": [
        "0 \n",
        "\n",
        "Jaccard of  AAVDCBZAAFZRA A2TB97EU2LXBUZ  is:  "
       ]
      },
      {
       "output_type": "stream",
       "stream": "stdout",
       "text": [
        "0 \n",
        "\n",
        "Jaccard of  AAVDCBZAAFZRA A3PJKZ549TEUB6  is:  "
       ]
      },
      {
       "output_type": "stream",
       "stream": "stdout",
       "text": [
        "0 \n",
        "\n",
        "Jaccard of  AAVDCBZAAFZRA A3IXV88WO45U4E  is:  "
       ]
      },
      {
       "output_type": "stream",
       "stream": "stdout",
       "text": [
        "0 \n",
        "\n",
        "Jaccard of  AAVDCBZAAFZRA A2YX5L54JGPJDI  is:  "
       ]
      },
      {
       "output_type": "stream",
       "stream": "stdout",
       "text": [
        "0 \n",
        "\n",
        "Jaccard of  AAVDCBZAAFZRA A1BAHT46HPEVH1  is:  "
       ]
      },
      {
       "output_type": "stream",
       "stream": "stdout",
       "text": [
        "0 \n",
        "\n",
        "Jaccard of  AAVDCBZAAFZRA A1NMM0RDRF6R84  is:  "
       ]
      },
      {
       "output_type": "stream",
       "stream": "stdout",
       "text": [
        "0 \n",
        "\n",
        "Jaccard of  AAVDCBZAAFZRA A14NCQUQ1XG09W  is:  "
       ]
      },
      {
       "output_type": "stream",
       "stream": "stdout",
       "text": [
        "0 \n",
        "\n",
        "Jaccard of  AAVDCBZAAFZRA A1OXI0N58TMYY9  is:  "
       ]
      },
      {
       "output_type": "stream",
       "stream": "stdout",
       "text": [
        "0 \n",
        "\n",
        "Jaccard of  AAVDCBZAAFZRA A1OXI0N58TMYY9  is:  "
       ]
      },
      {
       "output_type": "stream",
       "stream": "stdout",
       "text": [
        "0 \n",
        "\n",
        "Jaccard of  AAVDCBZAAFZRA A374DPLAJ267SJ  is:  "
       ]
      },
      {
       "output_type": "stream",
       "stream": "stdout",
       "text": [
        "0 \n",
        "\n",
        "Jaccard of  AAVDCBZAAFZRA A32DZR3UG3TNTO  is:  "
       ]
      },
      {
       "output_type": "stream",
       "stream": "stdout",
       "text": [
        "0 \n",
        "\n",
        "Jaccard of  AAVDCBZAAFZRA A128K8GL4DJYTQ  is:  "
       ]
      },
      {
       "output_type": "stream",
       "stream": "stdout",
       "text": [
        "0 \n",
        "\n",
        "Jaccard of  AAVDCBZAAFZRA ASWOIZH83RX39  is:  "
       ]
      },
      {
       "output_type": "stream",
       "stream": "stdout",
       "text": [
        "0 \n",
        "\n",
        "Jaccard of  AAVDCBZAAFZRA A10D243CIM1BYJ  is:  "
       ]
      },
      {
       "output_type": "stream",
       "stream": "stdout",
       "text": [
        "0 \n",
        "\n",
        "Jaccard of  AAVDCBZAAFZRA ARIPPNN6IHRP7  is:  "
       ]
      },
      {
       "output_type": "stream",
       "stream": "stdout",
       "text": [
        "0 \n",
        "\n",
        "Jaccard of  AAVDCBZAAFZRA A3MUKHIAJOOLI2  is:  "
       ]
      },
      {
       "output_type": "stream",
       "stream": "stdout",
       "text": [
        "0 \n",
        "\n",
        "Jaccard of  AAVDCBZAAFZRA A1K98Y2Q4GFDIU  is:  "
       ]
      },
      {
       "output_type": "stream",
       "stream": "stdout",
       "text": [
        "0 \n",
        "\n",
        "Jaccard of  AAVDCBZAAFZRA A32MIVILCUX18L  is:  "
       ]
      },
      {
       "output_type": "stream",
       "stream": "stdout",
       "text": [
        "0 \n",
        "\n",
        "Jaccard of  AAVDCBZAAFZRA A13YV794BQSKF9  is:  "
       ]
      },
      {
       "output_type": "stream",
       "stream": "stdout",
       "text": [
        "0 \n",
        "\n",
        "Jaccard of  AAVDCBZAAFZRA A1HKKRS6JPZ8OC  is:  "
       ]
      },
      {
       "output_type": "stream",
       "stream": "stdout",
       "text": [
        "0 \n",
        "\n",
        "Jaccard of  AAVDCBZAAFZRA A232HUAELH5J6V  is:  "
       ]
      },
      {
       "output_type": "stream",
       "stream": "stdout",
       "text": [
        "0 \n",
        "\n",
        "Jaccard of  AAVDCBZAAFZRA A1OXI0N58TMYY9  is:  "
       ]
      },
      {
       "output_type": "stream",
       "stream": "stdout",
       "text": [
        "0 \n",
        "\n",
        "Jaccard of  AAVDCBZAAFZRA A6TPHIXWU4Y7K  is:  "
       ]
      },
      {
       "output_type": "stream",
       "stream": "stdout",
       "text": [
        "0 \n",
        "\n",
        "Jaccard of  AAVDCBZAAFZRA AAZXZU9CMWIC1  is:  "
       ]
      },
      {
       "output_type": "stream",
       "stream": "stdout",
       "text": [
        "0 \n",
        "\n",
        "Jaccard of  AAVDCBZAAFZRA ALZYVC06EZU0H  is:  "
       ]
      },
      {
       "output_type": "stream",
       "stream": "stdout",
       "text": [
        "0 \n",
        "\n",
        "Jaccard of  AAVDCBZAAFZRA A34989LDU92LBH  is:  "
       ]
      },
      {
       "output_type": "stream",
       "stream": "stdout",
       "text": [
        "0 \n",
        "\n",
        "Jaccard of  AAVDCBZAAFZRA A15IK0978DBL14  is:  "
       ]
      },
      {
       "output_type": "stream",
       "stream": "stdout",
       "text": [
        "0 \n",
        "\n",
        "Jaccard of  AAVDCBZAAFZRA AOYTGNBDDE5PE  is:  "
       ]
      },
      {
       "output_type": "stream",
       "stream": "stdout",
       "text": [
        "0 \n",
        "\n",
        "Jaccard of  AAVDCBZAAFZRA A2DWN2MQYWKGNX  is:  "
       ]
      },
      {
       "output_type": "stream",
       "stream": "stdout",
       "text": [
        "0 \n",
        "\n",
        "Jaccard of  AAVDCBZAAFZRA AZ31J70BQ9CM2  is:  "
       ]
      },
      {
       "output_type": "stream",
       "stream": "stdout",
       "text": [
        "0 \n",
        "\n",
        "Jaccard of  AAVDCBZAAFZRA A1NXWJ0UYOMQ8O  is:  "
       ]
      },
      {
       "output_type": "stream",
       "stream": "stdout",
       "text": [
        "0 \n",
        "\n",
        "Jaccard of  AAVDCBZAAFZRA A3R5RX4IA2Y2FI  is:  "
       ]
      },
      {
       "output_type": "stream",
       "stream": "stdout",
       "text": [
        "0 \n",
        "\n",
        "Jaccard of  AAVDCBZAAFZRA A1Z4XCX0PC1HSM  is:  "
       ]
      },
      {
       "output_type": "stream",
       "stream": "stdout",
       "text": [
        "0 \n",
        "\n",
        "Jaccard of  A2IIEVX3HR4GH4 A2IIEVX3HR4GH4  is:  "
       ]
      },
      {
       "output_type": "stream",
       "stream": "stdout",
       "text": [
        "0 \n",
        "\n",
        "Jaccard of  A2IIEVX3HR4GH4 A1YNOXZA9WV0TX  is:  "
       ]
      },
      {
       "output_type": "stream",
       "stream": "stdout",
       "text": [
        "0 \n",
        "\n",
        "Jaccard of  A2IIEVX3HR4GH4 A3AGVQMO48KT4X  is:  "
       ]
      },
      {
       "output_type": "stream",
       "stream": "stdout",
       "text": [
        "0 \n",
        "\n",
        "Jaccard of  A2IIEVX3HR4GH4 A3POE7TZ7FFZDT  is:  "
       ]
      },
      {
       "output_type": "stream",
       "stream": "stdout",
       "text": [
        "0 \n",
        "\n",
        "Jaccard of  A2IIEVX3HR4GH4 A8SHZDGCPGFQY  is:  "
       ]
      },
      {
       "output_type": "stream",
       "stream": "stdout",
       "text": [
        "0 \n",
        "\n",
        "Jaccard of  A2IIEVX3HR4GH4 APGKUH3ECVS61  is:  "
       ]
      },
      {
       "output_type": "stream",
       "stream": "stdout",
       "text": [
        "0 \n",
        "\n",
        "Jaccard of  A2IIEVX3HR4GH4 A3RURV3JC6LJU0  is:  "
       ]
      },
      {
       "output_type": "stream",
       "stream": "stdout",
       "text": [
        "0 \n",
        "\n",
        "Jaccard of  A2IIEVX3HR4GH4 A2VUDEZFABPHRC  is:  "
       ]
      },
      {
       "output_type": "stream",
       "stream": "stdout",
       "text": [
        "0 \n",
        "\n",
        "Jaccard of  A2IIEVX3HR4GH4 A3NI29U4P5NQF1  is:  "
       ]
      },
      {
       "output_type": "stream",
       "stream": "stdout",
       "text": [
        "0 \n",
        "\n",
        "Jaccard of  A2IIEVX3HR4GH4 AU6TC44BPNTTH  is:  "
       ]
      },
      {
       "output_type": "stream",
       "stream": "stdout",
       "text": [
        "0 \n",
        "\n",
        "Jaccard of  A2IIEVX3HR4GH4 A2RWQE8FNYAH0B  is:  "
       ]
      },
      {
       "output_type": "stream",
       "stream": "stdout",
       "text": [
        "0 \n",
        "\n",
        "Jaccard of  A2IIEVX3HR4GH4 A7N5UKGJZB6RQ  is:  "
       ]
      },
      {
       "output_type": "stream",
       "stream": "stdout",
       "text": [
        "0 \n",
        "\n",
        "Jaccard of  A2IIEVX3HR4GH4 A3R1D7LZUJ2H6H  is:  "
       ]
      },
      {
       "output_type": "stream",
       "stream": "stdout",
       "text": [
        "0 \n",
        "\n",
        "Jaccard of  A2IIEVX3HR4GH4 A3GSUF7VQ92LT8  is:  "
       ]
      },
      {
       "output_type": "stream",
       "stream": "stdout",
       "text": [
        "0 \n",
        "\n",
        "Jaccard of  A2IIEVX3HR4GH4 A23KVLM5HC8V13  is:  "
       ]
      },
      {
       "output_type": "stream",
       "stream": "stdout",
       "text": [
        "0 \n",
        "\n",
        "Jaccard of  A2IIEVX3HR4GH4 A24WNIJZQTRZS5  is:  "
       ]
      },
      {
       "output_type": "stream",
       "stream": "stdout",
       "text": [
        "0 \n",
        "\n",
        "Jaccard of  A2IIEVX3HR4GH4 A2FMN684QJUD2W  is:  "
       ]
      },
      {
       "output_type": "stream",
       "stream": "stdout",
       "text": [
        "0 \n",
        "\n",
        "Jaccard of  A2IIEVX3HR4GH4 A25KEEQK88U659  is:  "
       ]
      },
      {
       "output_type": "stream",
       "stream": "stdout",
       "text": [
        "0 \n",
        "\n",
        "Jaccard of  A2IIEVX3HR4GH4 A2ET702Y3IC2HF  is:  "
       ]
      },
      {
       "output_type": "stream",
       "stream": "stdout",
       "text": [
        "0 \n",
        "\n",
        "Jaccard of  A2IIEVX3HR4GH4 A3LX0RSPLHEE5S  is:  "
       ]
      },
      {
       "output_type": "stream",
       "stream": "stdout",
       "text": [
        "0 \n",
        "\n",
        "Jaccard of  A2IIEVX3HR4GH4 A1RCP8K3DTYUT1  is:  "
       ]
      },
      {
       "output_type": "stream",
       "stream": "stdout",
       "text": [
        "0 \n",
        "\n",
        "Jaccard of  A2IIEVX3HR4GH4 A2QR0OBX1BB99O  is:  "
       ]
      },
      {
       "output_type": "stream",
       "stream": "stdout",
       "text": [
        "0 \n",
        "\n",
        "Jaccard of  A2IIEVX3HR4GH4 APRE05RXN915U  is:  "
       ]
      },
      {
       "output_type": "stream",
       "stream": "stdout",
       "text": [
        "0 \n",
        "\n",
        "Jaccard of  A2IIEVX3HR4GH4 A3P0Q1T6FN10QL  is:  "
       ]
      },
      {
       "output_type": "stream",
       "stream": "stdout",
       "text": [
        "0 \n",
        "\n",
        "Jaccard of  A2IIEVX3HR4GH4 A1S9FRGMJ8PZSG  is:  "
       ]
      },
      {
       "output_type": "stream",
       "stream": "stdout",
       "text": [
        "0 \n",
        "\n",
        "Jaccard of  A2IIEVX3HR4GH4 A1ZF1JV34FASKE  is:  "
       ]
      },
      {
       "output_type": "stream",
       "stream": "stdout",
       "text": [
        "0 \n",
        "\n",
        "Jaccard of  A2IIEVX3HR4GH4 A29R36DKPVNVWD  is:  "
       ]
      },
      {
       "output_type": "stream",
       "stream": "stdout",
       "text": [
        "0 \n",
        "\n",
        "Jaccard of  A2IIEVX3HR4GH4 A3QJ5EXCPY965H  is:  "
       ]
      },
      {
       "output_type": "stream",
       "stream": "stdout",
       "text": [
        "0 \n",
        "\n",
        "Jaccard of  A2IIEVX3HR4GH4 A3LW3EZEYRDF1A  is:  "
       ]
      },
      {
       "output_type": "stream",
       "stream": "stdout",
       "text": [
        "0 \n",
        "\n",
        "Jaccard of  A2IIEVX3HR4GH4 A3RAR5ZZGPF3VJ  is:  "
       ]
      },
      {
       "output_type": "stream",
       "stream": "stdout",
       "text": [
        "0 \n",
        "\n",
        "Jaccard of  A2IIEVX3HR4GH4 AQFYGWUOGWBXY  is:  "
       ]
      },
      {
       "output_type": "stream",
       "stream": "stdout",
       "text": [
        "0 \n",
        "\n",
        "Jaccard of  A2IIEVX3HR4GH4 A3KY8F557TOL1I  is:  "
       ]
      },
      {
       "output_type": "stream",
       "stream": "stdout",
       "text": [
        "0 \n",
        "\n",
        "Jaccard of  A2IIEVX3HR4GH4 A3FL2VE5F1XYZZ  is:  "
       ]
      },
      {
       "output_type": "stream",
       "stream": "stdout",
       "text": [
        "0 \n",
        "\n",
        "Jaccard of  A2IIEVX3HR4GH4 A2TB97EU2LXBUZ  is:  "
       ]
      },
      {
       "output_type": "stream",
       "stream": "stdout",
       "text": [
        "0 \n",
        "\n",
        "Jaccard of  A2IIEVX3HR4GH4 A3PJKZ549TEUB6  is:  "
       ]
      },
      {
       "output_type": "stream",
       "stream": "stdout",
       "text": [
        "0 \n",
        "\n",
        "Jaccard of  A2IIEVX3HR4GH4 A3IXV88WO45U4E  is:  "
       ]
      },
      {
       "output_type": "stream",
       "stream": "stdout",
       "text": [
        "0 \n",
        "\n",
        "Jaccard of  A2IIEVX3HR4GH4 A2YX5L54JGPJDI  is:  "
       ]
      },
      {
       "output_type": "stream",
       "stream": "stdout",
       "text": [
        "0 \n",
        "\n",
        "Jaccard of  A2IIEVX3HR4GH4 A1BAHT46HPEVH1  is:  "
       ]
      },
      {
       "output_type": "stream",
       "stream": "stdout",
       "text": [
        "0 \n",
        "\n",
        "Jaccard of  A2IIEVX3HR4GH4 A1NMM0RDRF6R84  is:  "
       ]
      },
      {
       "output_type": "stream",
       "stream": "stdout",
       "text": [
        "0 \n",
        "\n",
        "Jaccard of  A2IIEVX3HR4GH4 A14NCQUQ1XG09W  is:  "
       ]
      },
      {
       "output_type": "stream",
       "stream": "stdout",
       "text": [
        "0 \n",
        "\n",
        "Jaccard of  A2IIEVX3HR4GH4 A1OXI0N58TMYY9  is:  "
       ]
      },
      {
       "output_type": "stream",
       "stream": "stdout",
       "text": [
        "0 \n",
        "\n",
        "Jaccard of  A2IIEVX3HR4GH4 A1OXI0N58TMYY9  is:  "
       ]
      },
      {
       "output_type": "stream",
       "stream": "stdout",
       "text": [
        "0 \n",
        "\n",
        "Jaccard of  A2IIEVX3HR4GH4 A374DPLAJ267SJ  is:  "
       ]
      },
      {
       "output_type": "stream",
       "stream": "stdout",
       "text": [
        "0 \n",
        "\n",
        "Jaccard of  A2IIEVX3HR4GH4 A32DZR3UG3TNTO  is:  "
       ]
      },
      {
       "output_type": "stream",
       "stream": "stdout",
       "text": [
        "0 \n",
        "\n",
        "Jaccard of  A2IIEVX3HR4GH4 A128K8GL4DJYTQ  is:  "
       ]
      },
      {
       "output_type": "stream",
       "stream": "stdout",
       "text": [
        "0 \n",
        "\n",
        "Jaccard of  A2IIEVX3HR4GH4 ASWOIZH83RX39  is:  "
       ]
      },
      {
       "output_type": "stream",
       "stream": "stdout",
       "text": [
        "0 \n",
        "\n",
        "Jaccard of  A2IIEVX3HR4GH4 A10D243CIM1BYJ  is:  "
       ]
      },
      {
       "output_type": "stream",
       "stream": "stdout",
       "text": [
        "0 \n",
        "\n",
        "Jaccard of  A2IIEVX3HR4GH4 ARIPPNN6IHRP7  is:  "
       ]
      },
      {
       "output_type": "stream",
       "stream": "stdout",
       "text": [
        "0 \n",
        "\n",
        "Jaccard of  A2IIEVX3HR4GH4 A3MUKHIAJOOLI2  is:  "
       ]
      },
      {
       "output_type": "stream",
       "stream": "stdout",
       "text": [
        "0 \n",
        "\n",
        "Jaccard of  A2IIEVX3HR4GH4 A1K98Y2Q4GFDIU  is:  "
       ]
      },
      {
       "output_type": "stream",
       "stream": "stdout",
       "text": [
        "0 \n",
        "\n",
        "Jaccard of  A2IIEVX3HR4GH4 A32MIVILCUX18L  is:  "
       ]
      },
      {
       "output_type": "stream",
       "stream": "stdout",
       "text": [
        "0 \n",
        "\n",
        "Jaccard of  A2IIEVX3HR4GH4 A13YV794BQSKF9  is:  "
       ]
      },
      {
       "output_type": "stream",
       "stream": "stdout",
       "text": [
        "0 \n",
        "\n",
        "Jaccard of  A2IIEVX3HR4GH4 A1HKKRS6JPZ8OC  is:  "
       ]
      },
      {
       "output_type": "stream",
       "stream": "stdout",
       "text": [
        "0 \n",
        "\n",
        "Jaccard of  A2IIEVX3HR4GH4 A232HUAELH5J6V  is:  "
       ]
      },
      {
       "output_type": "stream",
       "stream": "stdout",
       "text": [
        "0 \n",
        "\n",
        "Jaccard of  A2IIEVX3HR4GH4 A1OXI0N58TMYY9  is:  "
       ]
      },
      {
       "output_type": "stream",
       "stream": "stdout",
       "text": [
        "0 \n",
        "\n",
        "Jaccard of  A2IIEVX3HR4GH4 A6TPHIXWU4Y7K  is:  "
       ]
      },
      {
       "output_type": "stream",
       "stream": "stdout",
       "text": [
        "0 \n",
        "\n",
        "Jaccard of  A2IIEVX3HR4GH4 AAZXZU9CMWIC1  is:  "
       ]
      },
      {
       "output_type": "stream",
       "stream": "stdout",
       "text": [
        "0 \n",
        "\n",
        "Jaccard of  A2IIEVX3HR4GH4 ALZYVC06EZU0H  is:  "
       ]
      },
      {
       "output_type": "stream",
       "stream": "stdout",
       "text": [
        "0 \n",
        "\n",
        "Jaccard of  A2IIEVX3HR4GH4 A34989LDU92LBH  is:  "
       ]
      },
      {
       "output_type": "stream",
       "stream": "stdout",
       "text": [
        "0 \n",
        "\n",
        "Jaccard of  A2IIEVX3HR4GH4 A15IK0978DBL14  is:  "
       ]
      },
      {
       "output_type": "stream",
       "stream": "stdout",
       "text": [
        "0 \n",
        "\n",
        "Jaccard of  A2IIEVX3HR4GH4 AOYTGNBDDE5PE  is:  "
       ]
      },
      {
       "output_type": "stream",
       "stream": "stdout",
       "text": [
        "0 \n",
        "\n",
        "Jaccard of  A2IIEVX3HR4GH4 A2DWN2MQYWKGNX  is:  "
       ]
      },
      {
       "output_type": "stream",
       "stream": "stdout",
       "text": [
        "0 \n",
        "\n",
        "Jaccard of  A2IIEVX3HR4GH4 AZ31J70BQ9CM2  is:  "
       ]
      },
      {
       "output_type": "stream",
       "stream": "stdout",
       "text": [
        "0 \n",
        "\n",
        "Jaccard of  A2IIEVX3HR4GH4 A1NXWJ0UYOMQ8O  is:  "
       ]
      },
      {
       "output_type": "stream",
       "stream": "stdout",
       "text": [
        "0 \n",
        "\n",
        "Jaccard of  A2IIEVX3HR4GH4 A3R5RX4IA2Y2FI  is:  "
       ]
      },
      {
       "output_type": "stream",
       "stream": "stdout",
       "text": [
        "0 \n",
        "\n",
        "Jaccard of  A2IIEVX3HR4GH4 A1Z4XCX0PC1HSM  is:  "
       ]
      },
      {
       "output_type": "stream",
       "stream": "stdout",
       "text": [
        "0 \n",
        "\n",
        "Jaccard of  A1YNOXZA9WV0TX A1YNOXZA9WV0TX  is:  "
       ]
      },
      {
       "output_type": "stream",
       "stream": "stdout",
       "text": [
        "0 \n",
        "\n",
        "Jaccard of  A1YNOXZA9WV0TX A3AGVQMO48KT4X  is:  "
       ]
      },
      {
       "output_type": "stream",
       "stream": "stdout",
       "text": [
        "0 \n",
        "\n",
        "Jaccard of  A1YNOXZA9WV0TX A3POE7TZ7FFZDT  is:  "
       ]
      },
      {
       "output_type": "stream",
       "stream": "stdout",
       "text": [
        "0 \n",
        "\n",
        "Jaccard of  A1YNOXZA9WV0TX A8SHZDGCPGFQY  is:  "
       ]
      },
      {
       "output_type": "stream",
       "stream": "stdout",
       "text": [
        "0 \n",
        "\n",
        "Jaccard of  A1YNOXZA9WV0TX APGKUH3ECVS61  is:  "
       ]
      },
      {
       "output_type": "stream",
       "stream": "stdout",
       "text": [
        "0 \n",
        "\n",
        "Jaccard of  A1YNOXZA9WV0TX A3RURV3JC6LJU0  is:  "
       ]
      },
      {
       "output_type": "stream",
       "stream": "stdout",
       "text": [
        "0 \n",
        "\n",
        "Jaccard of  A1YNOXZA9WV0TX A2VUDEZFABPHRC  is:  "
       ]
      },
      {
       "output_type": "stream",
       "stream": "stdout",
       "text": [
        "0 \n",
        "\n",
        "Jaccard of  A1YNOXZA9WV0TX A3NI29U4P5NQF1  is:  "
       ]
      },
      {
       "output_type": "stream",
       "stream": "stdout",
       "text": [
        "0 \n",
        "\n",
        "Jaccard of  A1YNOXZA9WV0TX AU6TC44BPNTTH  is:  "
       ]
      },
      {
       "output_type": "stream",
       "stream": "stdout",
       "text": [
        "0 \n",
        "\n",
        "Jaccard of  A1YNOXZA9WV0TX A2RWQE8FNYAH0B  is:  "
       ]
      },
      {
       "output_type": "stream",
       "stream": "stdout",
       "text": [
        "0 \n",
        "\n",
        "Jaccard of  A1YNOXZA9WV0TX A7N5UKGJZB6RQ  is:  "
       ]
      },
      {
       "output_type": "stream",
       "stream": "stdout",
       "text": [
        "0 \n",
        "\n",
        "Jaccard of  A1YNOXZA9WV0TX A3R1D7LZUJ2H6H  is:  "
       ]
      },
      {
       "output_type": "stream",
       "stream": "stdout",
       "text": [
        "0 \n",
        "\n",
        "Jaccard of  A1YNOXZA9WV0TX A3GSUF7VQ92LT8  is:  "
       ]
      },
      {
       "output_type": "stream",
       "stream": "stdout",
       "text": [
        "0 \n",
        "\n",
        "Jaccard of  A1YNOXZA9WV0TX A23KVLM5HC8V13  is:  "
       ]
      },
      {
       "output_type": "stream",
       "stream": "stdout",
       "text": [
        "0 \n",
        "\n",
        "Jaccard of  A1YNOXZA9WV0TX A24WNIJZQTRZS5  is:  "
       ]
      },
      {
       "output_type": "stream",
       "stream": "stdout",
       "text": [
        "0 \n",
        "\n",
        "Jaccard of  A1YNOXZA9WV0TX A2FMN684QJUD2W  is:  "
       ]
      },
      {
       "output_type": "stream",
       "stream": "stdout",
       "text": [
        "0 \n",
        "\n",
        "Jaccard of  A1YNOXZA9WV0TX A25KEEQK88U659  is:  "
       ]
      },
      {
       "output_type": "stream",
       "stream": "stdout",
       "text": [
        "0 \n",
        "\n",
        "Jaccard of  A1YNOXZA9WV0TX A2ET702Y3IC2HF  is:  "
       ]
      },
      {
       "output_type": "stream",
       "stream": "stdout",
       "text": [
        "0 \n",
        "\n",
        "Jaccard of  A1YNOXZA9WV0TX A3LX0RSPLHEE5S  is:  "
       ]
      },
      {
       "output_type": "stream",
       "stream": "stdout",
       "text": [
        "0 \n",
        "\n",
        "Jaccard of  A1YNOXZA9WV0TX A1RCP8K3DTYUT1  is:  "
       ]
      },
      {
       "output_type": "stream",
       "stream": "stdout",
       "text": [
        "0 \n",
        "\n",
        "Jaccard of  A1YNOXZA9WV0TX A2QR0OBX1BB99O  is:  "
       ]
      },
      {
       "output_type": "stream",
       "stream": "stdout",
       "text": [
        "0 \n",
        "\n",
        "Jaccard of  A1YNOXZA9WV0TX APRE05RXN915U  is:  "
       ]
      },
      {
       "output_type": "stream",
       "stream": "stdout",
       "text": [
        "0 \n",
        "\n",
        "Jaccard of  A1YNOXZA9WV0TX A3P0Q1T6FN10QL  is:  "
       ]
      },
      {
       "output_type": "stream",
       "stream": "stdout",
       "text": [
        "0 \n",
        "\n",
        "Jaccard of  A1YNOXZA9WV0TX A1S9FRGMJ8PZSG  is:  "
       ]
      },
      {
       "output_type": "stream",
       "stream": "stdout",
       "text": [
        "0 \n",
        "\n",
        "Jaccard of  A1YNOXZA9WV0TX A1ZF1JV34FASKE  is:  "
       ]
      },
      {
       "output_type": "stream",
       "stream": "stdout",
       "text": [
        "0 \n",
        "\n",
        "Jaccard of  A1YNOXZA9WV0TX A29R36DKPVNVWD  is:  "
       ]
      },
      {
       "output_type": "stream",
       "stream": "stdout",
       "text": [
        "0 \n",
        "\n",
        "Jaccard of  A1YNOXZA9WV0TX A3QJ5EXCPY965H  is:  "
       ]
      },
      {
       "output_type": "stream",
       "stream": "stdout",
       "text": [
        "0 \n",
        "\n",
        "Jaccard of  A1YNOXZA9WV0TX A3LW3EZEYRDF1A  is:  "
       ]
      },
      {
       "output_type": "stream",
       "stream": "stdout",
       "text": [
        "0 \n",
        "\n",
        "Jaccard of  A1YNOXZA9WV0TX A3RAR5ZZGPF3VJ  is:  "
       ]
      },
      {
       "output_type": "stream",
       "stream": "stdout",
       "text": [
        "0 \n",
        "\n",
        "Jaccard of  A1YNOXZA9WV0TX AQFYGWUOGWBXY  is:  "
       ]
      },
      {
       "output_type": "stream",
       "stream": "stdout",
       "text": [
        "0 \n",
        "\n",
        "Jaccard of  A1YNOXZA9WV0TX A3KY8F557TOL1I  is:  "
       ]
      },
      {
       "output_type": "stream",
       "stream": "stdout",
       "text": [
        "0 \n",
        "\n",
        "Jaccard of  A1YNOXZA9WV0TX A3FL2VE5F1XYZZ  is:  "
       ]
      },
      {
       "output_type": "stream",
       "stream": "stdout",
       "text": [
        "0 \n",
        "\n",
        "Jaccard of  A1YNOXZA9WV0TX A2TB97EU2LXBUZ  is:  "
       ]
      },
      {
       "output_type": "stream",
       "stream": "stdout",
       "text": [
        "0 \n",
        "\n",
        "Jaccard of  A1YNOXZA9WV0TX A3PJKZ549TEUB6  is:  "
       ]
      },
      {
       "output_type": "stream",
       "stream": "stdout",
       "text": [
        "0 \n",
        "\n",
        "Jaccard of  A1YNOXZA9WV0TX A3IXV88WO45U4E  is:  "
       ]
      },
      {
       "output_type": "stream",
       "stream": "stdout",
       "text": [
        "0 \n",
        "\n",
        "Jaccard of  A1YNOXZA9WV0TX A2YX5L54JGPJDI  is:  "
       ]
      },
      {
       "output_type": "stream",
       "stream": "stdout",
       "text": [
        "0 \n",
        "\n",
        "Jaccard of  A1YNOXZA9WV0TX A1BAHT46HPEVH1  is:  "
       ]
      },
      {
       "output_type": "stream",
       "stream": "stdout",
       "text": [
        "0 \n",
        "\n",
        "Jaccard of  A1YNOXZA9WV0TX A1NMM0RDRF6R84  is:  "
       ]
      },
      {
       "output_type": "stream",
       "stream": "stdout",
       "text": [
        "0 \n",
        "\n",
        "Jaccard of  A1YNOXZA9WV0TX A14NCQUQ1XG09W  is:  "
       ]
      },
      {
       "output_type": "stream",
       "stream": "stdout",
       "text": [
        "0 \n",
        "\n",
        "Jaccard of  A1YNOXZA9WV0TX A1OXI0N58TMYY9  is:  "
       ]
      },
      {
       "output_type": "stream",
       "stream": "stdout",
       "text": [
        "0 \n",
        "\n",
        "Jaccard of  A1YNOXZA9WV0TX A1OXI0N58TMYY9  is:  "
       ]
      },
      {
       "output_type": "stream",
       "stream": "stdout",
       "text": [
        "0 \n",
        "\n",
        "Jaccard of  A1YNOXZA9WV0TX A374DPLAJ267SJ  is:  "
       ]
      },
      {
       "output_type": "stream",
       "stream": "stdout",
       "text": [
        "0 \n",
        "\n",
        "Jaccard of  A1YNOXZA9WV0TX A32DZR3UG3TNTO  is:  "
       ]
      },
      {
       "output_type": "stream",
       "stream": "stdout",
       "text": [
        "0 \n",
        "\n",
        "Jaccard of  A1YNOXZA9WV0TX A128K8GL4DJYTQ  is:  "
       ]
      },
      {
       "output_type": "stream",
       "stream": "stdout",
       "text": [
        "0 \n",
        "\n",
        "Jaccard of  A1YNOXZA9WV0TX ASWOIZH83RX39  is:  "
       ]
      },
      {
       "output_type": "stream",
       "stream": "stdout",
       "text": [
        "0 \n",
        "\n",
        "Jaccard of  A1YNOXZA9WV0TX A10D243CIM1BYJ  is:  "
       ]
      },
      {
       "output_type": "stream",
       "stream": "stdout",
       "text": [
        "0 \n",
        "\n",
        "Jaccard of  A1YNOXZA9WV0TX ARIPPNN6IHRP7  is:  "
       ]
      },
      {
       "output_type": "stream",
       "stream": "stdout",
       "text": [
        "0 \n",
        "\n",
        "Jaccard of  A1YNOXZA9WV0TX A3MUKHIAJOOLI2  is:  "
       ]
      },
      {
       "output_type": "stream",
       "stream": "stdout",
       "text": [
        "0 \n",
        "\n",
        "Jaccard of  A1YNOXZA9WV0TX A1K98Y2Q4GFDIU  is:  "
       ]
      },
      {
       "output_type": "stream",
       "stream": "stdout",
       "text": [
        "0 \n",
        "\n",
        "Jaccard of  A1YNOXZA9WV0TX A32MIVILCUX18L  is:  "
       ]
      },
      {
       "output_type": "stream",
       "stream": "stdout",
       "text": [
        "0 \n",
        "\n",
        "Jaccard of  A1YNOXZA9WV0TX A13YV794BQSKF9  is:  "
       ]
      },
      {
       "output_type": "stream",
       "stream": "stdout",
       "text": [
        "0 \n",
        "\n",
        "Jaccard of  A1YNOXZA9WV0TX A1HKKRS6JPZ8OC  is:  "
       ]
      },
      {
       "output_type": "stream",
       "stream": "stdout",
       "text": [
        "0 \n",
        "\n",
        "Jaccard of  A1YNOXZA9WV0TX A232HUAELH5J6V  is:  "
       ]
      },
      {
       "output_type": "stream",
       "stream": "stdout",
       "text": [
        "0 \n",
        "\n",
        "Jaccard of  A1YNOXZA9WV0TX A1OXI0N58TMYY9  is:  "
       ]
      },
      {
       "output_type": "stream",
       "stream": "stdout",
       "text": [
        "0 \n",
        "\n",
        "Jaccard of  A1YNOXZA9WV0TX A6TPHIXWU4Y7K  is:  "
       ]
      },
      {
       "output_type": "stream",
       "stream": "stdout",
       "text": [
        "0 \n",
        "\n",
        "Jaccard of  A1YNOXZA9WV0TX AAZXZU9CMWIC1  is:  "
       ]
      },
      {
       "output_type": "stream",
       "stream": "stdout",
       "text": [
        "0 \n",
        "\n",
        "Jaccard of  A1YNOXZA9WV0TX ALZYVC06EZU0H  is:  "
       ]
      },
      {
       "output_type": "stream",
       "stream": "stdout",
       "text": [
        "0 \n",
        "\n",
        "Jaccard of  A1YNOXZA9WV0TX A34989LDU92LBH  is:  "
       ]
      },
      {
       "output_type": "stream",
       "stream": "stdout",
       "text": [
        "0 \n",
        "\n",
        "Jaccard of  A1YNOXZA9WV0TX A15IK0978DBL14  is:  "
       ]
      },
      {
       "output_type": "stream",
       "stream": "stdout",
       "text": [
        "0 \n",
        "\n",
        "Jaccard of  A1YNOXZA9WV0TX AOYTGNBDDE5PE  is:  "
       ]
      },
      {
       "output_type": "stream",
       "stream": "stdout",
       "text": [
        "0 \n",
        "\n",
        "Jaccard of  A1YNOXZA9WV0TX A2DWN2MQYWKGNX  is:  "
       ]
      },
      {
       "output_type": "stream",
       "stream": "stdout",
       "text": [
        "0 \n",
        "\n",
        "Jaccard of  A1YNOXZA9WV0TX AZ31J70BQ9CM2  is:  "
       ]
      },
      {
       "output_type": "stream",
       "stream": "stdout",
       "text": [
        "0 \n",
        "\n",
        "Jaccard of  A1YNOXZA9WV0TX A1NXWJ0UYOMQ8O  is:  "
       ]
      },
      {
       "output_type": "stream",
       "stream": "stdout",
       "text": [
        "0 \n",
        "\n",
        "Jaccard of  A1YNOXZA9WV0TX A3R5RX4IA2Y2FI  is:  "
       ]
      },
      {
       "output_type": "stream",
       "stream": "stdout",
       "text": [
        "0 \n",
        "\n",
        "Jaccard of  A1YNOXZA9WV0TX A1Z4XCX0PC1HSM  is:  "
       ]
      },
      {
       "output_type": "stream",
       "stream": "stdout",
       "text": [
        "0 \n",
        "\n",
        "Jaccard of  A3AGVQMO48KT4X A3AGVQMO48KT4X  is:  "
       ]
      },
      {
       "output_type": "stream",
       "stream": "stdout",
       "text": [
        "0 \n",
        "\n",
        "Jaccard of  A3AGVQMO48KT4X A3POE7TZ7FFZDT  is:  "
       ]
      },
      {
       "output_type": "stream",
       "stream": "stdout",
       "text": [
        "0 \n",
        "\n",
        "Jaccard of  A3AGVQMO48KT4X A8SHZDGCPGFQY  is:  "
       ]
      },
      {
       "output_type": "stream",
       "stream": "stdout",
       "text": [
        "0 \n",
        "\n",
        "Jaccard of  A3AGVQMO48KT4X APGKUH3ECVS61  is:  "
       ]
      },
      {
       "output_type": "stream",
       "stream": "stdout",
       "text": [
        "0 \n",
        "\n",
        "Jaccard of  A3AGVQMO48KT4X A3RURV3JC6LJU0  is:  "
       ]
      },
      {
       "output_type": "stream",
       "stream": "stdout",
       "text": [
        "0 \n",
        "\n",
        "Jaccard of  A3AGVQMO48KT4X A2VUDEZFABPHRC  is:  "
       ]
      },
      {
       "output_type": "stream",
       "stream": "stdout",
       "text": [
        "0 \n",
        "\n",
        "Jaccard of  A3AGVQMO48KT4X A3NI29U4P5NQF1  is:  "
       ]
      },
      {
       "output_type": "stream",
       "stream": "stdout",
       "text": [
        "0 \n",
        "\n",
        "Jaccard of  A3AGVQMO48KT4X AU6TC44BPNTTH  is:  "
       ]
      },
      {
       "output_type": "stream",
       "stream": "stdout",
       "text": [
        "0 \n",
        "\n",
        "Jaccard of  A3AGVQMO48KT4X A2RWQE8FNYAH0B  is:  "
       ]
      },
      {
       "output_type": "stream",
       "stream": "stdout",
       "text": [
        "0 \n",
        "\n",
        "Jaccard of  A3AGVQMO48KT4X A7N5UKGJZB6RQ  is:  "
       ]
      },
      {
       "output_type": "stream",
       "stream": "stdout",
       "text": [
        "0 \n",
        "\n",
        "Jaccard of  A3AGVQMO48KT4X A3R1D7LZUJ2H6H  is:  "
       ]
      },
      {
       "output_type": "stream",
       "stream": "stdout",
       "text": [
        "0 \n",
        "\n",
        "Jaccard of  A3AGVQMO48KT4X A3GSUF7VQ92LT8  is:  "
       ]
      },
      {
       "output_type": "stream",
       "stream": "stdout",
       "text": [
        "0 \n",
        "\n",
        "Jaccard of  A3AGVQMO48KT4X A23KVLM5HC8V13  is:  "
       ]
      },
      {
       "output_type": "stream",
       "stream": "stdout",
       "text": [
        "0 \n",
        "\n",
        "Jaccard of  A3AGVQMO48KT4X A24WNIJZQTRZS5  is:  "
       ]
      },
      {
       "output_type": "stream",
       "stream": "stdout",
       "text": [
        "0 \n",
        "\n",
        "Jaccard of  A3AGVQMO48KT4X A2FMN684QJUD2W  is:  "
       ]
      },
      {
       "output_type": "stream",
       "stream": "stdout",
       "text": [
        "0 \n",
        "\n",
        "Jaccard of  A3AGVQMO48KT4X A25KEEQK88U659  is:  "
       ]
      },
      {
       "output_type": "stream",
       "stream": "stdout",
       "text": [
        "0 \n",
        "\n",
        "Jaccard of  A3AGVQMO48KT4X A2ET702Y3IC2HF  is:  "
       ]
      },
      {
       "output_type": "stream",
       "stream": "stdout",
       "text": [
        "0 \n",
        "\n",
        "Jaccard of  A3AGVQMO48KT4X A3LX0RSPLHEE5S  is:  "
       ]
      },
      {
       "output_type": "stream",
       "stream": "stdout",
       "text": [
        "0 \n",
        "\n",
        "Jaccard of  A3AGVQMO48KT4X A1RCP8K3DTYUT1  is:  "
       ]
      },
      {
       "output_type": "stream",
       "stream": "stdout",
       "text": [
        "0 \n",
        "\n",
        "Jaccard of  A3AGVQMO48KT4X A2QR0OBX1BB99O  is:  "
       ]
      },
      {
       "output_type": "stream",
       "stream": "stdout",
       "text": [
        "0 \n",
        "\n",
        "Jaccard of  A3AGVQMO48KT4X APRE05RXN915U  is:  "
       ]
      },
      {
       "output_type": "stream",
       "stream": "stdout",
       "text": [
        "0 \n",
        "\n",
        "Jaccard of  A3AGVQMO48KT4X A3P0Q1T6FN10QL  is:  "
       ]
      },
      {
       "output_type": "stream",
       "stream": "stdout",
       "text": [
        "0 \n",
        "\n",
        "Jaccard of  A3AGVQMO48KT4X A1S9FRGMJ8PZSG  is:  "
       ]
      },
      {
       "output_type": "stream",
       "stream": "stdout",
       "text": [
        "0 \n",
        "\n",
        "Jaccard of  A3AGVQMO48KT4X A1ZF1JV34FASKE  is:  "
       ]
      },
      {
       "output_type": "stream",
       "stream": "stdout",
       "text": [
        "0 \n",
        "\n",
        "Jaccard of  A3AGVQMO48KT4X A29R36DKPVNVWD  is:  "
       ]
      },
      {
       "output_type": "stream",
       "stream": "stdout",
       "text": [
        "0 \n",
        "\n",
        "Jaccard of  A3AGVQMO48KT4X A3QJ5EXCPY965H  is:  "
       ]
      },
      {
       "output_type": "stream",
       "stream": "stdout",
       "text": [
        "0 \n",
        "\n",
        "Jaccard of  A3AGVQMO48KT4X A3LW3EZEYRDF1A  is:  "
       ]
      },
      {
       "output_type": "stream",
       "stream": "stdout",
       "text": [
        "0 \n",
        "\n",
        "Jaccard of  A3AGVQMO48KT4X A3RAR5ZZGPF3VJ  is:  "
       ]
      },
      {
       "output_type": "stream",
       "stream": "stdout",
       "text": [
        "0 \n",
        "\n",
        "Jaccard of  A3AGVQMO48KT4X AQFYGWUOGWBXY  is:  "
       ]
      },
      {
       "output_type": "stream",
       "stream": "stdout",
       "text": [
        "0 \n",
        "\n",
        "Jaccard of  A3AGVQMO48KT4X A3KY8F557TOL1I  is:  "
       ]
      },
      {
       "output_type": "stream",
       "stream": "stdout",
       "text": [
        "0 \n",
        "\n",
        "Jaccard of  A3AGVQMO48KT4X A3FL2VE5F1XYZZ  is:  "
       ]
      },
      {
       "output_type": "stream",
       "stream": "stdout",
       "text": [
        "0 \n",
        "\n",
        "Jaccard of  A3AGVQMO48KT4X A2TB97EU2LXBUZ  is:  "
       ]
      },
      {
       "output_type": "stream",
       "stream": "stdout",
       "text": [
        "0 \n",
        "\n",
        "Jaccard of  A3AGVQMO48KT4X A3PJKZ549TEUB6  is:  "
       ]
      },
      {
       "output_type": "stream",
       "stream": "stdout",
       "text": [
        "0 \n",
        "\n",
        "Jaccard of  A3AGVQMO48KT4X A3IXV88WO45U4E  is:  "
       ]
      },
      {
       "output_type": "stream",
       "stream": "stdout",
       "text": [
        "0 \n",
        "\n",
        "Jaccard of  A3AGVQMO48KT4X A2YX5L54JGPJDI  is:  "
       ]
      },
      {
       "output_type": "stream",
       "stream": "stdout",
       "text": [
        "0 \n",
        "\n",
        "Jaccard of  A3AGVQMO48KT4X A1BAHT46HPEVH1  is:  "
       ]
      },
      {
       "output_type": "stream",
       "stream": "stdout",
       "text": [
        "0 \n",
        "\n",
        "Jaccard of  A3AGVQMO48KT4X A1NMM0RDRF6R84  is:  "
       ]
      },
      {
       "output_type": "stream",
       "stream": "stdout",
       "text": [
        "0 \n",
        "\n",
        "Jaccard of  A3AGVQMO48KT4X A14NCQUQ1XG09W  is:  "
       ]
      },
      {
       "output_type": "stream",
       "stream": "stdout",
       "text": [
        "0 \n",
        "\n",
        "Jaccard of  A3AGVQMO48KT4X A1OXI0N58TMYY9  is:  "
       ]
      },
      {
       "output_type": "stream",
       "stream": "stdout",
       "text": [
        "0 \n",
        "\n",
        "Jaccard of  A3AGVQMO48KT4X A1OXI0N58TMYY9  is:  "
       ]
      },
      {
       "output_type": "stream",
       "stream": "stdout",
       "text": [
        "0 \n",
        "\n",
        "Jaccard of  A3AGVQMO48KT4X A374DPLAJ267SJ  is:  "
       ]
      },
      {
       "output_type": "stream",
       "stream": "stdout",
       "text": [
        "0 \n",
        "\n",
        "Jaccard of  A3AGVQMO48KT4X A32DZR3UG3TNTO  is:  "
       ]
      },
      {
       "output_type": "stream",
       "stream": "stdout",
       "text": [
        "0 \n",
        "\n",
        "Jaccard of  A3AGVQMO48KT4X A128K8GL4DJYTQ  is:  "
       ]
      },
      {
       "output_type": "stream",
       "stream": "stdout",
       "text": [
        "0 \n",
        "\n",
        "Jaccard of  A3AGVQMO48KT4X ASWOIZH83RX39  is:  "
       ]
      },
      {
       "output_type": "stream",
       "stream": "stdout",
       "text": [
        "0 \n",
        "\n",
        "Jaccard of  A3AGVQMO48KT4X A10D243CIM1BYJ  is:  "
       ]
      },
      {
       "output_type": "stream",
       "stream": "stdout",
       "text": [
        "0 \n",
        "\n",
        "Jaccard of  A3AGVQMO48KT4X ARIPPNN6IHRP7  is:  "
       ]
      },
      {
       "output_type": "stream",
       "stream": "stdout",
       "text": [
        "0 \n",
        "\n",
        "Jaccard of  A3AGVQMO48KT4X A3MUKHIAJOOLI2  is:  "
       ]
      },
      {
       "output_type": "stream",
       "stream": "stdout",
       "text": [
        "0 \n",
        "\n",
        "Jaccard of  A3AGVQMO48KT4X A1K98Y2Q4GFDIU  is:  "
       ]
      },
      {
       "output_type": "stream",
       "stream": "stdout",
       "text": [
        "0 \n",
        "\n",
        "Jaccard of  A3AGVQMO48KT4X A32MIVILCUX18L  is:  "
       ]
      },
      {
       "output_type": "stream",
       "stream": "stdout",
       "text": [
        "0 \n",
        "\n",
        "Jaccard of  A3AGVQMO48KT4X A13YV794BQSKF9  is:  "
       ]
      },
      {
       "output_type": "stream",
       "stream": "stdout",
       "text": [
        "0 \n",
        "\n",
        "Jaccard of  A3AGVQMO48KT4X A1HKKRS6JPZ8OC  is:  "
       ]
      },
      {
       "output_type": "stream",
       "stream": "stdout",
       "text": [
        "0 \n",
        "\n",
        "Jaccard of  A3AGVQMO48KT4X A232HUAELH5J6V  is:  "
       ]
      },
      {
       "output_type": "stream",
       "stream": "stdout",
       "text": [
        "0 \n",
        "\n",
        "Jaccard of  A3AGVQMO48KT4X A1OXI0N58TMYY9  is:  "
       ]
      },
      {
       "output_type": "stream",
       "stream": "stdout",
       "text": [
        "0 \n",
        "\n",
        "Jaccard of  A3AGVQMO48KT4X A6TPHIXWU4Y7K  is:  "
       ]
      },
      {
       "output_type": "stream",
       "stream": "stdout",
       "text": [
        "0 \n",
        "\n",
        "Jaccard of  A3AGVQMO48KT4X AAZXZU9CMWIC1  is:  "
       ]
      },
      {
       "output_type": "stream",
       "stream": "stdout",
       "text": [
        "0 \n",
        "\n",
        "Jaccard of  A3AGVQMO48KT4X ALZYVC06EZU0H  is:  "
       ]
      },
      {
       "output_type": "stream",
       "stream": "stdout",
       "text": [
        "0 \n",
        "\n",
        "Jaccard of  A3AGVQMO48KT4X A34989LDU92LBH  is:  "
       ]
      },
      {
       "output_type": "stream",
       "stream": "stdout",
       "text": [
        "0 \n",
        "\n",
        "Jaccard of  A3AGVQMO48KT4X A15IK0978DBL14  is:  "
       ]
      },
      {
       "output_type": "stream",
       "stream": "stdout",
       "text": [
        "0 \n",
        "\n",
        "Jaccard of  A3AGVQMO48KT4X AOYTGNBDDE5PE  is:  "
       ]
      },
      {
       "output_type": "stream",
       "stream": "stdout",
       "text": [
        "0 \n",
        "\n",
        "Jaccard of  A3AGVQMO48KT4X A2DWN2MQYWKGNX  is:  "
       ]
      },
      {
       "output_type": "stream",
       "stream": "stdout",
       "text": [
        "0 \n",
        "\n",
        "Jaccard of  A3AGVQMO48KT4X AZ31J70BQ9CM2  is:  "
       ]
      },
      {
       "output_type": "stream",
       "stream": "stdout",
       "text": [
        "0 \n",
        "\n",
        "Jaccard of  A3AGVQMO48KT4X A1NXWJ0UYOMQ8O  is:  "
       ]
      },
      {
       "output_type": "stream",
       "stream": "stdout",
       "text": [
        "0 \n",
        "\n",
        "Jaccard of  A3AGVQMO48KT4X A3R5RX4IA2Y2FI  is:  "
       ]
      },
      {
       "output_type": "stream",
       "stream": "stdout",
       "text": [
        "0 \n",
        "\n",
        "Jaccard of  A3AGVQMO48KT4X A1Z4XCX0PC1HSM  is:  "
       ]
      },
      {
       "output_type": "stream",
       "stream": "stdout",
       "text": [
        "0 \n",
        "\n",
        "Jaccard of  A3POE7TZ7FFZDT A3POE7TZ7FFZDT  is:  "
       ]
      },
      {
       "output_type": "stream",
       "stream": "stdout",
       "text": [
        "0 \n",
        "\n",
        "Jaccard of  A3POE7TZ7FFZDT A8SHZDGCPGFQY  is:  "
       ]
      },
      {
       "output_type": "stream",
       "stream": "stdout",
       "text": [
        "0 \n",
        "\n",
        "Jaccard of  A3POE7TZ7FFZDT APGKUH3ECVS61  is:  "
       ]
      },
      {
       "output_type": "stream",
       "stream": "stdout",
       "text": [
        "0 \n",
        "\n",
        "Jaccard of  A3POE7TZ7FFZDT A3RURV3JC6LJU0  is:  "
       ]
      },
      {
       "output_type": "stream",
       "stream": "stdout",
       "text": [
        "0 \n",
        "\n",
        "Jaccard of  A3POE7TZ7FFZDT A2VUDEZFABPHRC  is:  "
       ]
      },
      {
       "output_type": "stream",
       "stream": "stdout",
       "text": [
        "0 \n",
        "\n",
        "Jaccard of  A3POE7TZ7FFZDT A3NI29U4P5NQF1  is:  "
       ]
      },
      {
       "output_type": "stream",
       "stream": "stdout",
       "text": [
        "0 \n",
        "\n",
        "Jaccard of  A3POE7TZ7FFZDT AU6TC44BPNTTH  is:  "
       ]
      },
      {
       "output_type": "stream",
       "stream": "stdout",
       "text": [
        "0 \n",
        "\n",
        "Jaccard of  A3POE7TZ7FFZDT A2RWQE8FNYAH0B  is:  "
       ]
      },
      {
       "output_type": "stream",
       "stream": "stdout",
       "text": [
        "0 \n",
        "\n",
        "Jaccard of  A3POE7TZ7FFZDT A7N5UKGJZB6RQ  is:  "
       ]
      },
      {
       "output_type": "stream",
       "stream": "stdout",
       "text": [
        "0 \n",
        "\n",
        "Jaccard of  A3POE7TZ7FFZDT A3R1D7LZUJ2H6H  is:  "
       ]
      },
      {
       "output_type": "stream",
       "stream": "stdout",
       "text": [
        "0 \n",
        "\n",
        "Jaccard of  A3POE7TZ7FFZDT A3GSUF7VQ92LT8  is:  "
       ]
      },
      {
       "output_type": "stream",
       "stream": "stdout",
       "text": [
        "0 \n",
        "\n",
        "Jaccard of  A3POE7TZ7FFZDT A23KVLM5HC8V13  is:  "
       ]
      },
      {
       "output_type": "stream",
       "stream": "stdout",
       "text": [
        "0 \n",
        "\n",
        "Jaccard of  A3POE7TZ7FFZDT A24WNIJZQTRZS5  is:  "
       ]
      },
      {
       "output_type": "stream",
       "stream": "stdout",
       "text": [
        "0 \n",
        "\n",
        "Jaccard of  A3POE7TZ7FFZDT A2FMN684QJUD2W  is:  "
       ]
      },
      {
       "output_type": "stream",
       "stream": "stdout",
       "text": [
        "0 \n",
        "\n",
        "Jaccard of  A3POE7TZ7FFZDT A25KEEQK88U659  is:  "
       ]
      },
      {
       "output_type": "stream",
       "stream": "stdout",
       "text": [
        "0 \n",
        "\n",
        "Jaccard of  A3POE7TZ7FFZDT A2ET702Y3IC2HF  is:  "
       ]
      },
      {
       "output_type": "stream",
       "stream": "stdout",
       "text": [
        "0 \n",
        "\n",
        "Jaccard of  A3POE7TZ7FFZDT A3LX0RSPLHEE5S  is:  "
       ]
      },
      {
       "output_type": "stream",
       "stream": "stdout",
       "text": [
        "0 \n",
        "\n",
        "Jaccard of  A3POE7TZ7FFZDT A1RCP8K3DTYUT1  is:  "
       ]
      },
      {
       "output_type": "stream",
       "stream": "stdout",
       "text": [
        "0 \n",
        "\n",
        "Jaccard of  A3POE7TZ7FFZDT A2QR0OBX1BB99O  is:  "
       ]
      },
      {
       "output_type": "stream",
       "stream": "stdout",
       "text": [
        "0 \n",
        "\n",
        "Jaccard of  A3POE7TZ7FFZDT APRE05RXN915U  is:  "
       ]
      },
      {
       "output_type": "stream",
       "stream": "stdout",
       "text": [
        "0 \n",
        "\n",
        "Jaccard of  A3POE7TZ7FFZDT A3P0Q1T6FN10QL  is:  "
       ]
      },
      {
       "output_type": "stream",
       "stream": "stdout",
       "text": [
        "0 \n",
        "\n",
        "Jaccard of  A3POE7TZ7FFZDT A1S9FRGMJ8PZSG  is:  "
       ]
      },
      {
       "output_type": "stream",
       "stream": "stdout",
       "text": [
        "0 \n",
        "\n",
        "Jaccard of  A3POE7TZ7FFZDT A1ZF1JV34FASKE  is:  "
       ]
      },
      {
       "output_type": "stream",
       "stream": "stdout",
       "text": [
        "0 \n",
        "\n",
        "Jaccard of  A3POE7TZ7FFZDT A29R36DKPVNVWD  is:  "
       ]
      },
      {
       "output_type": "stream",
       "stream": "stdout",
       "text": [
        "0 \n",
        "\n",
        "Jaccard of  A3POE7TZ7FFZDT A3QJ5EXCPY965H  is:  "
       ]
      },
      {
       "output_type": "stream",
       "stream": "stdout",
       "text": [
        "0 \n",
        "\n",
        "Jaccard of  A3POE7TZ7FFZDT A3LW3EZEYRDF1A  is:  "
       ]
      },
      {
       "output_type": "stream",
       "stream": "stdout",
       "text": [
        "0 \n",
        "\n",
        "Jaccard of  A3POE7TZ7FFZDT A3RAR5ZZGPF3VJ  is:  "
       ]
      },
      {
       "output_type": "stream",
       "stream": "stdout",
       "text": [
        "0 \n",
        "\n",
        "Jaccard of  A3POE7TZ7FFZDT AQFYGWUOGWBXY  is:  "
       ]
      },
      {
       "output_type": "stream",
       "stream": "stdout",
       "text": [
        "0 \n",
        "\n",
        "Jaccard of  A3POE7TZ7FFZDT A3KY8F557TOL1I  is:  "
       ]
      },
      {
       "output_type": "stream",
       "stream": "stdout",
       "text": [
        "0 \n",
        "\n",
        "Jaccard of  A3POE7TZ7FFZDT A3FL2VE5F1XYZZ  is:  "
       ]
      },
      {
       "output_type": "stream",
       "stream": "stdout",
       "text": [
        "0 \n",
        "\n",
        "Jaccard of  A3POE7TZ7FFZDT A2TB97EU2LXBUZ  is:  "
       ]
      },
      {
       "output_type": "stream",
       "stream": "stdout",
       "text": [
        "0 \n",
        "\n",
        "Jaccard of  A3POE7TZ7FFZDT A3PJKZ549TEUB6  is:  "
       ]
      },
      {
       "output_type": "stream",
       "stream": "stdout",
       "text": [
        "0 \n",
        "\n",
        "Jaccard of  A3POE7TZ7FFZDT A3IXV88WO45U4E  is:  "
       ]
      },
      {
       "output_type": "stream",
       "stream": "stdout",
       "text": [
        "0 \n",
        "\n",
        "Jaccard of  A3POE7TZ7FFZDT A2YX5L54JGPJDI  is:  "
       ]
      },
      {
       "output_type": "stream",
       "stream": "stdout",
       "text": [
        "0 \n",
        "\n",
        "Jaccard of  A3POE7TZ7FFZDT A1BAHT46HPEVH1  is:  "
       ]
      },
      {
       "output_type": "stream",
       "stream": "stdout",
       "text": [
        "0 \n",
        "\n",
        "Jaccard of  A3POE7TZ7FFZDT A1NMM0RDRF6R84  is:  "
       ]
      },
      {
       "output_type": "stream",
       "stream": "stdout",
       "text": [
        "0 \n",
        "\n",
        "Jaccard of  A3POE7TZ7FFZDT A14NCQUQ1XG09W  is:  "
       ]
      },
      {
       "output_type": "stream",
       "stream": "stdout",
       "text": [
        "0 \n",
        "\n",
        "Jaccard of  A3POE7TZ7FFZDT A1OXI0N58TMYY9  is:  "
       ]
      },
      {
       "output_type": "stream",
       "stream": "stdout",
       "text": [
        "0 \n",
        "\n",
        "Jaccard of  A3POE7TZ7FFZDT A1OXI0N58TMYY9  is:  "
       ]
      },
      {
       "output_type": "stream",
       "stream": "stdout",
       "text": [
        "0 \n",
        "\n",
        "Jaccard of  A3POE7TZ7FFZDT A374DPLAJ267SJ  is:  "
       ]
      },
      {
       "output_type": "stream",
       "stream": "stdout",
       "text": [
        "0 \n",
        "\n",
        "Jaccard of  A3POE7TZ7FFZDT A32DZR3UG3TNTO  is:  "
       ]
      },
      {
       "output_type": "stream",
       "stream": "stdout",
       "text": [
        "0 \n",
        "\n",
        "Jaccard of  A3POE7TZ7FFZDT A128K8GL4DJYTQ  is:  "
       ]
      },
      {
       "output_type": "stream",
       "stream": "stdout",
       "text": [
        "0 \n",
        "\n",
        "Jaccard of  A3POE7TZ7FFZDT ASWOIZH83RX39  is:  "
       ]
      },
      {
       "output_type": "stream",
       "stream": "stdout",
       "text": [
        "0 \n",
        "\n",
        "Jaccard of  A3POE7TZ7FFZDT A10D243CIM1BYJ  is:  "
       ]
      },
      {
       "output_type": "stream",
       "stream": "stdout",
       "text": [
        "0 \n",
        "\n",
        "Jaccard of  A3POE7TZ7FFZDT ARIPPNN6IHRP7  is:  "
       ]
      },
      {
       "output_type": "stream",
       "stream": "stdout",
       "text": [
        "0 \n",
        "\n",
        "Jaccard of  A3POE7TZ7FFZDT A3MUKHIAJOOLI2  is:  "
       ]
      },
      {
       "output_type": "stream",
       "stream": "stdout",
       "text": [
        "0 \n",
        "\n",
        "Jaccard of  A3POE7TZ7FFZDT A1K98Y2Q4GFDIU  is:  "
       ]
      },
      {
       "output_type": "stream",
       "stream": "stdout",
       "text": [
        "0 \n",
        "\n",
        "Jaccard of  A3POE7TZ7FFZDT A32MIVILCUX18L  is:  "
       ]
      },
      {
       "output_type": "stream",
       "stream": "stdout",
       "text": [
        "0 \n",
        "\n",
        "Jaccard of  A3POE7TZ7FFZDT A13YV794BQSKF9  is:  "
       ]
      },
      {
       "output_type": "stream",
       "stream": "stdout",
       "text": [
        "0 \n",
        "\n",
        "Jaccard of  A3POE7TZ7FFZDT A1HKKRS6JPZ8OC  is:  "
       ]
      },
      {
       "output_type": "stream",
       "stream": "stdout",
       "text": [
        "0 \n",
        "\n",
        "Jaccard of  A3POE7TZ7FFZDT A232HUAELH5J6V  is:  "
       ]
      },
      {
       "output_type": "stream",
       "stream": "stdout",
       "text": [
        "0 \n",
        "\n",
        "Jaccard of  A3POE7TZ7FFZDT A1OXI0N58TMYY9  is:  "
       ]
      },
      {
       "output_type": "stream",
       "stream": "stdout",
       "text": [
        "0 \n",
        "\n",
        "Jaccard of  A3POE7TZ7FFZDT A6TPHIXWU4Y7K  is:  "
       ]
      },
      {
       "output_type": "stream",
       "stream": "stdout",
       "text": [
        "0 \n",
        "\n",
        "Jaccard of  A3POE7TZ7FFZDT AAZXZU9CMWIC1  is:  "
       ]
      },
      {
       "output_type": "stream",
       "stream": "stdout",
       "text": [
        "0 \n",
        "\n",
        "Jaccard of  A3POE7TZ7FFZDT ALZYVC06EZU0H  is:  "
       ]
      },
      {
       "output_type": "stream",
       "stream": "stdout",
       "text": [
        "0 \n",
        "\n",
        "Jaccard of  A3POE7TZ7FFZDT A34989LDU92LBH  is:  "
       ]
      },
      {
       "output_type": "stream",
       "stream": "stdout",
       "text": [
        "0 \n",
        "\n",
        "Jaccard of  A3POE7TZ7FFZDT A15IK0978DBL14  is:  "
       ]
      },
      {
       "output_type": "stream",
       "stream": "stdout",
       "text": [
        "0 \n",
        "\n",
        "Jaccard of  A3POE7TZ7FFZDT AOYTGNBDDE5PE  is:  "
       ]
      },
      {
       "output_type": "stream",
       "stream": "stdout",
       "text": [
        "0 \n",
        "\n",
        "Jaccard of  A3POE7TZ7FFZDT A2DWN2MQYWKGNX  is:  "
       ]
      },
      {
       "output_type": "stream",
       "stream": "stdout",
       "text": [
        "0 \n",
        "\n",
        "Jaccard of  A3POE7TZ7FFZDT AZ31J70BQ9CM2  is:  "
       ]
      },
      {
       "output_type": "stream",
       "stream": "stdout",
       "text": [
        "0 \n",
        "\n",
        "Jaccard of  A3POE7TZ7FFZDT A1NXWJ0UYOMQ8O  is:  "
       ]
      },
      {
       "output_type": "stream",
       "stream": "stdout",
       "text": [
        "0 \n",
        "\n",
        "Jaccard of  A3POE7TZ7FFZDT A3R5RX4IA2Y2FI  is:  "
       ]
      },
      {
       "output_type": "stream",
       "stream": "stdout",
       "text": [
        "0 \n",
        "\n",
        "Jaccard of  A3POE7TZ7FFZDT A1Z4XCX0PC1HSM  is:  "
       ]
      },
      {
       "output_type": "stream",
       "stream": "stdout",
       "text": [
        "0 \n",
        "\n",
        "Jaccard of  A8SHZDGCPGFQY A8SHZDGCPGFQY  is:  "
       ]
      },
      {
       "output_type": "stream",
       "stream": "stdout",
       "text": [
        "0 \n",
        "\n",
        "Jaccard of  A8SHZDGCPGFQY APGKUH3ECVS61  is:  "
       ]
      },
      {
       "output_type": "stream",
       "stream": "stdout",
       "text": [
        "0 \n",
        "\n",
        "Jaccard of  A8SHZDGCPGFQY A3RURV3JC6LJU0  is:  "
       ]
      },
      {
       "output_type": "stream",
       "stream": "stdout",
       "text": [
        "0 \n",
        "\n",
        "Jaccard of  A8SHZDGCPGFQY A2VUDEZFABPHRC  is:  "
       ]
      },
      {
       "output_type": "stream",
       "stream": "stdout",
       "text": [
        "0 \n",
        "\n",
        "Jaccard of  A8SHZDGCPGFQY A3NI29U4P5NQF1  is:  "
       ]
      },
      {
       "output_type": "stream",
       "stream": "stdout",
       "text": [
        "0 \n",
        "\n",
        "Jaccard of  A8SHZDGCPGFQY AU6TC44BPNTTH  is:  "
       ]
      },
      {
       "output_type": "stream",
       "stream": "stdout",
       "text": [
        "0 \n",
        "\n",
        "Jaccard of  A8SHZDGCPGFQY A2RWQE8FNYAH0B  is:  "
       ]
      },
      {
       "output_type": "stream",
       "stream": "stdout",
       "text": [
        "0 \n",
        "\n",
        "Jaccard of  A8SHZDGCPGFQY A7N5UKGJZB6RQ  is:  "
       ]
      },
      {
       "output_type": "stream",
       "stream": "stdout",
       "text": [
        "0 \n",
        "\n",
        "Jaccard of  A8SHZDGCPGFQY A3R1D7LZUJ2H6H  is:  "
       ]
      },
      {
       "output_type": "stream",
       "stream": "stdout",
       "text": [
        "0 \n",
        "\n",
        "Jaccard of  A8SHZDGCPGFQY A3GSUF7VQ92LT8  is:  "
       ]
      },
      {
       "output_type": "stream",
       "stream": "stdout",
       "text": [
        "0 \n",
        "\n",
        "Jaccard of  A8SHZDGCPGFQY A23KVLM5HC8V13  is:  "
       ]
      },
      {
       "output_type": "stream",
       "stream": "stdout",
       "text": [
        "0 \n",
        "\n",
        "Jaccard of  A8SHZDGCPGFQY A24WNIJZQTRZS5  is:  "
       ]
      },
      {
       "output_type": "stream",
       "stream": "stdout",
       "text": [
        "0 \n",
        "\n",
        "Jaccard of  A8SHZDGCPGFQY A2FMN684QJUD2W  is:  "
       ]
      },
      {
       "output_type": "stream",
       "stream": "stdout",
       "text": [
        "0 \n",
        "\n",
        "Jaccard of  A8SHZDGCPGFQY A25KEEQK88U659  is:  "
       ]
      },
      {
       "output_type": "stream",
       "stream": "stdout",
       "text": [
        "0 \n",
        "\n",
        "Jaccard of  A8SHZDGCPGFQY A2ET702Y3IC2HF  is:  "
       ]
      },
      {
       "output_type": "stream",
       "stream": "stdout",
       "text": [
        "0 \n",
        "\n",
        "Jaccard of  A8SHZDGCPGFQY A3LX0RSPLHEE5S  is:  "
       ]
      },
      {
       "output_type": "stream",
       "stream": "stdout",
       "text": [
        "0 \n",
        "\n",
        "Jaccard of  A8SHZDGCPGFQY A1RCP8K3DTYUT1  is:  "
       ]
      },
      {
       "output_type": "stream",
       "stream": "stdout",
       "text": [
        "0 \n",
        "\n",
        "Jaccard of  A8SHZDGCPGFQY A2QR0OBX1BB99O  is:  "
       ]
      },
      {
       "output_type": "stream",
       "stream": "stdout",
       "text": [
        "0 \n",
        "\n",
        "Jaccard of  A8SHZDGCPGFQY APRE05RXN915U  is:  "
       ]
      },
      {
       "output_type": "stream",
       "stream": "stdout",
       "text": [
        "0 \n",
        "\n",
        "Jaccard of  A8SHZDGCPGFQY A3P0Q1T6FN10QL  is:  "
       ]
      },
      {
       "output_type": "stream",
       "stream": "stdout",
       "text": [
        "0 \n",
        "\n",
        "Jaccard of  A8SHZDGCPGFQY A1S9FRGMJ8PZSG  is:  "
       ]
      },
      {
       "output_type": "stream",
       "stream": "stdout",
       "text": [
        "0 \n",
        "\n",
        "Jaccard of  A8SHZDGCPGFQY A1ZF1JV34FASKE  is:  "
       ]
      },
      {
       "output_type": "stream",
       "stream": "stdout",
       "text": [
        "0 \n",
        "\n",
        "Jaccard of  A8SHZDGCPGFQY A29R36DKPVNVWD  is:  "
       ]
      },
      {
       "output_type": "stream",
       "stream": "stdout",
       "text": [
        "0 \n",
        "\n",
        "Jaccard of  A8SHZDGCPGFQY A3QJ5EXCPY965H  is:  "
       ]
      },
      {
       "output_type": "stream",
       "stream": "stdout",
       "text": [
        "0 \n",
        "\n",
        "Jaccard of  A8SHZDGCPGFQY A3LW3EZEYRDF1A  is:  "
       ]
      },
      {
       "output_type": "stream",
       "stream": "stdout",
       "text": [
        "0 \n",
        "\n",
        "Jaccard of  A8SHZDGCPGFQY A3RAR5ZZGPF3VJ  is:  "
       ]
      },
      {
       "output_type": "stream",
       "stream": "stdout",
       "text": [
        "0 \n",
        "\n",
        "Jaccard of  A8SHZDGCPGFQY AQFYGWUOGWBXY  is:  "
       ]
      },
      {
       "output_type": "stream",
       "stream": "stdout",
       "text": [
        "0 \n",
        "\n",
        "Jaccard of  A8SHZDGCPGFQY A3KY8F557TOL1I  is:  "
       ]
      },
      {
       "output_type": "stream",
       "stream": "stdout",
       "text": [
        "0 \n",
        "\n",
        "Jaccard of  A8SHZDGCPGFQY A3FL2VE5F1XYZZ  is:  "
       ]
      },
      {
       "output_type": "stream",
       "stream": "stdout",
       "text": [
        "0 \n",
        "\n",
        "Jaccard of  A8SHZDGCPGFQY A2TB97EU2LXBUZ  is:  "
       ]
      },
      {
       "output_type": "stream",
       "stream": "stdout",
       "text": [
        "0 \n",
        "\n",
        "Jaccard of  A8SHZDGCPGFQY A3PJKZ549TEUB6  is:  "
       ]
      },
      {
       "output_type": "stream",
       "stream": "stdout",
       "text": [
        "0 \n",
        "\n",
        "Jaccard of  A8SHZDGCPGFQY A3IXV88WO45U4E  is:  "
       ]
      },
      {
       "output_type": "stream",
       "stream": "stdout",
       "text": [
        "0 \n",
        "\n",
        "Jaccard of  A8SHZDGCPGFQY A2YX5L54JGPJDI  is:  "
       ]
      },
      {
       "output_type": "stream",
       "stream": "stdout",
       "text": [
        "0 \n",
        "\n",
        "Jaccard of  A8SHZDGCPGFQY A1BAHT46HPEVH1  is:  "
       ]
      },
      {
       "output_type": "stream",
       "stream": "stdout",
       "text": [
        "0 \n",
        "\n",
        "Jaccard of  A8SHZDGCPGFQY A1NMM0RDRF6R84  is:  "
       ]
      },
      {
       "output_type": "stream",
       "stream": "stdout",
       "text": [
        "0 \n",
        "\n",
        "Jaccard of  A8SHZDGCPGFQY A14NCQUQ1XG09W  is:  "
       ]
      },
      {
       "output_type": "stream",
       "stream": "stdout",
       "text": [
        "0 \n",
        "\n",
        "Jaccard of  A8SHZDGCPGFQY A1OXI0N58TMYY9  is:  "
       ]
      },
      {
       "output_type": "stream",
       "stream": "stdout",
       "text": [
        "0 \n",
        "\n",
        "Jaccard of  A8SHZDGCPGFQY A1OXI0N58TMYY9  is:  "
       ]
      },
      {
       "output_type": "stream",
       "stream": "stdout",
       "text": [
        "0 \n",
        "\n",
        "Jaccard of  A8SHZDGCPGFQY A374DPLAJ267SJ  is:  "
       ]
      },
      {
       "output_type": "stream",
       "stream": "stdout",
       "text": [
        "0 \n",
        "\n",
        "Jaccard of  A8SHZDGCPGFQY A32DZR3UG3TNTO  is:  "
       ]
      },
      {
       "output_type": "stream",
       "stream": "stdout",
       "text": [
        "0 \n",
        "\n",
        "Jaccard of  A8SHZDGCPGFQY A128K8GL4DJYTQ  is:  "
       ]
      },
      {
       "output_type": "stream",
       "stream": "stdout",
       "text": [
        "0 \n",
        "\n",
        "Jaccard of  A8SHZDGCPGFQY ASWOIZH83RX39  is:  "
       ]
      },
      {
       "output_type": "stream",
       "stream": "stdout",
       "text": [
        "0 \n",
        "\n",
        "Jaccard of  A8SHZDGCPGFQY A10D243CIM1BYJ  is:  "
       ]
      },
      {
       "output_type": "stream",
       "stream": "stdout",
       "text": [
        "0 \n",
        "\n",
        "Jaccard of  A8SHZDGCPGFQY ARIPPNN6IHRP7  is:  "
       ]
      },
      {
       "output_type": "stream",
       "stream": "stdout",
       "text": [
        "0 \n",
        "\n",
        "Jaccard of  A8SHZDGCPGFQY A3MUKHIAJOOLI2  is:  "
       ]
      },
      {
       "output_type": "stream",
       "stream": "stdout",
       "text": [
        "0 \n",
        "\n",
        "Jaccard of  A8SHZDGCPGFQY A1K98Y2Q4GFDIU  is:  "
       ]
      },
      {
       "output_type": "stream",
       "stream": "stdout",
       "text": [
        "0 \n",
        "\n",
        "Jaccard of  A8SHZDGCPGFQY A32MIVILCUX18L  is:  "
       ]
      },
      {
       "output_type": "stream",
       "stream": "stdout",
       "text": [
        "0 \n",
        "\n",
        "Jaccard of  A8SHZDGCPGFQY A13YV794BQSKF9  is:  "
       ]
      },
      {
       "output_type": "stream",
       "stream": "stdout",
       "text": [
        "0 \n",
        "\n",
        "Jaccard of  A8SHZDGCPGFQY A1HKKRS6JPZ8OC  is:  "
       ]
      },
      {
       "output_type": "stream",
       "stream": "stdout",
       "text": [
        "0 \n",
        "\n",
        "Jaccard of  A8SHZDGCPGFQY A232HUAELH5J6V  is:  "
       ]
      },
      {
       "output_type": "stream",
       "stream": "stdout",
       "text": [
        "0 \n",
        "\n",
        "Jaccard of  A8SHZDGCPGFQY A1OXI0N58TMYY9  is:  "
       ]
      },
      {
       "output_type": "stream",
       "stream": "stdout",
       "text": [
        "0 \n",
        "\n",
        "Jaccard of  A8SHZDGCPGFQY A6TPHIXWU4Y7K  is:  "
       ]
      },
      {
       "output_type": "stream",
       "stream": "stdout",
       "text": [
        "0 \n",
        "\n",
        "Jaccard of  A8SHZDGCPGFQY AAZXZU9CMWIC1  is:  "
       ]
      },
      {
       "output_type": "stream",
       "stream": "stdout",
       "text": [
        "0 \n",
        "\n",
        "Jaccard of  A8SHZDGCPGFQY ALZYVC06EZU0H  is:  "
       ]
      },
      {
       "output_type": "stream",
       "stream": "stdout",
       "text": [
        "0 \n",
        "\n",
        "Jaccard of  A8SHZDGCPGFQY A34989LDU92LBH  is:  "
       ]
      },
      {
       "output_type": "stream",
       "stream": "stdout",
       "text": [
        "0 \n",
        "\n",
        "Jaccard of  A8SHZDGCPGFQY A15IK0978DBL14  is:  "
       ]
      },
      {
       "output_type": "stream",
       "stream": "stdout",
       "text": [
        "0 \n",
        "\n",
        "Jaccard of  A8SHZDGCPGFQY AOYTGNBDDE5PE  is:  "
       ]
      },
      {
       "output_type": "stream",
       "stream": "stdout",
       "text": [
        "0 \n",
        "\n",
        "Jaccard of  A8SHZDGCPGFQY A2DWN2MQYWKGNX  is:  "
       ]
      },
      {
       "output_type": "stream",
       "stream": "stdout",
       "text": [
        "0 \n",
        "\n",
        "Jaccard of  A8SHZDGCPGFQY AZ31J70BQ9CM2  is:  "
       ]
      },
      {
       "output_type": "stream",
       "stream": "stdout",
       "text": [
        "0 \n",
        "\n",
        "Jaccard of  A8SHZDGCPGFQY A1NXWJ0UYOMQ8O  is:  "
       ]
      },
      {
       "output_type": "stream",
       "stream": "stdout",
       "text": [
        "0 \n",
        "\n",
        "Jaccard of  A8SHZDGCPGFQY A3R5RX4IA2Y2FI  is:  "
       ]
      },
      {
       "output_type": "stream",
       "stream": "stdout",
       "text": [
        "0 \n",
        "\n",
        "Jaccard of  A8SHZDGCPGFQY A1Z4XCX0PC1HSM  is:  "
       ]
      },
      {
       "output_type": "stream",
       "stream": "stdout",
       "text": [
        "0 \n",
        "\n",
        "Jaccard of  APGKUH3ECVS61 APGKUH3ECVS61  is:  "
       ]
      },
      {
       "output_type": "stream",
       "stream": "stdout",
       "text": [
        "0 \n",
        "\n",
        "Jaccard of  APGKUH3ECVS61 A3RURV3JC6LJU0  is:  "
       ]
      },
      {
       "output_type": "stream",
       "stream": "stdout",
       "text": [
        "0 \n",
        "\n",
        "Jaccard of  APGKUH3ECVS61 A2VUDEZFABPHRC  is:  "
       ]
      },
      {
       "output_type": "stream",
       "stream": "stdout",
       "text": [
        "0 \n",
        "\n",
        "Jaccard of  APGKUH3ECVS61 A3NI29U4P5NQF1  is:  "
       ]
      },
      {
       "output_type": "stream",
       "stream": "stdout",
       "text": [
        "0 \n",
        "\n",
        "Jaccard of  APGKUH3ECVS61 AU6TC44BPNTTH  is:  "
       ]
      },
      {
       "output_type": "stream",
       "stream": "stdout",
       "text": [
        "0 \n",
        "\n",
        "Jaccard of  APGKUH3ECVS61 A2RWQE8FNYAH0B  is:  "
       ]
      },
      {
       "output_type": "stream",
       "stream": "stdout",
       "text": [
        "0 \n",
        "\n",
        "Jaccard of  APGKUH3ECVS61 A7N5UKGJZB6RQ  is:  "
       ]
      },
      {
       "output_type": "stream",
       "stream": "stdout",
       "text": [
        "0 \n",
        "\n",
        "Jaccard of  APGKUH3ECVS61 A3R1D7LZUJ2H6H  is:  "
       ]
      },
      {
       "output_type": "stream",
       "stream": "stdout",
       "text": [
        "0 \n",
        "\n",
        "Jaccard of  APGKUH3ECVS61 A3GSUF7VQ92LT8  is:  "
       ]
      },
      {
       "output_type": "stream",
       "stream": "stdout",
       "text": [
        "0 \n",
        "\n",
        "Jaccard of  APGKUH3ECVS61 A23KVLM5HC8V13  is:  "
       ]
      },
      {
       "output_type": "stream",
       "stream": "stdout",
       "text": [
        "0 \n",
        "\n",
        "Jaccard of  APGKUH3ECVS61 A24WNIJZQTRZS5  is:  "
       ]
      },
      {
       "output_type": "stream",
       "stream": "stdout",
       "text": [
        "0 \n",
        "\n",
        "Jaccard of  APGKUH3ECVS61 A2FMN684QJUD2W  is:  "
       ]
      },
      {
       "output_type": "stream",
       "stream": "stdout",
       "text": [
        "0 \n",
        "\n",
        "Jaccard of  APGKUH3ECVS61 A25KEEQK88U659  is:  "
       ]
      },
      {
       "output_type": "stream",
       "stream": "stdout",
       "text": [
        "0 \n",
        "\n",
        "Jaccard of  APGKUH3ECVS61 A2ET702Y3IC2HF  is:  "
       ]
      },
      {
       "output_type": "stream",
       "stream": "stdout",
       "text": [
        "0 \n",
        "\n",
        "Jaccard of  APGKUH3ECVS61 A3LX0RSPLHEE5S  is:  "
       ]
      },
      {
       "output_type": "stream",
       "stream": "stdout",
       "text": [
        "0 \n",
        "\n",
        "Jaccard of  APGKUH3ECVS61 A1RCP8K3DTYUT1  is:  "
       ]
      },
      {
       "output_type": "stream",
       "stream": "stdout",
       "text": [
        "0 \n",
        "\n",
        "Jaccard of  APGKUH3ECVS61 A2QR0OBX1BB99O  is:  "
       ]
      },
      {
       "output_type": "stream",
       "stream": "stdout",
       "text": [
        "0 \n",
        "\n",
        "Jaccard of  APGKUH3ECVS61 APRE05RXN915U  is:  "
       ]
      },
      {
       "output_type": "stream",
       "stream": "stdout",
       "text": [
        "0 \n",
        "\n",
        "Jaccard of  APGKUH3ECVS61 A3P0Q1T6FN10QL  is:  "
       ]
      },
      {
       "output_type": "stream",
       "stream": "stdout",
       "text": [
        "0 \n",
        "\n",
        "Jaccard of  APGKUH3ECVS61 A1S9FRGMJ8PZSG  is:  "
       ]
      },
      {
       "output_type": "stream",
       "stream": "stdout",
       "text": [
        "0 \n",
        "\n",
        "Jaccard of  APGKUH3ECVS61 A1ZF1JV34FASKE  is:  "
       ]
      },
      {
       "output_type": "stream",
       "stream": "stdout",
       "text": [
        "0 \n",
        "\n",
        "Jaccard of  APGKUH3ECVS61 A29R36DKPVNVWD  is:  "
       ]
      },
      {
       "output_type": "stream",
       "stream": "stdout",
       "text": [
        "0 \n",
        "\n",
        "Jaccard of  APGKUH3ECVS61 A3QJ5EXCPY965H  is:  "
       ]
      },
      {
       "output_type": "stream",
       "stream": "stdout",
       "text": [
        "0 \n",
        "\n",
        "Jaccard of  APGKUH3ECVS61 A3LW3EZEYRDF1A  is:  "
       ]
      },
      {
       "output_type": "stream",
       "stream": "stdout",
       "text": [
        "0 \n",
        "\n",
        "Jaccard of  APGKUH3ECVS61 A3RAR5ZZGPF3VJ  is:  "
       ]
      },
      {
       "output_type": "stream",
       "stream": "stdout",
       "text": [
        "0 \n",
        "\n",
        "Jaccard of  APGKUH3ECVS61 AQFYGWUOGWBXY  is:  "
       ]
      },
      {
       "output_type": "stream",
       "stream": "stdout",
       "text": [
        "0 \n",
        "\n",
        "Jaccard of  APGKUH3ECVS61 A3KY8F557TOL1I  is:  "
       ]
      },
      {
       "output_type": "stream",
       "stream": "stdout",
       "text": [
        "0 \n",
        "\n",
        "Jaccard of  APGKUH3ECVS61 A3FL2VE5F1XYZZ  is:  "
       ]
      },
      {
       "output_type": "stream",
       "stream": "stdout",
       "text": [
        "0 \n",
        "\n",
        "Jaccard of  APGKUH3ECVS61 A2TB97EU2LXBUZ  is:  "
       ]
      },
      {
       "output_type": "stream",
       "stream": "stdout",
       "text": [
        "0 \n",
        "\n",
        "Jaccard of  APGKUH3ECVS61 A3PJKZ549TEUB6  is:  "
       ]
      },
      {
       "output_type": "stream",
       "stream": "stdout",
       "text": [
        "0 \n",
        "\n",
        "Jaccard of  APGKUH3ECVS61 A3IXV88WO45U4E  is:  "
       ]
      },
      {
       "output_type": "stream",
       "stream": "stdout",
       "text": [
        "0 \n",
        "\n",
        "Jaccard of  APGKUH3ECVS61 A2YX5L54JGPJDI  is:  "
       ]
      },
      {
       "output_type": "stream",
       "stream": "stdout",
       "text": [
        "0 \n",
        "\n",
        "Jaccard of  APGKUH3ECVS61 A1BAHT46HPEVH1  is:  "
       ]
      },
      {
       "output_type": "stream",
       "stream": "stdout",
       "text": [
        "0 \n",
        "\n",
        "Jaccard of  APGKUH3ECVS61 A1NMM0RDRF6R84  is:  "
       ]
      },
      {
       "output_type": "stream",
       "stream": "stdout",
       "text": [
        "0 \n",
        "\n",
        "Jaccard of  APGKUH3ECVS61 A14NCQUQ1XG09W  is:  "
       ]
      },
      {
       "output_type": "stream",
       "stream": "stdout",
       "text": [
        "0 \n",
        "\n",
        "Jaccard of  APGKUH3ECVS61 A1OXI0N58TMYY9  is:  "
       ]
      },
      {
       "output_type": "stream",
       "stream": "stdout",
       "text": [
        "0 \n",
        "\n",
        "Jaccard of  APGKUH3ECVS61 A1OXI0N58TMYY9  is:  "
       ]
      },
      {
       "output_type": "stream",
       "stream": "stdout",
       "text": [
        "0 \n",
        "\n",
        "Jaccard of  APGKUH3ECVS61 A374DPLAJ267SJ  is:  "
       ]
      },
      {
       "output_type": "stream",
       "stream": "stdout",
       "text": [
        "0 \n",
        "\n",
        "Jaccard of  APGKUH3ECVS61 A32DZR3UG3TNTO  is:  "
       ]
      },
      {
       "output_type": "stream",
       "stream": "stdout",
       "text": [
        "0 \n",
        "\n",
        "Jaccard of  APGKUH3ECVS61 A128K8GL4DJYTQ  is:  "
       ]
      },
      {
       "output_type": "stream",
       "stream": "stdout",
       "text": [
        "0 \n",
        "\n",
        "Jaccard of  APGKUH3ECVS61 ASWOIZH83RX39  is:  "
       ]
      },
      {
       "output_type": "stream",
       "stream": "stdout",
       "text": [
        "0 \n",
        "\n",
        "Jaccard of  APGKUH3ECVS61 A10D243CIM1BYJ  is:  "
       ]
      },
      {
       "output_type": "stream",
       "stream": "stdout",
       "text": [
        "0 \n",
        "\n",
        "Jaccard of  APGKUH3ECVS61 ARIPPNN6IHRP7  is:  "
       ]
      },
      {
       "output_type": "stream",
       "stream": "stdout",
       "text": [
        "0 \n",
        "\n",
        "Jaccard of  APGKUH3ECVS61 A3MUKHIAJOOLI2  is:  "
       ]
      },
      {
       "output_type": "stream",
       "stream": "stdout",
       "text": [
        "0 \n",
        "\n",
        "Jaccard of  APGKUH3ECVS61 A1K98Y2Q4GFDIU  is:  "
       ]
      },
      {
       "output_type": "stream",
       "stream": "stdout",
       "text": [
        "0 \n",
        "\n",
        "Jaccard of  APGKUH3ECVS61 A32MIVILCUX18L  is:  "
       ]
      },
      {
       "output_type": "stream",
       "stream": "stdout",
       "text": [
        "0 \n",
        "\n",
        "Jaccard of  APGKUH3ECVS61 A13YV794BQSKF9  is:  "
       ]
      },
      {
       "output_type": "stream",
       "stream": "stdout",
       "text": [
        "0 \n",
        "\n",
        "Jaccard of  APGKUH3ECVS61 A1HKKRS6JPZ8OC  is:  "
       ]
      },
      {
       "output_type": "stream",
       "stream": "stdout",
       "text": [
        "0 \n",
        "\n",
        "Jaccard of  APGKUH3ECVS61 A232HUAELH5J6V  is:  "
       ]
      },
      {
       "output_type": "stream",
       "stream": "stdout",
       "text": [
        "0 \n",
        "\n",
        "Jaccard of  APGKUH3ECVS61 A1OXI0N58TMYY9  is:  "
       ]
      },
      {
       "output_type": "stream",
       "stream": "stdout",
       "text": [
        "0 \n",
        "\n",
        "Jaccard of  APGKUH3ECVS61 A6TPHIXWU4Y7K  is:  "
       ]
      },
      {
       "output_type": "stream",
       "stream": "stdout",
       "text": [
        "0 \n",
        "\n",
        "Jaccard of  APGKUH3ECVS61 AAZXZU9CMWIC1  is:  "
       ]
      },
      {
       "output_type": "stream",
       "stream": "stdout",
       "text": [
        "0 \n",
        "\n",
        "Jaccard of  APGKUH3ECVS61 ALZYVC06EZU0H  is:  "
       ]
      },
      {
       "output_type": "stream",
       "stream": "stdout",
       "text": [
        "0 \n",
        "\n",
        "Jaccard of  APGKUH3ECVS61 A34989LDU92LBH  is:  "
       ]
      },
      {
       "output_type": "stream",
       "stream": "stdout",
       "text": [
        "0 \n",
        "\n",
        "Jaccard of  APGKUH3ECVS61 A15IK0978DBL14  is:  "
       ]
      },
      {
       "output_type": "stream",
       "stream": "stdout",
       "text": [
        "0 \n",
        "\n",
        "Jaccard of  APGKUH3ECVS61 AOYTGNBDDE5PE  is:  "
       ]
      },
      {
       "output_type": "stream",
       "stream": "stdout",
       "text": [
        "0 \n",
        "\n",
        "Jaccard of  APGKUH3ECVS61 A2DWN2MQYWKGNX  is:  "
       ]
      },
      {
       "output_type": "stream",
       "stream": "stdout",
       "text": [
        "0 \n",
        "\n",
        "Jaccard of  APGKUH3ECVS61 AZ31J70BQ9CM2  is:  "
       ]
      },
      {
       "output_type": "stream",
       "stream": "stdout",
       "text": [
        "0 \n",
        "\n",
        "Jaccard of  APGKUH3ECVS61 A1NXWJ0UYOMQ8O  is:  "
       ]
      },
      {
       "output_type": "stream",
       "stream": "stdout",
       "text": [
        "0 \n",
        "\n",
        "Jaccard of  APGKUH3ECVS61 A3R5RX4IA2Y2FI  is:  "
       ]
      },
      {
       "output_type": "stream",
       "stream": "stdout",
       "text": [
        "0 \n",
        "\n",
        "Jaccard of  APGKUH3ECVS61 A1Z4XCX0PC1HSM  is:  "
       ]
      },
      {
       "output_type": "stream",
       "stream": "stdout",
       "text": [
        "0 \n",
        "\n",
        "Jaccard of  A3RURV3JC6LJU0 A3RURV3JC6LJU0  is:  "
       ]
      },
      {
       "output_type": "stream",
       "stream": "stdout",
       "text": [
        "0 \n",
        "\n",
        "Jaccard of  A3RURV3JC6LJU0 A2VUDEZFABPHRC  is:  "
       ]
      },
      {
       "output_type": "stream",
       "stream": "stdout",
       "text": [
        "0 \n",
        "\n",
        "Jaccard of  A3RURV3JC6LJU0 A3NI29U4P5NQF1  is:  "
       ]
      },
      {
       "output_type": "stream",
       "stream": "stdout",
       "text": [
        "0 \n",
        "\n",
        "Jaccard of  A3RURV3JC6LJU0 AU6TC44BPNTTH  is:  "
       ]
      },
      {
       "output_type": "stream",
       "stream": "stdout",
       "text": [
        "0 \n",
        "\n",
        "Jaccard of  A3RURV3JC6LJU0 A2RWQE8FNYAH0B  is:  "
       ]
      },
      {
       "output_type": "stream",
       "stream": "stdout",
       "text": [
        "0 \n",
        "\n",
        "Jaccard of  A3RURV3JC6LJU0 A7N5UKGJZB6RQ  is:  "
       ]
      },
      {
       "output_type": "stream",
       "stream": "stdout",
       "text": [
        "0 \n",
        "\n",
        "Jaccard of  A3RURV3JC6LJU0 A3R1D7LZUJ2H6H  is:  "
       ]
      },
      {
       "output_type": "stream",
       "stream": "stdout",
       "text": [
        "0 \n",
        "\n",
        "Jaccard of  A3RURV3JC6LJU0 A3GSUF7VQ92LT8  is:  "
       ]
      },
      {
       "output_type": "stream",
       "stream": "stdout",
       "text": [
        "0 \n",
        "\n",
        "Jaccard of  A3RURV3JC6LJU0 A23KVLM5HC8V13  is:  "
       ]
      },
      {
       "output_type": "stream",
       "stream": "stdout",
       "text": [
        "0 \n",
        "\n",
        "Jaccard of  A3RURV3JC6LJU0 A24WNIJZQTRZS5  is:  "
       ]
      },
      {
       "output_type": "stream",
       "stream": "stdout",
       "text": [
        "0 \n",
        "\n",
        "Jaccard of  A3RURV3JC6LJU0 A2FMN684QJUD2W  is:  "
       ]
      },
      {
       "output_type": "stream",
       "stream": "stdout",
       "text": [
        "0 \n",
        "\n",
        "Jaccard of  A3RURV3JC6LJU0 A25KEEQK88U659  is:  "
       ]
      },
      {
       "output_type": "stream",
       "stream": "stdout",
       "text": [
        "0 \n",
        "\n",
        "Jaccard of  A3RURV3JC6LJU0 A2ET702Y3IC2HF  is:  "
       ]
      },
      {
       "output_type": "stream",
       "stream": "stdout",
       "text": [
        "0 \n",
        "\n",
        "Jaccard of  A3RURV3JC6LJU0 A3LX0RSPLHEE5S  is:  "
       ]
      },
      {
       "output_type": "stream",
       "stream": "stdout",
       "text": [
        "0 \n",
        "\n",
        "Jaccard of  A3RURV3JC6LJU0 A1RCP8K3DTYUT1  is:  "
       ]
      },
      {
       "output_type": "stream",
       "stream": "stdout",
       "text": [
        "0 \n",
        "\n",
        "Jaccard of  A3RURV3JC6LJU0 A2QR0OBX1BB99O  is:  "
       ]
      },
      {
       "output_type": "stream",
       "stream": "stdout",
       "text": [
        "0 \n",
        "\n",
        "Jaccard of  A3RURV3JC6LJU0 APRE05RXN915U  is:  "
       ]
      },
      {
       "output_type": "stream",
       "stream": "stdout",
       "text": [
        "0 \n",
        "\n",
        "Jaccard of  A3RURV3JC6LJU0 A3P0Q1T6FN10QL  is:  "
       ]
      },
      {
       "output_type": "stream",
       "stream": "stdout",
       "text": [
        "0 \n",
        "\n",
        "Jaccard of  A3RURV3JC6LJU0 A1S9FRGMJ8PZSG  is:  "
       ]
      },
      {
       "output_type": "stream",
       "stream": "stdout",
       "text": [
        "0 \n",
        "\n",
        "Jaccard of  A3RURV3JC6LJU0 A1ZF1JV34FASKE  is:  "
       ]
      },
      {
       "output_type": "stream",
       "stream": "stdout",
       "text": [
        "0 \n",
        "\n",
        "Jaccard of  A3RURV3JC6LJU0 A29R36DKPVNVWD  is:  "
       ]
      },
      {
       "output_type": "stream",
       "stream": "stdout",
       "text": [
        "0 \n",
        "\n",
        "Jaccard of  A3RURV3JC6LJU0 A3QJ5EXCPY965H  is:  "
       ]
      },
      {
       "output_type": "stream",
       "stream": "stdout",
       "text": [
        "0 \n",
        "\n",
        "Jaccard of  A3RURV3JC6LJU0 A3LW3EZEYRDF1A  is:  "
       ]
      },
      {
       "output_type": "stream",
       "stream": "stdout",
       "text": [
        "0 \n",
        "\n",
        "Jaccard of  A3RURV3JC6LJU0 A3RAR5ZZGPF3VJ  is:  "
       ]
      },
      {
       "output_type": "stream",
       "stream": "stdout",
       "text": [
        "0 \n",
        "\n",
        "Jaccard of  A3RURV3JC6LJU0 AQFYGWUOGWBXY  is:  "
       ]
      },
      {
       "output_type": "stream",
       "stream": "stdout",
       "text": [
        "0 \n",
        "\n",
        "Jaccard of  A3RURV3JC6LJU0 A3KY8F557TOL1I  is:  "
       ]
      },
      {
       "output_type": "stream",
       "stream": "stdout",
       "text": [
        "0 \n",
        "\n",
        "Jaccard of  A3RURV3JC6LJU0 A3FL2VE5F1XYZZ  is:  "
       ]
      },
      {
       "output_type": "stream",
       "stream": "stdout",
       "text": [
        "0 \n",
        "\n",
        "Jaccard of  A3RURV3JC6LJU0 A2TB97EU2LXBUZ  is:  "
       ]
      },
      {
       "output_type": "stream",
       "stream": "stdout",
       "text": [
        "0 \n",
        "\n",
        "Jaccard of  A3RURV3JC6LJU0 A3PJKZ549TEUB6  is:  "
       ]
      },
      {
       "output_type": "stream",
       "stream": "stdout",
       "text": [
        "0 \n",
        "\n",
        "Jaccard of  A3RURV3JC6LJU0 A3IXV88WO45U4E  is:  "
       ]
      },
      {
       "output_type": "stream",
       "stream": "stdout",
       "text": [
        "0 \n",
        "\n",
        "Jaccard of  A3RURV3JC6LJU0 A2YX5L54JGPJDI  is:  "
       ]
      },
      {
       "output_type": "stream",
       "stream": "stdout",
       "text": [
        "0 \n",
        "\n",
        "Jaccard of  A3RURV3JC6LJU0 A1BAHT46HPEVH1  is:  "
       ]
      },
      {
       "output_type": "stream",
       "stream": "stdout",
       "text": [
        "0 \n",
        "\n",
        "Jaccard of  A3RURV3JC6LJU0 A1NMM0RDRF6R84  is:  "
       ]
      },
      {
       "output_type": "stream",
       "stream": "stdout",
       "text": [
        "0 \n",
        "\n",
        "Jaccard of  A3RURV3JC6LJU0 A14NCQUQ1XG09W  is:  "
       ]
      },
      {
       "output_type": "stream",
       "stream": "stdout",
       "text": [
        "0 \n",
        "\n",
        "Jaccard of  A3RURV3JC6LJU0 A1OXI0N58TMYY9  is:  "
       ]
      },
      {
       "output_type": "stream",
       "stream": "stdout",
       "text": [
        "0 \n",
        "\n",
        "Jaccard of  A3RURV3JC6LJU0 A1OXI0N58TMYY9  is:  "
       ]
      },
      {
       "output_type": "stream",
       "stream": "stdout",
       "text": [
        "0 \n",
        "\n",
        "Jaccard of  A3RURV3JC6LJU0 A374DPLAJ267SJ  is:  "
       ]
      },
      {
       "output_type": "stream",
       "stream": "stdout",
       "text": [
        "0 \n",
        "\n",
        "Jaccard of  A3RURV3JC6LJU0 A32DZR3UG3TNTO  is:  "
       ]
      },
      {
       "output_type": "stream",
       "stream": "stdout",
       "text": [
        "0 \n",
        "\n",
        "Jaccard of  A3RURV3JC6LJU0 A128K8GL4DJYTQ  is:  "
       ]
      },
      {
       "output_type": "stream",
       "stream": "stdout",
       "text": [
        "0 \n",
        "\n",
        "Jaccard of  A3RURV3JC6LJU0 ASWOIZH83RX39  is:  "
       ]
      },
      {
       "output_type": "stream",
       "stream": "stdout",
       "text": [
        "0 \n",
        "\n",
        "Jaccard of  A3RURV3JC6LJU0 A10D243CIM1BYJ  is:  "
       ]
      },
      {
       "output_type": "stream",
       "stream": "stdout",
       "text": [
        "0 \n",
        "\n",
        "Jaccard of  A3RURV3JC6LJU0 ARIPPNN6IHRP7  is:  "
       ]
      },
      {
       "output_type": "stream",
       "stream": "stdout",
       "text": [
        "0 \n",
        "\n",
        "Jaccard of  A3RURV3JC6LJU0 A3MUKHIAJOOLI2  is:  "
       ]
      },
      {
       "output_type": "stream",
       "stream": "stdout",
       "text": [
        "0 \n",
        "\n",
        "Jaccard of  A3RURV3JC6LJU0 A1K98Y2Q4GFDIU  is:  "
       ]
      },
      {
       "output_type": "stream",
       "stream": "stdout",
       "text": [
        "0 \n",
        "\n",
        "Jaccard of  A3RURV3JC6LJU0 A32MIVILCUX18L  is:  "
       ]
      },
      {
       "output_type": "stream",
       "stream": "stdout",
       "text": [
        "0 \n",
        "\n",
        "Jaccard of  A3RURV3JC6LJU0 A13YV794BQSKF9  is:  "
       ]
      },
      {
       "output_type": "stream",
       "stream": "stdout",
       "text": [
        "0 \n",
        "\n",
        "Jaccard of  A3RURV3JC6LJU0 A1HKKRS6JPZ8OC  is:  "
       ]
      },
      {
       "output_type": "stream",
       "stream": "stdout",
       "text": [
        "0 \n",
        "\n",
        "Jaccard of  A3RURV3JC6LJU0 A232HUAELH5J6V  is:  "
       ]
      },
      {
       "output_type": "stream",
       "stream": "stdout",
       "text": [
        "0 \n",
        "\n",
        "Jaccard of  A3RURV3JC6LJU0 A1OXI0N58TMYY9  is:  "
       ]
      },
      {
       "output_type": "stream",
       "stream": "stdout",
       "text": [
        "0 \n",
        "\n",
        "Jaccard of  A3RURV3JC6LJU0 A6TPHIXWU4Y7K  is:  "
       ]
      },
      {
       "output_type": "stream",
       "stream": "stdout",
       "text": [
        "0 \n",
        "\n",
        "Jaccard of  A3RURV3JC6LJU0 AAZXZU9CMWIC1  is:  "
       ]
      },
      {
       "output_type": "stream",
       "stream": "stdout",
       "text": [
        "0 \n",
        "\n",
        "Jaccard of  A3RURV3JC6LJU0 ALZYVC06EZU0H  is:  "
       ]
      },
      {
       "output_type": "stream",
       "stream": "stdout",
       "text": [
        "0 \n",
        "\n",
        "Jaccard of  A3RURV3JC6LJU0 A34989LDU92LBH  is:  "
       ]
      },
      {
       "output_type": "stream",
       "stream": "stdout",
       "text": [
        "0 \n",
        "\n",
        "Jaccard of  A3RURV3JC6LJU0 A15IK0978DBL14  is:  "
       ]
      },
      {
       "output_type": "stream",
       "stream": "stdout",
       "text": [
        "0 \n",
        "\n",
        "Jaccard of  A3RURV3JC6LJU0 AOYTGNBDDE5PE  is:  "
       ]
      },
      {
       "output_type": "stream",
       "stream": "stdout",
       "text": [
        "0 \n",
        "\n",
        "Jaccard of  A3RURV3JC6LJU0 A2DWN2MQYWKGNX  is:  "
       ]
      },
      {
       "output_type": "stream",
       "stream": "stdout",
       "text": [
        "0 \n",
        "\n",
        "Jaccard of  A3RURV3JC6LJU0 AZ31J70BQ9CM2  is:  "
       ]
      },
      {
       "output_type": "stream",
       "stream": "stdout",
       "text": [
        "0 \n",
        "\n",
        "Jaccard of  A3RURV3JC6LJU0 A1NXWJ0UYOMQ8O  is:  "
       ]
      },
      {
       "output_type": "stream",
       "stream": "stdout",
       "text": [
        "0 \n",
        "\n",
        "Jaccard of  A3RURV3JC6LJU0 A3R5RX4IA2Y2FI  is:  "
       ]
      },
      {
       "output_type": "stream",
       "stream": "stdout",
       "text": [
        "0 \n",
        "\n",
        "Jaccard of  A3RURV3JC6LJU0 A1Z4XCX0PC1HSM  is:  "
       ]
      },
      {
       "output_type": "stream",
       "stream": "stdout",
       "text": [
        "0 \n",
        "\n",
        "Jaccard of  A2VUDEZFABPHRC A2VUDEZFABPHRC  is:  "
       ]
      },
      {
       "output_type": "stream",
       "stream": "stdout",
       "text": [
        "0 \n",
        "\n",
        "Jaccard of  A2VUDEZFABPHRC A3NI29U4P5NQF1  is:  "
       ]
      },
      {
       "output_type": "stream",
       "stream": "stdout",
       "text": [
        "0 \n",
        "\n",
        "Jaccard of  A2VUDEZFABPHRC AU6TC44BPNTTH  is:  "
       ]
      },
      {
       "output_type": "stream",
       "stream": "stdout",
       "text": [
        "0 \n",
        "\n",
        "Jaccard of  A2VUDEZFABPHRC A2RWQE8FNYAH0B  is:  "
       ]
      },
      {
       "output_type": "stream",
       "stream": "stdout",
       "text": [
        "0 \n",
        "\n",
        "Jaccard of  A2VUDEZFABPHRC A7N5UKGJZB6RQ  is:  "
       ]
      },
      {
       "output_type": "stream",
       "stream": "stdout",
       "text": [
        "0 \n",
        "\n",
        "Jaccard of  A2VUDEZFABPHRC A3R1D7LZUJ2H6H  is:  "
       ]
      },
      {
       "output_type": "stream",
       "stream": "stdout",
       "text": [
        "0 \n",
        "\n",
        "Jaccard of  A2VUDEZFABPHRC A3GSUF7VQ92LT8  is:  "
       ]
      },
      {
       "output_type": "stream",
       "stream": "stdout",
       "text": [
        "0 \n",
        "\n",
        "Jaccard of  A2VUDEZFABPHRC A23KVLM5HC8V13  is:  "
       ]
      },
      {
       "output_type": "stream",
       "stream": "stdout",
       "text": [
        "0 \n",
        "\n",
        "Jaccard of  A2VUDEZFABPHRC A24WNIJZQTRZS5  is:  "
       ]
      },
      {
       "output_type": "stream",
       "stream": "stdout",
       "text": [
        "0 \n",
        "\n",
        "Jaccard of  A2VUDEZFABPHRC A2FMN684QJUD2W  is:  "
       ]
      },
      {
       "output_type": "stream",
       "stream": "stdout",
       "text": [
        "0 \n",
        "\n",
        "Jaccard of  A2VUDEZFABPHRC A25KEEQK88U659  is:  "
       ]
      },
      {
       "output_type": "stream",
       "stream": "stdout",
       "text": [
        "0 \n",
        "\n",
        "Jaccard of  A2VUDEZFABPHRC A2ET702Y3IC2HF  is:  "
       ]
      },
      {
       "output_type": "stream",
       "stream": "stdout",
       "text": [
        "0 \n",
        "\n",
        "Jaccard of  A2VUDEZFABPHRC A3LX0RSPLHEE5S  is:  "
       ]
      },
      {
       "output_type": "stream",
       "stream": "stdout",
       "text": [
        "0 \n",
        "\n",
        "Jaccard of  A2VUDEZFABPHRC A1RCP8K3DTYUT1  is:  "
       ]
      },
      {
       "output_type": "stream",
       "stream": "stdout",
       "text": [
        "0 \n",
        "\n",
        "Jaccard of  A2VUDEZFABPHRC A2QR0OBX1BB99O  is:  "
       ]
      },
      {
       "output_type": "stream",
       "stream": "stdout",
       "text": [
        "0 \n",
        "\n",
        "Jaccard of  A2VUDEZFABPHRC APRE05RXN915U  is:  "
       ]
      },
      {
       "output_type": "stream",
       "stream": "stdout",
       "text": [
        "0 \n",
        "\n",
        "Jaccard of  A2VUDEZFABPHRC A3P0Q1T6FN10QL  is:  "
       ]
      },
      {
       "output_type": "stream",
       "stream": "stdout",
       "text": [
        "0 \n",
        "\n",
        "Jaccard of  A2VUDEZFABPHRC A1S9FRGMJ8PZSG  is:  "
       ]
      },
      {
       "output_type": "stream",
       "stream": "stdout",
       "text": [
        "0 \n",
        "\n",
        "Jaccard of  A2VUDEZFABPHRC A1ZF1JV34FASKE  is:  "
       ]
      },
      {
       "output_type": "stream",
       "stream": "stdout",
       "text": [
        "0 \n",
        "\n",
        "Jaccard of  A2VUDEZFABPHRC A29R36DKPVNVWD  is:  "
       ]
      },
      {
       "output_type": "stream",
       "stream": "stdout",
       "text": [
        "0 \n",
        "\n",
        "Jaccard of  A2VUDEZFABPHRC A3QJ5EXCPY965H  is:  "
       ]
      },
      {
       "output_type": "stream",
       "stream": "stdout",
       "text": [
        "0 \n",
        "\n",
        "Jaccard of  A2VUDEZFABPHRC A3LW3EZEYRDF1A  is:  "
       ]
      },
      {
       "output_type": "stream",
       "stream": "stdout",
       "text": [
        "0 \n",
        "\n",
        "Jaccard of  A2VUDEZFABPHRC A3RAR5ZZGPF3VJ  is:  "
       ]
      },
      {
       "output_type": "stream",
       "stream": "stdout",
       "text": [
        "0 \n",
        "\n",
        "Jaccard of  A2VUDEZFABPHRC AQFYGWUOGWBXY  is:  "
       ]
      },
      {
       "output_type": "stream",
       "stream": "stdout",
       "text": [
        "0 \n",
        "\n",
        "Jaccard of  A2VUDEZFABPHRC A3KY8F557TOL1I  is:  "
       ]
      },
      {
       "output_type": "stream",
       "stream": "stdout",
       "text": [
        "0 \n",
        "\n",
        "Jaccard of  A2VUDEZFABPHRC A3FL2VE5F1XYZZ  is:  "
       ]
      },
      {
       "output_type": "stream",
       "stream": "stdout",
       "text": [
        "0 \n",
        "\n",
        "Jaccard of  A2VUDEZFABPHRC A2TB97EU2LXBUZ  is:  "
       ]
      },
      {
       "output_type": "stream",
       "stream": "stdout",
       "text": [
        "0 \n",
        "\n",
        "Jaccard of  A2VUDEZFABPHRC A3PJKZ549TEUB6  is:  "
       ]
      },
      {
       "output_type": "stream",
       "stream": "stdout",
       "text": [
        "0 \n",
        "\n",
        "Jaccard of  A2VUDEZFABPHRC A3IXV88WO45U4E  is:  "
       ]
      },
      {
       "output_type": "stream",
       "stream": "stdout",
       "text": [
        "0 \n",
        "\n",
        "Jaccard of  A2VUDEZFABPHRC A2YX5L54JGPJDI  is:  "
       ]
      },
      {
       "output_type": "stream",
       "stream": "stdout",
       "text": [
        "0 \n",
        "\n",
        "Jaccard of  A2VUDEZFABPHRC A1BAHT46HPEVH1  is:  "
       ]
      },
      {
       "output_type": "stream",
       "stream": "stdout",
       "text": [
        "0 \n",
        "\n",
        "Jaccard of  A2VUDEZFABPHRC A1NMM0RDRF6R84  is:  "
       ]
      },
      {
       "output_type": "stream",
       "stream": "stdout",
       "text": [
        "0 \n",
        "\n",
        "Jaccard of  A2VUDEZFABPHRC A14NCQUQ1XG09W  is:  "
       ]
      },
      {
       "output_type": "stream",
       "stream": "stdout",
       "text": [
        "0 \n",
        "\n",
        "Jaccard of  A2VUDEZFABPHRC A1OXI0N58TMYY9  is:  "
       ]
      },
      {
       "output_type": "stream",
       "stream": "stdout",
       "text": [
        "0 \n",
        "\n",
        "Jaccard of  A2VUDEZFABPHRC A1OXI0N58TMYY9  is:  "
       ]
      },
      {
       "output_type": "stream",
       "stream": "stdout",
       "text": [
        "0 \n",
        "\n",
        "Jaccard of  A2VUDEZFABPHRC A374DPLAJ267SJ  is:  "
       ]
      },
      {
       "output_type": "stream",
       "stream": "stdout",
       "text": [
        "0 \n",
        "\n",
        "Jaccard of  A2VUDEZFABPHRC A32DZR3UG3TNTO  is:  "
       ]
      },
      {
       "output_type": "stream",
       "stream": "stdout",
       "text": [
        "0 \n",
        "\n",
        "Jaccard of  A2VUDEZFABPHRC A128K8GL4DJYTQ  is:  "
       ]
      },
      {
       "output_type": "stream",
       "stream": "stdout",
       "text": [
        "0 \n",
        "\n",
        "Jaccard of  A2VUDEZFABPHRC ASWOIZH83RX39  is:  "
       ]
      },
      {
       "output_type": "stream",
       "stream": "stdout",
       "text": [
        "0 \n",
        "\n",
        "Jaccard of  A2VUDEZFABPHRC A10D243CIM1BYJ  is:  "
       ]
      },
      {
       "output_type": "stream",
       "stream": "stdout",
       "text": [
        "0 \n",
        "\n",
        "Jaccard of  A2VUDEZFABPHRC ARIPPNN6IHRP7  is:  "
       ]
      },
      {
       "output_type": "stream",
       "stream": "stdout",
       "text": [
        "0 \n",
        "\n",
        "Jaccard of  A2VUDEZFABPHRC A3MUKHIAJOOLI2  is:  "
       ]
      },
      {
       "output_type": "stream",
       "stream": "stdout",
       "text": [
        "0 \n",
        "\n",
        "Jaccard of  A2VUDEZFABPHRC A1K98Y2Q4GFDIU  is:  "
       ]
      },
      {
       "output_type": "stream",
       "stream": "stdout",
       "text": [
        "0 \n",
        "\n",
        "Jaccard of  A2VUDEZFABPHRC A32MIVILCUX18L  is:  "
       ]
      },
      {
       "output_type": "stream",
       "stream": "stdout",
       "text": [
        "0 \n",
        "\n",
        "Jaccard of  A2VUDEZFABPHRC A13YV794BQSKF9  is:  "
       ]
      },
      {
       "output_type": "stream",
       "stream": "stdout",
       "text": [
        "0 \n",
        "\n",
        "Jaccard of  A2VUDEZFABPHRC A1HKKRS6JPZ8OC  is:  "
       ]
      },
      {
       "output_type": "stream",
       "stream": "stdout",
       "text": [
        "0 \n",
        "\n",
        "Jaccard of  A2VUDEZFABPHRC A232HUAELH5J6V  is:  "
       ]
      },
      {
       "output_type": "stream",
       "stream": "stdout",
       "text": [
        "0 \n",
        "\n",
        "Jaccard of  A2VUDEZFABPHRC A1OXI0N58TMYY9  is:  "
       ]
      },
      {
       "output_type": "stream",
       "stream": "stdout",
       "text": [
        "0 \n",
        "\n",
        "Jaccard of  A2VUDEZFABPHRC A6TPHIXWU4Y7K  is:  "
       ]
      },
      {
       "output_type": "stream",
       "stream": "stdout",
       "text": [
        "0 \n",
        "\n",
        "Jaccard of  A2VUDEZFABPHRC AAZXZU9CMWIC1  is:  "
       ]
      },
      {
       "output_type": "stream",
       "stream": "stdout",
       "text": [
        "0 \n",
        "\n",
        "Jaccard of  A2VUDEZFABPHRC ALZYVC06EZU0H  is:  "
       ]
      },
      {
       "output_type": "stream",
       "stream": "stdout",
       "text": [
        "0 \n",
        "\n",
        "Jaccard of  A2VUDEZFABPHRC A34989LDU92LBH  is:  "
       ]
      },
      {
       "output_type": "stream",
       "stream": "stdout",
       "text": [
        "0 \n",
        "\n",
        "Jaccard of  A2VUDEZFABPHRC A15IK0978DBL14  is:  "
       ]
      },
      {
       "output_type": "stream",
       "stream": "stdout",
       "text": [
        "0 \n",
        "\n",
        "Jaccard of  A2VUDEZFABPHRC AOYTGNBDDE5PE  is:  "
       ]
      },
      {
       "output_type": "stream",
       "stream": "stdout",
       "text": [
        "0 \n",
        "\n",
        "Jaccard of  A2VUDEZFABPHRC A2DWN2MQYWKGNX  is:  "
       ]
      },
      {
       "output_type": "stream",
       "stream": "stdout",
       "text": [
        "0 \n",
        "\n",
        "Jaccard of  A2VUDEZFABPHRC AZ31J70BQ9CM2  is:  "
       ]
      },
      {
       "output_type": "stream",
       "stream": "stdout",
       "text": [
        "0 \n",
        "\n",
        "Jaccard of  A2VUDEZFABPHRC A1NXWJ0UYOMQ8O  is:  "
       ]
      },
      {
       "output_type": "stream",
       "stream": "stdout",
       "text": [
        "0 \n",
        "\n",
        "Jaccard of  A2VUDEZFABPHRC A3R5RX4IA2Y2FI  is:  "
       ]
      },
      {
       "output_type": "stream",
       "stream": "stdout",
       "text": [
        "0 \n",
        "\n",
        "Jaccard of  A2VUDEZFABPHRC A1Z4XCX0PC1HSM  is:  "
       ]
      },
      {
       "output_type": "stream",
       "stream": "stdout",
       "text": [
        "0 \n",
        "\n",
        "Jaccard of  A3NI29U4P5NQF1 A3NI29U4P5NQF1  is:  "
       ]
      },
      {
       "output_type": "stream",
       "stream": "stdout",
       "text": [
        "0 \n",
        "\n",
        "Jaccard of  A3NI29U4P5NQF1 AU6TC44BPNTTH  is:  "
       ]
      },
      {
       "output_type": "stream",
       "stream": "stdout",
       "text": [
        "0 \n",
        "\n",
        "Jaccard of  A3NI29U4P5NQF1 A2RWQE8FNYAH0B  is:  "
       ]
      },
      {
       "output_type": "stream",
       "stream": "stdout",
       "text": [
        "0 \n",
        "\n",
        "Jaccard of  A3NI29U4P5NQF1 A7N5UKGJZB6RQ  is:  "
       ]
      },
      {
       "output_type": "stream",
       "stream": "stdout",
       "text": [
        "0 \n",
        "\n",
        "Jaccard of  A3NI29U4P5NQF1 A3R1D7LZUJ2H6H  is:  "
       ]
      },
      {
       "output_type": "stream",
       "stream": "stdout",
       "text": [
        "0 \n",
        "\n",
        "Jaccard of  A3NI29U4P5NQF1 A3GSUF7VQ92LT8  is:  "
       ]
      },
      {
       "output_type": "stream",
       "stream": "stdout",
       "text": [
        "0 \n",
        "\n",
        "Jaccard of  A3NI29U4P5NQF1 A23KVLM5HC8V13  is:  "
       ]
      },
      {
       "output_type": "stream",
       "stream": "stdout",
       "text": [
        "0 \n",
        "\n",
        "Jaccard of  A3NI29U4P5NQF1 A24WNIJZQTRZS5  is:  "
       ]
      },
      {
       "output_type": "stream",
       "stream": "stdout",
       "text": [
        "0 \n",
        "\n",
        "Jaccard of  A3NI29U4P5NQF1 A2FMN684QJUD2W  is:  "
       ]
      },
      {
       "output_type": "stream",
       "stream": "stdout",
       "text": [
        "0 \n",
        "\n",
        "Jaccard of  A3NI29U4P5NQF1 A25KEEQK88U659  is:  "
       ]
      },
      {
       "output_type": "stream",
       "stream": "stdout",
       "text": [
        "0 \n",
        "\n",
        "Jaccard of  A3NI29U4P5NQF1 A2ET702Y3IC2HF  is:  "
       ]
      },
      {
       "output_type": "stream",
       "stream": "stdout",
       "text": [
        "0 \n",
        "\n",
        "Jaccard of  A3NI29U4P5NQF1 A3LX0RSPLHEE5S  is:  "
       ]
      },
      {
       "output_type": "stream",
       "stream": "stdout",
       "text": [
        "0 \n",
        "\n",
        "Jaccard of  A3NI29U4P5NQF1 A1RCP8K3DTYUT1  is:  "
       ]
      },
      {
       "output_type": "stream",
       "stream": "stdout",
       "text": [
        "0 \n",
        "\n",
        "Jaccard of  A3NI29U4P5NQF1 A2QR0OBX1BB99O  is:  "
       ]
      },
      {
       "output_type": "stream",
       "stream": "stdout",
       "text": [
        "0 \n",
        "\n",
        "Jaccard of  A3NI29U4P5NQF1 APRE05RXN915U  is:  "
       ]
      },
      {
       "output_type": "stream",
       "stream": "stdout",
       "text": [
        "0 \n",
        "\n",
        "Jaccard of  A3NI29U4P5NQF1 A3P0Q1T6FN10QL  is:  "
       ]
      },
      {
       "output_type": "stream",
       "stream": "stdout",
       "text": [
        "0 \n",
        "\n",
        "Jaccard of  A3NI29U4P5NQF1 A1S9FRGMJ8PZSG  is:  "
       ]
      },
      {
       "output_type": "stream",
       "stream": "stdout",
       "text": [
        "0 \n",
        "\n",
        "Jaccard of  A3NI29U4P5NQF1 A1ZF1JV34FASKE  is:  "
       ]
      },
      {
       "output_type": "stream",
       "stream": "stdout",
       "text": [
        "0 \n",
        "\n",
        "Jaccard of  A3NI29U4P5NQF1 A29R36DKPVNVWD  is:  "
       ]
      },
      {
       "output_type": "stream",
       "stream": "stdout",
       "text": [
        "0 \n",
        "\n",
        "Jaccard of  A3NI29U4P5NQF1 A3QJ5EXCPY965H  is:  "
       ]
      },
      {
       "output_type": "stream",
       "stream": "stdout",
       "text": [
        "0 \n",
        "\n",
        "Jaccard of  A3NI29U4P5NQF1 A3LW3EZEYRDF1A  is:  "
       ]
      },
      {
       "output_type": "stream",
       "stream": "stdout",
       "text": [
        "0 \n",
        "\n",
        "Jaccard of  A3NI29U4P5NQF1 A3RAR5ZZGPF3VJ  is:  "
       ]
      },
      {
       "output_type": "stream",
       "stream": "stdout",
       "text": [
        "0 \n",
        "\n",
        "Jaccard of  A3NI29U4P5NQF1 AQFYGWUOGWBXY  is:  "
       ]
      },
      {
       "output_type": "stream",
       "stream": "stdout",
       "text": [
        "0 \n",
        "\n",
        "Jaccard of  A3NI29U4P5NQF1 A3KY8F557TOL1I  is:  "
       ]
      },
      {
       "output_type": "stream",
       "stream": "stdout",
       "text": [
        "0 \n",
        "\n",
        "Jaccard of  A3NI29U4P5NQF1 A3FL2VE5F1XYZZ  is:  "
       ]
      },
      {
       "output_type": "stream",
       "stream": "stdout",
       "text": [
        "0 \n",
        "\n",
        "Jaccard of  A3NI29U4P5NQF1 A2TB97EU2LXBUZ  is:  "
       ]
      },
      {
       "output_type": "stream",
       "stream": "stdout",
       "text": [
        "0 \n",
        "\n",
        "Jaccard of  A3NI29U4P5NQF1 A3PJKZ549TEUB6  is:  "
       ]
      },
      {
       "output_type": "stream",
       "stream": "stdout",
       "text": [
        "0 \n",
        "\n",
        "Jaccard of  A3NI29U4P5NQF1 A3IXV88WO45U4E  is:  "
       ]
      },
      {
       "output_type": "stream",
       "stream": "stdout",
       "text": [
        "0 \n",
        "\n",
        "Jaccard of  A3NI29U4P5NQF1 A2YX5L54JGPJDI  is:  "
       ]
      },
      {
       "output_type": "stream",
       "stream": "stdout",
       "text": [
        "0 \n",
        "\n",
        "Jaccard of  A3NI29U4P5NQF1 A1BAHT46HPEVH1  is:  "
       ]
      },
      {
       "output_type": "stream",
       "stream": "stdout",
       "text": [
        "0 \n",
        "\n",
        "Jaccard of  A3NI29U4P5NQF1 A1NMM0RDRF6R84  is:  "
       ]
      },
      {
       "output_type": "stream",
       "stream": "stdout",
       "text": [
        "0 \n",
        "\n",
        "Jaccard of  A3NI29U4P5NQF1 A14NCQUQ1XG09W  is:  "
       ]
      },
      {
       "output_type": "stream",
       "stream": "stdout",
       "text": [
        "0 \n",
        "\n",
        "Jaccard of  A3NI29U4P5NQF1 A1OXI0N58TMYY9  is:  "
       ]
      },
      {
       "output_type": "stream",
       "stream": "stdout",
       "text": [
        "0 \n",
        "\n",
        "Jaccard of  A3NI29U4P5NQF1 A1OXI0N58TMYY9  is:  "
       ]
      },
      {
       "output_type": "stream",
       "stream": "stdout",
       "text": [
        "0 \n",
        "\n",
        "Jaccard of  A3NI29U4P5NQF1 A374DPLAJ267SJ  is:  "
       ]
      },
      {
       "output_type": "stream",
       "stream": "stdout",
       "text": [
        "0 \n",
        "\n",
        "Jaccard of  A3NI29U4P5NQF1 A32DZR3UG3TNTO  is:  "
       ]
      },
      {
       "output_type": "stream",
       "stream": "stdout",
       "text": [
        "0 \n",
        "\n",
        "Jaccard of  A3NI29U4P5NQF1 A128K8GL4DJYTQ  is:  "
       ]
      },
      {
       "output_type": "stream",
       "stream": "stdout",
       "text": [
        "0 \n",
        "\n",
        "Jaccard of  A3NI29U4P5NQF1 ASWOIZH83RX39  is:  "
       ]
      },
      {
       "output_type": "stream",
       "stream": "stdout",
       "text": [
        "0 \n",
        "\n",
        "Jaccard of  A3NI29U4P5NQF1 A10D243CIM1BYJ  is:  "
       ]
      },
      {
       "output_type": "stream",
       "stream": "stdout",
       "text": [
        "0 \n",
        "\n",
        "Jaccard of  A3NI29U4P5NQF1 ARIPPNN6IHRP7  is:  "
       ]
      },
      {
       "output_type": "stream",
       "stream": "stdout",
       "text": [
        "0 \n",
        "\n",
        "Jaccard of  A3NI29U4P5NQF1 A3MUKHIAJOOLI2  is:  "
       ]
      },
      {
       "output_type": "stream",
       "stream": "stdout",
       "text": [
        "0 \n",
        "\n",
        "Jaccard of  A3NI29U4P5NQF1 A1K98Y2Q4GFDIU  is:  "
       ]
      },
      {
       "output_type": "stream",
       "stream": "stdout",
       "text": [
        "0 \n",
        "\n",
        "Jaccard of  A3NI29U4P5NQF1 A32MIVILCUX18L  is:  "
       ]
      },
      {
       "output_type": "stream",
       "stream": "stdout",
       "text": [
        "0 \n",
        "\n",
        "Jaccard of  A3NI29U4P5NQF1 A13YV794BQSKF9  is:  "
       ]
      },
      {
       "output_type": "stream",
       "stream": "stdout",
       "text": [
        "0 \n",
        "\n",
        "Jaccard of  A3NI29U4P5NQF1 A1HKKRS6JPZ8OC  is:  "
       ]
      },
      {
       "output_type": "stream",
       "stream": "stdout",
       "text": [
        "0 \n",
        "\n",
        "Jaccard of  A3NI29U4P5NQF1 A232HUAELH5J6V  is:  "
       ]
      },
      {
       "output_type": "stream",
       "stream": "stdout",
       "text": [
        "0 \n",
        "\n",
        "Jaccard of  A3NI29U4P5NQF1 A1OXI0N58TMYY9  is:  "
       ]
      },
      {
       "output_type": "stream",
       "stream": "stdout",
       "text": [
        "0 \n",
        "\n",
        "Jaccard of  A3NI29U4P5NQF1 A6TPHIXWU4Y7K  is:  "
       ]
      },
      {
       "output_type": "stream",
       "stream": "stdout",
       "text": [
        "0 \n",
        "\n",
        "Jaccard of  A3NI29U4P5NQF1 AAZXZU9CMWIC1  is:  "
       ]
      },
      {
       "output_type": "stream",
       "stream": "stdout",
       "text": [
        "0 \n",
        "\n",
        "Jaccard of  A3NI29U4P5NQF1 ALZYVC06EZU0H  is:  "
       ]
      },
      {
       "output_type": "stream",
       "stream": "stdout",
       "text": [
        "0 \n",
        "\n",
        "Jaccard of  A3NI29U4P5NQF1 A34989LDU92LBH  is:  "
       ]
      },
      {
       "output_type": "stream",
       "stream": "stdout",
       "text": [
        "0 \n",
        "\n",
        "Jaccard of  A3NI29U4P5NQF1 A15IK0978DBL14  is:  "
       ]
      },
      {
       "output_type": "stream",
       "stream": "stdout",
       "text": [
        "0 \n",
        "\n",
        "Jaccard of  A3NI29U4P5NQF1 AOYTGNBDDE5PE  is:  "
       ]
      },
      {
       "output_type": "stream",
       "stream": "stdout",
       "text": [
        "0 \n",
        "\n",
        "Jaccard of  A3NI29U4P5NQF1 A2DWN2MQYWKGNX  is:  "
       ]
      },
      {
       "output_type": "stream",
       "stream": "stdout",
       "text": [
        "0 \n",
        "\n",
        "Jaccard of  A3NI29U4P5NQF1 AZ31J70BQ9CM2  is:  "
       ]
      },
      {
       "output_type": "stream",
       "stream": "stdout",
       "text": [
        "0 \n",
        "\n",
        "Jaccard of  A3NI29U4P5NQF1 A1NXWJ0UYOMQ8O  is:  "
       ]
      },
      {
       "output_type": "stream",
       "stream": "stdout",
       "text": [
        "0 \n",
        "\n",
        "Jaccard of  A3NI29U4P5NQF1 A3R5RX4IA2Y2FI  is:  "
       ]
      },
      {
       "output_type": "stream",
       "stream": "stdout",
       "text": [
        "0 \n",
        "\n",
        "Jaccard of  A3NI29U4P5NQF1 A1Z4XCX0PC1HSM  is:  "
       ]
      },
      {
       "output_type": "stream",
       "stream": "stdout",
       "text": [
        "0 \n",
        "\n",
        "Jaccard of  AU6TC44BPNTTH AU6TC44BPNTTH  is:  "
       ]
      },
      {
       "output_type": "stream",
       "stream": "stdout",
       "text": [
        "0 \n",
        "\n",
        "Jaccard of  AU6TC44BPNTTH A2RWQE8FNYAH0B  is:  "
       ]
      },
      {
       "output_type": "stream",
       "stream": "stdout",
       "text": [
        "0 \n",
        "\n",
        "Jaccard of  AU6TC44BPNTTH A7N5UKGJZB6RQ  is:  "
       ]
      },
      {
       "output_type": "stream",
       "stream": "stdout",
       "text": [
        "0 \n",
        "\n",
        "Jaccard of  AU6TC44BPNTTH A3R1D7LZUJ2H6H  is:  "
       ]
      },
      {
       "output_type": "stream",
       "stream": "stdout",
       "text": [
        "0 \n",
        "\n",
        "Jaccard of  AU6TC44BPNTTH A3GSUF7VQ92LT8  is:  "
       ]
      },
      {
       "output_type": "stream",
       "stream": "stdout",
       "text": [
        "0 \n",
        "\n",
        "Jaccard of  AU6TC44BPNTTH A23KVLM5HC8V13  is:  "
       ]
      },
      {
       "output_type": "stream",
       "stream": "stdout",
       "text": [
        "0 \n",
        "\n",
        "Jaccard of  AU6TC44BPNTTH A24WNIJZQTRZS5  is:  "
       ]
      },
      {
       "output_type": "stream",
       "stream": "stdout",
       "text": [
        "0 \n",
        "\n",
        "Jaccard of  AU6TC44BPNTTH A2FMN684QJUD2W  is:  "
       ]
      },
      {
       "output_type": "stream",
       "stream": "stdout",
       "text": [
        "0 \n",
        "\n",
        "Jaccard of  AU6TC44BPNTTH A25KEEQK88U659  is:  "
       ]
      },
      {
       "output_type": "stream",
       "stream": "stdout",
       "text": [
        "0 \n",
        "\n",
        "Jaccard of  AU6TC44BPNTTH A2ET702Y3IC2HF  is:  "
       ]
      },
      {
       "output_type": "stream",
       "stream": "stdout",
       "text": [
        "0 \n",
        "\n",
        "Jaccard of  AU6TC44BPNTTH A3LX0RSPLHEE5S  is:  "
       ]
      },
      {
       "output_type": "stream",
       "stream": "stdout",
       "text": [
        "0 \n",
        "\n",
        "Jaccard of  AU6TC44BPNTTH A1RCP8K3DTYUT1  is:  "
       ]
      },
      {
       "output_type": "stream",
       "stream": "stdout",
       "text": [
        "0 \n",
        "\n",
        "Jaccard of  AU6TC44BPNTTH A2QR0OBX1BB99O  is:  "
       ]
      },
      {
       "output_type": "stream",
       "stream": "stdout",
       "text": [
        "0 \n",
        "\n",
        "Jaccard of  AU6TC44BPNTTH APRE05RXN915U  is:  "
       ]
      },
      {
       "output_type": "stream",
       "stream": "stdout",
       "text": [
        "0 \n",
        "\n",
        "Jaccard of  AU6TC44BPNTTH A3P0Q1T6FN10QL  is:  "
       ]
      },
      {
       "output_type": "stream",
       "stream": "stdout",
       "text": [
        "0 \n",
        "\n",
        "Jaccard of  AU6TC44BPNTTH A1S9FRGMJ8PZSG  is:  "
       ]
      },
      {
       "output_type": "stream",
       "stream": "stdout",
       "text": [
        "0 \n",
        "\n",
        "Jaccard of  AU6TC44BPNTTH A1ZF1JV34FASKE  is:  "
       ]
      },
      {
       "output_type": "stream",
       "stream": "stdout",
       "text": [
        "0 \n",
        "\n",
        "Jaccard of  AU6TC44BPNTTH A29R36DKPVNVWD  is:  "
       ]
      },
      {
       "output_type": "stream",
       "stream": "stdout",
       "text": [
        "0 \n",
        "\n",
        "Jaccard of  AU6TC44BPNTTH A3QJ5EXCPY965H  is:  "
       ]
      },
      {
       "output_type": "stream",
       "stream": "stdout",
       "text": [
        "0 \n",
        "\n",
        "Jaccard of  AU6TC44BPNTTH A3LW3EZEYRDF1A  is:  "
       ]
      },
      {
       "output_type": "stream",
       "stream": "stdout",
       "text": [
        "0 \n",
        "\n",
        "Jaccard of  AU6TC44BPNTTH A3RAR5ZZGPF3VJ  is:  "
       ]
      },
      {
       "output_type": "stream",
       "stream": "stdout",
       "text": [
        "0 \n",
        "\n",
        "Jaccard of  AU6TC44BPNTTH AQFYGWUOGWBXY  is:  "
       ]
      },
      {
       "output_type": "stream",
       "stream": "stdout",
       "text": [
        "0 \n",
        "\n",
        "Jaccard of  AU6TC44BPNTTH A3KY8F557TOL1I  is:  "
       ]
      },
      {
       "output_type": "stream",
       "stream": "stdout",
       "text": [
        "0 \n",
        "\n",
        "Jaccard of  AU6TC44BPNTTH A3FL2VE5F1XYZZ  is:  "
       ]
      },
      {
       "output_type": "stream",
       "stream": "stdout",
       "text": [
        "0 \n",
        "\n",
        "Jaccard of  AU6TC44BPNTTH A2TB97EU2LXBUZ  is:  "
       ]
      },
      {
       "output_type": "stream",
       "stream": "stdout",
       "text": [
        "0 \n",
        "\n",
        "Jaccard of  AU6TC44BPNTTH A3PJKZ549TEUB6  is:  "
       ]
      },
      {
       "output_type": "stream",
       "stream": "stdout",
       "text": [
        "0 \n",
        "\n",
        "Jaccard of  AU6TC44BPNTTH A3IXV88WO45U4E  is:  "
       ]
      },
      {
       "output_type": "stream",
       "stream": "stdout",
       "text": [
        "0 \n",
        "\n",
        "Jaccard of  AU6TC44BPNTTH A2YX5L54JGPJDI  is:  "
       ]
      },
      {
       "output_type": "stream",
       "stream": "stdout",
       "text": [
        "0 \n",
        "\n",
        "Jaccard of  AU6TC44BPNTTH A1BAHT46HPEVH1  is:  "
       ]
      },
      {
       "output_type": "stream",
       "stream": "stdout",
       "text": [
        "0 \n",
        "\n",
        "Jaccard of  AU6TC44BPNTTH A1NMM0RDRF6R84  is:  "
       ]
      },
      {
       "output_type": "stream",
       "stream": "stdout",
       "text": [
        "0 \n",
        "\n",
        "Jaccard of  AU6TC44BPNTTH A14NCQUQ1XG09W  is:  "
       ]
      },
      {
       "output_type": "stream",
       "stream": "stdout",
       "text": [
        "0 \n",
        "\n",
        "Jaccard of  AU6TC44BPNTTH A1OXI0N58TMYY9  is:  "
       ]
      },
      {
       "output_type": "stream",
       "stream": "stdout",
       "text": [
        "0 \n",
        "\n",
        "Jaccard of  AU6TC44BPNTTH A1OXI0N58TMYY9  is:  "
       ]
      },
      {
       "output_type": "stream",
       "stream": "stdout",
       "text": [
        "0 \n",
        "\n",
        "Jaccard of  AU6TC44BPNTTH A374DPLAJ267SJ  is:  "
       ]
      },
      {
       "output_type": "stream",
       "stream": "stdout",
       "text": [
        "0 \n",
        "\n",
        "Jaccard of  AU6TC44BPNTTH A32DZR3UG3TNTO  is:  "
       ]
      },
      {
       "output_type": "stream",
       "stream": "stdout",
       "text": [
        "0 \n",
        "\n",
        "Jaccard of  AU6TC44BPNTTH A128K8GL4DJYTQ  is:  "
       ]
      },
      {
       "output_type": "stream",
       "stream": "stdout",
       "text": [
        "0 \n",
        "\n",
        "Jaccard of  AU6TC44BPNTTH ASWOIZH83RX39  is:  "
       ]
      },
      {
       "output_type": "stream",
       "stream": "stdout",
       "text": [
        "0 \n",
        "\n",
        "Jaccard of  AU6TC44BPNTTH A10D243CIM1BYJ  is:  "
       ]
      },
      {
       "output_type": "stream",
       "stream": "stdout",
       "text": [
        "0 \n",
        "\n",
        "Jaccard of  AU6TC44BPNTTH ARIPPNN6IHRP7  is:  "
       ]
      },
      {
       "output_type": "stream",
       "stream": "stdout",
       "text": [
        "0 \n",
        "\n",
        "Jaccard of  AU6TC44BPNTTH A3MUKHIAJOOLI2  is:  "
       ]
      },
      {
       "output_type": "stream",
       "stream": "stdout",
       "text": [
        "0 \n",
        "\n",
        "Jaccard of  AU6TC44BPNTTH A1K98Y2Q4GFDIU  is:  "
       ]
      },
      {
       "output_type": "stream",
       "stream": "stdout",
       "text": [
        "0 \n",
        "\n",
        "Jaccard of  AU6TC44BPNTTH A32MIVILCUX18L  is:  "
       ]
      },
      {
       "output_type": "stream",
       "stream": "stdout",
       "text": [
        "0 \n",
        "\n",
        "Jaccard of  AU6TC44BPNTTH A13YV794BQSKF9  is:  "
       ]
      },
      {
       "output_type": "stream",
       "stream": "stdout",
       "text": [
        "0 \n",
        "\n",
        "Jaccard of  AU6TC44BPNTTH A1HKKRS6JPZ8OC  is:  "
       ]
      },
      {
       "output_type": "stream",
       "stream": "stdout",
       "text": [
        "0 \n",
        "\n",
        "Jaccard of  AU6TC44BPNTTH A232HUAELH5J6V  is:  "
       ]
      },
      {
       "output_type": "stream",
       "stream": "stdout",
       "text": [
        "0 \n",
        "\n",
        "Jaccard of  AU6TC44BPNTTH A1OXI0N58TMYY9  is:  "
       ]
      },
      {
       "output_type": "stream",
       "stream": "stdout",
       "text": [
        "0 \n",
        "\n",
        "Jaccard of  AU6TC44BPNTTH A6TPHIXWU4Y7K  is:  "
       ]
      },
      {
       "output_type": "stream",
       "stream": "stdout",
       "text": [
        "0 \n",
        "\n",
        "Jaccard of  AU6TC44BPNTTH AAZXZU9CMWIC1  is:  "
       ]
      },
      {
       "output_type": "stream",
       "stream": "stdout",
       "text": [
        "0 \n",
        "\n",
        "Jaccard of  AU6TC44BPNTTH ALZYVC06EZU0H  is:  "
       ]
      },
      {
       "output_type": "stream",
       "stream": "stdout",
       "text": [
        "0 \n",
        "\n",
        "Jaccard of  AU6TC44BPNTTH A34989LDU92LBH  is:  "
       ]
      },
      {
       "output_type": "stream",
       "stream": "stdout",
       "text": [
        "0 \n",
        "\n",
        "Jaccard of  AU6TC44BPNTTH A15IK0978DBL14  is:  "
       ]
      },
      {
       "output_type": "stream",
       "stream": "stdout",
       "text": [
        "0 \n",
        "\n",
        "Jaccard of  AU6TC44BPNTTH AOYTGNBDDE5PE  is:  "
       ]
      },
      {
       "output_type": "stream",
       "stream": "stdout",
       "text": [
        "0 \n",
        "\n",
        "Jaccard of  AU6TC44BPNTTH A2DWN2MQYWKGNX  is:  "
       ]
      },
      {
       "output_type": "stream",
       "stream": "stdout",
       "text": [
        "0 \n",
        "\n",
        "Jaccard of  AU6TC44BPNTTH AZ31J70BQ9CM2  is:  "
       ]
      },
      {
       "output_type": "stream",
       "stream": "stdout",
       "text": [
        "0 \n",
        "\n",
        "Jaccard of  AU6TC44BPNTTH A1NXWJ0UYOMQ8O  is:  "
       ]
      },
      {
       "output_type": "stream",
       "stream": "stdout",
       "text": [
        "0 \n",
        "\n",
        "Jaccard of  AU6TC44BPNTTH A3R5RX4IA2Y2FI  is:  "
       ]
      },
      {
       "output_type": "stream",
       "stream": "stdout",
       "text": [
        "0 \n",
        "\n",
        "Jaccard of  AU6TC44BPNTTH A1Z4XCX0PC1HSM  is:  "
       ]
      },
      {
       "output_type": "stream",
       "stream": "stdout",
       "text": [
        "0 \n",
        "\n",
        "Jaccard of  A2RWQE8FNYAH0B A2RWQE8FNYAH0B  is:  "
       ]
      },
      {
       "output_type": "stream",
       "stream": "stdout",
       "text": [
        "0 \n",
        "\n",
        "Jaccard of  A2RWQE8FNYAH0B A7N5UKGJZB6RQ  is:  "
       ]
      },
      {
       "output_type": "stream",
       "stream": "stdout",
       "text": [
        "0 \n",
        "\n",
        "Jaccard of  A2RWQE8FNYAH0B A3R1D7LZUJ2H6H  is:  "
       ]
      },
      {
       "output_type": "stream",
       "stream": "stdout",
       "text": [
        "0 \n",
        "\n",
        "Jaccard of  A2RWQE8FNYAH0B A3GSUF7VQ92LT8  is:  "
       ]
      },
      {
       "output_type": "stream",
       "stream": "stdout",
       "text": [
        "0 \n",
        "\n",
        "Jaccard of  A2RWQE8FNYAH0B A23KVLM5HC8V13  is:  "
       ]
      },
      {
       "output_type": "stream",
       "stream": "stdout",
       "text": [
        "0 \n",
        "\n",
        "Jaccard of  A2RWQE8FNYAH0B A24WNIJZQTRZS5  is:  "
       ]
      },
      {
       "output_type": "stream",
       "stream": "stdout",
       "text": [
        "0 \n",
        "\n",
        "Jaccard of  A2RWQE8FNYAH0B A2FMN684QJUD2W  is:  "
       ]
      },
      {
       "output_type": "stream",
       "stream": "stdout",
       "text": [
        "0 \n",
        "\n",
        "Jaccard of  A2RWQE8FNYAH0B A25KEEQK88U659  is:  "
       ]
      },
      {
       "output_type": "stream",
       "stream": "stdout",
       "text": [
        "0 \n",
        "\n",
        "Jaccard of  A2RWQE8FNYAH0B A2ET702Y3IC2HF  is:  "
       ]
      },
      {
       "output_type": "stream",
       "stream": "stdout",
       "text": [
        "0 \n",
        "\n",
        "Jaccard of  A2RWQE8FNYAH0B A3LX0RSPLHEE5S  is:  "
       ]
      },
      {
       "output_type": "stream",
       "stream": "stdout",
       "text": [
        "0 \n",
        "\n",
        "Jaccard of  A2RWQE8FNYAH0B A1RCP8K3DTYUT1  is:  "
       ]
      },
      {
       "output_type": "stream",
       "stream": "stdout",
       "text": [
        "0 \n",
        "\n",
        "Jaccard of  A2RWQE8FNYAH0B A2QR0OBX1BB99O  is:  "
       ]
      },
      {
       "output_type": "stream",
       "stream": "stdout",
       "text": [
        "0 \n",
        "\n",
        "Jaccard of  A2RWQE8FNYAH0B APRE05RXN915U  is:  "
       ]
      },
      {
       "output_type": "stream",
       "stream": "stdout",
       "text": [
        "0 \n",
        "\n",
        "Jaccard of  A2RWQE8FNYAH0B A3P0Q1T6FN10QL  is:  "
       ]
      },
      {
       "output_type": "stream",
       "stream": "stdout",
       "text": [
        "0 \n",
        "\n",
        "Jaccard of  A2RWQE8FNYAH0B A1S9FRGMJ8PZSG  is:  "
       ]
      },
      {
       "output_type": "stream",
       "stream": "stdout",
       "text": [
        "0 \n",
        "\n",
        "Jaccard of  A2RWQE8FNYAH0B A1ZF1JV34FASKE  is:  "
       ]
      },
      {
       "output_type": "stream",
       "stream": "stdout",
       "text": [
        "0 \n",
        "\n",
        "Jaccard of  A2RWQE8FNYAH0B A29R36DKPVNVWD  is:  "
       ]
      },
      {
       "output_type": "stream",
       "stream": "stdout",
       "text": [
        "0 \n",
        "\n",
        "Jaccard of  A2RWQE8FNYAH0B A3QJ5EXCPY965H  is:  "
       ]
      },
      {
       "output_type": "stream",
       "stream": "stdout",
       "text": [
        "0 \n",
        "\n",
        "Jaccard of  A2RWQE8FNYAH0B A3LW3EZEYRDF1A  is:  "
       ]
      },
      {
       "output_type": "stream",
       "stream": "stdout",
       "text": [
        "0 \n",
        "\n",
        "Jaccard of  A2RWQE8FNYAH0B A3RAR5ZZGPF3VJ  is:  "
       ]
      },
      {
       "output_type": "stream",
       "stream": "stdout",
       "text": [
        "0 \n",
        "\n",
        "Jaccard of  A2RWQE8FNYAH0B AQFYGWUOGWBXY  is:  "
       ]
      },
      {
       "output_type": "stream",
       "stream": "stdout",
       "text": [
        "0 \n",
        "\n",
        "Jaccard of  A2RWQE8FNYAH0B A3KY8F557TOL1I  is:  "
       ]
      },
      {
       "output_type": "stream",
       "stream": "stdout",
       "text": [
        "0 \n",
        "\n",
        "Jaccard of  A2RWQE8FNYAH0B A3FL2VE5F1XYZZ  is:  "
       ]
      },
      {
       "output_type": "stream",
       "stream": "stdout",
       "text": [
        "0 \n",
        "\n",
        "Jaccard of  A2RWQE8FNYAH0B A2TB97EU2LXBUZ  is:  "
       ]
      },
      {
       "output_type": "stream",
       "stream": "stdout",
       "text": [
        "0 \n",
        "\n",
        "Jaccard of  A2RWQE8FNYAH0B A3PJKZ549TEUB6  is:  "
       ]
      },
      {
       "output_type": "stream",
       "stream": "stdout",
       "text": [
        "0 \n",
        "\n",
        "Jaccard of  A2RWQE8FNYAH0B A3IXV88WO45U4E  is:  "
       ]
      },
      {
       "output_type": "stream",
       "stream": "stdout",
       "text": [
        "0 \n",
        "\n",
        "Jaccard of  A2RWQE8FNYAH0B A2YX5L54JGPJDI  is:  "
       ]
      },
      {
       "output_type": "stream",
       "stream": "stdout",
       "text": [
        "0 \n",
        "\n",
        "Jaccard of  A2RWQE8FNYAH0B A1BAHT46HPEVH1  is:  "
       ]
      },
      {
       "output_type": "stream",
       "stream": "stdout",
       "text": [
        "0 \n",
        "\n",
        "Jaccard of  A2RWQE8FNYAH0B A1NMM0RDRF6R84  is:  "
       ]
      },
      {
       "output_type": "stream",
       "stream": "stdout",
       "text": [
        "0 \n",
        "\n",
        "Jaccard of  A2RWQE8FNYAH0B A14NCQUQ1XG09W  is:  "
       ]
      },
      {
       "output_type": "stream",
       "stream": "stdout",
       "text": [
        "0 \n",
        "\n",
        "Jaccard of  A2RWQE8FNYAH0B A1OXI0N58TMYY9  is:  "
       ]
      },
      {
       "output_type": "stream",
       "stream": "stdout",
       "text": [
        "0 \n",
        "\n",
        "Jaccard of  A2RWQE8FNYAH0B A1OXI0N58TMYY9  is:  "
       ]
      },
      {
       "output_type": "stream",
       "stream": "stdout",
       "text": [
        "0 \n",
        "\n",
        "Jaccard of  A2RWQE8FNYAH0B A374DPLAJ267SJ  is:  "
       ]
      },
      {
       "output_type": "stream",
       "stream": "stdout",
       "text": [
        "0 \n",
        "\n",
        "Jaccard of  A2RWQE8FNYAH0B A32DZR3UG3TNTO  is:  "
       ]
      },
      {
       "output_type": "stream",
       "stream": "stdout",
       "text": [
        "0 \n",
        "\n",
        "Jaccard of  A2RWQE8FNYAH0B A128K8GL4DJYTQ  is:  "
       ]
      },
      {
       "output_type": "stream",
       "stream": "stdout",
       "text": [
        "0 \n",
        "\n",
        "Jaccard of  A2RWQE8FNYAH0B ASWOIZH83RX39  is:  "
       ]
      },
      {
       "output_type": "stream",
       "stream": "stdout",
       "text": [
        "0 \n",
        "\n",
        "Jaccard of  A2RWQE8FNYAH0B A10D243CIM1BYJ  is:  "
       ]
      },
      {
       "output_type": "stream",
       "stream": "stdout",
       "text": [
        "0 \n",
        "\n",
        "Jaccard of  A2RWQE8FNYAH0B ARIPPNN6IHRP7  is:  "
       ]
      },
      {
       "output_type": "stream",
       "stream": "stdout",
       "text": [
        "0 \n",
        "\n",
        "Jaccard of  A2RWQE8FNYAH0B A3MUKHIAJOOLI2  is:  "
       ]
      },
      {
       "output_type": "stream",
       "stream": "stdout",
       "text": [
        "0 \n",
        "\n",
        "Jaccard of  A2RWQE8FNYAH0B A1K98Y2Q4GFDIU  is:  "
       ]
      },
      {
       "output_type": "stream",
       "stream": "stdout",
       "text": [
        "0 \n",
        "\n",
        "Jaccard of  A2RWQE8FNYAH0B A32MIVILCUX18L  is:  "
       ]
      },
      {
       "output_type": "stream",
       "stream": "stdout",
       "text": [
        "0 \n",
        "\n",
        "Jaccard of  A2RWQE8FNYAH0B A13YV794BQSKF9  is:  "
       ]
      },
      {
       "output_type": "stream",
       "stream": "stdout",
       "text": [
        "0 \n",
        "\n",
        "Jaccard of  A2RWQE8FNYAH0B A1HKKRS6JPZ8OC  is:  "
       ]
      },
      {
       "output_type": "stream",
       "stream": "stdout",
       "text": [
        "0 \n",
        "\n",
        "Jaccard of  A2RWQE8FNYAH0B A232HUAELH5J6V  is:  "
       ]
      },
      {
       "output_type": "stream",
       "stream": "stdout",
       "text": [
        "0 \n",
        "\n",
        "Jaccard of  A2RWQE8FNYAH0B A1OXI0N58TMYY9  is:  "
       ]
      },
      {
       "output_type": "stream",
       "stream": "stdout",
       "text": [
        "0 \n",
        "\n",
        "Jaccard of  A2RWQE8FNYAH0B A6TPHIXWU4Y7K  is:  "
       ]
      },
      {
       "output_type": "stream",
       "stream": "stdout",
       "text": [
        "0 \n",
        "\n",
        "Jaccard of  A2RWQE8FNYAH0B AAZXZU9CMWIC1  is:  "
       ]
      },
      {
       "output_type": "stream",
       "stream": "stdout",
       "text": [
        "0 \n",
        "\n",
        "Jaccard of  A2RWQE8FNYAH0B ALZYVC06EZU0H  is:  "
       ]
      },
      {
       "output_type": "stream",
       "stream": "stdout",
       "text": [
        "0 \n",
        "\n",
        "Jaccard of  A2RWQE8FNYAH0B A34989LDU92LBH  is:  "
       ]
      },
      {
       "output_type": "stream",
       "stream": "stdout",
       "text": [
        "0 \n",
        "\n",
        "Jaccard of  A2RWQE8FNYAH0B A15IK0978DBL14  is:  "
       ]
      },
      {
       "output_type": "stream",
       "stream": "stdout",
       "text": [
        "0 \n",
        "\n",
        "Jaccard of  A2RWQE8FNYAH0B AOYTGNBDDE5PE  is:  "
       ]
      },
      {
       "output_type": "stream",
       "stream": "stdout",
       "text": [
        "0 \n",
        "\n",
        "Jaccard of  A2RWQE8FNYAH0B A2DWN2MQYWKGNX  is:  "
       ]
      },
      {
       "output_type": "stream",
       "stream": "stdout",
       "text": [
        "0 \n",
        "\n",
        "Jaccard of  A2RWQE8FNYAH0B AZ31J70BQ9CM2  is:  "
       ]
      },
      {
       "output_type": "stream",
       "stream": "stdout",
       "text": [
        "0 \n",
        "\n",
        "Jaccard of  A2RWQE8FNYAH0B A1NXWJ0UYOMQ8O  is:  "
       ]
      },
      {
       "output_type": "stream",
       "stream": "stdout",
       "text": [
        "0 \n",
        "\n",
        "Jaccard of  A2RWQE8FNYAH0B A3R5RX4IA2Y2FI  is:  "
       ]
      },
      {
       "output_type": "stream",
       "stream": "stdout",
       "text": [
        "0 \n",
        "\n",
        "Jaccard of  A2RWQE8FNYAH0B A1Z4XCX0PC1HSM  is:  "
       ]
      },
      {
       "output_type": "stream",
       "stream": "stdout",
       "text": [
        "0 \n",
        "\n",
        "Jaccard of  A7N5UKGJZB6RQ A7N5UKGJZB6RQ  is:  "
       ]
      },
      {
       "output_type": "stream",
       "stream": "stdout",
       "text": [
        "0 \n",
        "\n",
        "Jaccard of  A7N5UKGJZB6RQ A3R1D7LZUJ2H6H  is:  "
       ]
      },
      {
       "output_type": "stream",
       "stream": "stdout",
       "text": [
        "0 \n",
        "\n",
        "Jaccard of  A7N5UKGJZB6RQ A3GSUF7VQ92LT8  is:  "
       ]
      },
      {
       "output_type": "stream",
       "stream": "stdout",
       "text": [
        "0 \n",
        "\n",
        "Jaccard of  A7N5UKGJZB6RQ A23KVLM5HC8V13  is:  "
       ]
      },
      {
       "output_type": "stream",
       "stream": "stdout",
       "text": [
        "0 \n",
        "\n",
        "Jaccard of  A7N5UKGJZB6RQ A24WNIJZQTRZS5  is:  "
       ]
      },
      {
       "output_type": "stream",
       "stream": "stdout",
       "text": [
        "0 \n",
        "\n",
        "Jaccard of  A7N5UKGJZB6RQ A2FMN684QJUD2W  is:  "
       ]
      },
      {
       "output_type": "stream",
       "stream": "stdout",
       "text": [
        "0 \n",
        "\n",
        "Jaccard of  A7N5UKGJZB6RQ A25KEEQK88U659  is:  "
       ]
      },
      {
       "output_type": "stream",
       "stream": "stdout",
       "text": [
        "0 \n",
        "\n",
        "Jaccard of  A7N5UKGJZB6RQ A2ET702Y3IC2HF  is:  "
       ]
      },
      {
       "output_type": "stream",
       "stream": "stdout",
       "text": [
        "0 \n",
        "\n",
        "Jaccard of  A7N5UKGJZB6RQ A3LX0RSPLHEE5S  is:  "
       ]
      },
      {
       "output_type": "stream",
       "stream": "stdout",
       "text": [
        "0 \n",
        "\n",
        "Jaccard of  A7N5UKGJZB6RQ A1RCP8K3DTYUT1  is:  "
       ]
      },
      {
       "output_type": "stream",
       "stream": "stdout",
       "text": [
        "0 \n",
        "\n",
        "Jaccard of  A7N5UKGJZB6RQ A2QR0OBX1BB99O  is:  "
       ]
      },
      {
       "output_type": "stream",
       "stream": "stdout",
       "text": [
        "0 \n",
        "\n",
        "Jaccard of  A7N5UKGJZB6RQ APRE05RXN915U  is:  "
       ]
      },
      {
       "output_type": "stream",
       "stream": "stdout",
       "text": [
        "0 \n",
        "\n",
        "Jaccard of  A7N5UKGJZB6RQ A3P0Q1T6FN10QL  is:  "
       ]
      },
      {
       "output_type": "stream",
       "stream": "stdout",
       "text": [
        "0 \n",
        "\n",
        "Jaccard of  A7N5UKGJZB6RQ A1S9FRGMJ8PZSG  is:  "
       ]
      },
      {
       "output_type": "stream",
       "stream": "stdout",
       "text": [
        "0 \n",
        "\n",
        "Jaccard of  A7N5UKGJZB6RQ A1ZF1JV34FASKE  is:  "
       ]
      },
      {
       "output_type": "stream",
       "stream": "stdout",
       "text": [
        "0 \n",
        "\n",
        "Jaccard of  A7N5UKGJZB6RQ A29R36DKPVNVWD  is:  "
       ]
      },
      {
       "output_type": "stream",
       "stream": "stdout",
       "text": [
        "0 \n",
        "\n",
        "Jaccard of  A7N5UKGJZB6RQ A3QJ5EXCPY965H  is:  "
       ]
      },
      {
       "output_type": "stream",
       "stream": "stdout",
       "text": [
        "0 \n",
        "\n",
        "Jaccard of  A7N5UKGJZB6RQ A3LW3EZEYRDF1A  is:  "
       ]
      },
      {
       "output_type": "stream",
       "stream": "stdout",
       "text": [
        "0 \n",
        "\n",
        "Jaccard of  A7N5UKGJZB6RQ A3RAR5ZZGPF3VJ  is:  "
       ]
      },
      {
       "output_type": "stream",
       "stream": "stdout",
       "text": [
        "0 \n",
        "\n",
        "Jaccard of  A7N5UKGJZB6RQ AQFYGWUOGWBXY  is:  "
       ]
      },
      {
       "output_type": "stream",
       "stream": "stdout",
       "text": [
        "0 \n",
        "\n",
        "Jaccard of  A7N5UKGJZB6RQ A3KY8F557TOL1I  is:  "
       ]
      },
      {
       "output_type": "stream",
       "stream": "stdout",
       "text": [
        "0 \n",
        "\n",
        "Jaccard of  A7N5UKGJZB6RQ A3FL2VE5F1XYZZ  is:  "
       ]
      },
      {
       "output_type": "stream",
       "stream": "stdout",
       "text": [
        "0 \n",
        "\n",
        "Jaccard of  A7N5UKGJZB6RQ A2TB97EU2LXBUZ  is:  "
       ]
      },
      {
       "output_type": "stream",
       "stream": "stdout",
       "text": [
        "0 \n",
        "\n",
        "Jaccard of  A7N5UKGJZB6RQ A3PJKZ549TEUB6  is:  "
       ]
      },
      {
       "output_type": "stream",
       "stream": "stdout",
       "text": [
        "0 \n",
        "\n",
        "Jaccard of  A7N5UKGJZB6RQ A3IXV88WO45U4E  is:  "
       ]
      },
      {
       "output_type": "stream",
       "stream": "stdout",
       "text": [
        "0 \n",
        "\n",
        "Jaccard of  A7N5UKGJZB6RQ A2YX5L54JGPJDI  is:  "
       ]
      },
      {
       "output_type": "stream",
       "stream": "stdout",
       "text": [
        "0 \n",
        "\n",
        "Jaccard of  A7N5UKGJZB6RQ A1BAHT46HPEVH1  is:  "
       ]
      },
      {
       "output_type": "stream",
       "stream": "stdout",
       "text": [
        "0 \n",
        "\n",
        "Jaccard of  A7N5UKGJZB6RQ A1NMM0RDRF6R84  is:  "
       ]
      },
      {
       "output_type": "stream",
       "stream": "stdout",
       "text": [
        "0 \n",
        "\n",
        "Jaccard of  A7N5UKGJZB6RQ A14NCQUQ1XG09W  is:  "
       ]
      },
      {
       "output_type": "stream",
       "stream": "stdout",
       "text": [
        "0 \n",
        "\n",
        "Jaccard of  A7N5UKGJZB6RQ A1OXI0N58TMYY9  is:  "
       ]
      },
      {
       "output_type": "stream",
       "stream": "stdout",
       "text": [
        "0 \n",
        "\n",
        "Jaccard of  A7N5UKGJZB6RQ A1OXI0N58TMYY9  is:  "
       ]
      },
      {
       "output_type": "stream",
       "stream": "stdout",
       "text": [
        "0 \n",
        "\n",
        "Jaccard of  A7N5UKGJZB6RQ A374DPLAJ267SJ  is:  "
       ]
      },
      {
       "output_type": "stream",
       "stream": "stdout",
       "text": [
        "0 \n",
        "\n",
        "Jaccard of  A7N5UKGJZB6RQ A32DZR3UG3TNTO  is:  "
       ]
      },
      {
       "output_type": "stream",
       "stream": "stdout",
       "text": [
        "0 \n",
        "\n",
        "Jaccard of  A7N5UKGJZB6RQ A128K8GL4DJYTQ  is:  "
       ]
      },
      {
       "output_type": "stream",
       "stream": "stdout",
       "text": [
        "0 \n",
        "\n",
        "Jaccard of  A7N5UKGJZB6RQ ASWOIZH83RX39  is:  "
       ]
      },
      {
       "output_type": "stream",
       "stream": "stdout",
       "text": [
        "0 \n",
        "\n",
        "Jaccard of  A7N5UKGJZB6RQ A10D243CIM1BYJ  is:  "
       ]
      },
      {
       "output_type": "stream",
       "stream": "stdout",
       "text": [
        "0 \n",
        "\n",
        "Jaccard of  A7N5UKGJZB6RQ ARIPPNN6IHRP7  is:  "
       ]
      },
      {
       "output_type": "stream",
       "stream": "stdout",
       "text": [
        "0 \n",
        "\n",
        "Jaccard of  A7N5UKGJZB6RQ A3MUKHIAJOOLI2  is:  "
       ]
      },
      {
       "output_type": "stream",
       "stream": "stdout",
       "text": [
        "0 \n",
        "\n",
        "Jaccard of  A7N5UKGJZB6RQ A1K98Y2Q4GFDIU  is:  "
       ]
      },
      {
       "output_type": "stream",
       "stream": "stdout",
       "text": [
        "0 \n",
        "\n",
        "Jaccard of  A7N5UKGJZB6RQ A32MIVILCUX18L  is:  "
       ]
      },
      {
       "output_type": "stream",
       "stream": "stdout",
       "text": [
        "0 \n",
        "\n",
        "Jaccard of  A7N5UKGJZB6RQ A13YV794BQSKF9  is:  "
       ]
      },
      {
       "output_type": "stream",
       "stream": "stdout",
       "text": [
        "0 \n",
        "\n",
        "Jaccard of  A7N5UKGJZB6RQ A1HKKRS6JPZ8OC  is:  "
       ]
      },
      {
       "output_type": "stream",
       "stream": "stdout",
       "text": [
        "0 \n",
        "\n",
        "Jaccard of  A7N5UKGJZB6RQ A232HUAELH5J6V  is:  "
       ]
      },
      {
       "output_type": "stream",
       "stream": "stdout",
       "text": [
        "0 \n",
        "\n",
        "Jaccard of  A7N5UKGJZB6RQ A1OXI0N58TMYY9  is:  "
       ]
      },
      {
       "output_type": "stream",
       "stream": "stdout",
       "text": [
        "0 \n",
        "\n",
        "Jaccard of  A7N5UKGJZB6RQ A6TPHIXWU4Y7K  is:  "
       ]
      },
      {
       "output_type": "stream",
       "stream": "stdout",
       "text": [
        "0 \n",
        "\n",
        "Jaccard of  A7N5UKGJZB6RQ AAZXZU9CMWIC1  is:  "
       ]
      },
      {
       "output_type": "stream",
       "stream": "stdout",
       "text": [
        "0 \n",
        "\n",
        "Jaccard of  A7N5UKGJZB6RQ ALZYVC06EZU0H  is:  "
       ]
      },
      {
       "output_type": "stream",
       "stream": "stdout",
       "text": [
        "0 \n",
        "\n",
        "Jaccard of  A7N5UKGJZB6RQ A34989LDU92LBH  is:  "
       ]
      },
      {
       "output_type": "stream",
       "stream": "stdout",
       "text": [
        "0 \n",
        "\n",
        "Jaccard of  A7N5UKGJZB6RQ A15IK0978DBL14  is:  "
       ]
      },
      {
       "output_type": "stream",
       "stream": "stdout",
       "text": [
        "0 \n",
        "\n",
        "Jaccard of  A7N5UKGJZB6RQ AOYTGNBDDE5PE  is:  "
       ]
      },
      {
       "output_type": "stream",
       "stream": "stdout",
       "text": [
        "0 \n",
        "\n",
        "Jaccard of  A7N5UKGJZB6RQ A2DWN2MQYWKGNX  is:  "
       ]
      },
      {
       "output_type": "stream",
       "stream": "stdout",
       "text": [
        "0 \n",
        "\n",
        "Jaccard of  A7N5UKGJZB6RQ AZ31J70BQ9CM2  is:  "
       ]
      },
      {
       "output_type": "stream",
       "stream": "stdout",
       "text": [
        "0 \n",
        "\n",
        "Jaccard of  A7N5UKGJZB6RQ A1NXWJ0UYOMQ8O  is:  "
       ]
      },
      {
       "output_type": "stream",
       "stream": "stdout",
       "text": [
        "0 \n",
        "\n",
        "Jaccard of  A7N5UKGJZB6RQ A3R5RX4IA2Y2FI  is:  "
       ]
      },
      {
       "output_type": "stream",
       "stream": "stdout",
       "text": [
        "0 \n",
        "\n",
        "Jaccard of  A7N5UKGJZB6RQ A1Z4XCX0PC1HSM  is:  "
       ]
      },
      {
       "output_type": "stream",
       "stream": "stdout",
       "text": [
        "0 \n",
        "\n",
        "Jaccard of  A3R1D7LZUJ2H6H A3R1D7LZUJ2H6H  is:  "
       ]
      },
      {
       "output_type": "stream",
       "stream": "stdout",
       "text": [
        "0 \n",
        "\n",
        "Jaccard of  A3R1D7LZUJ2H6H A3GSUF7VQ92LT8  is:  "
       ]
      },
      {
       "output_type": "stream",
       "stream": "stdout",
       "text": [
        "0 \n",
        "\n",
        "Jaccard of  A3R1D7LZUJ2H6H A23KVLM5HC8V13  is:  "
       ]
      },
      {
       "output_type": "stream",
       "stream": "stdout",
       "text": [
        "0 \n",
        "\n",
        "Jaccard of  A3R1D7LZUJ2H6H A24WNIJZQTRZS5  is:  "
       ]
      },
      {
       "output_type": "stream",
       "stream": "stdout",
       "text": [
        "0 \n",
        "\n",
        "Jaccard of  A3R1D7LZUJ2H6H A2FMN684QJUD2W  is:  "
       ]
      },
      {
       "output_type": "stream",
       "stream": "stdout",
       "text": [
        "0 \n",
        "\n",
        "Jaccard of  A3R1D7LZUJ2H6H A25KEEQK88U659  is:  "
       ]
      },
      {
       "output_type": "stream",
       "stream": "stdout",
       "text": [
        "0 \n",
        "\n",
        "Jaccard of  A3R1D7LZUJ2H6H A2ET702Y3IC2HF  is:  "
       ]
      },
      {
       "output_type": "stream",
       "stream": "stdout",
       "text": [
        "0 \n",
        "\n",
        "Jaccard of  A3R1D7LZUJ2H6H A3LX0RSPLHEE5S  is:  "
       ]
      },
      {
       "output_type": "stream",
       "stream": "stdout",
       "text": [
        "0 \n",
        "\n",
        "Jaccard of  A3R1D7LZUJ2H6H A1RCP8K3DTYUT1  is:  "
       ]
      },
      {
       "output_type": "stream",
       "stream": "stdout",
       "text": [
        "0 \n",
        "\n",
        "Jaccard of  A3R1D7LZUJ2H6H A2QR0OBX1BB99O  is:  "
       ]
      },
      {
       "output_type": "stream",
       "stream": "stdout",
       "text": [
        "0 \n",
        "\n",
        "Jaccard of  A3R1D7LZUJ2H6H APRE05RXN915U  is:  "
       ]
      },
      {
       "output_type": "stream",
       "stream": "stdout",
       "text": [
        "0 \n",
        "\n",
        "Jaccard of  A3R1D7LZUJ2H6H A3P0Q1T6FN10QL  is:  "
       ]
      },
      {
       "output_type": "stream",
       "stream": "stdout",
       "text": [
        "0 \n",
        "\n",
        "Jaccard of  A3R1D7LZUJ2H6H A1S9FRGMJ8PZSG  is:  "
       ]
      },
      {
       "output_type": "stream",
       "stream": "stdout",
       "text": [
        "0 \n",
        "\n",
        "Jaccard of  A3R1D7LZUJ2H6H A1ZF1JV34FASKE  is:  "
       ]
      },
      {
       "output_type": "stream",
       "stream": "stdout",
       "text": [
        "0 \n",
        "\n",
        "Jaccard of  A3R1D7LZUJ2H6H A29R36DKPVNVWD  is:  "
       ]
      },
      {
       "output_type": "stream",
       "stream": "stdout",
       "text": [
        "0 \n",
        "\n",
        "Jaccard of  A3R1D7LZUJ2H6H A3QJ5EXCPY965H  is:  "
       ]
      },
      {
       "output_type": "stream",
       "stream": "stdout",
       "text": [
        "0 \n",
        "\n",
        "Jaccard of  A3R1D7LZUJ2H6H A3LW3EZEYRDF1A  is:  "
       ]
      },
      {
       "output_type": "stream",
       "stream": "stdout",
       "text": [
        "0 \n",
        "\n",
        "Jaccard of  A3R1D7LZUJ2H6H A3RAR5ZZGPF3VJ  is:  "
       ]
      },
      {
       "output_type": "stream",
       "stream": "stdout",
       "text": [
        "0 \n",
        "\n",
        "Jaccard of  A3R1D7LZUJ2H6H AQFYGWUOGWBXY  is:  "
       ]
      },
      {
       "output_type": "stream",
       "stream": "stdout",
       "text": [
        "0 \n",
        "\n",
        "Jaccard of  A3R1D7LZUJ2H6H A3KY8F557TOL1I  is:  "
       ]
      },
      {
       "output_type": "stream",
       "stream": "stdout",
       "text": [
        "0 \n",
        "\n",
        "Jaccard of  A3R1D7LZUJ2H6H A3FL2VE5F1XYZZ  is:  "
       ]
      },
      {
       "output_type": "stream",
       "stream": "stdout",
       "text": [
        "0 \n",
        "\n",
        "Jaccard of  A3R1D7LZUJ2H6H A2TB97EU2LXBUZ  is:  "
       ]
      },
      {
       "output_type": "stream",
       "stream": "stdout",
       "text": [
        "0 \n",
        "\n",
        "Jaccard of  A3R1D7LZUJ2H6H A3PJKZ549TEUB6  is:  "
       ]
      },
      {
       "output_type": "stream",
       "stream": "stdout",
       "text": [
        "0 \n",
        "\n",
        "Jaccard of  A3R1D7LZUJ2H6H A3IXV88WO45U4E  is:  "
       ]
      },
      {
       "output_type": "stream",
       "stream": "stdout",
       "text": [
        "0 \n",
        "\n",
        "Jaccard of  A3R1D7LZUJ2H6H A2YX5L54JGPJDI  is:  "
       ]
      },
      {
       "output_type": "stream",
       "stream": "stdout",
       "text": [
        "0 \n",
        "\n",
        "Jaccard of  A3R1D7LZUJ2H6H A1BAHT46HPEVH1  is:  "
       ]
      },
      {
       "output_type": "stream",
       "stream": "stdout",
       "text": [
        "0 \n",
        "\n",
        "Jaccard of  A3R1D7LZUJ2H6H A1NMM0RDRF6R84  is:  "
       ]
      },
      {
       "output_type": "stream",
       "stream": "stdout",
       "text": [
        "0 \n",
        "\n",
        "Jaccard of  A3R1D7LZUJ2H6H A14NCQUQ1XG09W  is:  "
       ]
      },
      {
       "output_type": "stream",
       "stream": "stdout",
       "text": [
        "0 \n",
        "\n",
        "Jaccard of  A3R1D7LZUJ2H6H A1OXI0N58TMYY9  is:  "
       ]
      },
      {
       "output_type": "stream",
       "stream": "stdout",
       "text": [
        "0 \n",
        "\n",
        "Jaccard of  A3R1D7LZUJ2H6H A1OXI0N58TMYY9  is:  "
       ]
      },
      {
       "output_type": "stream",
       "stream": "stdout",
       "text": [
        "0 \n",
        "\n",
        "Jaccard of  A3R1D7LZUJ2H6H A374DPLAJ267SJ  is:  "
       ]
      },
      {
       "output_type": "stream",
       "stream": "stdout",
       "text": [
        "0 \n",
        "\n",
        "Jaccard of  A3R1D7LZUJ2H6H A32DZR3UG3TNTO  is:  "
       ]
      },
      {
       "output_type": "stream",
       "stream": "stdout",
       "text": [
        "0 \n",
        "\n",
        "Jaccard of  A3R1D7LZUJ2H6H A128K8GL4DJYTQ  is:  "
       ]
      },
      {
       "output_type": "stream",
       "stream": "stdout",
       "text": [
        "0 \n",
        "\n",
        "Jaccard of  A3R1D7LZUJ2H6H ASWOIZH83RX39  is:  "
       ]
      },
      {
       "output_type": "stream",
       "stream": "stdout",
       "text": [
        "0 \n",
        "\n",
        "Jaccard of  A3R1D7LZUJ2H6H A10D243CIM1BYJ  is:  "
       ]
      },
      {
       "output_type": "stream",
       "stream": "stdout",
       "text": [
        "0 \n",
        "\n",
        "Jaccard of  A3R1D7LZUJ2H6H ARIPPNN6IHRP7  is:  "
       ]
      },
      {
       "output_type": "stream",
       "stream": "stdout",
       "text": [
        "0 \n",
        "\n",
        "Jaccard of  A3R1D7LZUJ2H6H A3MUKHIAJOOLI2  is:  "
       ]
      },
      {
       "output_type": "stream",
       "stream": "stdout",
       "text": [
        "0 \n",
        "\n",
        "Jaccard of  A3R1D7LZUJ2H6H A1K98Y2Q4GFDIU  is:  "
       ]
      },
      {
       "output_type": "stream",
       "stream": "stdout",
       "text": [
        "0 \n",
        "\n",
        "Jaccard of  A3R1D7LZUJ2H6H A32MIVILCUX18L  is:  "
       ]
      },
      {
       "output_type": "stream",
       "stream": "stdout",
       "text": [
        "0 \n",
        "\n",
        "Jaccard of  A3R1D7LZUJ2H6H A13YV794BQSKF9  is:  "
       ]
      },
      {
       "output_type": "stream",
       "stream": "stdout",
       "text": [
        "0 \n",
        "\n",
        "Jaccard of  A3R1D7LZUJ2H6H A1HKKRS6JPZ8OC  is:  "
       ]
      },
      {
       "output_type": "stream",
       "stream": "stdout",
       "text": [
        "0 \n",
        "\n",
        "Jaccard of  A3R1D7LZUJ2H6H A232HUAELH5J6V  is:  "
       ]
      },
      {
       "output_type": "stream",
       "stream": "stdout",
       "text": [
        "0 \n",
        "\n",
        "Jaccard of  A3R1D7LZUJ2H6H A1OXI0N58TMYY9  is:  "
       ]
      },
      {
       "output_type": "stream",
       "stream": "stdout",
       "text": [
        "0 \n",
        "\n",
        "Jaccard of  A3R1D7LZUJ2H6H A6TPHIXWU4Y7K  is:  "
       ]
      },
      {
       "output_type": "stream",
       "stream": "stdout",
       "text": [
        "0 \n",
        "\n",
        "Jaccard of  A3R1D7LZUJ2H6H AAZXZU9CMWIC1  is:  "
       ]
      },
      {
       "output_type": "stream",
       "stream": "stdout",
       "text": [
        "0 \n",
        "\n",
        "Jaccard of  A3R1D7LZUJ2H6H ALZYVC06EZU0H  is:  "
       ]
      },
      {
       "output_type": "stream",
       "stream": "stdout",
       "text": [
        "0 \n",
        "\n",
        "Jaccard of  A3R1D7LZUJ2H6H A34989LDU92LBH  is:  "
       ]
      },
      {
       "output_type": "stream",
       "stream": "stdout",
       "text": [
        "0 \n",
        "\n",
        "Jaccard of  A3R1D7LZUJ2H6H A15IK0978DBL14  is:  "
       ]
      },
      {
       "output_type": "stream",
       "stream": "stdout",
       "text": [
        "0 \n",
        "\n",
        "Jaccard of  A3R1D7LZUJ2H6H AOYTGNBDDE5PE  is:  "
       ]
      },
      {
       "output_type": "stream",
       "stream": "stdout",
       "text": [
        "0 \n",
        "\n",
        "Jaccard of  A3R1D7LZUJ2H6H A2DWN2MQYWKGNX  is:  "
       ]
      },
      {
       "output_type": "stream",
       "stream": "stdout",
       "text": [
        "0 \n",
        "\n",
        "Jaccard of  A3R1D7LZUJ2H6H AZ31J70BQ9CM2  is:  "
       ]
      },
      {
       "output_type": "stream",
       "stream": "stdout",
       "text": [
        "0 \n",
        "\n",
        "Jaccard of  A3R1D7LZUJ2H6H A1NXWJ0UYOMQ8O  is:  "
       ]
      },
      {
       "output_type": "stream",
       "stream": "stdout",
       "text": [
        "0 \n",
        "\n",
        "Jaccard of  A3R1D7LZUJ2H6H A3R5RX4IA2Y2FI  is:  "
       ]
      },
      {
       "output_type": "stream",
       "stream": "stdout",
       "text": [
        "0 \n",
        "\n",
        "Jaccard of  A3R1D7LZUJ2H6H A1Z4XCX0PC1HSM  is:  "
       ]
      },
      {
       "output_type": "stream",
       "stream": "stdout",
       "text": [
        "0 \n",
        "\n",
        "Jaccard of  A3GSUF7VQ92LT8 A3GSUF7VQ92LT8  is:  "
       ]
      },
      {
       "output_type": "stream",
       "stream": "stdout",
       "text": [
        "0 \n",
        "\n",
        "Jaccard of  A3GSUF7VQ92LT8 A23KVLM5HC8V13  is:  "
       ]
      },
      {
       "output_type": "stream",
       "stream": "stdout",
       "text": [
        "0 \n",
        "\n",
        "Jaccard of  A3GSUF7VQ92LT8 A24WNIJZQTRZS5  is:  "
       ]
      },
      {
       "output_type": "stream",
       "stream": "stdout",
       "text": [
        "0 \n",
        "\n",
        "Jaccard of  A3GSUF7VQ92LT8 A2FMN684QJUD2W  is:  "
       ]
      },
      {
       "output_type": "stream",
       "stream": "stdout",
       "text": [
        "0 \n",
        "\n",
        "Jaccard of  A3GSUF7VQ92LT8 A25KEEQK88U659  is:  "
       ]
      },
      {
       "output_type": "stream",
       "stream": "stdout",
       "text": [
        "0 \n",
        "\n",
        "Jaccard of  A3GSUF7VQ92LT8 A2ET702Y3IC2HF  is:  "
       ]
      },
      {
       "output_type": "stream",
       "stream": "stdout",
       "text": [
        "0 \n",
        "\n",
        "Jaccard of  A3GSUF7VQ92LT8 A3LX0RSPLHEE5S  is:  "
       ]
      },
      {
       "output_type": "stream",
       "stream": "stdout",
       "text": [
        "0 \n",
        "\n",
        "Jaccard of  A3GSUF7VQ92LT8 A1RCP8K3DTYUT1  is:  "
       ]
      },
      {
       "output_type": "stream",
       "stream": "stdout",
       "text": [
        "0 \n",
        "\n",
        "Jaccard of  A3GSUF7VQ92LT8 A2QR0OBX1BB99O  is:  "
       ]
      },
      {
       "output_type": "stream",
       "stream": "stdout",
       "text": [
        "0 \n",
        "\n",
        "Jaccard of  A3GSUF7VQ92LT8 APRE05RXN915U  is:  "
       ]
      },
      {
       "output_type": "stream",
       "stream": "stdout",
       "text": [
        "0 \n",
        "\n",
        "Jaccard of  A3GSUF7VQ92LT8 A3P0Q1T6FN10QL  is:  "
       ]
      },
      {
       "output_type": "stream",
       "stream": "stdout",
       "text": [
        "0 \n",
        "\n",
        "Jaccard of  A3GSUF7VQ92LT8 A1S9FRGMJ8PZSG  is:  "
       ]
      },
      {
       "output_type": "stream",
       "stream": "stdout",
       "text": [
        "0 \n",
        "\n",
        "Jaccard of  A3GSUF7VQ92LT8 A1ZF1JV34FASKE  is:  "
       ]
      },
      {
       "output_type": "stream",
       "stream": "stdout",
       "text": [
        "0 \n",
        "\n",
        "Jaccard of  A3GSUF7VQ92LT8 A29R36DKPVNVWD  is:  "
       ]
      },
      {
       "output_type": "stream",
       "stream": "stdout",
       "text": [
        "0 \n",
        "\n",
        "Jaccard of  A3GSUF7VQ92LT8 A3QJ5EXCPY965H  is:  "
       ]
      },
      {
       "output_type": "stream",
       "stream": "stdout",
       "text": [
        "0 \n",
        "\n",
        "Jaccard of  A3GSUF7VQ92LT8 A3LW3EZEYRDF1A  is:  "
       ]
      },
      {
       "output_type": "stream",
       "stream": "stdout",
       "text": [
        "0 \n",
        "\n",
        "Jaccard of  A3GSUF7VQ92LT8 A3RAR5ZZGPF3VJ  is:  "
       ]
      },
      {
       "output_type": "stream",
       "stream": "stdout",
       "text": [
        "0 \n",
        "\n",
        "Jaccard of  A3GSUF7VQ92LT8 AQFYGWUOGWBXY  is:  "
       ]
      },
      {
       "output_type": "stream",
       "stream": "stdout",
       "text": [
        "0 \n",
        "\n",
        "Jaccard of  A3GSUF7VQ92LT8 A3KY8F557TOL1I  is:  "
       ]
      },
      {
       "output_type": "stream",
       "stream": "stdout",
       "text": [
        "0 \n",
        "\n",
        "Jaccard of  A3GSUF7VQ92LT8 A3FL2VE5F1XYZZ  is:  "
       ]
      },
      {
       "output_type": "stream",
       "stream": "stdout",
       "text": [
        "0 \n",
        "\n",
        "Jaccard of  A3GSUF7VQ92LT8 A2TB97EU2LXBUZ  is:  "
       ]
      },
      {
       "output_type": "stream",
       "stream": "stdout",
       "text": [
        "0 \n",
        "\n",
        "Jaccard of  A3GSUF7VQ92LT8 A3PJKZ549TEUB6  is:  "
       ]
      },
      {
       "output_type": "stream",
       "stream": "stdout",
       "text": [
        "0 \n",
        "\n",
        "Jaccard of  A3GSUF7VQ92LT8 A3IXV88WO45U4E  is:  "
       ]
      },
      {
       "output_type": "stream",
       "stream": "stdout",
       "text": [
        "0 \n",
        "\n",
        "Jaccard of  A3GSUF7VQ92LT8 A2YX5L54JGPJDI  is:  "
       ]
      },
      {
       "output_type": "stream",
       "stream": "stdout",
       "text": [
        "0 \n",
        "\n",
        "Jaccard of  A3GSUF7VQ92LT8 A1BAHT46HPEVH1  is:  "
       ]
      },
      {
       "output_type": "stream",
       "stream": "stdout",
       "text": [
        "0 \n",
        "\n",
        "Jaccard of  A3GSUF7VQ92LT8 A1NMM0RDRF6R84  is:  "
       ]
      },
      {
       "output_type": "stream",
       "stream": "stdout",
       "text": [
        "0 \n",
        "\n",
        "Jaccard of  A3GSUF7VQ92LT8 A14NCQUQ1XG09W  is:  "
       ]
      },
      {
       "output_type": "stream",
       "stream": "stdout",
       "text": [
        "0 \n",
        "\n",
        "Jaccard of  A3GSUF7VQ92LT8 A1OXI0N58TMYY9  is:  "
       ]
      },
      {
       "output_type": "stream",
       "stream": "stdout",
       "text": [
        "0 \n",
        "\n",
        "Jaccard of  A3GSUF7VQ92LT8 A1OXI0N58TMYY9  is:  "
       ]
      },
      {
       "output_type": "stream",
       "stream": "stdout",
       "text": [
        "0 \n",
        "\n",
        "Jaccard of  A3GSUF7VQ92LT8 A374DPLAJ267SJ  is:  "
       ]
      },
      {
       "output_type": "stream",
       "stream": "stdout",
       "text": [
        "0 \n",
        "\n",
        "Jaccard of  A3GSUF7VQ92LT8 A32DZR3UG3TNTO  is:  "
       ]
      },
      {
       "output_type": "stream",
       "stream": "stdout",
       "text": [
        "0 \n",
        "\n",
        "Jaccard of  A3GSUF7VQ92LT8 A128K8GL4DJYTQ  is:  "
       ]
      },
      {
       "output_type": "stream",
       "stream": "stdout",
       "text": [
        "0 \n",
        "\n",
        "Jaccard of  A3GSUF7VQ92LT8 ASWOIZH83RX39  is:  "
       ]
      },
      {
       "output_type": "stream",
       "stream": "stdout",
       "text": [
        "0 \n",
        "\n",
        "Jaccard of  A3GSUF7VQ92LT8 A10D243CIM1BYJ  is:  "
       ]
      },
      {
       "output_type": "stream",
       "stream": "stdout",
       "text": [
        "0 \n",
        "\n",
        "Jaccard of  A3GSUF7VQ92LT8 ARIPPNN6IHRP7  is:  "
       ]
      },
      {
       "output_type": "stream",
       "stream": "stdout",
       "text": [
        "0 \n",
        "\n",
        "Jaccard of  A3GSUF7VQ92LT8 A3MUKHIAJOOLI2  is:  "
       ]
      },
      {
       "output_type": "stream",
       "stream": "stdout",
       "text": [
        "0 \n",
        "\n",
        "Jaccard of  A3GSUF7VQ92LT8 A1K98Y2Q4GFDIU  is:  "
       ]
      },
      {
       "output_type": "stream",
       "stream": "stdout",
       "text": [
        "0 \n",
        "\n",
        "Jaccard of  A3GSUF7VQ92LT8 A32MIVILCUX18L  is:  "
       ]
      },
      {
       "output_type": "stream",
       "stream": "stdout",
       "text": [
        "0 \n",
        "\n",
        "Jaccard of  A3GSUF7VQ92LT8 A13YV794BQSKF9  is:  "
       ]
      },
      {
       "output_type": "stream",
       "stream": "stdout",
       "text": [
        "0 \n",
        "\n",
        "Jaccard of  A3GSUF7VQ92LT8 A1HKKRS6JPZ8OC  is:  "
       ]
      },
      {
       "output_type": "stream",
       "stream": "stdout",
       "text": [
        "0 \n",
        "\n",
        "Jaccard of  A3GSUF7VQ92LT8 A232HUAELH5J6V  is:  "
       ]
      },
      {
       "output_type": "stream",
       "stream": "stdout",
       "text": [
        "0 \n",
        "\n",
        "Jaccard of  A3GSUF7VQ92LT8 A1OXI0N58TMYY9  is:  "
       ]
      },
      {
       "output_type": "stream",
       "stream": "stdout",
       "text": [
        "0 \n",
        "\n",
        "Jaccard of  A3GSUF7VQ92LT8 A6TPHIXWU4Y7K  is:  "
       ]
      },
      {
       "output_type": "stream",
       "stream": "stdout",
       "text": [
        "0 \n",
        "\n",
        "Jaccard of  A3GSUF7VQ92LT8 AAZXZU9CMWIC1  is:  "
       ]
      },
      {
       "output_type": "stream",
       "stream": "stdout",
       "text": [
        "0 \n",
        "\n",
        "Jaccard of  A3GSUF7VQ92LT8 ALZYVC06EZU0H  is:  "
       ]
      },
      {
       "output_type": "stream",
       "stream": "stdout",
       "text": [
        "0 \n",
        "\n",
        "Jaccard of  A3GSUF7VQ92LT8 A34989LDU92LBH  is:  "
       ]
      },
      {
       "output_type": "stream",
       "stream": "stdout",
       "text": [
        "0 \n",
        "\n",
        "Jaccard of  A3GSUF7VQ92LT8 A15IK0978DBL14  is:  "
       ]
      },
      {
       "output_type": "stream",
       "stream": "stdout",
       "text": [
        "0 \n",
        "\n",
        "Jaccard of  A3GSUF7VQ92LT8 AOYTGNBDDE5PE  is:  "
       ]
      },
      {
       "output_type": "stream",
       "stream": "stdout",
       "text": [
        "0 \n",
        "\n",
        "Jaccard of  A3GSUF7VQ92LT8 A2DWN2MQYWKGNX  is:  "
       ]
      },
      {
       "output_type": "stream",
       "stream": "stdout",
       "text": [
        "0 \n",
        "\n",
        "Jaccard of  A3GSUF7VQ92LT8 AZ31J70BQ9CM2  is:  "
       ]
      },
      {
       "output_type": "stream",
       "stream": "stdout",
       "text": [
        "0 \n",
        "\n",
        "Jaccard of  A3GSUF7VQ92LT8 A1NXWJ0UYOMQ8O  is:  "
       ]
      },
      {
       "output_type": "stream",
       "stream": "stdout",
       "text": [
        "0 \n",
        "\n",
        "Jaccard of  A3GSUF7VQ92LT8 A3R5RX4IA2Y2FI  is:  "
       ]
      },
      {
       "output_type": "stream",
       "stream": "stdout",
       "text": [
        "0 \n",
        "\n",
        "Jaccard of  A3GSUF7VQ92LT8 A1Z4XCX0PC1HSM  is:  "
       ]
      },
      {
       "output_type": "stream",
       "stream": "stdout",
       "text": [
        "0 \n",
        "\n",
        "Jaccard of  A23KVLM5HC8V13 A23KVLM5HC8V13  is:  "
       ]
      },
      {
       "output_type": "stream",
       "stream": "stdout",
       "text": [
        "0 \n",
        "\n",
        "Jaccard of  A23KVLM5HC8V13 A24WNIJZQTRZS5  is:  "
       ]
      },
      {
       "output_type": "stream",
       "stream": "stdout",
       "text": [
        "0 \n",
        "\n",
        "Jaccard of  A23KVLM5HC8V13 A2FMN684QJUD2W  is:  "
       ]
      },
      {
       "output_type": "stream",
       "stream": "stdout",
       "text": [
        "0 \n",
        "\n",
        "Jaccard of  A23KVLM5HC8V13 A25KEEQK88U659  is:  "
       ]
      },
      {
       "output_type": "stream",
       "stream": "stdout",
       "text": [
        "0 \n",
        "\n",
        "Jaccard of  A23KVLM5HC8V13 A2ET702Y3IC2HF  is:  "
       ]
      },
      {
       "output_type": "stream",
       "stream": "stdout",
       "text": [
        "0 \n",
        "\n",
        "Jaccard of  A23KVLM5HC8V13 A3LX0RSPLHEE5S  is:  "
       ]
      },
      {
       "output_type": "stream",
       "stream": "stdout",
       "text": [
        "0 \n",
        "\n",
        "Jaccard of  A23KVLM5HC8V13 A1RCP8K3DTYUT1  is:  "
       ]
      },
      {
       "output_type": "stream",
       "stream": "stdout",
       "text": [
        "0 \n",
        "\n",
        "Jaccard of  A23KVLM5HC8V13 A2QR0OBX1BB99O  is:  "
       ]
      },
      {
       "output_type": "stream",
       "stream": "stdout",
       "text": [
        "0 \n",
        "\n",
        "Jaccard of  A23KVLM5HC8V13 APRE05RXN915U  is:  "
       ]
      },
      {
       "output_type": "stream",
       "stream": "stdout",
       "text": [
        "0 \n",
        "\n",
        "Jaccard of  A23KVLM5HC8V13 A3P0Q1T6FN10QL  is:  "
       ]
      },
      {
       "output_type": "stream",
       "stream": "stdout",
       "text": [
        "0 \n",
        "\n",
        "Jaccard of  A23KVLM5HC8V13 A1S9FRGMJ8PZSG  is:  "
       ]
      },
      {
       "output_type": "stream",
       "stream": "stdout",
       "text": [
        "0 \n",
        "\n",
        "Jaccard of  A23KVLM5HC8V13 A1ZF1JV34FASKE  is:  "
       ]
      },
      {
       "output_type": "stream",
       "stream": "stdout",
       "text": [
        "0 \n",
        "\n",
        "Jaccard of  A23KVLM5HC8V13 A29R36DKPVNVWD  is:  "
       ]
      },
      {
       "output_type": "stream",
       "stream": "stdout",
       "text": [
        "0 \n",
        "\n",
        "Jaccard of  A23KVLM5HC8V13 A3QJ5EXCPY965H  is:  "
       ]
      },
      {
       "output_type": "stream",
       "stream": "stdout",
       "text": [
        "0 \n",
        "\n",
        "Jaccard of  A23KVLM5HC8V13 A3LW3EZEYRDF1A  is:  "
       ]
      },
      {
       "output_type": "stream",
       "stream": "stdout",
       "text": [
        "0 \n",
        "\n",
        "Jaccard of  A23KVLM5HC8V13 A3RAR5ZZGPF3VJ  is:  "
       ]
      },
      {
       "output_type": "stream",
       "stream": "stdout",
       "text": [
        "0 \n",
        "\n",
        "Jaccard of  A23KVLM5HC8V13 AQFYGWUOGWBXY  is:  "
       ]
      },
      {
       "output_type": "stream",
       "stream": "stdout",
       "text": [
        "0 \n",
        "\n",
        "Jaccard of  A23KVLM5HC8V13 A3KY8F557TOL1I  is:  "
       ]
      },
      {
       "output_type": "stream",
       "stream": "stdout",
       "text": [
        "0 \n",
        "\n",
        "Jaccard of  A23KVLM5HC8V13 A3FL2VE5F1XYZZ  is:  "
       ]
      },
      {
       "output_type": "stream",
       "stream": "stdout",
       "text": [
        "0 \n",
        "\n",
        "Jaccard of  A23KVLM5HC8V13 A2TB97EU2LXBUZ  is:  "
       ]
      },
      {
       "output_type": "stream",
       "stream": "stdout",
       "text": [
        "0 \n",
        "\n",
        "Jaccard of  A23KVLM5HC8V13 A3PJKZ549TEUB6  is:  "
       ]
      },
      {
       "output_type": "stream",
       "stream": "stdout",
       "text": [
        "0 \n",
        "\n",
        "Jaccard of  A23KVLM5HC8V13 A3IXV88WO45U4E  is:  "
       ]
      },
      {
       "output_type": "stream",
       "stream": "stdout",
       "text": [
        "0 \n",
        "\n",
        "Jaccard of  A23KVLM5HC8V13 A2YX5L54JGPJDI  is:  "
       ]
      },
      {
       "output_type": "stream",
       "stream": "stdout",
       "text": [
        "0 \n",
        "\n",
        "Jaccard of  A23KVLM5HC8V13 A1BAHT46HPEVH1  is:  "
       ]
      },
      {
       "output_type": "stream",
       "stream": "stdout",
       "text": [
        "0 \n",
        "\n",
        "Jaccard of  A23KVLM5HC8V13 A1NMM0RDRF6R84  is:  "
       ]
      },
      {
       "output_type": "stream",
       "stream": "stdout",
       "text": [
        "0 \n",
        "\n",
        "Jaccard of  A23KVLM5HC8V13 A14NCQUQ1XG09W  is:  "
       ]
      },
      {
       "output_type": "stream",
       "stream": "stdout",
       "text": [
        "0 \n",
        "\n",
        "Jaccard of  A23KVLM5HC8V13 A1OXI0N58TMYY9  is:  "
       ]
      },
      {
       "output_type": "stream",
       "stream": "stdout",
       "text": [
        "0 \n",
        "\n",
        "Jaccard of  A23KVLM5HC8V13 A1OXI0N58TMYY9  is:  "
       ]
      },
      {
       "output_type": "stream",
       "stream": "stdout",
       "text": [
        "0 \n",
        "\n",
        "Jaccard of  A23KVLM5HC8V13 A374DPLAJ267SJ  is:  "
       ]
      },
      {
       "output_type": "stream",
       "stream": "stdout",
       "text": [
        "0 \n",
        "\n",
        "Jaccard of  A23KVLM5HC8V13 A32DZR3UG3TNTO  is:  "
       ]
      },
      {
       "output_type": "stream",
       "stream": "stdout",
       "text": [
        "0 \n",
        "\n",
        "Jaccard of  A23KVLM5HC8V13 A128K8GL4DJYTQ  is:  "
       ]
      },
      {
       "output_type": "stream",
       "stream": "stdout",
       "text": [
        "0 \n",
        "\n",
        "Jaccard of  A23KVLM5HC8V13 ASWOIZH83RX39  is:  "
       ]
      },
      {
       "output_type": "stream",
       "stream": "stdout",
       "text": [
        "0 \n",
        "\n",
        "Jaccard of  A23KVLM5HC8V13 A10D243CIM1BYJ  is:  "
       ]
      },
      {
       "output_type": "stream",
       "stream": "stdout",
       "text": [
        "0 \n",
        "\n",
        "Jaccard of  A23KVLM5HC8V13 ARIPPNN6IHRP7  is:  "
       ]
      },
      {
       "output_type": "stream",
       "stream": "stdout",
       "text": [
        "0 \n",
        "\n",
        "Jaccard of  A23KVLM5HC8V13 A3MUKHIAJOOLI2  is:  "
       ]
      },
      {
       "output_type": "stream",
       "stream": "stdout",
       "text": [
        "0 \n",
        "\n",
        "Jaccard of  A23KVLM5HC8V13 A1K98Y2Q4GFDIU  is:  "
       ]
      },
      {
       "output_type": "stream",
       "stream": "stdout",
       "text": [
        "0 \n",
        "\n",
        "Jaccard of  A23KVLM5HC8V13 A32MIVILCUX18L  is:  "
       ]
      },
      {
       "output_type": "stream",
       "stream": "stdout",
       "text": [
        "0 \n",
        "\n",
        "Jaccard of  A23KVLM5HC8V13 A13YV794BQSKF9  is:  "
       ]
      },
      {
       "output_type": "stream",
       "stream": "stdout",
       "text": [
        "0 \n",
        "\n",
        "Jaccard of  A23KVLM5HC8V13 A1HKKRS6JPZ8OC  is:  "
       ]
      },
      {
       "output_type": "stream",
       "stream": "stdout",
       "text": [
        "0 \n",
        "\n",
        "Jaccard of  A23KVLM5HC8V13 A232HUAELH5J6V  is:  "
       ]
      },
      {
       "output_type": "stream",
       "stream": "stdout",
       "text": [
        "0 \n",
        "\n",
        "Jaccard of  A23KVLM5HC8V13 A1OXI0N58TMYY9  is:  "
       ]
      },
      {
       "output_type": "stream",
       "stream": "stdout",
       "text": [
        "0 \n",
        "\n",
        "Jaccard of  A23KVLM5HC8V13 A6TPHIXWU4Y7K  is:  "
       ]
      },
      {
       "output_type": "stream",
       "stream": "stdout",
       "text": [
        "0 \n",
        "\n",
        "Jaccard of  A23KVLM5HC8V13 AAZXZU9CMWIC1  is:  "
       ]
      },
      {
       "output_type": "stream",
       "stream": "stdout",
       "text": [
        "0 \n",
        "\n",
        "Jaccard of  A23KVLM5HC8V13 ALZYVC06EZU0H  is:  "
       ]
      },
      {
       "output_type": "stream",
       "stream": "stdout",
       "text": [
        "0 \n",
        "\n",
        "Jaccard of  A23KVLM5HC8V13 A34989LDU92LBH  is:  "
       ]
      },
      {
       "output_type": "stream",
       "stream": "stdout",
       "text": [
        "0 \n",
        "\n",
        "Jaccard of  A23KVLM5HC8V13 A15IK0978DBL14  is:  "
       ]
      },
      {
       "output_type": "stream",
       "stream": "stdout",
       "text": [
        "0 \n",
        "\n",
        "Jaccard of  A23KVLM5HC8V13 AOYTGNBDDE5PE  is:  "
       ]
      },
      {
       "output_type": "stream",
       "stream": "stdout",
       "text": [
        "0 \n",
        "\n",
        "Jaccard of  A23KVLM5HC8V13 A2DWN2MQYWKGNX  is:  "
       ]
      },
      {
       "output_type": "stream",
       "stream": "stdout",
       "text": [
        "0 \n",
        "\n",
        "Jaccard of  A23KVLM5HC8V13 AZ31J70BQ9CM2  is:  "
       ]
      },
      {
       "output_type": "stream",
       "stream": "stdout",
       "text": [
        "0 \n",
        "\n",
        "Jaccard of  A23KVLM5HC8V13 A1NXWJ0UYOMQ8O  is:  "
       ]
      },
      {
       "output_type": "stream",
       "stream": "stdout",
       "text": [
        "0 \n",
        "\n",
        "Jaccard of  A23KVLM5HC8V13 A3R5RX4IA2Y2FI  is:  "
       ]
      },
      {
       "output_type": "stream",
       "stream": "stdout",
       "text": [
        "0 \n",
        "\n",
        "Jaccard of  A23KVLM5HC8V13 A1Z4XCX0PC1HSM  is:  "
       ]
      },
      {
       "output_type": "stream",
       "stream": "stdout",
       "text": [
        "0 \n",
        "\n",
        "Jaccard of  A24WNIJZQTRZS5 A24WNIJZQTRZS5  is:  "
       ]
      },
      {
       "output_type": "stream",
       "stream": "stdout",
       "text": [
        "0 \n",
        "\n",
        "Jaccard of  A24WNIJZQTRZS5 A2FMN684QJUD2W  is:  "
       ]
      },
      {
       "output_type": "stream",
       "stream": "stdout",
       "text": [
        "0 \n",
        "\n",
        "Jaccard of  A24WNIJZQTRZS5 A25KEEQK88U659  is:  "
       ]
      },
      {
       "output_type": "stream",
       "stream": "stdout",
       "text": [
        "0 \n",
        "\n",
        "Jaccard of  A24WNIJZQTRZS5 A2ET702Y3IC2HF  is:  "
       ]
      },
      {
       "output_type": "stream",
       "stream": "stdout",
       "text": [
        "0 \n",
        "\n",
        "Jaccard of  A24WNIJZQTRZS5 A3LX0RSPLHEE5S  is:  "
       ]
      },
      {
       "output_type": "stream",
       "stream": "stdout",
       "text": [
        "0 \n",
        "\n",
        "Jaccard of  A24WNIJZQTRZS5 A1RCP8K3DTYUT1  is:  "
       ]
      },
      {
       "output_type": "stream",
       "stream": "stdout",
       "text": [
        "0 \n",
        "\n",
        "Jaccard of  A24WNIJZQTRZS5 A2QR0OBX1BB99O  is:  "
       ]
      },
      {
       "output_type": "stream",
       "stream": "stdout",
       "text": [
        "0 \n",
        "\n",
        "Jaccard of  A24WNIJZQTRZS5 APRE05RXN915U  is:  "
       ]
      },
      {
       "output_type": "stream",
       "stream": "stdout",
       "text": [
        "0 \n",
        "\n",
        "Jaccard of  A24WNIJZQTRZS5 A3P0Q1T6FN10QL  is:  "
       ]
      },
      {
       "output_type": "stream",
       "stream": "stdout",
       "text": [
        "0 \n",
        "\n",
        "Jaccard of  A24WNIJZQTRZS5 A1S9FRGMJ8PZSG  is:  "
       ]
      },
      {
       "output_type": "stream",
       "stream": "stdout",
       "text": [
        "0 \n",
        "\n",
        "Jaccard of  A24WNIJZQTRZS5 A1ZF1JV34FASKE  is:  "
       ]
      },
      {
       "output_type": "stream",
       "stream": "stdout",
       "text": [
        "0 \n",
        "\n",
        "Jaccard of  A24WNIJZQTRZS5 A29R36DKPVNVWD  is:  "
       ]
      },
      {
       "output_type": "stream",
       "stream": "stdout",
       "text": [
        "0 \n",
        "\n",
        "Jaccard of  A24WNIJZQTRZS5 A3QJ5EXCPY965H  is:  "
       ]
      },
      {
       "output_type": "stream",
       "stream": "stdout",
       "text": [
        "0 \n",
        "\n",
        "Jaccard of  A24WNIJZQTRZS5 A3LW3EZEYRDF1A  is:  "
       ]
      },
      {
       "output_type": "stream",
       "stream": "stdout",
       "text": [
        "0 \n",
        "\n",
        "Jaccard of  A24WNIJZQTRZS5 A3RAR5ZZGPF3VJ  is:  "
       ]
      },
      {
       "output_type": "stream",
       "stream": "stdout",
       "text": [
        "0 \n",
        "\n",
        "Jaccard of  A24WNIJZQTRZS5 AQFYGWUOGWBXY  is:  "
       ]
      },
      {
       "output_type": "stream",
       "stream": "stdout",
       "text": [
        "0 \n",
        "\n",
        "Jaccard of  A24WNIJZQTRZS5 A3KY8F557TOL1I  is:  "
       ]
      },
      {
       "output_type": "stream",
       "stream": "stdout",
       "text": [
        "0 \n",
        "\n",
        "Jaccard of  A24WNIJZQTRZS5 A3FL2VE5F1XYZZ  is:  "
       ]
      },
      {
       "output_type": "stream",
       "stream": "stdout",
       "text": [
        "0 \n",
        "\n",
        "Jaccard of  A24WNIJZQTRZS5 A2TB97EU2LXBUZ  is:  "
       ]
      },
      {
       "output_type": "stream",
       "stream": "stdout",
       "text": [
        "0 \n",
        "\n",
        "Jaccard of  A24WNIJZQTRZS5 A3PJKZ549TEUB6  is:  "
       ]
      },
      {
       "output_type": "stream",
       "stream": "stdout",
       "text": [
        "0 \n",
        "\n",
        "Jaccard of  A24WNIJZQTRZS5 A3IXV88WO45U4E  is:  "
       ]
      },
      {
       "output_type": "stream",
       "stream": "stdout",
       "text": [
        "0 \n",
        "\n",
        "Jaccard of  A24WNIJZQTRZS5 A2YX5L54JGPJDI  is:  "
       ]
      },
      {
       "output_type": "stream",
       "stream": "stdout",
       "text": [
        "0 \n",
        "\n",
        "Jaccard of  A24WNIJZQTRZS5 A1BAHT46HPEVH1  is:  "
       ]
      },
      {
       "output_type": "stream",
       "stream": "stdout",
       "text": [
        "0 \n",
        "\n",
        "Jaccard of  A24WNIJZQTRZS5 A1NMM0RDRF6R84  is:  "
       ]
      },
      {
       "output_type": "stream",
       "stream": "stdout",
       "text": [
        "0 \n",
        "\n",
        "Jaccard of  A24WNIJZQTRZS5 A14NCQUQ1XG09W  is:  "
       ]
      },
      {
       "output_type": "stream",
       "stream": "stdout",
       "text": [
        "0 \n",
        "\n",
        "Jaccard of  A24WNIJZQTRZS5 A1OXI0N58TMYY9  is:  "
       ]
      },
      {
       "output_type": "stream",
       "stream": "stdout",
       "text": [
        "0 \n",
        "\n",
        "Jaccard of  A24WNIJZQTRZS5 A1OXI0N58TMYY9  is:  "
       ]
      },
      {
       "output_type": "stream",
       "stream": "stdout",
       "text": [
        "0 \n",
        "\n",
        "Jaccard of  A24WNIJZQTRZS5 A374DPLAJ267SJ  is:  "
       ]
      },
      {
       "output_type": "stream",
       "stream": "stdout",
       "text": [
        "0 \n",
        "\n",
        "Jaccard of  A24WNIJZQTRZS5 A32DZR3UG3TNTO  is:  "
       ]
      },
      {
       "output_type": "stream",
       "stream": "stdout",
       "text": [
        "0 \n",
        "\n",
        "Jaccard of  A24WNIJZQTRZS5 A128K8GL4DJYTQ  is:  "
       ]
      },
      {
       "output_type": "stream",
       "stream": "stdout",
       "text": [
        "0 \n",
        "\n",
        "Jaccard of  A24WNIJZQTRZS5 ASWOIZH83RX39  is:  "
       ]
      },
      {
       "output_type": "stream",
       "stream": "stdout",
       "text": [
        "0 \n",
        "\n",
        "Jaccard of  A24WNIJZQTRZS5 A10D243CIM1BYJ  is:  "
       ]
      },
      {
       "output_type": "stream",
       "stream": "stdout",
       "text": [
        "0 \n",
        "\n",
        "Jaccard of  A24WNIJZQTRZS5 ARIPPNN6IHRP7  is:  "
       ]
      },
      {
       "output_type": "stream",
       "stream": "stdout",
       "text": [
        "0 \n",
        "\n",
        "Jaccard of  A24WNIJZQTRZS5 A3MUKHIAJOOLI2  is:  "
       ]
      },
      {
       "output_type": "stream",
       "stream": "stdout",
       "text": [
        "0 \n",
        "\n",
        "Jaccard of  A24WNIJZQTRZS5 A1K98Y2Q4GFDIU  is:  "
       ]
      },
      {
       "output_type": "stream",
       "stream": "stdout",
       "text": [
        "0 \n",
        "\n",
        "Jaccard of  A24WNIJZQTRZS5 A32MIVILCUX18L  is:  "
       ]
      },
      {
       "output_type": "stream",
       "stream": "stdout",
       "text": [
        "0 \n",
        "\n",
        "Jaccard of  A24WNIJZQTRZS5 A13YV794BQSKF9  is:  "
       ]
      },
      {
       "output_type": "stream",
       "stream": "stdout",
       "text": [
        "0 \n",
        "\n",
        "Jaccard of  A24WNIJZQTRZS5 A1HKKRS6JPZ8OC  is:  "
       ]
      },
      {
       "output_type": "stream",
       "stream": "stdout",
       "text": [
        "0 \n",
        "\n",
        "Jaccard of  A24WNIJZQTRZS5 A232HUAELH5J6V  is:  "
       ]
      },
      {
       "output_type": "stream",
       "stream": "stdout",
       "text": [
        "0 \n",
        "\n",
        "Jaccard of  A24WNIJZQTRZS5 A1OXI0N58TMYY9  is:  "
       ]
      },
      {
       "output_type": "stream",
       "stream": "stdout",
       "text": [
        "0 \n",
        "\n",
        "Jaccard of  A24WNIJZQTRZS5 A6TPHIXWU4Y7K  is:  "
       ]
      },
      {
       "output_type": "stream",
       "stream": "stdout",
       "text": [
        "0 \n",
        "\n",
        "Jaccard of  A24WNIJZQTRZS5 AAZXZU9CMWIC1  is:  "
       ]
      },
      {
       "output_type": "stream",
       "stream": "stdout",
       "text": [
        "0 \n",
        "\n",
        "Jaccard of  A24WNIJZQTRZS5 ALZYVC06EZU0H  is:  "
       ]
      },
      {
       "output_type": "stream",
       "stream": "stdout",
       "text": [
        "0 \n",
        "\n",
        "Jaccard of  A24WNIJZQTRZS5 A34989LDU92LBH  is:  "
       ]
      },
      {
       "output_type": "stream",
       "stream": "stdout",
       "text": [
        "0 \n",
        "\n",
        "Jaccard of  A24WNIJZQTRZS5 A15IK0978DBL14  is:  "
       ]
      },
      {
       "output_type": "stream",
       "stream": "stdout",
       "text": [
        "0 \n",
        "\n",
        "Jaccard of  A24WNIJZQTRZS5 AOYTGNBDDE5PE  is:  "
       ]
      },
      {
       "output_type": "stream",
       "stream": "stdout",
       "text": [
        "0 \n",
        "\n",
        "Jaccard of  A24WNIJZQTRZS5 A2DWN2MQYWKGNX  is:  "
       ]
      },
      {
       "output_type": "stream",
       "stream": "stdout",
       "text": [
        "0 \n",
        "\n",
        "Jaccard of  A24WNIJZQTRZS5 AZ31J70BQ9CM2  is:  "
       ]
      },
      {
       "output_type": "stream",
       "stream": "stdout",
       "text": [
        "0 \n",
        "\n",
        "Jaccard of  A24WNIJZQTRZS5 A1NXWJ0UYOMQ8O  is:  "
       ]
      },
      {
       "output_type": "stream",
       "stream": "stdout",
       "text": [
        "0 \n",
        "\n",
        "Jaccard of  A24WNIJZQTRZS5 A3R5RX4IA2Y2FI  is:  "
       ]
      },
      {
       "output_type": "stream",
       "stream": "stdout",
       "text": [
        "0 \n",
        "\n",
        "Jaccard of  A24WNIJZQTRZS5 A1Z4XCX0PC1HSM  is:  "
       ]
      },
      {
       "output_type": "stream",
       "stream": "stdout",
       "text": [
        "0 \n",
        "\n",
        "Jaccard of  A2FMN684QJUD2W A2FMN684QJUD2W  is:  "
       ]
      },
      {
       "output_type": "stream",
       "stream": "stdout",
       "text": [
        "0 \n",
        "\n",
        "Jaccard of  A2FMN684QJUD2W A25KEEQK88U659  is:  "
       ]
      },
      {
       "output_type": "stream",
       "stream": "stdout",
       "text": [
        "0 \n",
        "\n",
        "Jaccard of  A2FMN684QJUD2W A2ET702Y3IC2HF  is:  "
       ]
      },
      {
       "output_type": "stream",
       "stream": "stdout",
       "text": [
        "0 \n",
        "\n",
        "Jaccard of  A2FMN684QJUD2W A3LX0RSPLHEE5S  is:  "
       ]
      },
      {
       "output_type": "stream",
       "stream": "stdout",
       "text": [
        "0 \n",
        "\n",
        "Jaccard of  A2FMN684QJUD2W A1RCP8K3DTYUT1  is:  "
       ]
      },
      {
       "output_type": "stream",
       "stream": "stdout",
       "text": [
        "0 \n",
        "\n",
        "Jaccard of  A2FMN684QJUD2W A2QR0OBX1BB99O  is:  "
       ]
      },
      {
       "output_type": "stream",
       "stream": "stdout",
       "text": [
        "0 \n",
        "\n",
        "Jaccard of  A2FMN684QJUD2W APRE05RXN915U  is:  "
       ]
      },
      {
       "output_type": "stream",
       "stream": "stdout",
       "text": [
        "0 \n",
        "\n",
        "Jaccard of  A2FMN684QJUD2W A3P0Q1T6FN10QL  is:  "
       ]
      },
      {
       "output_type": "stream",
       "stream": "stdout",
       "text": [
        "0 \n",
        "\n",
        "Jaccard of  A2FMN684QJUD2W A1S9FRGMJ8PZSG  is:  "
       ]
      },
      {
       "output_type": "stream",
       "stream": "stdout",
       "text": [
        "0 \n",
        "\n",
        "Jaccard of  A2FMN684QJUD2W A1ZF1JV34FASKE  is:  "
       ]
      },
      {
       "output_type": "stream",
       "stream": "stdout",
       "text": [
        "0 \n",
        "\n",
        "Jaccard of  A2FMN684QJUD2W A29R36DKPVNVWD  is:  "
       ]
      },
      {
       "output_type": "stream",
       "stream": "stdout",
       "text": [
        "0 \n",
        "\n",
        "Jaccard of  A2FMN684QJUD2W A3QJ5EXCPY965H  is:  "
       ]
      },
      {
       "output_type": "stream",
       "stream": "stdout",
       "text": [
        "0 \n",
        "\n",
        "Jaccard of  A2FMN684QJUD2W A3LW3EZEYRDF1A  is:  "
       ]
      },
      {
       "output_type": "stream",
       "stream": "stdout",
       "text": [
        "0 \n",
        "\n",
        "Jaccard of  A2FMN684QJUD2W A3RAR5ZZGPF3VJ  is:  "
       ]
      },
      {
       "output_type": "stream",
       "stream": "stdout",
       "text": [
        "0 \n",
        "\n",
        "Jaccard of  A2FMN684QJUD2W AQFYGWUOGWBXY  is:  "
       ]
      },
      {
       "output_type": "stream",
       "stream": "stdout",
       "text": [
        "0 \n",
        "\n",
        "Jaccard of  A2FMN684QJUD2W A3KY8F557TOL1I  is:  "
       ]
      },
      {
       "output_type": "stream",
       "stream": "stdout",
       "text": [
        "0 \n",
        "\n",
        "Jaccard of  A2FMN684QJUD2W A3FL2VE5F1XYZZ  is:  "
       ]
      },
      {
       "output_type": "stream",
       "stream": "stdout",
       "text": [
        "0 \n",
        "\n",
        "Jaccard of  A2FMN684QJUD2W A2TB97EU2LXBUZ  is:  "
       ]
      },
      {
       "output_type": "stream",
       "stream": "stdout",
       "text": [
        "0 \n",
        "\n",
        "Jaccard of  A2FMN684QJUD2W A3PJKZ549TEUB6  is:  "
       ]
      },
      {
       "output_type": "stream",
       "stream": "stdout",
       "text": [
        "0 \n",
        "\n",
        "Jaccard of  A2FMN684QJUD2W A3IXV88WO45U4E  is:  "
       ]
      },
      {
       "output_type": "stream",
       "stream": "stdout",
       "text": [
        "0 \n",
        "\n",
        "Jaccard of  A2FMN684QJUD2W A2YX5L54JGPJDI  is:  "
       ]
      },
      {
       "output_type": "stream",
       "stream": "stdout",
       "text": [
        "0 \n",
        "\n",
        "Jaccard of  A2FMN684QJUD2W A1BAHT46HPEVH1  is:  "
       ]
      },
      {
       "output_type": "stream",
       "stream": "stdout",
       "text": [
        "0 \n",
        "\n",
        "Jaccard of  A2FMN684QJUD2W A1NMM0RDRF6R84  is:  "
       ]
      },
      {
       "output_type": "stream",
       "stream": "stdout",
       "text": [
        "0 \n",
        "\n",
        "Jaccard of  A2FMN684QJUD2W A14NCQUQ1XG09W  is:  "
       ]
      },
      {
       "output_type": "stream",
       "stream": "stdout",
       "text": [
        "0 \n",
        "\n",
        "Jaccard of  A2FMN684QJUD2W A1OXI0N58TMYY9  is:  "
       ]
      },
      {
       "output_type": "stream",
       "stream": "stdout",
       "text": [
        "0 \n",
        "\n",
        "Jaccard of  A2FMN684QJUD2W A1OXI0N58TMYY9  is:  "
       ]
      },
      {
       "output_type": "stream",
       "stream": "stdout",
       "text": [
        "0 \n",
        "\n",
        "Jaccard of  A2FMN684QJUD2W A374DPLAJ267SJ  is:  "
       ]
      },
      {
       "output_type": "stream",
       "stream": "stdout",
       "text": [
        "0 \n",
        "\n",
        "Jaccard of  A2FMN684QJUD2W A32DZR3UG3TNTO  is:  "
       ]
      },
      {
       "output_type": "stream",
       "stream": "stdout",
       "text": [
        "0 \n",
        "\n",
        "Jaccard of  A2FMN684QJUD2W A128K8GL4DJYTQ  is:  "
       ]
      },
      {
       "output_type": "stream",
       "stream": "stdout",
       "text": [
        "0 \n",
        "\n",
        "Jaccard of  A2FMN684QJUD2W ASWOIZH83RX39  is:  "
       ]
      },
      {
       "output_type": "stream",
       "stream": "stdout",
       "text": [
        "0 \n",
        "\n",
        "Jaccard of  A2FMN684QJUD2W A10D243CIM1BYJ  is:  "
       ]
      },
      {
       "output_type": "stream",
       "stream": "stdout",
       "text": [
        "0 \n",
        "\n",
        "Jaccard of  A2FMN684QJUD2W ARIPPNN6IHRP7  is:  "
       ]
      },
      {
       "output_type": "stream",
       "stream": "stdout",
       "text": [
        "0 \n",
        "\n",
        "Jaccard of  A2FMN684QJUD2W A3MUKHIAJOOLI2  is:  "
       ]
      },
      {
       "output_type": "stream",
       "stream": "stdout",
       "text": [
        "0 \n",
        "\n",
        "Jaccard of  A2FMN684QJUD2W A1K98Y2Q4GFDIU  is:  "
       ]
      },
      {
       "output_type": "stream",
       "stream": "stdout",
       "text": [
        "0 \n",
        "\n",
        "Jaccard of  A2FMN684QJUD2W A32MIVILCUX18L  is:  "
       ]
      },
      {
       "output_type": "stream",
       "stream": "stdout",
       "text": [
        "0 \n",
        "\n",
        "Jaccard of  A2FMN684QJUD2W A13YV794BQSKF9  is:  "
       ]
      },
      {
       "output_type": "stream",
       "stream": "stdout",
       "text": [
        "0 \n",
        "\n",
        "Jaccard of  A2FMN684QJUD2W A1HKKRS6JPZ8OC  is:  "
       ]
      },
      {
       "output_type": "stream",
       "stream": "stdout",
       "text": [
        "0 \n",
        "\n",
        "Jaccard of  A2FMN684QJUD2W A232HUAELH5J6V  is:  "
       ]
      },
      {
       "output_type": "stream",
       "stream": "stdout",
       "text": [
        "0 \n",
        "\n",
        "Jaccard of  A2FMN684QJUD2W A1OXI0N58TMYY9  is:  "
       ]
      },
      {
       "output_type": "stream",
       "stream": "stdout",
       "text": [
        "0 \n",
        "\n",
        "Jaccard of  A2FMN684QJUD2W A6TPHIXWU4Y7K  is:  "
       ]
      },
      {
       "output_type": "stream",
       "stream": "stdout",
       "text": [
        "0 \n",
        "\n",
        "Jaccard of  A2FMN684QJUD2W AAZXZU9CMWIC1  is:  "
       ]
      },
      {
       "output_type": "stream",
       "stream": "stdout",
       "text": [
        "0 \n",
        "\n",
        "Jaccard of  A2FMN684QJUD2W ALZYVC06EZU0H  is:  "
       ]
      },
      {
       "output_type": "stream",
       "stream": "stdout",
       "text": [
        "0 \n",
        "\n",
        "Jaccard of  A2FMN684QJUD2W A34989LDU92LBH  is:  "
       ]
      },
      {
       "output_type": "stream",
       "stream": "stdout",
       "text": [
        "0 \n",
        "\n",
        "Jaccard of  A2FMN684QJUD2W A15IK0978DBL14  is:  "
       ]
      },
      {
       "output_type": "stream",
       "stream": "stdout",
       "text": [
        "0 \n",
        "\n",
        "Jaccard of  A2FMN684QJUD2W AOYTGNBDDE5PE  is:  "
       ]
      },
      {
       "output_type": "stream",
       "stream": "stdout",
       "text": [
        "0 \n",
        "\n",
        "Jaccard of  A2FMN684QJUD2W A2DWN2MQYWKGNX  is:  "
       ]
      },
      {
       "output_type": "stream",
       "stream": "stdout",
       "text": [
        "0 \n",
        "\n",
        "Jaccard of  A2FMN684QJUD2W AZ31J70BQ9CM2  is:  "
       ]
      },
      {
       "output_type": "stream",
       "stream": "stdout",
       "text": [
        "0 \n",
        "\n",
        "Jaccard of  A2FMN684QJUD2W A1NXWJ0UYOMQ8O  is:  "
       ]
      },
      {
       "output_type": "stream",
       "stream": "stdout",
       "text": [
        "0 \n",
        "\n",
        "Jaccard of  A2FMN684QJUD2W A3R5RX4IA2Y2FI  is:  "
       ]
      },
      {
       "output_type": "stream",
       "stream": "stdout",
       "text": [
        "0 \n",
        "\n",
        "Jaccard of  A2FMN684QJUD2W A1Z4XCX0PC1HSM  is:  "
       ]
      },
      {
       "output_type": "stream",
       "stream": "stdout",
       "text": [
        "0 \n",
        "\n",
        "Jaccard of  A25KEEQK88U659 A25KEEQK88U659  is:  "
       ]
      },
      {
       "output_type": "stream",
       "stream": "stdout",
       "text": [
        "0 \n",
        "\n",
        "Jaccard of  A25KEEQK88U659 A2ET702Y3IC2HF  is:  "
       ]
      },
      {
       "output_type": "stream",
       "stream": "stdout",
       "text": [
        "0 \n",
        "\n",
        "Jaccard of  A25KEEQK88U659 A3LX0RSPLHEE5S  is:  "
       ]
      },
      {
       "output_type": "stream",
       "stream": "stdout",
       "text": [
        "0 \n",
        "\n",
        "Jaccard of  A25KEEQK88U659 A1RCP8K3DTYUT1  is:  "
       ]
      },
      {
       "output_type": "stream",
       "stream": "stdout",
       "text": [
        "0 \n",
        "\n",
        "Jaccard of  A25KEEQK88U659 A2QR0OBX1BB99O  is:  "
       ]
      },
      {
       "output_type": "stream",
       "stream": "stdout",
       "text": [
        "0 \n",
        "\n",
        "Jaccard of  A25KEEQK88U659 APRE05RXN915U  is:  "
       ]
      },
      {
       "output_type": "stream",
       "stream": "stdout",
       "text": [
        "0 \n",
        "\n",
        "Jaccard of  A25KEEQK88U659 A3P0Q1T6FN10QL  is:  "
       ]
      },
      {
       "output_type": "stream",
       "stream": "stdout",
       "text": [
        "0 \n",
        "\n",
        "Jaccard of  A25KEEQK88U659 A1S9FRGMJ8PZSG  is:  "
       ]
      },
      {
       "output_type": "stream",
       "stream": "stdout",
       "text": [
        "0 \n",
        "\n",
        "Jaccard of  A25KEEQK88U659 A1ZF1JV34FASKE  is:  "
       ]
      },
      {
       "output_type": "stream",
       "stream": "stdout",
       "text": [
        "0 \n",
        "\n",
        "Jaccard of  A25KEEQK88U659 A29R36DKPVNVWD  is:  "
       ]
      },
      {
       "output_type": "stream",
       "stream": "stdout",
       "text": [
        "0 \n",
        "\n",
        "Jaccard of  A25KEEQK88U659 A3QJ5EXCPY965H  is:  "
       ]
      },
      {
       "output_type": "stream",
       "stream": "stdout",
       "text": [
        "0 \n",
        "\n",
        "Jaccard of  A25KEEQK88U659 A3LW3EZEYRDF1A  is:  "
       ]
      },
      {
       "output_type": "stream",
       "stream": "stdout",
       "text": [
        "0 \n",
        "\n",
        "Jaccard of  A25KEEQK88U659 A3RAR5ZZGPF3VJ  is:  "
       ]
      },
      {
       "output_type": "stream",
       "stream": "stdout",
       "text": [
        "0 \n",
        "\n",
        "Jaccard of  A25KEEQK88U659 AQFYGWUOGWBXY  is:  "
       ]
      },
      {
       "output_type": "stream",
       "stream": "stdout",
       "text": [
        "0 \n",
        "\n",
        "Jaccard of  A25KEEQK88U659 A3KY8F557TOL1I  is:  "
       ]
      },
      {
       "output_type": "stream",
       "stream": "stdout",
       "text": [
        "0 \n",
        "\n",
        "Jaccard of  A25KEEQK88U659 A3FL2VE5F1XYZZ  is:  "
       ]
      },
      {
       "output_type": "stream",
       "stream": "stdout",
       "text": [
        "0 \n",
        "\n",
        "Jaccard of  A25KEEQK88U659 A2TB97EU2LXBUZ  is:  "
       ]
      },
      {
       "output_type": "stream",
       "stream": "stdout",
       "text": [
        "0 \n",
        "\n",
        "Jaccard of  A25KEEQK88U659 A3PJKZ549TEUB6  is:  "
       ]
      },
      {
       "output_type": "stream",
       "stream": "stdout",
       "text": [
        "0 \n",
        "\n",
        "Jaccard of  A25KEEQK88U659 A3IXV88WO45U4E  is:  "
       ]
      },
      {
       "output_type": "stream",
       "stream": "stdout",
       "text": [
        "0 \n",
        "\n",
        "Jaccard of  A25KEEQK88U659 A2YX5L54JGPJDI  is:  "
       ]
      },
      {
       "output_type": "stream",
       "stream": "stdout",
       "text": [
        "0 \n",
        "\n",
        "Jaccard of  A25KEEQK88U659 A1BAHT46HPEVH1  is:  "
       ]
      },
      {
       "output_type": "stream",
       "stream": "stdout",
       "text": [
        "0 \n",
        "\n",
        "Jaccard of  A25KEEQK88U659 A1NMM0RDRF6R84  is:  "
       ]
      },
      {
       "output_type": "stream",
       "stream": "stdout",
       "text": [
        "0 \n",
        "\n",
        "Jaccard of  A25KEEQK88U659 A14NCQUQ1XG09W  is:  "
       ]
      },
      {
       "output_type": "stream",
       "stream": "stdout",
       "text": [
        "0 \n",
        "\n",
        "Jaccard of  A25KEEQK88U659 A1OXI0N58TMYY9  is:  "
       ]
      },
      {
       "output_type": "stream",
       "stream": "stdout",
       "text": [
        "0 \n",
        "\n",
        "Jaccard of  A25KEEQK88U659 A1OXI0N58TMYY9  is:  "
       ]
      },
      {
       "output_type": "stream",
       "stream": "stdout",
       "text": [
        "0 \n",
        "\n",
        "Jaccard of  A25KEEQK88U659 A374DPLAJ267SJ  is:  "
       ]
      },
      {
       "output_type": "stream",
       "stream": "stdout",
       "text": [
        "0 \n",
        "\n",
        "Jaccard of  A25KEEQK88U659 A32DZR3UG3TNTO  is:  "
       ]
      },
      {
       "output_type": "stream",
       "stream": "stdout",
       "text": [
        "0 \n",
        "\n",
        "Jaccard of  A25KEEQK88U659 A128K8GL4DJYTQ  is:  "
       ]
      },
      {
       "output_type": "stream",
       "stream": "stdout",
       "text": [
        "0 \n",
        "\n",
        "Jaccard of  A25KEEQK88U659 ASWOIZH83RX39  is:  "
       ]
      },
      {
       "output_type": "stream",
       "stream": "stdout",
       "text": [
        "0 \n",
        "\n",
        "Jaccard of  A25KEEQK88U659 A10D243CIM1BYJ  is:  "
       ]
      },
      {
       "output_type": "stream",
       "stream": "stdout",
       "text": [
        "0 \n",
        "\n",
        "Jaccard of  A25KEEQK88U659 ARIPPNN6IHRP7  is:  "
       ]
      },
      {
       "output_type": "stream",
       "stream": "stdout",
       "text": [
        "0 \n",
        "\n",
        "Jaccard of  A25KEEQK88U659 A3MUKHIAJOOLI2  is:  "
       ]
      },
      {
       "output_type": "stream",
       "stream": "stdout",
       "text": [
        "0 \n",
        "\n",
        "Jaccard of  A25KEEQK88U659 A1K98Y2Q4GFDIU  is:  "
       ]
      },
      {
       "output_type": "stream",
       "stream": "stdout",
       "text": [
        "0 \n",
        "\n",
        "Jaccard of  A25KEEQK88U659 A32MIVILCUX18L  is:  "
       ]
      },
      {
       "output_type": "stream",
       "stream": "stdout",
       "text": [
        "0 \n",
        "\n",
        "Jaccard of  A25KEEQK88U659 A13YV794BQSKF9  is:  "
       ]
      },
      {
       "output_type": "stream",
       "stream": "stdout",
       "text": [
        "0 \n",
        "\n",
        "Jaccard of  A25KEEQK88U659 A1HKKRS6JPZ8OC  is:  "
       ]
      },
      {
       "output_type": "stream",
       "stream": "stdout",
       "text": [
        "0 \n",
        "\n",
        "Jaccard of  A25KEEQK88U659 A232HUAELH5J6V  is:  "
       ]
      },
      {
       "output_type": "stream",
       "stream": "stdout",
       "text": [
        "0 \n",
        "\n",
        "Jaccard of  A25KEEQK88U659 A1OXI0N58TMYY9  is:  "
       ]
      },
      {
       "output_type": "stream",
       "stream": "stdout",
       "text": [
        "0 \n",
        "\n",
        "Jaccard of  A25KEEQK88U659 A6TPHIXWU4Y7K  is:  "
       ]
      },
      {
       "output_type": "stream",
       "stream": "stdout",
       "text": [
        "0 \n",
        "\n",
        "Jaccard of  A25KEEQK88U659 AAZXZU9CMWIC1  is:  "
       ]
      },
      {
       "output_type": "stream",
       "stream": "stdout",
       "text": [
        "0 \n",
        "\n",
        "Jaccard of  A25KEEQK88U659 ALZYVC06EZU0H  is:  "
       ]
      },
      {
       "output_type": "stream",
       "stream": "stdout",
       "text": [
        "0 \n",
        "\n",
        "Jaccard of  A25KEEQK88U659 A34989LDU92LBH  is:  "
       ]
      },
      {
       "output_type": "stream",
       "stream": "stdout",
       "text": [
        "0 \n",
        "\n",
        "Jaccard of  A25KEEQK88U659 A15IK0978DBL14  is:  "
       ]
      },
      {
       "output_type": "stream",
       "stream": "stdout",
       "text": [
        "0 \n",
        "\n",
        "Jaccard of  A25KEEQK88U659 AOYTGNBDDE5PE  is:  "
       ]
      },
      {
       "output_type": "stream",
       "stream": "stdout",
       "text": [
        "0 \n",
        "\n",
        "Jaccard of  A25KEEQK88U659 A2DWN2MQYWKGNX  is:  "
       ]
      },
      {
       "output_type": "stream",
       "stream": "stdout",
       "text": [
        "0 \n",
        "\n",
        "Jaccard of  A25KEEQK88U659 AZ31J70BQ9CM2  is:  "
       ]
      },
      {
       "output_type": "stream",
       "stream": "stdout",
       "text": [
        "0 \n",
        "\n",
        "Jaccard of  A25KEEQK88U659 A1NXWJ0UYOMQ8O  is:  "
       ]
      },
      {
       "output_type": "stream",
       "stream": "stdout",
       "text": [
        "0 \n",
        "\n",
        "Jaccard of  A25KEEQK88U659 A3R5RX4IA2Y2FI  is:  "
       ]
      },
      {
       "output_type": "stream",
       "stream": "stdout",
       "text": [
        "0 \n",
        "\n",
        "Jaccard of  A25KEEQK88U659 A1Z4XCX0PC1HSM  is:  "
       ]
      },
      {
       "output_type": "stream",
       "stream": "stdout",
       "text": [
        "0 \n",
        "\n",
        "Jaccard of  A2ET702Y3IC2HF A2ET702Y3IC2HF  is:  "
       ]
      },
      {
       "output_type": "stream",
       "stream": "stdout",
       "text": [
        "0 \n",
        "\n",
        "Jaccard of  A2ET702Y3IC2HF A3LX0RSPLHEE5S  is:  "
       ]
      },
      {
       "output_type": "stream",
       "stream": "stdout",
       "text": [
        "0 \n",
        "\n",
        "Jaccard of  A2ET702Y3IC2HF A1RCP8K3DTYUT1  is:  "
       ]
      },
      {
       "output_type": "stream",
       "stream": "stdout",
       "text": [
        "0 \n",
        "\n",
        "Jaccard of  A2ET702Y3IC2HF A2QR0OBX1BB99O  is:  "
       ]
      },
      {
       "output_type": "stream",
       "stream": "stdout",
       "text": [
        "0 \n",
        "\n",
        "Jaccard of  A2ET702Y3IC2HF APRE05RXN915U  is:  "
       ]
      },
      {
       "output_type": "stream",
       "stream": "stdout",
       "text": [
        "0 \n",
        "\n",
        "Jaccard of  A2ET702Y3IC2HF A3P0Q1T6FN10QL  is:  "
       ]
      },
      {
       "output_type": "stream",
       "stream": "stdout",
       "text": [
        "0 \n",
        "\n",
        "Jaccard of  A2ET702Y3IC2HF A1S9FRGMJ8PZSG  is:  "
       ]
      },
      {
       "output_type": "stream",
       "stream": "stdout",
       "text": [
        "0 \n",
        "\n",
        "Jaccard of  A2ET702Y3IC2HF A1ZF1JV34FASKE  is:  "
       ]
      },
      {
       "output_type": "stream",
       "stream": "stdout",
       "text": [
        "0 \n",
        "\n",
        "Jaccard of  A2ET702Y3IC2HF A29R36DKPVNVWD  is:  "
       ]
      },
      {
       "output_type": "stream",
       "stream": "stdout",
       "text": [
        "0 \n",
        "\n",
        "Jaccard of  A2ET702Y3IC2HF A3QJ5EXCPY965H  is:  "
       ]
      },
      {
       "output_type": "stream",
       "stream": "stdout",
       "text": [
        "0 \n",
        "\n",
        "Jaccard of  A2ET702Y3IC2HF A3LW3EZEYRDF1A  is:  "
       ]
      },
      {
       "output_type": "stream",
       "stream": "stdout",
       "text": [
        "0 \n",
        "\n",
        "Jaccard of  A2ET702Y3IC2HF A3RAR5ZZGPF3VJ  is:  "
       ]
      },
      {
       "output_type": "stream",
       "stream": "stdout",
       "text": [
        "0 \n",
        "\n",
        "Jaccard of  A2ET702Y3IC2HF AQFYGWUOGWBXY  is:  "
       ]
      },
      {
       "output_type": "stream",
       "stream": "stdout",
       "text": [
        "0 \n",
        "\n",
        "Jaccard of  A2ET702Y3IC2HF A3KY8F557TOL1I  is:  "
       ]
      },
      {
       "output_type": "stream",
       "stream": "stdout",
       "text": [
        "0 \n",
        "\n",
        "Jaccard of  A2ET702Y3IC2HF A3FL2VE5F1XYZZ  is:  "
       ]
      },
      {
       "output_type": "stream",
       "stream": "stdout",
       "text": [
        "0 \n",
        "\n",
        "Jaccard of  A2ET702Y3IC2HF A2TB97EU2LXBUZ  is:  "
       ]
      },
      {
       "output_type": "stream",
       "stream": "stdout",
       "text": [
        "0 \n",
        "\n",
        "Jaccard of  A2ET702Y3IC2HF A3PJKZ549TEUB6  is:  "
       ]
      },
      {
       "output_type": "stream",
       "stream": "stdout",
       "text": [
        "0 \n",
        "\n",
        "Jaccard of  A2ET702Y3IC2HF A3IXV88WO45U4E  is:  "
       ]
      },
      {
       "output_type": "stream",
       "stream": "stdout",
       "text": [
        "0 \n",
        "\n",
        "Jaccard of  A2ET702Y3IC2HF A2YX5L54JGPJDI  is:  "
       ]
      },
      {
       "output_type": "stream",
       "stream": "stdout",
       "text": [
        "0 \n",
        "\n",
        "Jaccard of  A2ET702Y3IC2HF A1BAHT46HPEVH1  is:  "
       ]
      },
      {
       "output_type": "stream",
       "stream": "stdout",
       "text": [
        "0 \n",
        "\n",
        "Jaccard of  A2ET702Y3IC2HF A1NMM0RDRF6R84  is:  "
       ]
      },
      {
       "output_type": "stream",
       "stream": "stdout",
       "text": [
        "0 \n",
        "\n",
        "Jaccard of  A2ET702Y3IC2HF A14NCQUQ1XG09W  is:  "
       ]
      },
      {
       "output_type": "stream",
       "stream": "stdout",
       "text": [
        "0 \n",
        "\n",
        "Jaccard of  A2ET702Y3IC2HF A1OXI0N58TMYY9  is:  "
       ]
      },
      {
       "output_type": "stream",
       "stream": "stdout",
       "text": [
        "0 \n",
        "\n",
        "Jaccard of  A2ET702Y3IC2HF A1OXI0N58TMYY9  is:  "
       ]
      },
      {
       "output_type": "stream",
       "stream": "stdout",
       "text": [
        "0 \n",
        "\n",
        "Jaccard of  A2ET702Y3IC2HF A374DPLAJ267SJ  is:  "
       ]
      },
      {
       "output_type": "stream",
       "stream": "stdout",
       "text": [
        "0 \n",
        "\n",
        "Jaccard of  A2ET702Y3IC2HF A32DZR3UG3TNTO  is:  "
       ]
      },
      {
       "output_type": "stream",
       "stream": "stdout",
       "text": [
        "0 \n",
        "\n",
        "Jaccard of  A2ET702Y3IC2HF A128K8GL4DJYTQ  is:  "
       ]
      },
      {
       "output_type": "stream",
       "stream": "stdout",
       "text": [
        "0 \n",
        "\n",
        "Jaccard of  A2ET702Y3IC2HF ASWOIZH83RX39  is:  "
       ]
      },
      {
       "output_type": "stream",
       "stream": "stdout",
       "text": [
        "0 \n",
        "\n",
        "Jaccard of  A2ET702Y3IC2HF A10D243CIM1BYJ  is:  "
       ]
      },
      {
       "output_type": "stream",
       "stream": "stdout",
       "text": [
        "0 \n",
        "\n",
        "Jaccard of  A2ET702Y3IC2HF ARIPPNN6IHRP7  is:  "
       ]
      },
      {
       "output_type": "stream",
       "stream": "stdout",
       "text": [
        "0 \n",
        "\n",
        "Jaccard of  A2ET702Y3IC2HF A3MUKHIAJOOLI2  is:  "
       ]
      },
      {
       "output_type": "stream",
       "stream": "stdout",
       "text": [
        "0 \n",
        "\n",
        "Jaccard of  A2ET702Y3IC2HF A1K98Y2Q4GFDIU  is:  "
       ]
      },
      {
       "output_type": "stream",
       "stream": "stdout",
       "text": [
        "0 \n",
        "\n",
        "Jaccard of  A2ET702Y3IC2HF A32MIVILCUX18L  is:  "
       ]
      },
      {
       "output_type": "stream",
       "stream": "stdout",
       "text": [
        "0 \n",
        "\n",
        "Jaccard of  A2ET702Y3IC2HF A13YV794BQSKF9  is:  "
       ]
      },
      {
       "output_type": "stream",
       "stream": "stdout",
       "text": [
        "0 \n",
        "\n",
        "Jaccard of  A2ET702Y3IC2HF A1HKKRS6JPZ8OC  is:  "
       ]
      },
      {
       "output_type": "stream",
       "stream": "stdout",
       "text": [
        "0 \n",
        "\n",
        "Jaccard of  A2ET702Y3IC2HF A232HUAELH5J6V  is:  "
       ]
      },
      {
       "output_type": "stream",
       "stream": "stdout",
       "text": [
        "0 \n",
        "\n",
        "Jaccard of  A2ET702Y3IC2HF A1OXI0N58TMYY9  is:  "
       ]
      },
      {
       "output_type": "stream",
       "stream": "stdout",
       "text": [
        "0 \n",
        "\n",
        "Jaccard of  A2ET702Y3IC2HF A6TPHIXWU4Y7K  is:  "
       ]
      },
      {
       "output_type": "stream",
       "stream": "stdout",
       "text": [
        "0 \n",
        "\n",
        "Jaccard of  A2ET702Y3IC2HF AAZXZU9CMWIC1  is:  "
       ]
      },
      {
       "output_type": "stream",
       "stream": "stdout",
       "text": [
        "0 \n",
        "\n",
        "Jaccard of  A2ET702Y3IC2HF ALZYVC06EZU0H  is:  "
       ]
      },
      {
       "output_type": "stream",
       "stream": "stdout",
       "text": [
        "0 \n",
        "\n",
        "Jaccard of  A2ET702Y3IC2HF A34989LDU92LBH  is:  "
       ]
      },
      {
       "output_type": "stream",
       "stream": "stdout",
       "text": [
        "0 \n",
        "\n",
        "Jaccard of  A2ET702Y3IC2HF A15IK0978DBL14  is:  "
       ]
      },
      {
       "output_type": "stream",
       "stream": "stdout",
       "text": [
        "0 \n",
        "\n",
        "Jaccard of  A2ET702Y3IC2HF AOYTGNBDDE5PE  is:  "
       ]
      },
      {
       "output_type": "stream",
       "stream": "stdout",
       "text": [
        "0 \n",
        "\n",
        "Jaccard of  A2ET702Y3IC2HF A2DWN2MQYWKGNX  is:  "
       ]
      },
      {
       "output_type": "stream",
       "stream": "stdout",
       "text": [
        "0 \n",
        "\n",
        "Jaccard of  A2ET702Y3IC2HF AZ31J70BQ9CM2  is:  "
       ]
      },
      {
       "output_type": "stream",
       "stream": "stdout",
       "text": [
        "0 \n",
        "\n",
        "Jaccard of  A2ET702Y3IC2HF A1NXWJ0UYOMQ8O  is:  "
       ]
      },
      {
       "output_type": "stream",
       "stream": "stdout",
       "text": [
        "0 \n",
        "\n",
        "Jaccard of  A2ET702Y3IC2HF A3R5RX4IA2Y2FI  is:  "
       ]
      },
      {
       "output_type": "stream",
       "stream": "stdout",
       "text": [
        "0 \n",
        "\n",
        "Jaccard of  A2ET702Y3IC2HF A1Z4XCX0PC1HSM  is:  "
       ]
      },
      {
       "output_type": "stream",
       "stream": "stdout",
       "text": [
        "0 \n",
        "\n",
        "Jaccard of  A3LX0RSPLHEE5S A3LX0RSPLHEE5S  is:  "
       ]
      },
      {
       "output_type": "stream",
       "stream": "stdout",
       "text": [
        "0 \n",
        "\n",
        "Jaccard of  A3LX0RSPLHEE5S A1RCP8K3DTYUT1  is:  "
       ]
      },
      {
       "output_type": "stream",
       "stream": "stdout",
       "text": [
        "0 \n",
        "\n",
        "Jaccard of  A3LX0RSPLHEE5S A2QR0OBX1BB99O  is:  "
       ]
      },
      {
       "output_type": "stream",
       "stream": "stdout",
       "text": [
        "0 \n",
        "\n",
        "Jaccard of  A3LX0RSPLHEE5S APRE05RXN915U  is:  "
       ]
      },
      {
       "output_type": "stream",
       "stream": "stdout",
       "text": [
        "0 \n",
        "\n",
        "Jaccard of  A3LX0RSPLHEE5S A3P0Q1T6FN10QL  is:  "
       ]
      },
      {
       "output_type": "stream",
       "stream": "stdout",
       "text": [
        "0 \n",
        "\n",
        "Jaccard of  A3LX0RSPLHEE5S A1S9FRGMJ8PZSG  is:  "
       ]
      },
      {
       "output_type": "stream",
       "stream": "stdout",
       "text": [
        "0 \n",
        "\n",
        "Jaccard of  A3LX0RSPLHEE5S A1ZF1JV34FASKE  is: "
       ]
      },
      {
       "ename": "KeyboardInterrupt",
       "evalue": "",
       "output_type": "pyerr",
       "traceback": [
        "\u001b[0;31m---------------------------------------------------------------------------\u001b[0m\n\u001b[0;31mKeyboardInterrupt\u001b[0m                         Traceback (most recent call last)",
        "\u001b[0;32m<ipython-input-145-7b9c8cc742c3>\u001b[0m in \u001b[0;36m<module>\u001b[0;34m()\u001b[0m\n\u001b[1;32m      7\u001b[0m         \u001b[0;32mfor\u001b[0m \u001b[0mi\u001b[0m \u001b[0;32min\u001b[0m \u001b[0mrange\u001b[0m\u001b[0;34m(\u001b[0m\u001b[0mlen\u001b[0m\u001b[0;34m(\u001b[0m\u001b[0muser_list\u001b[0m\u001b[0;34m)\u001b[0m\u001b[0;34m)\u001b[0m\u001b[0;34m:\u001b[0m\u001b[0;34m\u001b[0m\u001b[0m\n\u001b[1;32m      8\u001b[0m             \u001b[0;32mfor\u001b[0m \u001b[0mj\u001b[0m \u001b[0;32min\u001b[0m \u001b[0mrange\u001b[0m\u001b[0;34m(\u001b[0m\u001b[0mi\u001b[0m\u001b[0;34m,\u001b[0m \u001b[0mlen\u001b[0m\u001b[0;34m(\u001b[0m\u001b[0muser_list\u001b[0m\u001b[0;34m)\u001b[0m\u001b[0;34m)\u001b[0m\u001b[0;34m:\u001b[0m\u001b[0;34m\u001b[0m\u001b[0m\n\u001b[0;32m----> 9\u001b[0;31m                 \u001b[0;32mprint\u001b[0m \u001b[0;34m\"Jaccard of \"\u001b[0m\u001b[0;34m,\u001b[0m \u001b[0muser_list\u001b[0m\u001b[0;34m[\u001b[0m\u001b[0mi\u001b[0m\u001b[0;34m]\u001b[0m\u001b[0;34m,\u001b[0m \u001b[0muser_list\u001b[0m\u001b[0;34m[\u001b[0m\u001b[0mj\u001b[0m\u001b[0;34m]\u001b[0m\u001b[0;34m,\u001b[0m \u001b[0;34m\" is: \"\u001b[0m\u001b[0;34m,\u001b[0m \u001b[0mJaccard\u001b[0m\u001b[0;34m(\u001b[0m\u001b[0muser_list\u001b[0m\u001b[0;34m[\u001b[0m\u001b[0;36m1\u001b[0m\u001b[0;34m]\u001b[0m\u001b[0;34m,\u001b[0m \u001b[0muser_list\u001b[0m\u001b[0;34m[\u001b[0m\u001b[0;36m2\u001b[0m\u001b[0;34m]\u001b[0m\u001b[0;34m,\u001b[0m \u001b[0mtablename\u001b[0m\u001b[0;34m,\u001b[0m \u001b[0mcursor\u001b[0m\u001b[0;34m)\u001b[0m\u001b[0;34m,\u001b[0m\u001b[0;34m\"\\n\"\u001b[0m\u001b[0;34m\u001b[0m\u001b[0m\n\u001b[0m",
        "\u001b[0;32m<ipython-input-119-928ef82dd483>\u001b[0m in \u001b[0;36mJaccard\u001b[0;34m(user_one, user_two, tablename, cursor)\u001b[0m\n\u001b[1;32m      6\u001b[0m     \u001b[0mprods_one\u001b[0m \u001b[0;34m=\u001b[0m \u001b[0mcursor\u001b[0m\u001b[0;34m.\u001b[0m\u001b[0mfetchall\u001b[0m\u001b[0;34m(\u001b[0m\u001b[0;34m)\u001b[0m\u001b[0;34m\u001b[0m\u001b[0m\n\u001b[1;32m      7\u001b[0m     \u001b[0;31m#print prods_one\u001b[0m\u001b[0;34m\u001b[0m\u001b[0;34m\u001b[0m\u001b[0m\n\u001b[0;32m----> 8\u001b[0;31m     \u001b[0mcursor\u001b[0m\u001b[0;34m.\u001b[0m\u001b[0mexecute\u001b[0m\u001b[0;34m(\u001b[0m\u001b[0;34m\"SELECT DISTINCT PID FROM \"\u001b[0m\u001b[0;34m+\u001b[0m \u001b[0mtablename\u001b[0m\u001b[0;34m+\u001b[0m\u001b[0;34m\" WHERE RUserID = \"\u001b[0m \u001b[0;34m+\u001b[0m \u001b[0muser_two\u001b[0m \u001b[0;34m+\u001b[0m \u001b[0;34m\";\"\u001b[0m\u001b[0;34m)\u001b[0m\u001b[0;34m\u001b[0m\u001b[0m\n\u001b[0m\u001b[1;32m      9\u001b[0m     \u001b[0mprods_two\u001b[0m \u001b[0;34m=\u001b[0m \u001b[0mcursor\u001b[0m\u001b[0;34m.\u001b[0m\u001b[0mfetchall\u001b[0m\u001b[0;34m(\u001b[0m\u001b[0;34m)\u001b[0m\u001b[0;34m\u001b[0m\u001b[0m\n\u001b[1;32m     10\u001b[0m     \u001b[0;31m#print prods_two\u001b[0m\u001b[0;34m\u001b[0m\u001b[0;34m\u001b[0m\u001b[0m\n",
        "\u001b[0;32m/Users/kelty/Desktop/Amazon-Review-Project/venv/lib/python2.7/site-packages/MySQLdb/cursors.pyc\u001b[0m in \u001b[0;36mexecute\u001b[0;34m(self, query, args)\u001b[0m\n\u001b[1;32m    188\u001b[0m         \u001b[0;32mtry\u001b[0m\u001b[0;34m:\u001b[0m\u001b[0;34m\u001b[0m\u001b[0m\n\u001b[1;32m    189\u001b[0m             \u001b[0mr\u001b[0m \u001b[0;34m=\u001b[0m \u001b[0mNone\u001b[0m\u001b[0;34m\u001b[0m\u001b[0m\n\u001b[0;32m--> 190\u001b[0;31m             \u001b[0mr\u001b[0m \u001b[0;34m=\u001b[0m \u001b[0mself\u001b[0m\u001b[0;34m.\u001b[0m\u001b[0m_query\u001b[0m\u001b[0;34m(\u001b[0m\u001b[0mquery\u001b[0m\u001b[0;34m)\u001b[0m\u001b[0;34m\u001b[0m\u001b[0m\n\u001b[0m\u001b[1;32m    191\u001b[0m         \u001b[0;32mexcept\u001b[0m \u001b[0mTypeError\u001b[0m\u001b[0;34m,\u001b[0m \u001b[0mm\u001b[0m\u001b[0;34m:\u001b[0m\u001b[0;34m\u001b[0m\u001b[0m\n\u001b[1;32m    192\u001b[0m             if m.args[0] in (\"not enough arguments for format string\",\n",
        "\u001b[0;32m/Users/kelty/Desktop/Amazon-Review-Project/venv/lib/python2.7/site-packages/MySQLdb/cursors.pyc\u001b[0m in \u001b[0;36m_query\u001b[0;34m(self, q)\u001b[0m\n\u001b[1;32m    352\u001b[0m \u001b[0;34m\u001b[0m\u001b[0m\n\u001b[1;32m    353\u001b[0m     \u001b[0;32mdef\u001b[0m \u001b[0m_query\u001b[0m\u001b[0;34m(\u001b[0m\u001b[0mself\u001b[0m\u001b[0;34m,\u001b[0m \u001b[0mq\u001b[0m\u001b[0;34m)\u001b[0m\u001b[0;34m:\u001b[0m\u001b[0;34m\u001b[0m\u001b[0m\n\u001b[0;32m--> 354\u001b[0;31m         \u001b[0mrowcount\u001b[0m \u001b[0;34m=\u001b[0m \u001b[0mself\u001b[0m\u001b[0;34m.\u001b[0m\u001b[0m_do_query\u001b[0m\u001b[0;34m(\u001b[0m\u001b[0mq\u001b[0m\u001b[0;34m)\u001b[0m\u001b[0;34m\u001b[0m\u001b[0m\n\u001b[0m\u001b[1;32m    355\u001b[0m         \u001b[0mself\u001b[0m\u001b[0;34m.\u001b[0m\u001b[0m_post_get_result\u001b[0m\u001b[0;34m(\u001b[0m\u001b[0;34m)\u001b[0m\u001b[0;34m\u001b[0m\u001b[0m\n\u001b[1;32m    356\u001b[0m         \u001b[0;32mreturn\u001b[0m \u001b[0mrowcount\u001b[0m\u001b[0;34m\u001b[0m\u001b[0m\n",
        "\u001b[0;32m/Users/kelty/Desktop/Amazon-Review-Project/venv/lib/python2.7/site-packages/MySQLdb/cursors.pyc\u001b[0m in \u001b[0;36m_do_query\u001b[0;34m(self, q)\u001b[0m\n\u001b[1;32m    316\u001b[0m         \u001b[0mdb\u001b[0m \u001b[0;34m=\u001b[0m \u001b[0mself\u001b[0m\u001b[0;34m.\u001b[0m\u001b[0m_get_db\u001b[0m\u001b[0;34m(\u001b[0m\u001b[0;34m)\u001b[0m\u001b[0;34m\u001b[0m\u001b[0m\n\u001b[1;32m    317\u001b[0m         \u001b[0mself\u001b[0m\u001b[0;34m.\u001b[0m\u001b[0m_last_executed\u001b[0m \u001b[0;34m=\u001b[0m \u001b[0mq\u001b[0m\u001b[0;34m\u001b[0m\u001b[0m\n\u001b[0;32m--> 318\u001b[0;31m         \u001b[0mdb\u001b[0m\u001b[0;34m.\u001b[0m\u001b[0mquery\u001b[0m\u001b[0;34m(\u001b[0m\u001b[0mq\u001b[0m\u001b[0;34m)\u001b[0m\u001b[0;34m\u001b[0m\u001b[0m\n\u001b[0m\u001b[1;32m    319\u001b[0m         \u001b[0mself\u001b[0m\u001b[0;34m.\u001b[0m\u001b[0m_do_get_result\u001b[0m\u001b[0;34m(\u001b[0m\u001b[0;34m)\u001b[0m\u001b[0;34m\u001b[0m\u001b[0m\n\u001b[1;32m    320\u001b[0m         \u001b[0;32mreturn\u001b[0m \u001b[0mself\u001b[0m\u001b[0;34m.\u001b[0m\u001b[0mrowcount\u001b[0m\u001b[0;34m\u001b[0m\u001b[0m\n",
        "\u001b[0;31mKeyboardInterrupt\u001b[0m: "
       ]
      }
     ],
     "prompt_number": 145
    },
    {
     "cell_type": "code",
     "collapsed": false,
     "input": [],
     "language": "python",
     "metadata": {},
     "outputs": []
    }
   ],
   "metadata": {}
  }
 ]
}