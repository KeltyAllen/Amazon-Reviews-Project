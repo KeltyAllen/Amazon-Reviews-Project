{
 "metadata": {
  "name": "",
  "signature": "sha256:e5cc3e07b2a72ea876e98ba756439cf664a71929e91971c871bae2dbd0bb972a"
 },
 "nbformat": 3,
 "nbformat_minor": 0,
 "worksheets": [
  {
   "cells": [
    {
     "cell_type": "code",
     "collapsed": false,
     "input": [
      "import nltk\n",
      "from nltk.collocations import *\n",
      "import string\n",
      "import MySQLdb\n",
      "from collections import Counter\n",
      "from nltk.corpus import stopwords\n",
      "import numpy as np\n",
      "from nltk.stem.porter import *\n",
      "from Queue import PriorityQueue\n",
      "import datetime as dt\n",
      "bigram_measures = nltk.collocations.BigramAssocMeasures()\n",
      "trigram_measures = nltk.collocations.TrigramAssocMeasures()"
     ],
     "language": "python",
     "metadata": {},
     "outputs": [],
     "prompt_number": 1
    },
    {
     "cell_type": "code",
     "collapsed": false,
     "input": [
      "def avg_rating(rating):\n",
      "    avg = [0]*len(rating)\n",
      "    avg[0] = float(rating[0])\n",
      "    for k in range(1, len(rating)):\n",
      "        avg[k]= float(np.mean(rating[:k]))\n",
      "    return avg"
     ],
     "language": "python",
     "metadata": {},
     "outputs": [],
     "prompt_number": 2
    },
    {
     "cell_type": "code",
     "collapsed": false,
     "input": [
      "def pop_time(time): \n",
      "    unpopmin = time[0]\n",
      "    unpopmax = time[0]\n",
      "    popmin = time[0]\n",
      "    popmax = time[len(time)-1]\n",
      "    slidermin = 0\n",
      "    slidersize = int(len(time)/4)\n",
      "    for i in range(slidersize, len(time)): #i marks the end of the slider\n",
      "        windowsize = time[i] - time[i - slidersize]\n",
      "        if windowsize > unpopmax - unpopmin:\n",
      "            unpopmax = time[i]\n",
      "            unpopmin = time[i - slidersize]\n",
      "        if windowsize < popmax - popmin:\n",
      "            popmax = time[i]\n",
      "            popmin = time[i - slidersize]\n",
      "    #dates=[dt.datetime.fromtimestamp(ts) for ts in time]\n",
      "    print dt.datetime.fromtimestamp(popmin), dt.datetime.fromtimestamp(popmax)\n",
      "    return unpopmin, unpopmax, popmin, popmax"
     ],
     "language": "python",
     "metadata": {},
     "outputs": [],
     "prompt_number": 3
    },
    {
     "cell_type": "code",
     "collapsed": false,
     "input": [
      "def first_pop_time(time): \n",
      "    firstpopmin = time[0]\n",
      "    firstpopmax = time[len(time)-1]\n",
      "    slidermin = 0\n",
      "    slidersize = max(int(len(time)/4), 4)\n",
      "    avtime = (time[len(time)-1] - time[0])/len(time)\n",
      "    for i in range(slidersize, len(time)): #i marks the end of the slider\n",
      "        windowsize = time[i] - time[i - slidersize]\n",
      "        if windowsize < ((time[len(time)-1] - time[0])/4) and (time[i-slidersize]-time[i - slidersize - 3]) < 3*avtime:   \n",
      "            firstpopmax = time[i]\n",
      "            firstpopmin = time[i - slidersize]\n",
      "            break;\n",
      "    #dates=[dt.datetime.fromtimestamp(ts) for ts in time]\n",
      "    print dt.datetime.fromtimestamp(firstpopmin), dt.datetime.fromtimestamp(firstpopmax)\n",
      "    return firstpopmin, firstpopmax"
     ],
     "language": "python",
     "metadata": {},
     "outputs": [],
     "prompt_number": 4
    },
    {
     "cell_type": "code",
     "collapsed": false,
     "input": [
      "#returns ratings and time for a given pid in tablename with cursor pointing toward the database\n",
      "def get_data(PID, cursor, tablename):\n",
      "    sql = \"Select RTime, RScore From \" +tablename + \" Where PID = \" + '\"' + PID +'\";'\n",
      "    cursor.execute(sql)\n",
      "    data = cursor.fetchall()\n",
      "    data = sorted(data)\n",
      "    rating = np.array(zip(*data)[1], dtype = int)\n",
      "    time = np.array(zip(*data)[0], dtype = float)\n",
      "    #dates=[dt.datetime.fromtimestamp(ts) for ts in time]\n",
      "    return rating, time#, dates"
     ],
     "language": "python",
     "metadata": {},
     "outputs": [],
     "prompt_number": 5
    },
    {
     "cell_type": "code",
     "collapsed": false,
     "input": [
      "def get_tokens(text):\n",
      "  # with open('/opt/datacourse/data/parts/shakes-1.txt', 'r') as shakes:\n",
      "    #text = shakes.read()\n",
      "    lowers = text.lower()\n",
      "    #remove the punctuation using the character deletion step of translate\n",
      "    no_punctuation = lowers.translate(None, string.punctuation)\n",
      "    tokens = nltk.word_tokenize(no_punctuation)\n",
      "    return tokens\n",
      "\n"
     ],
     "language": "python",
     "metadata": {},
     "outputs": [],
     "prompt_number": 6
    },
    {
     "cell_type": "code",
     "collapsed": false,
     "input": [
      "def get_all_review_text(PID, cursor, tablename):\n",
      "    text = ''\n",
      "    sql = \"Select RSummary From \" +tablename + \" Where PID = \" + '\"' + PID +'\";'\n",
      "    cursor.execute(sql)\n",
      "    rtext = cursor.fetchall()\n",
      "    rtext = tuple(x[0] for x in rtext)\n",
      "    for string in rtext:\n",
      "        text = text + string\n",
      "    sql = \"Select RText From \" +tablename + \" Where PID = \" + '\"' + PID +'\";'\n",
      "    cursor.execute(sql)\n",
      "    rtext = cursor.fetchall()\n",
      "    rtext = tuple(x[0] for x in rtext)\n",
      "    for string in rtext:\n",
      "        text = text + string\n",
      "    return text"
     ],
     "language": "python",
     "metadata": {},
     "outputs": [],
     "prompt_number": 7
    },
    {
     "cell_type": "code",
     "collapsed": false,
     "input": [
      "def get_popular_review_text(PID, cursor, tablename):\n",
      "    rating, time = get_data(PID, cursor, tablename)\n",
      "    a, b, popmin, popmax = pop_time(time)\n",
      "    text = ''\n",
      "    sql = \"Select RSummary From \" +tablename + \" Where PID = \" + '\"' + PID +'\"' + ' and rtime > ' + str(popmin)+ \" and rtime < \" + str(popmax) + \";\"\n",
      "    cursor.execute(sql)\n",
      "    rtext = cursor.fetchall()\n",
      "    rtext = tuple(x[0] for x in rtext)\n",
      "    for string in rtext:\n",
      "        text = text + string\n",
      "    sql = \"Select RText From \" +tablename + \" Where PID = \" + '\"' + PID +'\"' + ' and rtime > ' + str(popmin)+ \" and rtime < \" + str(popmax) + \";\"\n",
      "    cursor.execute(sql)\n",
      "    rtext = cursor.fetchall()\n",
      "    rtext = tuple(x[0] for x in rtext)\n",
      "    for string in rtext:\n",
      "        text = text + string\n",
      "    return text"
     ],
     "language": "python",
     "metadata": {},
     "outputs": [],
     "prompt_number": 8
    },
    {
     "cell_type": "code",
     "collapsed": false,
     "input": [
      "def get_firstpop_review_text(PID, cursor, tablename):\n",
      "    rating, time = get_data(PID, cursor, tablename)\n",
      "    popmin, popmax = first_pop_time(time)\n",
      "    text = ''\n",
      "    sql = \"Select RSummary From \" +tablename + \" Where PID = \" + '\"' + PID +'\"' + ' and rtime > ' + str(popmin)+ \" and rtime < \" + str(popmax) + \";\"\n",
      "    cursor.execute(sql)\n",
      "    rtext = cursor.fetchall()\n",
      "    rtext = tuple(x[0] for x in rtext)\n",
      "    for string in rtext:\n",
      "        text = text + string\n",
      "    sql = \"Select RText From \" +tablename + \" Where PID = \" + '\"' + PID +'\"' + ' and rtime > ' + str(popmin)+ \" and rtime < \" + str(popmax) + \";\"\n",
      "    cursor.execute(sql)\n",
      "    rtext = cursor.fetchall()\n",
      "    rtext = tuple(x[0] for x in rtext)\n",
      "    for string in rtext:\n",
      "        text = text + string\n",
      "    return text"
     ],
     "language": "python",
     "metadata": {},
     "outputs": [],
     "prompt_number": 9
    },
    {
     "cell_type": "code",
     "collapsed": false,
     "input": [
      "def stem_tokens(tokens, stemmer):\n",
      "    stemmed = []\n",
      "    for item in tokens:\n",
      "        stemmed.append(stemmer.stem(item))\n",
      "    return stemmed"
     ],
     "language": "python",
     "metadata": {},
     "outputs": [],
     "prompt_number": 10
    },
    {
     "cell_type": "code",
     "collapsed": false,
     "input": [
      "def text_to_counter(text):\n",
      "    stemmer = PorterStemmer()\n",
      "    tokens_all = get_tokens(text)\n",
      "    filtered_all = [w for w in tokens_all if not w in stopwords.words('english')]\n",
      "    count = Counter(filtered_all)\n",
      "\n",
      "    stemmed_all = stem_tokens(filtered_all, stemmer)\n",
      "    count_all = Counter(stemmed_all)\n",
      "\n",
      "    count_all = Counter({x: n-1 for x, n in count_all.items()})\n",
      "    count_all += Counter()\n",
      "    count_all = Counter({x: n+1 for x, n in count_all.items()})\n",
      "    return count_all"
     ],
     "language": "python",
     "metadata": {},
     "outputs": [],
     "prompt_number": 84
    },
    {
     "cell_type": "code",
     "collapsed": false,
     "input": [
      "database = \"home_kitchen\"\n",
      "tablename = \"all_hk\""
     ],
     "language": "python",
     "metadata": {},
     "outputs": [],
     "prompt_number": 12
    },
    {
     "cell_type": "code",
     "collapsed": false,
     "input": [
      "db = MySQLdb.connect(host=\"localhost\", user=\"root\", db = database)\n",
      "cursor = db.cursor()"
     ],
     "language": "python",
     "metadata": {},
     "outputs": [],
     "prompt_number": 13
    },
    {
     "cell_type": "code",
     "collapsed": false,
     "input": [
      "#PID = ' B00005AQ9Q' #bad reviews so no one buys it. 99 reviews. \n",
      "PID = ' B0000E2PEI' #featured in consumer reports example\n",
      "#PID = ' B0000X7CMQ'"
     ],
     "language": "python",
     "metadata": {},
     "outputs": [],
     "prompt_number": 72
    },
    {
     "cell_type": "code",
     "collapsed": false,
     "input": [
      "stemmer = PorterStemmer()\n",
      "\n",
      "all_text = get_all_review_text(PID, cursor, tablename)\n",
      "pop_text = get_popular_review_text(PID, cursor, tablename)\n",
      "first_pop_text = get_firstpop_review_text(PID, cursor, tablename)\n",
      "\n",
      "count_all = text_to_counter(all_text)\n",
      "count_pop = text_to_counter(pop_text)\n",
      "count_firstpop = text_to_counter(first_pop_text)\n",
      "\n",
      "#print count_all.most_common(100), '\\n'\n",
      "#print count_pop.most_common(100), '\\n' \n",
      "#print  count_firstpop.most_common(100)\n",
      "    \n",
      "all_len = len(all_text)\n",
      "pop_len = len(pop_text)\n",
      "firstpop_len = len(first_pop_text)\n",
      "\n",
      "#print all_len, pop_len, firstpop_len"
     ],
     "language": "python",
     "metadata": {},
     "outputs": [
      {
       "output_type": "stream",
       "stream": "stdout",
       "text": [
        "2012-10-12 17:00:00 2013-02-15 16:00:00\n",
        "2010-02-05 16:00:00 2010-12-31 16:00:00\n"
       ]
      }
     ],
     "prompt_number": 73
    },
    {
     "cell_type": "code",
     "collapsed": false,
     "input": [
      "ratio_all = {x: float(n)/float(all_len) for x, n in count_all.items()}\n",
      "ratio_pop = {x: float(n)/float(pop_len) for x, n in count_pop.items()}\n",
      "ratio_firstpop = {x: float(n)/float(firstpop_len) for x, n in count_firstpop.items()}\n",
      "#print ratio_all, '\\n\\n\\n', ratio_pop\n",
      "popratios = Counter({x: n/ratio_all[x] for x, n in ratio_pop.items()})\n",
      "firstpopratios = Counter({x: n/ratio_all[x] for x, n in ratio_firstpop.items()})\n",
      "#print count_all.most_common(100), '\\n'\n",
      "#print count_pop.most_common(100), '\\n' \n",
      "#print  count_firstpop.most_common(100)\n",
      "#print {word for word, n in popratios.most_common(30)}, '\\n'\n",
      "#print {word for word, n in firstpopratios.most_common(30)}\n"
     ],
     "language": "python",
     "metadata": {},
     "outputs": [],
     "prompt_number": 74
    },
    {
     "cell_type": "code",
     "collapsed": true,
     "input": [
      "#finder = BigramCollocationFinder.from_words(pop_text)"
     ],
     "language": "python",
     "metadata": {},
     "outputs": [],
     "prompt_number": 75
    },
    {
     "cell_type": "code",
     "collapsed": false,
     "input": [
      "tokens = get_tokens(all_text)\n",
      "filtered = [w for w in tokens if not w in stopwords.words('english')]\n",
      "finder = BigramCollocationFinder.from_words(filtered)\n",
      "finder.apply_freq_filter(3)\n",
      "finder.nbest(bigram_measures.likelihood_ratio, 10) \n"
     ],
     "language": "python",
     "metadata": {},
     "outputs": [
      {
       "metadata": {},
       "output_type": "pyout",
       "prompt_number": 76,
       "text": [
        "[('consumer', 'reports'),\n",
        " ('taylor', '7506'),\n",
        " ('easy', 'read'),\n",
        " ('easy', 'use'),\n",
        " ('stopped', 'working'),\n",
        " ('doctors', 'office'),\n",
        " ('glass', 'chrome'),\n",
        " ('looks', 'great'),\n",
        " ('customer', 'service'),\n",
        " ('would', 'recommend')]"
       ]
      }
     ],
     "prompt_number": 76
    },
    {
     "cell_type": "code",
     "collapsed": false,
     "input": [
      "tokens = get_tokens(all_text)\n",
      "filtered = [w for w in tokens if not w in stopwords.words('english')]\n",
      "finder = TrigramCollocationFinder.from_words(filtered)\n",
      "finder.apply_freq_filter(2)\n",
      "finder.nbest(trigram_measures.raw_freq, 10) "
     ],
     "language": "python",
     "metadata": {},
     "outputs": [
      {
       "metadata": {},
       "output_type": "pyout",
       "prompt_number": 77,
       "text": [
        "[('taylor', '7506', 'scale'),\n",
        " ('7506', 'glass', 'chrome'),\n",
        " ('taylor', '7506', 'glass'),\n",
        " ('glass', 'chrome', 'digital'),\n",
        " ('chrome', 'digital', 'scale'),\n",
        " ('scale', 'looks', 'great'),\n",
        " ('scale', 'consumer', 'reports'),\n",
        " ('accurate', 'easy', 'use'),\n",
        " ('accurate', 'easy', 'read'),\n",
        " ('scale', 'great', 'scale')]"
       ]
      }
     ],
     "prompt_number": 77
    },
    {
     "cell_type": "code",
     "collapsed": false,
     "input": [
      "tokens = get_tokens(first_pop_text)\n",
      "filtered = [w for w in tokens if not w in stopwords.words('english')]\n",
      "finder = BigramCollocationFinder.from_words(filtered)\n",
      "finder.apply_freq_filter(3)\n",
      "for bigram in finder.nbest(bigram_measures.likelihood_ratio, 5):\n",
      "    print bigram"
     ],
     "language": "python",
     "metadata": {},
     "outputs": [
      {
       "output_type": "stream",
       "stream": "stdout",
       "text": [
        "('consumer', 'reports')\n",
        "('taylor', '7506')\n",
        "('easy', 'read')\n",
        "('doctors', 'office')\n",
        "('highly', 'recommend')\n"
       ]
      }
     ],
     "prompt_number": 82
    },
    {
     "cell_type": "code",
     "collapsed": false,
     "input": [
      "tokens = get_tokens(first_pop_text)\n",
      "filtered = [w for w in tokens if not w in stopwords.words('english')]\n",
      "finder = TrigramCollocationFinder.from_words(filtered)\n",
      "finder.apply_freq_filter(2)\n",
      "finder.nbest(trigram_measures.raw_freq, 5) "
     ],
     "language": "python",
     "metadata": {},
     "outputs": [
      {
       "metadata": {},
       "output_type": "pyout",
       "prompt_number": 83,
       "text": [
        "[('taylor', '7506', 'scale'),\n",
        " ('7506', 'bathroom', 'scale'),\n",
        " ('taylor', '7506', 'bathroom'),\n",
        " ('scale', 'consumer', 'reports'),\n",
        " ('accurate', 'easy', 'read')]"
       ]
      }
     ],
     "prompt_number": 83
    },
    {
     "cell_type": "code",
     "collapsed": false,
     "input": [
      "print finder"
     ],
     "language": "python",
     "metadata": {},
     "outputs": [
      {
       "output_type": "stream",
       "stream": "stdout",
       "text": [
        "<nltk.collocations.TrigramCollocationFinder object at 0x106541150>\n"
       ]
      }
     ],
     "prompt_number": 85
    },
    {
     "cell_type": "code",
     "collapsed": false,
     "input": [],
     "language": "python",
     "metadata": {},
     "outputs": []
    }
   ],
   "metadata": {}
  }
 ]
}