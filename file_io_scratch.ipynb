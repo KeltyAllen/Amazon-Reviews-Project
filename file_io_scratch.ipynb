{
 "metadata": {
  "name": "",
  "signature": "sha256:f585fd7813f7c34dba614d7d1fb904bec31bf696e045331cdd08cf007c23e227"
 },
 "nbformat": 3,
 "nbformat_minor": 0,
 "worksheets": [
  {
   "cells": [
    {
     "cell_type": "code",
     "collapsed": false,
     "input": [
      "f = open('Reviews_data/latereviews.txt', 'r')"
     ],
     "language": "python",
     "metadata": {},
     "outputs": [],
     "prompt_number": 12
    },
    {
     "cell_type": "code",
     "collapsed": false,
     "input": [
      "for i in range(4062):\n",
      "    line = f.readline()\n",
      "    "
     ],
     "language": "python",
     "metadata": {},
     "outputs": [],
     "prompt_number": 13
    },
    {
     "cell_type": "code",
     "collapsed": false,
     "input": [
      "print f.readline()"
     ],
     "language": "python",
     "metadata": {},
     "outputs": [
      {
       "output_type": "stream",
       "stream": "stdout",
       "text": [
        " B000HBILB2|keltydelimit| Intex Pillow Rest Twin Airbed with Built-in Electric Pump|keltydelimit| 39.99|keltydelimit| A2O0O7POP4X8TR|keltydelimit| FranklyMa|keltydelimit| 0/0|keltydelimit| 4.0|keltydelimit| 1345161600|keltydelimit| item mislabeled|keltydelimit| This is a good product. I use it nightly.It is 36\" in width, not 40\" as marked onthe box. This makes it tend to roll moreeasily. I had to frame and tie it to makeit stable.\n",
        "\n"
       ]
      }
     ],
     "prompt_number": 43
    },
    {
     "cell_type": "code",
     "collapsed": false,
     "input": [
      "for i in range(40):\n",
      "    print f.readline()"
     ],
     "language": "python",
     "metadata": {},
     "outputs": [
      {
       "output_type": "stream",
       "stream": "stdout",
       "text": [
        " B00004RJAZ|keltydelimit| The Band - The Band (1997)|keltydelimit| unknown|keltydelimit| A2D2YHVA5T3W5Z|keltydelimit| zelmo \"rangerboy\"|keltydelimit| 1/1|keltydelimit| 5.0|keltydelimit| 1327795200|keltydelimit| Fascinating watching|keltydelimit| If you're a fan of the Band, or of music in general, you'll want to watch this really well-done program. The interviews with members of the group, as well as the background info on the writing and recording of the songs were riveting.\n",
        "\n",
        " B00004RJAZ|keltydelimit| The Band - The Band (1997)|keltydelimit| unknown|keltydelimit| A2HSN38625ULEW|keltydelimit| William G. McCown, Ph. D. \"Ardent consumer\"|keltydelimit| 1/1|keltydelimit| 5.0|keltydelimit| 1327017600|keltydelimit| Unbelievable. Essential for every fan.|keltydelimit| If you have even a passing interest in the Band, then buy this immediately. This presents them-and their genius-in an all new and more profound light. While their songs always sound fresh through the many years since they were first recorded, this DVD is like listening to them in remastered stereo for the first time, with exquisite headphones.The only weakness that I can see is that so many current groups, as well as musician at the time, were directly influenced by this album. This version of Classic Albums doesn't capture the historical significance of this album, concentrating more on its production and aesthetics. But who cares? This is a celebration of their music and one of the greatest albums of the rock era.\n",
        "\n",
        " B00004RJAZ|keltydelimit| The Band - The Band (1997)|keltydelimit| unknown|keltydelimit| A3GJ40QBG8059R|keltydelimit| Tamara C Haase|keltydelimit| 0/0|keltydelimit| 5.0|keltydelimit| 1359849600|keltydelimit| Very interesting, especially for musicians.|keltydelimit| We really enjoyed this because it went into the creative process and circumstances behind each song. It was very interesting, especially for musicians and hard core Band fans.\n",
        "\n",
        " B00004RJAZ|keltydelimit| The Band - The Band (1997)|keltydelimit| unknown|keltydelimit| A1X5EW4MIPEJPU|keltydelimit| dog_magnet|keltydelimit| 0/0|keltydelimit| 5.0|keltydelimit| 1356652800|keltydelimit| Great backstory.|keltydelimit| I love this dvd. It is good to see those members of The Band who are no longer with us.\n",
        "\n",
        " 0871562685|keltydelimit| The Piedmont|keltydelimit| unknown|keltydelimit| A27INA5BO3NG1D|keltydelimit| Trees and Stuff|keltydelimit| 0/0|keltydelimit| 5.0|keltydelimit| 1358294400|keltydelimit| The Naturalist's Guide|keltydelimit| This book is literally a Naturalist's guide. I can't believe there are not more 5 star ratings of this book. As an arborist, birder, and wildlife biologist born in the piedmont I recommend this book.\n",
        "\n",
        " B000N8X038|keltydelimit| California Exotics Waterproof Jack Rabbit with Floating Beads|keltydelimit| 27.66|keltydelimit| A36U6KS5GEZCIH|keltydelimit| C. Kelly|keltydelimit| 1/5|keltydelimit| 1.0|keltydelimit| 1358726400|keltydelimit| ridiculous|keltydelimit| I find it hard to believe there are women really using this product ........turns out it's about the same diameter as the cardboard tube inside paper-towels. Seriously ???~~~\n",
        "\n",
        " B000N8X038|keltydelimit| California Exotics Waterproof Jack Rabbit with Floating Beads|keltydelimit| 27.66|keltydelimit| A3SX99OSHJRRKZ|keltydelimit| CS|keltydelimit| 0/0|keltydelimit| 5.0|keltydelimit| 1356480000|keltydelimit| Hit a woman where she likes it most|keltydelimit| The size of the of the Jack Rabbit is a nice fit the rotating beads and vibrating rabbit will send a woman over the top and begging for more, a must for any woman that needs a little excitement in her life. The multi speeds are a plus and sure to do the job over and over again many times.\n",
        "\n",
        " B000N8X038|keltydelimit| California Exotics Waterproof Jack Rabbit with Floating Beads|keltydelimit| 27.66|keltydelimit| A2BKDIK5CUQ9EO|keltydelimit| rizzla|keltydelimit| 0/0|keltydelimit| 5.0|keltydelimit| 1356220800|keltydelimit| omg!|keltydelimit|)\n",
        "\n",
        " B000N8X038|keltydelimit| California Exotics Waterproof Jack Rabbit with Floating Beads|keltydelimit| 27.66|keltydelimit| A1JVMEEY17INDR|keltydelimit| Dee an Angel|keltydelimit| 0/0|keltydelimit| 3.0|keltydelimit| 1356048000|keltydelimit| Great buy for the money|keltydelimit| This is a good toy. It has powerful vibrations and the speed and intensity of the rotating beads are equally as strong. This vibe is made of a kind of hard rubber (not so hard that it would hurt you). I was hoping it was jelly instead but it's still worth the money. Other than that my only complaint is that I wish it had the pulsating feature, but I can't really complain because for the amount of money you spend on this toy you will def be satisfied.\n",
        "\n",
        " B000N8X038|keltydelimit| California Exotics Waterproof Jack Rabbit with Floating Beads|keltydelimit| 27.66|keltydelimit| A3F099UAFZ83ZO|keltydelimit| Ryan Foxx|keltydelimit| 0/0|keltydelimit| 4.0|keltydelimit| 1355875200|keltydelimit| My gf love it. But it doesn't work in water that well.|keltydelimit| good product. pleases the gf. used in the tub once and it stopped working for a day or two. but other than that its a good product\n",
        "\n",
        " B000N8X038|keltydelimit| California Exotics Waterproof Jack Rabbit with Floating Beads|keltydelimit| 27.66|keltydelimit| A3T9PFEP1Y790H|keltydelimit| Tianna|keltydelimit| 0/0|keltydelimit| 2.0|keltydelimit| 1355875200|keltydelimit| Not waterproof!|keltydelimit| It's not water proof and it rusts on the inside. The turning head is a nice feature, but I don't think I really needed it.\n",
        "\n",
        " B000N8X038|keltydelimit| California Exotics Waterproof Jack Rabbit with Floating Beads|keltydelimit| 27.66|keltydelimit| A9MTKWE99IOBO|keltydelimit| Stephanie Daniels|keltydelimit| 0/0|keltydelimit| 4.0|keltydelimit| 1355875200|keltydelimit| My First!|keltydelimit| This was my first vibrator/rotating head and my my my what a way to start out! It was actually a gift from my husband!\n",
        "\n",
        " B000N8X038|keltydelimit| California Exotics Waterproof Jack Rabbit with Floating Beads|keltydelimit| 27.66|keltydelimit| A1PZ2VYT2OH5BC|keltydelimit| linda perry|keltydelimit| 0/0|keltydelimit| 5.0|keltydelimit| 1355529600|keltydelimit| Easy Climax|keltydelimit| I'm very pleased with this product because it has a natural feeling head and makes climaxing easyand can be used in the bathtub,shower or where ever.\n",
        "\n",
        " B000N8X038|keltydelimit| California Exotics Waterproof Jack Rabbit with Floating Beads|keltydelimit| 27.66|keltydelimit| A197SWPTZPUW2F|keltydelimit| Angie|keltydelimit| 0/0|keltydelimit| 5.0|keltydelimit| 1355443200|keltydelimit| WOW|keltydelimit| All I can say is OMG!!!! super great . . . . . . . . . . . .\n",
        "\n",
        " B000N8X038|keltydelimit| California Exotics Waterproof Jack Rabbit with Floating Beads|keltydelimit| 27.66|keltydelimit| A2LTV919SGIVTA|keltydelimit| experienced|keltydelimit| 0/0|keltydelimit| 2.0|keltydelimit| 1355356800|keltydelimit| Not worth the money|keltydelimit| Not what I thought I was getting. I don't think jell is as enjoyable as the silicone and unfortunately I had to pay to find out.\n",
        "\n",
        " B000N8X038|keltydelimit| California Exotics Waterproof Jack Rabbit with Floating Beads|keltydelimit| 27.66|keltydelimit| AMRI1BDK92851|keltydelimit| donna|keltydelimit| 0/0|keltydelimit| 1.0|keltydelimit| 1355011200|keltydelimit| PLEASE DO NOT PURCHASE|keltydelimit| WASTE OF MONEY. FIRST TIME BUYING SUCH AND IT NEVER WORKED. MOTOR NEVER TURNED WHEN BATTERY WAS PUT IN. SUCH BLATANT ROBBERY!\n",
        "\n",
        " B000N8X038|keltydelimit| California Exotics Waterproof Jack Rabbit with Floating Beads|keltydelimit| 27.66|keltydelimit| A3235BXKJ7BKBM|keltydelimit| Anbe|keltydelimit| 0/0|keltydelimit| 5.0|keltydelimit| 1361836800|keltydelimit| Less than 60 seconds awesome O's|keltydelimit| This is the first battery operated toy to give me an orgasm. I am glad I made the purchase as I had the best Orgasm's with this rabbit. I used a lubricated condom which made using it very easy. The vibrating ears provide a nice orgasm alone!!! This is a great toy for multiple orgasms.\n",
        "\n",
        " B000N8X038|keltydelimit| California Exotics Waterproof Jack Rabbit with Floating Beads|keltydelimit| 27.66|keltydelimit| A1J5TL82VEW1UG|keltydelimit| MsAnn|keltydelimit| 0/0|keltydelimit| 5.0|keltydelimit| 1361318400|keltydelimit| This vibrator has two buttons|keltydelimit| Its easy to use and quiet. It rotates and vibrates with 3 levels of intensity. It feels like the real thing. Enjoys ladies\n",
        "\n",
        " B000N8X038|keltydelimit| California Exotics Waterproof Jack Rabbit with Floating Beads|keltydelimit| 27.66|keltydelimit| ACYQB8EAHAMYH|keltydelimit| Lady Darah|keltydelimit| 1/1|keltydelimit| 5.0|keltydelimit| 1342051200|keltydelimit| Like a charm|keltydelimit| It arrived fast, and got put to use the same day! The Jack Rabbit is just what we were looking for, and got the job done in an exciting manner. The girth and the length of the product was just right (husband was afraid it would be bigger than him, but it wasn't) Used it on all modes, but preferred lowest settings. Smelled a bit like plastic, but what toy doesn't at first. Wife truly enjoyed it, and got off strong and fast. Would recommend over similar items priced 3-5x as much at sex toy shop. A+\n",
        "\n",
        " B000N8X038|keltydelimit| California Exotics Waterproof Jack Rabbit with Floating Beads|keltydelimit| 27.66|keltydelimit| A3TBTRERKJC77V|keltydelimit| BriBri|keltydelimit| 1/1|keltydelimit| 4.0|keltydelimit| 1334793600|keltydelimit| Part of my top 5|keltydelimit| I like to try new things and this big (i mean BIG)guy came along he is for sure on my top 5 favorite list. Not #1 because it is a little big and i have to use lots of lube even when i am very wet\n",
        "\n",
        " B000N8X038|keltydelimit| California Exotics Waterproof Jack Rabbit with Floating Beads|keltydelimit| 27.66|keltydelimit| AV0PRM1QIYS0V|keltydelimit| Ginamarie Temoshawsky \"I remember having a ba...|keltydelimit| 1/1|keltydelimit| 2.0|keltydelimit| 1327708800|keltydelimit| Not the best bunny of the bunch|keltydelimit| I've had a few rabbit-type toys over the years and really love them overall. Thank goodness this was not the first one I ever got or I might not have tried again.What attracted me was that it is waterproof which has been an occasional lifesaver for shower time. I would normally not want the controls on the base though so I really don't want to even look at this option if I'm anywhere dry. I find it awkward to have to reach like that when adjustment is needed on intensity/speed. I also notice that the weight of the batteries at the base of the device requires more attention from me to keep the fun where it needs to be. In my other rabbits, having the control and battery pack as a separated portion allows me to easily and naturally deal with any sudden need to change the action in a comfortable position. It also makes the business end easier to handle, prop,maneuver, etc since it doesn't have all the extra baggage and weight at the base.The girth is a bit gluttonous for my tastes but it's not unmanageable. The beads inside look and sound a bit too scary and have not actually felt worthwhile to me. The ability to change direction has no appeal for me either but perhaps if someone is using the tip of the shaft for some foreplay this could be useful. I don't find it to be soft enough or set for a proper path to make that interesting with this device though. Other rabbits of more modest size have definitely delivered larger return though.The ears are too stiff and sometimes can hurt if not careful. ...and really, how careful can you remain when you are trying to let go and \"enjoy?\" For me, perhaps it's a YMMV thing, the ears also don't naturally land where they should when the other business aspect is where it needs to be. This requires some odd posturing and holding but it can be done to the desired end result. I have to emphasize that even when that result is achieved, my other rabbits give a higher quality reward and often in less time unless I purposely played it to last longer.Out of the package, the smell was really strong and surprised me since I had never noticed this in others I've gotten. It did not fade quickly in spite of repeated washing and even now it still smells \"industrial.\"I would not buy this model again so hopefully I'll find a better waterproof rabbit option next time.\n",
        "\n",
        " B000N8X038|keltydelimit| California Exotics Waterproof Jack Rabbit with Floating Beads|keltydelimit| 27.66|keltydelimit| A1EEAZBNYD71C3|keltydelimit| Em7|keltydelimit| 1/1|keltydelimit| 5.0|keltydelimit| 1327363200|keltydelimit| Amazing!|keltydelimit|p Now I just have to get a few more toys and introduce them to my sex life with my boyfriend...hopefully he won't mind ^_^\n",
        "\n",
        " B000N8X038|keltydelimit| California Exotics Waterproof Jack Rabbit with Floating Beads|keltydelimit| 27.66|keltydelimit| ARHLCDBKJY54V|keltydelimit| Dr. O|keltydelimit| 1/1|keltydelimit| 5.0|keltydelimit| 1326499200|keltydelimit| Love them rascally rabbits|keltydelimit| The Jack Rabbit really works, and works pretty damn fast at that. It is bit on the large side for some, but with a little lube and some gentle play, once those little ears reach the right spot hang-on thing happen quickly. It is the new best friend\n",
        "\n",
        " B000N8X038|keltydelimit| California Exotics Waterproof Jack Rabbit with Floating Beads|keltydelimit| 27.66|keltydelimit| A2X08P1APG77ET|keltydelimit| Nicola|keltydelimit| 0/1|keltydelimit| 1.0|keltydelimit| 1328486400|keltydelimit| Doesn't work|keltydelimit| I received this item and it;s dead!Doesn't work and I cannot return it. wasted $40 bucks..I'm so angry, I bought this as a gag gift for my friend for a party and now i'm out money...Very disappointing...\n",
        "\n",
        " B000N8X038|keltydelimit| California Exotics Waterproof Jack Rabbit with Floating Beads|keltydelimit| 27.66|keltydelimit| A24DZS3O4A2047|keltydelimit| disappointed|keltydelimit| 0/1|keltydelimit| 1.0|keltydelimit| 1328054400|keltydelimit| doesnt work|keltydelimit| Put new batteries in - product wont turn on at all - very disappointed !!! Save your money - many others are better - should have read the other reviews and then i would have been warned\n",
        "\n",
        " B000N8X038|keltydelimit| California Exotics Waterproof Jack Rabbit with Floating Beads|keltydelimit| 27.66|keltydelimit| A3DBUYHH353OYY|keltydelimit| Disappointed|keltydelimit| 0/1|keltydelimit| 1.0|keltydelimit| 1327795200|keltydelimit| So Disappointing!|keltydelimit| I was so excited to try this item when I ordered it, but when I got it I was so disappointed because it didn't work. It didn't even turn on! I didn't try to return it because I was under the impression it is a nonreturnable item. I won't order this product again but will try ordering from Amazon again.\n",
        "\n",
        " B000N8X038|keltydelimit| California Exotics Waterproof Jack Rabbit with Floating Beads|keltydelimit| 27.66|keltydelimit| AX5PCUONJUYA|keltydelimit| Keshia|keltydelimit| 0/0|keltydelimit| 2.0|keltydelimit| 1331424000|keltydelimit| I didn't think it was that good.|keltydelimit| Got this product and used it but it doesn't get me to the big O. It's just to stiff for me and also the rabbit ears don't reach the right place. All i have to say it's just wasn't for me. I wish i didn't buy it.\n",
        "\n",
        " B000N8X038|keltydelimit| California Exotics Waterproof Jack Rabbit with Floating Beads|keltydelimit| 27.66|keltydelimit| A2JLNL862T3982|keltydelimit| T-peas|keltydelimit| 0/0|keltydelimit| 2.0|keltydelimit| 1329177600|keltydelimit| broke one first use|keltydelimit| First time buying a toy of this type. Great orgazm but then the buttons stopped working and the devise would not increase in speed or intensity and nor wood it shut off. No wat to return it on Amazon due to policy\n",
        "\n",
        " B000N8X038|keltydelimit| California Exotics Waterproof Jack Rabbit with Floating Beads|keltydelimit| 27.66|keltydelimit| A3IVCP9ZKJFRF5|keltydelimit| C.H.|keltydelimit| 0/0|keltydelimit| 2.0|keltydelimit| 1328313600|keltydelimit| Cheaply built|keltydelimit| The vibrator worked well for six months or so we had it, but over that time the silicone became discolored (turned a yellowish color) inside where the circular beads rotate and it just spread from there towards the base. The entire vibrator turned a yellow tint from where the beads are down to the base. It was one of our favorite toys for a while, until we discovered how cheaply built it was. The battery holder was the problem. It is cheaply made, so the thin contacts in the battery compartment which slides into the device are the most likely thing to break, which we soon discovered. What I learned from this was, you have to put your money where your mouth is when it comes to getting a quality sex toy. If you go cheap, you can go home. Forget this one. It is not a good investment and it will just break on you. In the short term, a couple of months, it will last, but don't expect it to work much longer than that. We didn't even use it that often and it still broke down. Also, it was only $25 when we bought it, now they have gone up on the price. Forget it - NOT worth your money people! If you want a quality product, try the Lelo vibrators out. Lelo's products have a lifetime warranty and you never have to buy batteries because they are rechargeable.\n",
        "\n",
        " B000N8X038|keltydelimit| California Exotics Waterproof Jack Rabbit with Floating Beads|keltydelimit| 27.66|keltydelimit| A35RZRJB18Y21C|keltydelimit| Atl_Fun|keltydelimit| 0/0|keltydelimit| 3.0|keltydelimit| 1326326400|keltydelimit| HUGE|keltydelimit| This product works as described but the girth on this toy is massive. NOT for beginners! Material is kinda of hard too.\n",
        "\n",
        " B000N8X038|keltydelimit| California Exotics Waterproof Jack Rabbit with Floating Beads|keltydelimit| 27.66|keltydelimit| ACPCDPURM94RB|keltydelimit| kevin|keltydelimit| 0/0|keltydelimit| 1.0|keltydelimit| 1325721600|keltydelimit| DISAPOINTED|keltydelimit| I BOUGHT THIS ITEM AS A GIFT. I PUT BATTERIES IN IT AND IT WORKED FOR THREE MINS AND QUIT. I HAVE NOT BEEN ABLE TO GET IT TO WORK AGAIN AND ACCORDING TO AMAZON POLICY I CAN'T RETURN IT! DON'T WASTE YOUR MONEY!\n",
        "\n",
        " B000N8X038|keltydelimit| California Exotics Waterproof Jack Rabbit with Floating Beads|keltydelimit| 27.66|keltydelimit| A161GNFSK9EJYC|keltydelimit| Jsyl|keltydelimit| 0/0|keltydelimit| 3.0|keltydelimit| 1325635200|keltydelimit| Was great while it lasted|keltydelimit| I absolutely loved this toy at first. It was really amazing. About three months of use, the rotating beads stopped working. The batteries were fully charged and everything, but nothing. It still vibrates and everything and still does the job, but I just wish it lasted longer.\n",
        "\n",
        " B000N8X038|keltydelimit| California Exotics Waterproof Jack Rabbit with Floating Beads|keltydelimit| 27.66|keltydelimit| A194Z32VFQCBLW|keltydelimit| Bill|keltydelimit| 0/1|keltydelimit| 1.0|keltydelimit| 1360713600|keltydelimit| Too Expensive|keltydelimit| I used it once and have not touched it since, the dolfin wont stay on my clit and the clear stuuf is too soft, Waste of MONEY\n",
        "\n",
        " B000N8X038|keltydelimit| California Exotics Waterproof Jack Rabbit with Floating Beads|keltydelimit| 27.66|keltydelimit| A3319TOT4L2PBD|keltydelimit| chanda|keltydelimit| 0/1|keltydelimit| 1.0|keltydelimit| 1354924800|keltydelimit| Can't use it, can't return it.|keltydelimit| I was really looking forward to using this item. However, upon opening it I was overcome with a strong chemical odor. The packaging says &#34;for novelty only&#34; which means, it's not safe. I did some research and found out this could actually cause cancer. Of course, I can't even return the stupid thing eventhough I never used it. Shame on you people for selling shoddy products that can esentially kill people.\n",
        "\n",
        " B000N8X038|keltydelimit| California Exotics Waterproof Jack Rabbit with Floating Beads|keltydelimit| 27.66|keltydelimit| A166NF4U2003YV|keltydelimit| Mrs. Leonard|keltydelimit| 0/1|keltydelimit| 4.0|keltydelimit| 1331251200|keltydelimit| over $60 in the store|keltydelimit| My husband bought this toy for me about two years ago. It still works like the first day I got it. I love that this toy's ears aren't so soft you can't feel the vibration. The ears of the rabbit are stiff. My only complaint would be that I would have liked a softer head and shaft with the firm ears. GREAT BUY. We purchased mine at the sex store for $60+tax.\n",
        "\n",
        " B000N8X038|keltydelimit| California Exotics Waterproof Jack Rabbit with Floating Beads|keltydelimit| 27.66|keltydelimit| A1RIA5P5USXD1F|keltydelimit| brandi loera|keltydelimit| 0/0|keltydelimit| 5.0|keltydelimit| 1357776000|keltydelimit| jack rabbit|keltydelimit| B000N8X038\n",
        "\n",
        " California Exotics Waterproof Jack Rabbit with Floating Beads|keltydelimit| 27.66|keltydelimit| A2EHQRR02FVZEJ|keltydelimit| TightP|keltydelimit| 0/0|keltydelimit| 2.0|keltydelimit| 1357689600|keltydelimit| Large and Hard!|keltydelimit| Purchased online, good description with size included. However, when it arrived it was larger than advertised (length and circumference). It was actually to large and caused some discomfort. It has a very hard plasltic like feeling which did not help with insertion. It seems to be well built if you are looking for the terminator of vibrators!! If you have had a few kids and need something bigger and harded, this is for you! For us it was a waste of the money spent as we will not be using it again.|keltydelimit| B000N8X038\n",
        "\n",
        " California Exotics Waterproof Jack Rabbit with Floating Beads|keltydelimit| 27.66|keltydelimit| A2A2YHPT5QBLFY|keltydelimit| William Forrest Bray|keltydelimit| 0/0|keltydelimit| 5.0|keltydelimit| 1357516800|keltydelimit| Rocks Her World|keltydelimit| As everyone knows, there is the Rabbit and then everything else. This product gets my girlfriend going wild, she loves the multiple stimulations it provides both inside and out. This is the 2nd one I've bought because about a year of use the floating beads would no longer work. She loved it so much we bought another one.|keltydelimit| B000N8X038\n",
        "\n",
        " California Exotics Waterproof Jack Rabbit with Floating Beads|keltydelimit| 27.66|keltydelimit| A1LYCQCJK2JWQ7|keltydelimit| Karl Carpenter|keltydelimit| 0/0|keltydelimit| 4.0|keltydelimit| 1357516800|keltydelimit| Great Quality Toy|keltydelimit| This is great, wife loves it. We've actually had 3 of them. Wore out the first 2 over the course of about a year each. This has never failed to please her.The only issue we have noticed with them, is the rubber seems to react with other rubber types and \"melt\". We have had it happen with all 3 of them. So if you keep your toys together (touching) like we do, you may want to keep this one in it's packaging so it doesn't get an impression of another toy melted into it.It does tend to get louder the more you use it or the older it gets. At first it was very quite, but now we have to keep a hold on the rabbit to stop the noise from being overly loud (Especially if the kids are home).Again, all the cons happen over time. We will probably keep on of these as long as we can continue to buy them. It's just really good at what it does even if it doesn't last forever.|keltydelimit| B000N8X038\n",
        "\n",
        " California Exotics Waterproof Jack Rabbit with Floating Beads|keltydelimit| 27.66|keltydelimit| A3M1CF937LR600|keltydelimit| Lady Cyn Aptic|keltydelimit| 0/0|keltydelimit| 2.0|keltydelimit| 1357430400|keltydelimit| Too Weak/Gentle|keltydelimit| Received as a gift from my wishlist, I added it because of all the positive reviews and because it was waterproof (also the clear design looked cool), but quite honestly this is weaker than my cheapy $8 vibrator from a local shop. I have not tried it in water so I can't comment on that. It is also too stiff (rather than being too big), but mostly my issue is the very weak vibration, especially lacking in the area that should be stimulated most. The rotation also did nothing for me. With a name like Jackrabbit, I was expecting a lot more oomph. Don't bother with this product if your preference is not gentle... I found it annoying.|keltydelimit| B000N8X038\n",
        "\n"
       ]
      }
     ],
     "prompt_number": 49
    },
    {
     "cell_type": "code",
     "collapsed": false,
     "input": [],
     "language": "python",
     "metadata": {},
     "outputs": []
    }
   ],
   "metadata": {}
  }
 ]
}