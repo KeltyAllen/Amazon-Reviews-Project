{
 "metadata": {
  "name": "",
  "signature": "sha256:81b88125be3982d26965e83765926caa7764f6ae6b090088528ed0200e5981ea"
 },
 "nbformat": 3,
 "nbformat_minor": 0,
 "worksheets": [
  {
   "cells": [
    {
     "cell_type": "code",
     "collapsed": false,
     "input": [
      "import numpy as np\n",
      "from sklearn.hmm import MultinomialHMM\n",
      "import MySQLdb\n",
      "import matplotlib.pyplot as plt\n",
      "import pylab as pl\n",
      "%matplotlib inline"
     ],
     "language": "python",
     "metadata": {},
     "outputs": [],
     "prompt_number": 2
    },
    {
     "cell_type": "code",
     "collapsed": false,
     "input": [
      "# Normalizes the time so that the average wait time for the next review is 1. \n",
      "def normalized(time):\n",
      "    review_rate = len(time)/(time[len(time)-1]-time[0])\n",
      "    normalized_time = np.zeros(len(time))\n",
      "    for k in range(len(time)):\n",
      "        normalized_time[k] = (time[k]-time[0])*review_rate\n",
      "    return normalized_time"
     ],
     "language": "python",
     "metadata": {},
     "outputs": [],
     "prompt_number": 3
    },
    {
     "cell_type": "code",
     "collapsed": false,
     "input": [
      "def GetTrainingSet(PID, tablename, cursor):\n",
      "    sql = \"Select RTime, RScore From \" +tablename + \" Where PID = \" + '\"' + PID +'\";'\n",
      "    cursor.execute(sql)\n",
      "    data = cursor.fetchall()\n",
      "    data = sorted(data)\n",
      "    rating = np.array(zip(*data)[1], dtype = int)\n",
      "    time = np.array(zip(*data)[0], dtype = float)\n",
      "    normalized_time = normalized(time)\n",
      "    normalized_time\n",
      "    discrete_time = np.zeros(len(time))\n",
      "    #ratings 1-5, mult by 2 if short wait for a rating,\n",
      "    data_encoded = np.zeros(len(time))\n",
      "    #data_encoded.append('temp')\n",
      "    for k in range(1, len(time)):\n",
      "        rating[k] = rating[k]-1\n",
      "        if (normalized_time[k] - normalized_time[k-1])> 1:\n",
      "            discrete_time[k]=2\n",
      "            #data_encoded[k] = \n",
      "            #data_encoded.append('f' + str(rating[k]))  #ok let's try strings instead\n",
      "        else:\n",
      "            discrete_time[k]=1\n",
      "            #data_encoded.append('s' + str(rating[k]))\n",
      "        data_encoded[k] = int(rating[k]*2 - discrete_time[k])\n",
      "    #print discrete_time\n",
      "    discrete_time[0] = discrete_time[1]\n",
      "    data_encoded[0] = int(rating[0]*2 - discrete_time[0])\n",
      "    rating[0]=rating[0]-1\n",
      "    return data_encoded, rating, time \n",
      "    #return np.column_stack([rating, discrete_time]), time"
     ],
     "language": "python",
     "metadata": {},
     "outputs": [],
     "prompt_number": 4
    },
    {
     "cell_type": "code",
     "collapsed": false,
     "input": [
      "def running_avg(data): #now assuming rating is 1 less than actual because sklearn hmm is so dumb\n",
      "    avg = np.zeros(len(data), dtype = float)\n",
      "    total = 0\n",
      "    for k in range(len(data)):\n",
      "        #avg[k] = np.mean(data[:k])\n",
      "        total += data[k]+1\n",
      "        avg[k] = float(total)/float((k+1))\n",
      "    return avg"
     ],
     "language": "python",
     "metadata": {},
     "outputs": [],
     "prompt_number": 5
    },
    {
     "cell_type": "code",
     "collapsed": false,
     "input": [
      "db = MySQLdb.connect(host=\"localhost\", user=\"root\", db = \"home_kitchen\")\n",
      "cursor = db.cursor()"
     ],
     "language": "python",
     "metadata": {},
     "outputs": [],
     "prompt_number": 6
    },
    {
     "cell_type": "code",
     "collapsed": false,
     "input": [
      "tablename = 'all_hk'"
     ],
     "language": "python",
     "metadata": {},
     "outputs": [],
     "prompt_number": 7
    },
    {
     "cell_type": "code",
     "collapsed": false,
     "input": [
      "PID1 = 'B000GXZ2GS'  #Later input PIDs from terminal or website or whatever\n",
      "PID1 = ' ' + PID1"
     ],
     "language": "python",
     "metadata": {},
     "outputs": [],
     "prompt_number": 8
    },
    {
     "cell_type": "code",
     "collapsed": false,
     "input": [
      "PID2 = ' B0000X7CMQ' #zojirushi, it breaks\n",
      "PID3 = ' B000GTR2F6'\n",
      "PID4 = ' B000AQSMPO'\n",
      "PID5 = ' B00005MF9C'\n",
      "PID6 = ' B0000E2PEI'\n",
      "PID7 = ' B0006SFFAQ'\n",
      "PID8 = ' B00005AQ9Q'\n",
      "PID9 = ' B00005R19P'\n",
      "PID10 = ' B000FFQ554'\n",
      "PID11 = ' B0006ZUHR0'"
     ],
     "language": "python",
     "metadata": {},
     "outputs": [],
     "prompt_number": 9
    },
    {
     "cell_type": "code",
     "collapsed": false,
     "input": [
      "#Getting the Data:"
     ],
     "language": "python",
     "metadata": {},
     "outputs": [],
     "prompt_number": 10
    },
    {
     "cell_type": "code",
     "collapsed": false,
     "input": [
      "#X1, T1 = GetTrainingSet(PID1, tablename, cursor)\n",
      "#print X1, T1\n",
      "#X2, T2 = GetTrainingSet(PID2, tablename, cursor)\n",
      "#X3, T3 = GetTrainingSet(PID3, tablename, cursor)\n",
      "D1, X1, T1 = GetTrainingSet(PID1, tablename, cursor)\n",
      "D2, X2, T2 = GetTrainingSet(PID2, tablename, cursor)\n",
      "D3, X3, T3 = GetTrainingSet(PID3, tablename, cursor)\n",
      "D4, X4, T4 = GetTrainingSet(PID4, tablename, cursor)\n",
      "D5, X5, T5 = GetTrainingSet(PID5, tablename, cursor)\n",
      "D6, X6, T6 = GetTrainingSet(PID6, tablename, cursor)\n",
      "D7, X7, T7 = GetTrainingSet(PID7, tablename, cursor)\n",
      "D8, X8, T8 = GetTrainingSet(PID8, tablename, cursor)\n",
      "D9, X9, T9 = GetTrainingSet(PID9, tablename, cursor)\n",
      "D10, X10, T10 = GetTrainingSet(PID10, tablename, cursor)\n",
      "D11, X11, T11 = GetTrainingSet(PID11, tablename, cursor)"
     ],
     "language": "python",
     "metadata": {},
     "outputs": [],
     "prompt_number": 11
    },
    {
     "cell_type": "code",
     "collapsed": false,
     "input": [
      "#R1 = np.array(zip(*X1)[0], dtype = int)\n",
      "#R2 = np.array(zip(*X2)[0], dtype = int)\n",
      "#R3 = np.array(zip(*X3)[0], dtype = int)"
     ],
     "language": "python",
     "metadata": {},
     "outputs": [],
     "prompt_number": 12
    },
    {
     "cell_type": "code",
     "collapsed": false,
     "input": [
      "R1 = running_avg(X1)\n",
      "R2 = running_avg(X2)\n",
      "R3 = running_avg(X3)\n",
      "R4 = running_avg(X4)\n",
      "R5 = running_avg(X5)\n",
      "R6 = running_avg(X6)\n",
      "R7 = running_avg(X7)\n",
      "R8 = running_avg(X8)\n",
      "R9 = running_avg(X9)\n",
      "R10 = running_avg(X10)\n",
      "R11 = running_avg(X11)"
     ],
     "language": "python",
     "metadata": {},
     "outputs": [],
     "prompt_number": 13
    },
    {
     "cell_type": "code",
     "collapsed": false,
     "input": [
      "print D1"
     ],
     "language": "python",
     "metadata": {},
     "outputs": [
      {
       "output_type": "stream",
       "stream": "stdout",
       "text": [
        "[ 8.  6.  6. ...,  7.  5.  7.]\n"
       ]
      }
     ],
     "prompt_number": 14
    },
    {
     "cell_type": "code",
     "collapsed": false,
     "input": [
      "#### HMM Time"
     ],
     "language": "python",
     "metadata": {},
     "outputs": [],
     "prompt_number": 15
    },
    {
     "cell_type": "code",
     "collapsed": false,
     "input": [
      "n_components = 3 #? number of states in the model. I'm just guessing here. "
     ],
     "language": "python",
     "metadata": {},
     "outputs": [],
     "prompt_number": 16
    },
    {
     "cell_type": "code",
     "collapsed": false,
     "input": [
      "model = MultinomialHMM(n_components, n_iter = 10)"
     ],
     "language": "python",
     "metadata": {},
     "outputs": [],
     "prompt_number": 39
    },
    {
     "cell_type": "code",
     "collapsed": false,
     "input": [
      "model.fit([X7])\n",
      "#model.fit([X1])\n",
      "#model.fit([X2])\n",
      "#model.fit([X3])\n",
      "#model.fit([X4])\n",
      "#model.fit([X5])\n",
      "#model.fit([X7])\n",
      "#model.fit([X8])\n",
      "#model.fit([X9])"
     ],
     "language": "python",
     "metadata": {},
     "outputs": [
      {
       "metadata": {},
       "output_type": "pyout",
       "prompt_number": 132,
       "text": [
        "MultinomialHMM(algorithm='viterbi',\n",
        "        init_params='abcdefghijklmnopqrstuvwxyzABCDEFGHIJKLMNOPQRSTUVWXYZ',\n",
        "        n_components=3, n_iter=10,\n",
        "        params='abcdefghijklmnopqrstuvwxyzABCDEFGHIJKLMNOPQRSTUVWXYZ',\n",
        "        random_state=<mtrand.RandomState object at 0x109f466c0>,\n",
        "        startprob=None, startprob_prior=1.0, thresh=0.01, transmat=None,\n",
        "        transmat_prior=1.0)"
       ]
      }
     ],
     "prompt_number": 132
    },
    {
     "cell_type": "code",
     "collapsed": false,
     "input": [
      "hidden_states = model.predict(X6)"
     ],
     "language": "python",
     "metadata": {},
     "outputs": [],
     "prompt_number": 133
    },
    {
     "cell_type": "code",
     "collapsed": false,
     "input": [
      "model_score = model.score(X6)"
     ],
     "language": "python",
     "metadata": {},
     "outputs": [],
     "prompt_number": 134
    },
    {
     "cell_type": "code",
     "collapsed": false,
     "input": [
      "print model_score"
     ],
     "language": "python",
     "metadata": {},
     "outputs": [
      {
       "output_type": "stream",
       "stream": "stdout",
       "text": [
        "-717.214791048\n"
       ]
      }
     ],
     "prompt_number": 135
    },
    {
     "cell_type": "code",
     "collapsed": false,
     "input": [
      "colorlist = ['r', 'g', 'b'] "
     ],
     "language": "python",
     "metadata": {},
     "outputs": [],
     "prompt_number": 136
    },
    {
     "cell_type": "code",
     "collapsed": false,
     "input": [
      "colors= [colorlist[i] for i in hidden_states]"
     ],
     "language": "python",
     "metadata": {},
     "outputs": [],
     "prompt_number": 140
    },
    {
     "cell_type": "code",
     "collapsed": false,
     "input": [
      "print colors"
     ],
     "language": "python",
     "metadata": {},
     "outputs": [
      {
       "output_type": "stream",
       "stream": "stdout",
       "text": [
        "['b', 'b', 'b', 'b', 'b', 'b', 'b', 'b', 'b', 'b', 'b', 'b', 'b', 'b', 'b', 'b', 'b', 'b', 'b', 'b', 'b', 'b', 'b', 'b', 'b', 'b', 'b', 'b', 'b', 'b', 'b', 'b', 'b', 'b', 'b', 'b', 'b', 'b', 'b', 'b', 'b', 'b', 'b', 'b', 'b', 'b', 'b', 'b', 'b', 'b', 'b', 'b', 'b', 'b', 'b', 'b', 'b', 'b', 'b', 'b', 'b', 'b', 'b', 'b', 'b', 'b', 'b', 'b', 'b', 'b', 'b', 'b', 'b', 'b', 'b', 'b', 'b', 'b', 'b', 'b', 'b', 'b', 'b', 'b', 'b', 'b', 'b', 'b', 'b', 'b', 'b', 'b', 'b', 'b', 'b', 'b', 'b', 'b', 'b', 'b', 'b', 'b', 'b', 'b', 'b', 'b', 'b', 'b', 'b', 'b', 'b', 'b', 'b', 'b', 'b', 'b', 'b', 'b', 'b', 'b', 'b', 'b', 'b', 'b', 'b', 'b', 'b', 'b', 'b', 'b', 'b', 'b', 'b', 'b', 'b', 'b', 'b', 'b', 'b', 'b', 'b', 'b', 'b', 'b', 'b', 'b', 'b', 'b', 'b', 'b', 'b', 'b', 'b', 'b', 'b', 'b', 'b', 'b', 'b', 'b', 'b', 'b', 'b', 'b', 'b', 'b', 'b', 'b', 'b', 'b', 'b', 'b', 'b', 'b', 'b', 'b', 'b', 'b', 'b', 'b', 'b', 'b', 'b', 'b', 'b', 'b', 'b', 'b', 'b', 'b', 'b', 'b', 'b', 'b', 'b', 'b', 'b', 'b', 'b', 'b', 'b', 'b', 'b', 'b', 'b', 'b', 'b', 'b', 'b', 'b', 'b', 'b', 'b', 'b', 'b', 'b', 'b', 'b', 'b', 'b', 'b', 'b', 'b', 'b', 'b', 'b', 'b', 'b', 'b', 'b', 'b', 'b', 'b', 'b', 'b', 'b', 'b', 'b', 'b', 'b', 'b', 'b', 'b', 'b', 'b', 'b', 'b', 'b', 'b', 'b', 'b', 'b', 'b', 'b', 'b', 'b', 'b', 'b', 'b', 'b', 'b', 'b', 'b', 'b', 'b', 'b', 'b', 'b', 'b', 'b', 'b', 'b', 'b', 'b', 'b', 'b', 'b', 'b', 'b', 'b', 'b', 'b', 'b', 'b', 'b', 'b', 'b', 'b', 'b', 'b', 'b', 'b', 'b', 'b', 'b', 'b', 'b', 'b', 'b', 'b', 'b', 'b', 'b', 'b', 'b', 'b', 'b', 'b', 'b', 'b', 'b', 'b', 'b', 'b', 'b', 'b', 'b', 'b', 'b', 'b', 'b', 'b', 'b', 'b', 'b', 'b', 'b', 'b', 'b', 'b', 'b', 'b', 'b', 'b', 'b', 'b', 'b', 'b', 'b', 'b', 'b', 'b', 'b', 'b', 'b', 'b', 'b', 'b', 'b', 'b', 'b', 'b', 'b', 'b', 'b', 'b', 'b', 'b', 'b', 'b', 'b', 'b', 'b', 'b', 'b', 'b', 'b', 'b', 'b', 'b', 'b', 'b', 'b', 'b', 'b', 'b', 'b', 'b', 'b', 'b', 'b', 'b', 'b', 'b', 'b', 'b', 'b', 'b', 'b', 'b', 'b', 'b', 'b', 'b', 'b', 'b', 'b', 'b', 'b', 'b', 'b', 'b', 'b', 'b', 'b', 'b', 'b', 'b', 'b', 'b', 'b', 'b', 'b', 'b', 'b', 'b', 'b', 'b', 'b', 'b', 'b', 'b', 'b', 'b', 'b', 'b', 'b', 'b', 'b', 'b', 'b', 'b', 'b', 'b', 'b', 'b', 'b', 'b', 'b', 'b', 'b', 'b', 'b', 'b', 'b', 'b', 'b', 'b', 'b', 'b', 'b', 'b', 'b', 'b', 'b', 'b', 'b', 'b', 'b', 'b', 'b', 'b', 'b', 'b', 'b', 'b', 'b', 'b', 'b', 'b', 'b', 'b', 'b', 'b', 'b', 'b', 'b', 'b', 'b', 'b', 'b', 'b', 'b', 'b', 'b', 'b', 'b', 'b', 'b', 'b', 'b', 'b', 'b', 'b', 'b', 'b', 'b', 'b', 'b', 'b', 'b', 'b', 'b', 'b', 'b', 'b', 'b', 'b', 'b', 'b', 'b', 'b', 'b', 'b', 'b', 'b', 'b', 'b', 'b', 'b', 'b', 'b', 'b', 'b', 'b', 'b', 'b', 'b', 'b', 'b', 'b', 'b', 'b', 'b', 'b', 'b', 'b', 'b', 'b', 'b', 'b', 'b', 'b', 'b', 'b', 'b', 'b', 'b', 'b', 'b', 'b', 'b', 'b', 'b', 'b', 'b', 'b', 'b', 'b', 'b', 'b', 'b', 'b', 'b', 'b', 'b', 'b', 'b', 'b', 'b', 'b', 'b', 'b', 'b', 'b', 'b', 'b', 'b', 'b', 'b', 'b', 'b', 'b']\n"
       ]
      }
     ],
     "prompt_number": 141
    },
    {
     "cell_type": "code",
     "collapsed": false,
     "input": [
      "plt.scatter(T6, R6, c = colors)"
     ],
     "language": "python",
     "metadata": {},
     "outputs": [
      {
       "metadata": {},
       "output_type": "pyout",
       "prompt_number": 138,
       "text": [
        "<matplotlib.collections.PathCollection at 0x10f937290>"
       ]
      },
      {
       "metadata": {},
       "output_type": "display_data",
       "png": "[encoded data removed]",
       "text": [
        "<matplotlib.figure.Figure at 0x10f855750>"
       ]
      }
     ],
     "prompt_number": 138
    },
    {
     "cell_type": "code",
     "collapsed": false,
     "input": [
      "plt.show()"
     ],
     "language": "python",
     "metadata": {},
     "outputs": [],
     "prompt_number": 722
    },
    {
     "cell_type": "code",
     "collapsed": false,
     "input": [],
     "language": "python",
     "metadata": {},
     "outputs": []
    }
   ],
   "metadata": {}
  }
 ]
}